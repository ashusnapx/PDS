{
 "cells": [
  {
   "cell_type": "code",
   "execution_count": 12,
   "id": "dfe201e1-1ad7-4f78-86ca-1bddd21e2279",
   "metadata": {},
   "outputs": [],
   "source": [
    "class car:\n",
    "    def __init__(self, year, make, model, speed):\n",
    "        self.__year = year\n",
    "        self.__make = make\n",
    "        self.__model = model\n",
    "        self.__speed = 0\n",
    "        \n",
    "    def set_speed(self,speed):\n",
    "        self.__speed = 0 if speed < 0 else speed\n",
    "        \n",
    "    def get_speed(self):\n",
    "        return self.__speed"
   ]
  },
  {
   "cell_type": "code",
   "execution_count": 13,
   "id": "c3d70eea-9dea-4d38-908a-0efa7c629e9e",
   "metadata": {},
   "outputs": [],
   "source": [
    "c = car(2022,\"Hummer\",\"GVC EV\",100)"
   ]
  },
  {
   "cell_type": "code",
   "execution_count": 6,
   "id": "043ecee4-df3a-4baf-aae7-36f005bd4680",
   "metadata": {},
   "outputs": [
    {
     "ename": "AttributeError",
     "evalue": "'car' object has no attribute 'year'",
     "output_type": "error",
     "traceback": [
      "\u001b[0;31m---------------------------------------------------------------------------\u001b[0m",
      "\u001b[0;31mAttributeError\u001b[0m                            Traceback (most recent call last)",
      "Cell \u001b[0;32mIn[6], line 1\u001b[0m\n\u001b[0;32m----> 1\u001b[0m \u001b[43mc\u001b[49m\u001b[38;5;241;43m.\u001b[39;49m\u001b[43myear\u001b[49m\n",
      "\u001b[0;31mAttributeError\u001b[0m: 'car' object has no attribute 'year'"
     ]
    }
   ],
   "source": [
    "c.year"
   ]
  },
  {
   "cell_type": "code",
   "execution_count": 5,
   "id": "2964141d-11f5-421c-9d10-9508f346813f",
   "metadata": {},
   "outputs": [
    {
     "data": {
      "text/plain": [
       "2022"
      ]
     },
     "execution_count": 5,
     "metadata": {},
     "output_type": "execute_result"
    }
   ],
   "source": [
    "c._car__year"
   ]
  },
  {
   "cell_type": "code",
   "execution_count": 7,
   "id": "976b0523-f340-43f3-a8c4-0edebeb1c936",
   "metadata": {},
   "outputs": [
    {
     "data": {
      "text/plain": [
       "'Hummer'"
      ]
     },
     "execution_count": 7,
     "metadata": {},
     "output_type": "execute_result"
    }
   ],
   "source": [
    "c._car__make"
   ]
  },
  {
   "cell_type": "code",
   "execution_count": 14,
   "id": "d6683691-8fe0-4fe5-a0ed-1f8384d69417",
   "metadata": {},
   "outputs": [],
   "source": [
    "c.set_speed(500)"
   ]
  },
  {
   "cell_type": "code",
   "execution_count": 16,
   "id": "6e19a25f-8acf-48b3-ab01-1c554dce93af",
   "metadata": {},
   "outputs": [
    {
     "data": {
      "text/plain": [
       "500"
      ]
     },
     "execution_count": 16,
     "metadata": {},
     "output_type": "execute_result"
    }
   ],
   "source": [
    "c.get_speed()"
   ]
  },
  {
   "cell_type": "markdown",
   "id": "5161b9d5-2a16-480e-8c7f-d7683e439659",
   "metadata": {},
   "source": [
    "***\n",
    "Example 2 - Bank Account\n",
    "***"
   ]
  },
  {
   "cell_type": "code",
   "execution_count": 18,
   "id": "2cbda281-7021-438f-a579-e1a9833ed439",
   "metadata": {},
   "outputs": [],
   "source": [
    "class bank_account:\n",
    "    def __init__(self, balance):\n",
    "        self.__balance = balance\n",
    "        \n",
    "    def deposit(self, amount):\n",
    "        self.__balance += amount\n",
    "        \n",
    "    def withdraw(self, amount):\n",
    "        if self.__balance >= amount:\n",
    "            self.__balance -= amount\n",
    "            return True\n",
    "        else:\n",
    "            return False\n",
    "    def get_balance(self):\n",
    "        return self.__balance"
   ]
  },
  {
   "cell_type": "code",
   "execution_count": 20,
   "id": "3f2f6e16-027e-4681-a450-c5e68180be02",
   "metadata": {},
   "outputs": [],
   "source": [
    "ashu = bank_account(5000)"
   ]
  },
  {
   "cell_type": "code",
   "execution_count": 22,
   "id": "7f1d402a-d372-400f-b67c-887335a5558e",
   "metadata": {},
   "outputs": [
    {
     "data": {
      "text/plain": [
       "5000"
      ]
     },
     "execution_count": 22,
     "metadata": {},
     "output_type": "execute_result"
    }
   ],
   "source": [
    "ashu.get_balance()"
   ]
  },
  {
   "cell_type": "code",
   "execution_count": 23,
   "id": "c0d686ad-6bbf-475c-8ff1-89a7b7f74330",
   "metadata": {},
   "outputs": [],
   "source": [
    "ashu.deposit(100)"
   ]
  },
  {
   "cell_type": "code",
   "execution_count": 24,
   "id": "4751e5ff-11d6-4cc5-9358-3aaa9b67bbdb",
   "metadata": {},
   "outputs": [
    {
     "data": {
      "text/plain": [
       "5100"
      ]
     },
     "execution_count": 24,
     "metadata": {},
     "output_type": "execute_result"
    }
   ],
   "source": [
    "ashu.get_balance()"
   ]
  },
  {
   "cell_type": "code",
   "execution_count": 25,
   "id": "8e2d37a8-fb56-4c22-a774-b0f54c3b1d47",
   "metadata": {},
   "outputs": [
    {
     "data": {
      "text/plain": [
       "True"
      ]
     },
     "execution_count": 25,
     "metadata": {},
     "output_type": "execute_result"
    }
   ],
   "source": [
    "ashu.withdraw(1)"
   ]
  },
  {
   "cell_type": "code",
   "execution_count": 26,
   "id": "36f64e7b-fc75-462b-8da8-5289b7fd606d",
   "metadata": {},
   "outputs": [
    {
     "data": {
      "text/plain": [
       "5099"
      ]
     },
     "execution_count": 26,
     "metadata": {},
     "output_type": "execute_result"
    }
   ],
   "source": [
    "ashu.get_balance()"
   ]
  },
  {
   "cell_type": "code",
   "execution_count": 27,
   "id": "c136bcae-f277-4993-8698-97c04154934f",
   "metadata": {},
   "outputs": [
    {
     "data": {
      "text/plain": [
       "False"
      ]
     },
     "execution_count": 27,
     "metadata": {},
     "output_type": "execute_result"
    }
   ],
   "source": [
    "ashu.withdraw(8000)"
   ]
  },
  {
   "cell_type": "code",
   "execution_count": null,
   "id": "0e046adb-ba29-4149-8d68-ac18fc041eda",
   "metadata": {},
   "outputs": [],
   "source": []
  }
 ],
 "metadata": {
  "kernelspec": {
   "display_name": "Python 3 (ipykernel)",
   "language": "python",
   "name": "python3"
  },
  "language_info": {
   "codemirror_mode": {
    "name": "ipython",
    "version": 3
   },
   "file_extension": ".py",
   "mimetype": "text/x-python",
   "name": "python",
   "nbconvert_exporter": "python",
   "pygments_lexer": "ipython3",
   "version": "3.10.8"
  }
 },
 "nbformat": 4,
 "nbformat_minor": 5
}
