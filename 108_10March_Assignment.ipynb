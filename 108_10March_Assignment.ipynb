{
 "cells": [
  {
   "cell_type": "markdown",
   "metadata": {},
   "source": [
    "# Q1: What is Estimation Statistics? Explain point estimate and interval estimate."
   ]
  },
  {
   "cell_type": "markdown",
   "metadata": {},
   "source": [
    "**Estimation Statistics**:\n",
    "\n",
    "Estimation in statistics is the process of using sample data to make inferences about population parameters. Estimation involves providing an estimate (or best guess) of a population parameter based on the information gathered from a sample. There are two main types of estimation in statistics: point estimation and interval estimation.\n",
    "\n",
    "**Point Estimate**:\n",
    "\n",
    "A point estimate is a single value that is used to estimate a population parameter. It's a single numerical value calculated from the sample data, and it serves as our \"best guess\" for the true value of the parameter. Point estimates are straightforward and easy to compute, but they don't provide information about the uncertainty or variability associated with the estimate.\n",
    "\n",
    "For example, if we want to estimate the mean (average) height of all students in a school, we could calculate the sample mean height of a random sample of students and use that value as a point estimate for the population mean height.\n",
    "\n",
    "**Interval Estimate**:\n",
    "\n",
    "An interval estimate, also known as a confidence interval, provides a range of values within which the population parameter is likely to fall. Unlike a point estimate, an interval estimate considers the uncertainty associated with the estimate. Interval estimates are accompanied by a confidence level, which quantifies the level of confidence we have that the true parameter value falls within the specified interval.\n",
    "\n",
    "For example, if we want to estimate the mean height of all students in a school with a 95% confidence interval, we compute a range of values based on the sample data that we believe will contain the true population mean height with a 95% confidence level. This interval estimate provides a more informative understanding of the potential values for the parameter and the precision of the estimate.\n",
    "\n",
    "In summary, estimation statistics involves using sample data to estimate population parameters. Point estimates provide a single value as the best guess for the parameter, while interval estimates provide a range of values that likely contain the parameter, along with a specified level of confidence. Interval estimates are useful for expressing the uncertainty associated with the estimate."
   ]
  },
  {
   "cell_type": "markdown",
   "metadata": {},
   "source": [
    "***\n",
    "# Q2. Write a Python function to estimate the population mean using a sample mean and standard deviation."
   ]
  },
  {
   "cell_type": "code",
   "execution_count": 3,
   "metadata": {},
   "outputs": [],
   "source": [
    "import math\n",
    "import scipy.stats as stats\n",
    "\n",
    "\n",
    "def estimate_population_mean(sample_mean, sample_std_dev, sample_size, confidence_level):\n",
    "    \"\"\"\n",
    "    Estimate the population mean using the sample mean, sample standard deviation,\n",
    "    sample size, and a specified confidence level.\n",
    "\n",
    "    :param sample_mean: The mean of the sample.\n",
    "    :param sample_std_dev: The standard deviation of the sample.\n",
    "    :param sample_size: The size of the sample.\n",
    "    :param confidence_level: The desired confidence level (e.g., 0.95 for 95% confidence).\n",
    "    :return: Estimated population mean and margin of error.\n",
    "    \"\"\"\n",
    "    # Calculate the t-score for the given confidence level and degrees of freedom\n",
    "    degrees_of_freedom = sample_size - 1\n",
    "    t_score = stats.t.ppf((1 + confidence_level) / 2, df=degrees_of_freedom)\n",
    "\n",
    "    # Calculate the margin of error\n",
    "    margin_of_error = t_score * (sample_std_dev / math.sqrt(sample_size))\n",
    "\n",
    "    # Calculate the estimated population mean\n",
    "    estimated_population_mean = sample_mean\n",
    "\n",
    "    return estimated_population_mean, margin_of_error\n"
   ]
  },
  {
   "cell_type": "markdown",
   "metadata": {},
   "source": [
    "***\n",
    "# Q3: What is Hypothesis testing? Why is it used? State the importance of Hypothesis testing."
   ]
  },
  {
   "cell_type": "markdown",
   "metadata": {},
   "source": [
    "**Hypothesis testing** is a fundamental concept in statistics used to make decisions and draw inferences about population parameters based on sample data. It involves formulating a hypothesis about a population parameter and then using sample data to evaluate the validity of the hypothesis. Hypothesis testing provides a structured framework for making statistical decisions and assessing the evidence in favor of or against a claim.\n",
    "\n",
    "**Key Steps in Hypothesis Testing**:\n",
    "\n",
    "1. **Formulate Hypotheses**: The first step is to formulate two competing hypotheses: the null hypothesis (H0) and the alternative hypothesis (Ha). The null hypothesis usually represents a default or no-effect assumption, while the alternative hypothesis represents the claim we're testing.\n",
    "\n",
    "2. **Collect and Analyze Data**: Collect a sample of data from the population and analyze the sample to obtain relevant statistics (e.g., sample mean, sample proportion).\n",
    "\n",
    "3. **Calculate Test Statistic**: Based on the sample data, calculate a test statistic that measures the difference between the sample statistic and what is expected under the null hypothesis.\n",
    "\n",
    "4. **Determine the Significance Level**: Choose a significance level (alpha, typically 0.05) to define the threshold for statistical significance.\n",
    "\n",
    "5. **Make a Decision**: Compare the test statistic to a critical value based on the significance level. If the test statistic falls in the critical region (extreme values), we reject the null hypothesis in favor of the alternative hypothesis. Otherwise, we fail to reject the null hypothesis.\n",
    "\n",
    "**Importance of Hypothesis Testing**:\n",
    "\n",
    "1. **Informed Decision Making**: Hypothesis testing provides a systematic approach to decision making in the presence of uncertainty. It helps us determine whether observed differences or effects are likely due to random variation or represent real effects.\n",
    "\n",
    "2. **Scientific Validity**: Hypothesis testing is crucial in scientific research, as it allows researchers to test specific hypotheses and validate their findings. It helps establish the credibility of research results.\n",
    "\n",
    "3. **Statistical Inference**: Hypothesis testing is an essential part of statistical inference. It allows us to make conclusions about population parameters based on sample data, which is a cornerstone of inferential statistics.\n",
    "\n",
    "4. **Quality Control**: Hypothesis testing is used in various fields, including manufacturing and quality control, to ensure that products meet specific standards.\n",
    "\n",
    "5. **Policy and Business Decisions**: Hypothesis testing is used in policy analysis and business decision-making to assess the effectiveness of interventions, marketing strategies, and more.\n",
    "\n",
    "In summary, hypothesis testing is a powerful tool for making evidence-based decisions, validating claims, and drawing conclusions from sample data. It plays a critical role in various fields, from scientific research to quality control and business analytics."
   ]
  },
  {
   "cell_type": "markdown",
   "metadata": {},
   "source": [
    "***\n",
    "# Q4. Create a hypothesis that states whether the average weight of male college students is greater than the average weight of female college students."
   ]
  },
  {
   "cell_type": "markdown",
   "metadata": {},
   "source": [
    "**Null Hypothesis (H0)**: The average weight of male college students is equal to or less than the average weight of female college students.\n",
    "**Alternative Hypothesis (Ha)**: The average weight of male college students is greater than the average weight of female college students.\n",
    "\n",
    "In mathematical notation:\n",
    "- H0: μ_male ≤ μ_female\n",
    "- Ha: μ_male > μ_female\n",
    "\n",
    "Here's the verbal representation of the hypotheses:\n",
    "- Null Hypothesis (H0): The population mean weight of male college students is equal to or less than the population mean weight of female college students.\n",
    "- Alternative Hypothesis (Ha): The population mean weight of male college students is greater than the population mean weight of female college students.\n",
    "\n",
    "In this hypothesis, we're testing whether there's evidence to suggest that male college students, on average, have a greater weight than female college students. This is a common type of hypothesis in gender-based comparisons, but it's important to note that conducting an actual statistical test requires collecting data and performing the appropriate analysis."
   ]
  },
  {
   "cell_type": "markdown",
   "metadata": {},
   "source": [
    "***\n",
    "# Q5. Write a Python script to conduct a hypothesis test on the difference between two population means, given a sample from each population."
   ]
  },
  {
   "cell_type": "code",
   "execution_count": 5,
   "metadata": {},
   "outputs": [
    {
     "name": "stdout",
     "output_type": "stream",
     "text": [
      "t-statistic: 1.3914021704740887\n",
      "Null hypothesis is rejected.\n"
     ]
    }
   ],
   "source": [
    "import math\n",
    "\n",
    "\n",
    "def calculate_mean(data):\n",
    "    \"\"\"\n",
    "    Calculate the mean of a given dataset.\n",
    "    \n",
    "    :param data: List or array containing the data.\n",
    "    :return: Mean of the data.\n",
    "    \"\"\"\n",
    "    return sum(data) / len(data)\n",
    "\n",
    "\n",
    "def calculate_standard_deviation(data, mean):\n",
    "    \"\"\"\n",
    "    Calculate the standard deviation of a given dataset.\n",
    "    \n",
    "    :param data: List or array containing the data.\n",
    "    :param mean: Mean of the data.\n",
    "    :return: Standard deviation of the data.\n",
    "    \"\"\"\n",
    "    squared_diff = [(x - mean) ** 2 for x in data]\n",
    "    return math.sqrt(sum(squared_diff) / (len(data) - 1))\n",
    "\n",
    "\n",
    "def conduct_t_test(sample1, sample2, alpha=0.05, tails=2):\n",
    "    \"\"\"\n",
    "    Conducts a two-sample t-test for the difference between population means.\n",
    "\n",
    "    :param sample1: First sample data (list or array).\n",
    "    :param sample2: Second sample data (list or array).\n",
    "    :param alpha: Significance level (default is 0.05).\n",
    "    :param tails: Number of tails (1 for one-tailed, 2 for two-tailed, default is 2).\n",
    "    :return: t-statistic, p-value, and whether null hypothesis is rejected.\n",
    "    \"\"\"\n",
    "    # Calculate sample statistics\n",
    "    mean1 = calculate_mean(sample1)\n",
    "    mean2 = calculate_mean(sample2)\n",
    "    std_dev1 = calculate_standard_deviation(sample1, mean1)\n",
    "    std_dev2 = calculate_standard_deviation(sample2, mean2)\n",
    "\n",
    "    # Calculate pooled standard error\n",
    "    pooled_std_error = math.sqrt(\n",
    "        (std_dev1**2 / len(sample1)) + (std_dev2**2 / len(sample2)))\n",
    "\n",
    "    # Calculate t-statistic\n",
    "    t_stat = (mean1 - mean2) / pooled_std_error\n",
    "\n",
    "    # Degrees of freedom\n",
    "    df = len(sample1) + len(sample2) - 2\n",
    "\n",
    "    # Critical t-value for given alpha and tails\n",
    "    critical_t = None\n",
    "    if tails == 1:\n",
    "        critical_t = abs(t_stat) < abs(stats.t.ppf(1 - alpha, df=df))\n",
    "    elif tails == 2:\n",
    "        critical_t = abs(t_stat) < abs(stats.t.ppf(1 - alpha / 2, df=df))\n",
    "\n",
    "    # Determine whether null hypothesis is rejected\n",
    "    reject_null = critical_t\n",
    "\n",
    "    return t_stat, reject_null\n",
    "\n",
    "\n",
    "# Example usage:\n",
    "sample1 = [67, 68, 70, 71, 72, 73, 73, 74, 75, 76]\n",
    "sample2 = [63, 65, 66, 68, 70, 71, 72, 73, 74, 75]\n",
    "\n",
    "alpha = 0.05\n",
    "tails = 2\n",
    "\n",
    "t_stat, reject_null = conduct_t_test(sample1, sample2, alpha, tails)\n",
    "\n",
    "print(\"t-statistic:\", t_stat)\n",
    "if reject_null:\n",
    "    print(\"Null hypothesis is rejected.\")\n",
    "else:\n",
    "    print(\"Null hypothesis is not rejected.\")\n"
   ]
  },
  {
   "cell_type": "markdown",
   "metadata": {},
   "source": [
    "***\n",
    "# Q6: What is a null and alternative hypothesis? Give some examples."
   ]
  },
  {
   "cell_type": "markdown",
   "metadata": {},
   "source": [
    "In statistical hypothesis testing, the **null hypothesis (H0)** and the **alternative hypothesis (Ha)** are two competing statements about a population parameter or the relationship between variables. The null hypothesis represents a default or no-effect assumption, while the alternative hypothesis represents the claim or effect we're interested in testing.\n",
    "\n",
    "**Null Hypothesis (H0)**: This hypothesis asserts that there is no significant effect or difference. It often represents the status quo, no change, or a default assumption that we aim to test against.\n",
    "\n",
    "**Alternative Hypothesis (Ha)**: This hypothesis is what we're trying to find evidence for. It represents a claim or effect that is different from the null hypothesis. It's the hypothesis that suggests there is a significant effect or difference in the population.\n",
    "\n",
    "Examples of Null and Alternative Hypotheses:\n",
    "\n",
    "1. **Example: Coin Tossing**\n",
    "   - Null Hypothesis (H0): The coin is fair, and the probability of getting heads (H) is equal to the probability of getting tails (T), denoted as P(H) = P(T).\n",
    "   - Alternative Hypothesis (Ha): The coin is biased, and the probability of getting heads (H) is not equal to the probability of getting tails (T), denoted as P(H) ≠ P(T).\n",
    "\n",
    "2. **Example: Medical Treatment**\n",
    "   - Null Hypothesis (H0): The new drug has no significant effect on patients' recovery time.\n",
    "   - Alternative Hypothesis (Ha): The new drug has a significant effect on reducing patients' recovery time.\n",
    "\n",
    "3. **Example: Gender and Exam Scores**\n",
    "   - Null Hypothesis (H0): There is no significant difference in average exam scores between male and female students.\n",
    "   - Alternative Hypothesis (Ha): There is a significant difference in average exam scores between male and female students.\n",
    "\n",
    "4. **Example: Advertising Campaign**\n",
    "   - Null Hypothesis (H0): The current advertising campaign does not lead to a significant increase in sales.\n",
    "   - Alternative Hypothesis (Ha): The current advertising campaign leads to a significant increase in sales.\n",
    "\n",
    "In each of these examples, the null hypothesis assumes no effect or no difference, while the alternative hypothesis suggests a specific effect, difference, or relationship that we want to find evidence for based on sample data and statistical analysis. The process of hypothesis testing involves evaluating the data to determine whether we can reject the null hypothesis in favor of the alternative hypothesis."
   ]
  },
  {
   "cell_type": "markdown",
   "metadata": {},
   "source": [
    "***\n",
    "# Q7: Write down the steps involved in hypothesis testing."
   ]
  },
  {
   "cell_type": "markdown",
   "metadata": {},
   "source": [
    "Hypothesis testing is a structured process that helps us make informed statistical decisions about population parameters based on sample data. Here are the granular steps involved in hypothesis testing, along with explanations and relevant formulas where required:\n",
    "\n",
    "1. **Formulate Hypotheses**:\n",
    "   - Null Hypothesis (H0): State the null hypothesis, representing the default assumption or no significant effect.\n",
    "   - Alternative Hypothesis (Ha): State the alternative hypothesis, representing the claim or effect you want to test.\n",
    "\n",
    "2. **Select Significance Level (α)**:\n",
    "   - Choose a significance level (α), often set to 0.05 or 0.01, which determines the threshold for statistical significance.\n",
    "\n",
    "3. **Collect and Prepare Data**:\n",
    "   - Collect sample data from the population of interest.\n",
    "   - Prepare the data for analysis, ensuring it meets the assumptions of the chosen statistical test.\n",
    "\n",
    "4. **Choose a Statistical Test**:\n",
    "   - Select an appropriate statistical test based on the type of data, research question, and assumptions.\n",
    "\n",
    "5. **Calculate Test Statistic**:\n",
    "   - Compute the test statistic based on the sample data and the chosen statistical test.\n",
    "   - The formula for the test statistic varies based on the test being used.\n",
    "\n",
    "6. **Determine the Critical Region (Rejection Region)**:\n",
    "   - Determine the critical region in the distribution of the test statistic based on the chosen significance level (α) and the tails of the test (one-tailed or two-tailed).\n",
    "   - For a one-tailed test, find the critical value that corresponds to α.\n",
    "   - For a two-tailed test, divide α by 2 and find the critical values in both tails.\n",
    "\n",
    "7. **Compute the p-value**:\n",
    "   - Calculate the p-value, which represents the probability of obtaining the observed sample results (or more extreme) if the null hypothesis is true.\n",
    "   - The p-value is used to assess the strength of evidence against the null hypothesis.\n",
    "\n",
    "8. **Make a Decision**:\n",
    "   - Compare the calculated p-value to the significance level (α).\n",
    "   - If the p-value is less than or equal to α, reject the null hypothesis in favor of the alternative hypothesis. This indicates that the results are statistically significant.\n",
    "   - If the p-value is greater than α, fail to reject the null hypothesis. This indicates that the results are not statistically significant.\n",
    "\n",
    "9. **Draw a Conclusion**:\n",
    "   - Interpret the results in the context of the research question and the hypotheses.\n",
    "   - State whether there is enough evidence to support the alternative hypothesis or not.\n",
    "\n",
    "10. **Report Findings**:\n",
    "   - Communicate the results of the hypothesis test, including the calculated test statistic, p-value, decision, and conclusion.\n",
    "   - Provide context for the implications of the findings.\n",
    "\n",
    "These steps provide a systematic approach to hypothesis testing, ensuring that decisions are based on statistical evidence and that the results are communicated clearly. The choice of the appropriate statistical test is essential, as it depends on the nature of the data and the research question."
   ]
  },
  {
   "cell_type": "markdown",
   "metadata": {},
   "source": [
    "***\n",
    "# Q8. Define p-value and explain its significance in hypothesis testing."
   ]
  },
  {
   "cell_type": "markdown",
   "metadata": {},
   "source": [
    "The **p-value** is a crucial concept in hypothesis testing that measures the strength of evidence against the null hypothesis. It quantifies the probability of obtaining the observed sample results (or more extreme results) if the null hypothesis is true. In other words, the p-value tells us how likely it is to observe the data we have if there is no significant effect or difference in the population.\n",
    "\n",
    "Here's a more detailed explanation of the significance of the p-value in hypothesis testing:\n",
    "\n",
    "1. **Interpreting the p-value**:\n",
    "   - A small p-value indicates that the observed data is unlikely to occur by chance alone under the assumption that the null hypothesis is true.\n",
    "   - A large p-value suggests that the observed data is consistent with what we would expect if the null hypothesis is true.\n",
    "\n",
    "2. **Decision Rule**:\n",
    "   - In hypothesis testing, we set a significance level (α), also known as the critical value. Commonly used significance levels are 0.05 or 0.01.\n",
    "   - If the calculated p-value is less than or equal to the significance level (p ≤ α), we reject the null hypothesis in favor of the alternative hypothesis. This indicates that the results are statistically significant.\n",
    "   - If the p-value is greater than the significance level (p > α), we fail to reject the null hypothesis. This indicates that the results are not statistically significant.\n",
    "\n",
    "3. **Relation to Significance Level**:\n",
    "   - The p-value provides a direct comparison with the chosen significance level (α).\n",
    "   - If p ≤ α, it suggests that the evidence is strong enough to reject the null hypothesis, indicating a significant result.\n",
    "   - If p > α, it suggests that the evidence is not strong enough to reject the null hypothesis, and we do not have significant evidence of the effect.\n",
    "\n",
    "4. **Impact on Conclusions**:\n",
    "   - The p-value influences the conclusion of the hypothesis test. If the p-value is low (smaller than α), we have evidence to support the alternative hypothesis, which may suggest a significant effect, difference, or relationship.\n",
    "   - If the p-value is high (greater than α), we do not have sufficient evidence to support the alternative hypothesis, and we maintain the null hypothesis.\n",
    "\n",
    "5. **Continuous Interpretation**:\n",
    "   - The p-value allows for a continuous interpretation of results. Smaller p-values provide stronger evidence against the null hypothesis.\n",
    "   - Researchers often report the p-value in hypothesis testing to communicate the level of significance and the strength of the findings.\n",
    "\n",
    "In summary, the p-value serves as a critical component in hypothesis testing, helping us make decisions about the validity of the null hypothesis based on the observed data. It plays a key role in determining whether the results are statistically significant and whether we should reject or fail to reject the null hypothesis."
   ]
  },
  {
   "cell_type": "markdown",
   "metadata": {},
   "source": [
    "***\n",
    "# Q9. Generate a Student's t-distribution plot using Python's matplotlib library, with the degrees of freedom parameter set to 10."
   ]
  },
  {
   "cell_type": "code",
   "execution_count": 14,
   "metadata": {},
   "outputs": [],
   "source": [
    "import numpy as np"
   ]
  },
  {
   "cell_type": "code",
   "execution_count": 9,
   "metadata": {},
   "outputs": [],
   "source": [
    "import matplotlib.pyplot as plt"
   ]
  },
  {
   "cell_type": "code",
   "execution_count": 10,
   "metadata": {},
   "outputs": [],
   "source": [
    "import scipy.stats as stats"
   ]
  },
  {
   "cell_type": "code",
   "execution_count": 11,
   "metadata": {},
   "outputs": [],
   "source": [
    "degree_of_freedom = 10"
   ]
  },
  {
   "cell_type": "code",
   "execution_count": 12,
   "metadata": {},
   "outputs": [],
   "source": [
    "\"\"\" now i've to generate some random data, to be shown on graph \"\"\"\n",
    "\"\"\" x = np.linspace(start, stop, samples) \"\"\"\n",
    "x = np.linspace(-5, 5, 1000)"
   ]
  },
  {
   "cell_type": "code",
   "execution_count": 13,
   "metadata": {},
   "outputs": [],
   "source": [
    "pdf = stats.t.pdf(x, df)"
   ]
  },
  {
   "cell_type": "code",
   "execution_count": 15,
   "metadata": {},
   "outputs": [
    {
     "data": {
      "image/png": "[encoded data removed]",
      "text/plain": [
       "<Figure size 800x600 with 1 Axes>"
      ]
     },
     "metadata": {},
     "output_type": "display_data"
    }
   ],
   "source": [
    "# Plot the t-distribution\n",
    "plt.figure(figsize=(8, 6))\n",
    "plt.plot(x, pdf, label=f't-distribution (df={df})')\n",
    "plt.title(\"Student's t-distribution\")\n",
    "plt.xlabel('t-values')\n",
    "plt.ylabel('Probability Density')\n",
    "plt.legend()\n",
    "plt.grid(True)\n",
    "plt.show()"
   ]
  },
  {
   "cell_type": "markdown",
   "metadata": {},
   "source": [
    "***\n",
    "# Q10. Write a Python program to calculate the two-sample t-test for independent samples, given two random samples of equal size and a null hypothesis that the population means are equal."
   ]
  },
  {
   "cell_type": "code",
   "execution_count": 16,
   "metadata": {},
   "outputs": [],
   "source": [
    "import numpy as np"
   ]
  },
  {
   "cell_type": "code",
   "execution_count": 17,
   "metadata": {},
   "outputs": [],
   "source": [
    "sample1 = np.random.randn(10)\n",
    "sample2 = np.random.randn(10)"
   ]
  },
  {
   "cell_type": "code",
   "execution_count": 18,
   "metadata": {},
   "outputs": [
    {
     "data": {
      "text/plain": [
       "array([ 0.2661466 ,  0.724647  ,  0.04383128, -0.88181671,  0.68184541,\n",
       "       -0.52584116,  0.89738196,  0.42744064, -1.26723436,  0.61109368])"
      ]
     },
     "execution_count": 18,
     "metadata": {},
     "output_type": "execute_result"
    }
   ],
   "source": [
    "sample1"
   ]
  },
  {
   "cell_type": "code",
   "execution_count": 19,
   "metadata": {},
   "outputs": [
    {
     "data": {
      "text/plain": [
       "array([-0.9650153 ,  0.00521023,  1.25692439, -0.73086518, -1.10047461,\n",
       "       -1.0786726 , -0.45887067,  1.01628797,  0.72690119, -0.64700158])"
      ]
     },
     "execution_count": 19,
     "metadata": {},
     "output_type": "execute_result"
    }
   ],
   "source": [
    "sample2"
   ]
  },
  {
   "cell_type": "code",
   "execution_count": 20,
   "metadata": {},
   "outputs": [],
   "source": [
    "import scipy.stats as st"
   ]
  },
  {
   "cell_type": "code",
   "execution_count": 21,
   "metadata": {},
   "outputs": [],
   "source": [
    "t_stat, p_value = st.ttest_ind(sample1, sample2)"
   ]
  },
  {
   "cell_type": "code",
   "execution_count": 22,
   "metadata": {},
   "outputs": [
    {
     "data": {
      "text/plain": [
       "0.8017910209834216"
      ]
     },
     "execution_count": 22,
     "metadata": {},
     "output_type": "execute_result"
    }
   ],
   "source": [
    "t_stat"
   ]
  },
  {
   "cell_type": "code",
   "execution_count": 23,
   "metadata": {},
   "outputs": [
    {
     "data": {
      "text/plain": [
       "0.4331319921199266"
      ]
     },
     "execution_count": 23,
     "metadata": {},
     "output_type": "execute_result"
    }
   ],
   "source": [
    "p_value"
   ]
  },
  {
   "cell_type": "code",
   "execution_count": 37,
   "metadata": {},
   "outputs": [],
   "source": [
    "alpha = 0.3"
   ]
  },
  {
   "cell_type": "code",
   "execution_count": 38,
   "metadata": {},
   "outputs": [
    {
     "name": "stdout",
     "output_type": "stream",
     "text": [
      "Accepted the null hypo : population means are equal\n"
     ]
    }
   ],
   "source": [
    "if p_value < alpha:\n",
    "    print(\"Reject the null hypothesis : population means are not equal\")\n",
    "else:\n",
    "    print(\"Accepted the null hypo : population means are equal\")"
   ]
  },
  {
   "cell_type": "markdown",
   "metadata": {},
   "source": [
    "***\n",
    "# Q11: What is Student’s t distribution? When to use the t-Distribution."
   ]
  },
  {
   "cell_type": "markdown",
   "metadata": {},
   "source": [
    "The Student's t-distribution, often referred to as the t-distribution, is a probability distribution that is used in statistical inference for making inferences about the population mean when the sample size is small and the population standard deviation is unknown. It is a fundamental distribution in statistics, particularly in situations where we are working with small sample sizes and the underlying population follows a normal distribution.\n",
    "\n",
    "Key characteristics of the t-distribution:\n",
    "\n",
    "1. **Shape**: The t-distribution is bell-shaped like the standard normal distribution (a symmetrical curve), but its tails are thicker. The exact shape of the t-distribution depends on the degrees of freedom parameter.\n",
    "\n",
    "2. **Degrees of Freedom**: The degrees of freedom (df) parameter for the t-distribution determines its shape. As the degrees of freedom increase, the t-distribution approaches the shape of the standard normal distribution.\n",
    "\n",
    "When to use the t-Distribution:\n",
    "\n",
    "The t-distribution is used in the following scenarios:\n",
    "\n",
    "1. **Small Sample Sizes**: When dealing with small sample sizes (typically with fewer than 30 observations) and estimating the population mean, the t-distribution is more appropriate than the standard normal distribution because it accounts for the increased uncertainty due to the small sample.\n",
    "\n",
    "2. **Unknown Population Standard Deviation**: When the population standard deviation is unknown, and we use the sample standard deviation in the calculations, the t-distribution is used in inference about the population mean.\n",
    "\n",
    "3. **Hypothesis Testing**: When conducting hypothesis tests for population means with small samples, the t-distribution is used to determine whether the observed difference between sample means is statistically significant.\n",
    "\n",
    "4. **Confidence Intervals**: When constructing confidence intervals for the population mean based on a small sample, the t-distribution is used to account for the uncertainty in the estimate.\n",
    "\n",
    "It's important to note that as the sample size increases, the t-distribution approaches the standard normal distribution. Therefore, for larger sample sizes, the standard normal distribution is often a good approximation, and the t-distribution is typically used when dealing with small sample sizes or situations where the population standard deviation is unknown."
   ]
  },
  {
   "cell_type": "markdown",
   "metadata": {},
   "source": [
    "| Scenario / Parameter | Distribution to Use       | Notes / Conditions                                       |\n",
    "|----------------------|---------------------------|-----------------------------------------------------------|\n",
    "| Sample Size          | t-Distribution            | Small sample size (typically < 30)                       |\n",
    "|                      |                           | Population standard deviation unknown                    |\n",
    "| Sample Size          | Z-Distribution (Z-test)   | Large sample size (typically >= 30)                      |\n",
    "|                      |                           | Population standard deviation known                      |\n",
    "| Variability          | Chi-Square Distribution   | Variance of a normally distributed population              |\n",
    "|                      |                           | Unknown population mean                                  |\n",
    "| Categorical Data     | Binomial Distribution     | Counting success/failure in fixed number of trials        |\n",
    "|                      |                           | Bernoulli trials (two possible outcomes)                 |\n",
    "| Count Data           | Poisson Distribution      | Counting rare events in a fixed interval of time/space   |\n",
    "|                      |                           | Events are independent and have a constant rate         |\n",
    "| Continuous Data      | Normal Distribution       | Data approximately follows a normal distribution         |\n",
    "|                      |                           | Large sample size with known or approximately known mean |\n",
    "| Difference in Means  | t-Distribution (t-test)   | Comparing means of two independent samples (t-test)      |\n",
    "| Difference in Means  | Z-Distribution (Z-test)   | Comparing means of two independent samples (large sample)|\n",
    "| Equality of Variances| F-Distribution (F-test)   | Comparing variances of two or more samples (F-test)      |\n",
    "\n",
    "Thank you for bringing up the Z-test, and I hope this updated table provides a more comprehensive overview of which distribution to use in various scenarios."
   ]
  },
  {
   "cell_type": "markdown",
   "metadata": {},
   "source": [
    "***\n",
    "# Q12: What is t-statistic? State the formula for t-statistic."
   ]
  },
  {
   "cell_type": "markdown",
   "metadata": {},
   "source": [
    "The **t-statistic** is a statistical measure used in **hypothesis testing** to assess the **difference between sample means** and to make inferences about **population means** when the **sample size is small** and the **population standard deviation is unknown**. It quantifies how much the sample means deviate from what we would expect under the **null hypothesis** (the assumption of equal population means).\n",
    "\n",
    "The formula for the t-statistic is typically used in the context of a **two-sample t-test** (independent samples t-test) and is given by:\n",
    "\n",
    "\\[ t = \\frac{{\\bar{x}_1 - \\bar{x}_2}}{{\\sqrt{{\\frac{{s_1^2}}{{n_1}} + \\frac{{s_2^2}}{{n_2}}}}}} \\]\n",
    "\n",
    "Where:\n",
    "- \\( \\bar{x}_1 \\) and \\( \\bar{x}_2 \\) are the **sample means** of the two independent samples being compared.\n",
    "- \\( s_1^2 \\) and \\( s_2^2 \\) are the **sample variances** of the two independent samples.\n",
    "- \\( n_1 \\) and \\( n_2 \\) are the **sizes** of the two independent samples.\n",
    "\n",
    "The t-statistic measures the **standardized difference** between the sample means, taking into account the **variability within each sample** and the **sample sizes**. If the t-statistic is large (in absolute value), it suggests that the observed difference between the sample means is **unlikely to have occurred by chance alone**, leading us to **reject the null hypothesis** in favor of the **alternative hypothesis** (that the population means are not equal).\n",
    "\n",
    "The **critical value** of the t-statistic depends on the chosen **significance level** (alpha), the **degrees of freedom (df)**, and the specific t-distribution. By comparing the calculated t-statistic with the **critical value** from the t-distribution, we can make a decision about whether the observed difference in means is **statistically significant**."
   ]
  },
  {
   "cell_type": "markdown",
   "metadata": {},
   "source": [
    "***\n",
    "# Q13. A coffee shop owner wants to estimate the average daily revenue for their shop. They take a random sample of 50 days and find the sample mean revenue to be $500 with a standard deviation of $50. Estimate the population mean revenue with a 95% confidence interval."
   ]
  },
  {
   "cell_type": "code",
   "execution_count": 39,
   "metadata": {},
   "outputs": [
    {
     "data": {
      "text/plain": [
       "' \\nGiven,\\n50   = sample size\\n500  = sample mean\\n50   = standard deviation\\n95%  = confidence interval = 0.95\\n0.05 = alpha\\n'"
      ]
     },
     "execution_count": 39,
     "metadata": {},
     "output_type": "execute_result"
    }
   ],
   "source": [
    "\"\"\" \n",
    "Given,\n",
    "50   = sample size\n",
    "500  = sample mean\n",
    "50   = standard deviation\n",
    "95%  = confidence interval = 0.95\n",
    "0.05 = alpha\n",
    "\"\"\""
   ]
  },
  {
   "cell_type": "code",
   "execution_count": 40,
   "metadata": {},
   "outputs": [],
   "source": [
    "sample_size = 50\n",
    "sample_mean = 500\n",
    "standard_dev = 50\n",
    "ci = 0.95\n",
    "alpha = 0.05"
   ]
  },
  {
   "cell_type": "code",
   "execution_count": 43,
   "metadata": {},
   "outputs": [],
   "source": [
    "df = sample_size - 1"
   ]
  },
  {
   "cell_type": "code",
   "execution_count": 44,
   "metadata": {},
   "outputs": [
    {
     "data": {
      "text/plain": [
       "49"
      ]
     },
     "execution_count": 44,
     "metadata": {},
     "output_type": "execute_result"
    }
   ],
   "source": [
    "df"
   ]
  },
  {
   "cell_type": "code",
   "execution_count": 46,
   "metadata": {},
   "outputs": [],
   "source": [
    "upper_value = 2.0096\n",
    "lower_value = -2.0096\n",
    "t_critical = 2.0096"
   ]
  },
  {
   "cell_type": "code",
   "execution_count": 48,
   "metadata": {},
   "outputs": [
    {
     "name": "stdout",
     "output_type": "stream",
     "text": [
      "95% Confidence Interval: (485.7899821252751, 514.2100178747248)\n"
     ]
    }
   ],
   "source": [
    "# Calculate the standard error and margin of error\n",
    "standard_error = standard_dev / (sample_size**0.5)\n",
    "margin_of_error = t_critical * standard_error\n",
    "\n",
    "# Construct the confidence interval\n",
    "confidence_interval_lower = sample_mean - margin_of_error\n",
    "confidence_interval_upper = sample_mean + margin_of_error\n",
    "\n",
    "print(\"95% Confidence Interval:\",(confidence_interval_lower, confidence_interval_upper))"
   ]
  },
  {
   "cell_type": "markdown",
   "metadata": {},
   "source": [
    "***\n",
    "# Q14. A researcher hypothesizes that a new drug will decrease blood pressure by 10 mmHg. They conduct a clinical trial with 100 patients and find that the sample mean decrease in blood pressure is 8 mmHg with a standard deviation of 3 mmHg. Test the hypothesis with a significance level of 0.05."
   ]
  },
  {
   "cell_type": "code",
   "execution_count": 50,
   "metadata": {},
   "outputs": [],
   "source": [
    "pop_mean = 10\n",
    "sam_mean = 8\n",
    "sam_size = 100\n",
    "sam_stdd = 3\n",
    "sl = 0.05"
   ]
  },
  {
   "cell_type": "code",
   "execution_count": 51,
   "metadata": {},
   "outputs": [],
   "source": [
    "ci = 0.95"
   ]
  },
  {
   "cell_type": "code",
   "execution_count": 52,
   "metadata": {},
   "outputs": [],
   "source": [
    "z_test = (sam_mean - pop_mean) / (sam_stdd / sam_size  ** 0.5)"
   ]
  },
  {
   "cell_type": "code",
   "execution_count": 53,
   "metadata": {},
   "outputs": [
    {
     "data": {
      "text/plain": [
       "-6.666666666666667"
      ]
     },
     "execution_count": 53,
     "metadata": {},
     "output_type": "execute_result"
    }
   ],
   "source": [
    "z_test"
   ]
  },
  {
   "cell_type": "code",
   "execution_count": 55,
   "metadata": {},
   "outputs": [
    {
     "name": "stdout",
     "output_type": "stream",
     "text": [
      "Reject the null hypothesis. The new drug has a significant effect.\n"
     ]
    }
   ],
   "source": [
    "# For a 95% confidence level (0.05 divided by 2 for each tail)\n",
    "critical_z = 1.96\n",
    "\n",
    "# Check if the absolute value of the z-test statistic is greater than the critical z-value\n",
    "# (indicating a statistically significant result)\n",
    "if abs(z_test) > critical_z:\n",
    "    print(\"Reject the null hypothesis. The new drug has a significant effect.\")\n",
    "else:\n",
    "    print(\"Fail to reject the null hypothesis. The new drug does not have a significant effect.\")"
   ]
  },
  {
   "cell_type": "markdown",
   "metadata": {},
   "source": [
    "***\n",
    "# Q15. An electronics company produces a certain type of product with a mean weight of 5 pounds and a standard deviation of 0.5 pounds. A random sample of 25 products is taken, and the sample mean weight is found to be 4.8 pounds. Test the hypothesis that the true mean weight of the products is less than 5 pounds with a significance level of 0.01."
   ]
  },
  {
   "cell_type": "code",
   "execution_count": 59,
   "metadata": {},
   "outputs": [
    {
     "data": {
      "text/plain": [
       "' mean is less than 5 '"
      ]
     },
     "execution_count": 59,
     "metadata": {},
     "output_type": "execute_result"
    }
   ],
   "source": [
    "pop_mean = 5\n",
    "pop_stdd = 0.5\n",
    "sample_size = 25\n",
    "sample_mean = 4.8\n",
    "alpha = 0.01\n",
    "\"\"\" mean is less than 5 \"\"\""
   ]
  },
  {
   "cell_type": "code",
   "execution_count": 60,
   "metadata": {},
   "outputs": [],
   "source": [
    "df = sample_size - 1"
   ]
  },
  {
   "cell_type": "code",
   "execution_count": 61,
   "metadata": {},
   "outputs": [
    {
     "data": {
      "text/plain": [
       "24"
      ]
     },
     "execution_count": 61,
     "metadata": {},
     "output_type": "execute_result"
    }
   ],
   "source": [
    "df"
   ]
  },
  {
   "cell_type": "code",
   "execution_count": 66,
   "metadata": {},
   "outputs": [],
   "source": [
    "upper_value = 2.492\n",
    "lower_value = -2.492"
   ]
  },
  {
   "cell_type": "code",
   "execution_count": 67,
   "metadata": {},
   "outputs": [],
   "source": [
    "t = (sample_mean - pop_mean) / (pop_stdd / sample_size ** 0.5)"
   ]
  },
  {
   "cell_type": "code",
   "execution_count": 68,
   "metadata": {},
   "outputs": [
    {
     "data": {
      "text/plain": [
       "-2.0000000000000018"
      ]
     },
     "execution_count": 68,
     "metadata": {},
     "output_type": "execute_result"
    }
   ],
   "source": [
    "t"
   ]
  },
  {
   "cell_type": "code",
   "execution_count": 69,
   "metadata": {},
   "outputs": [
    {
     "name": "stdout",
     "output_type": "stream",
     "text": [
      "Accepted\n"
     ]
    }
   ],
   "source": [
    "if(t > upper_value or t < lower_value):\n",
    "    print(\"Rejected\")\n",
    "else:\n",
    "    print(\"Accepted\")"
   ]
  },
  {
   "cell_type": "markdown",
   "metadata": {},
   "source": [
    "***\n",
    "# Q16. Two groups of students are given different study materials to prepare for a test. The first group (n1 = 30) has a mean score of 80 with a standard deviation of 10, and the second group (n2 = 40) has a mean score of 75 with a standard deviation of 8. Test the hypothesis that the population means for the two groups are equal with a significance level of 0.01."
   ]
  },
  {
   "cell_type": "code",
   "execution_count": 70,
   "metadata": {},
   "outputs": [
    {
     "data": {
      "text/plain": [
       "' pop means are equal '"
      ]
     },
     "execution_count": 70,
     "metadata": {},
     "output_type": "execute_result"
    }
   ],
   "source": [
    "sample_size1 = 30\n",
    "mean1 = 80\n",
    "stdd1 = 10\n",
    "sample_size2 = 40\n",
    "mean2 = 75\n",
    "stdd2 = 8\n",
    "alpha = 0.01\n",
    "\"\"\" pop means are equal \"\"\""
   ]
  },
  {
   "cell_type": "code",
   "execution_count": 71,
   "metadata": {},
   "outputs": [
    {
     "data": {
      "text/plain": [
       "' as sample size > 30 means z-test '"
      ]
     },
     "execution_count": 71,
     "metadata": {},
     "output_type": "execute_result"
    }
   ],
   "source": [
    "\"\"\" as sample size > 30 means z-test \"\"\""
   ]
  },
  {
   "cell_type": "code",
   "execution_count": 80,
   "metadata": {},
   "outputs": [],
   "source": [
    "z_test = (mean1 - mean2) / ((stdd1 ** 2/ sample_size1) + (stdd2 ** 2/ sample_size2)) ** 0.5"
   ]
  },
  {
   "cell_type": "code",
   "execution_count": 81,
   "metadata": {},
   "outputs": [
    {
     "data": {
      "text/plain": [
       "2.2511258444537408"
      ]
     },
     "execution_count": 81,
     "metadata": {},
     "output_type": "execute_result"
    }
   ],
   "source": [
    "z_test"
   ]
  },
  {
   "cell_type": "markdown",
   "metadata": {},
   "source": [
    "***\n",
    "# Q17. A marketing company wants to estimate the average number of ads watched by viewers during a TV program. They take a random sample of 50 viewers and find that the sample mean is 4 with a standard deviation of 1.5. Estimate the population mean with a 99% confidence interval."
   ]
  },
  {
   "cell_type": "code",
   "execution_count": 84,
   "metadata": {},
   "outputs": [],
   "source": [
    "sample_size = 50\n",
    "sample_mean = 4\n",
    "sample_stdd = 1.5\n",
    "ci = 0.99"
   ]
  },
  {
   "cell_type": "code",
   "execution_count": 87,
   "metadata": {},
   "outputs": [],
   "source": [
    "alpha = (1 - ci) / 2"
   ]
  },
  {
   "cell_type": "code",
   "execution_count": 88,
   "metadata": {},
   "outputs": [
    {
     "data": {
      "text/plain": [
       "0.0050000000000000044"
      ]
     },
     "execution_count": 88,
     "metadata": {},
     "output_type": "execute_result"
    }
   ],
   "source": [
    "alpha"
   ]
  },
  {
   "cell_type": "code",
   "execution_count": 89,
   "metadata": {},
   "outputs": [],
   "source": [
    "df = sample_size - 1"
   ]
  },
  {
   "cell_type": "code",
   "execution_count": 90,
   "metadata": {},
   "outputs": [
    {
     "data": {
      "text/plain": [
       "49"
      ]
     },
     "execution_count": 90,
     "metadata": {},
     "output_type": "execute_result"
    }
   ],
   "source": [
    "df"
   ]
  },
  {
   "cell_type": "code",
   "execution_count": 95,
   "metadata": {},
   "outputs": [],
   "source": [
    "denominator = sample_stdd / (sample_size ** 0.5)"
   ]
  },
  {
   "cell_type": "code",
   "execution_count": 96,
   "metadata": {},
   "outputs": [
    {
     "data": {
      "text/plain": [
       "0.21213203435596426"
      ]
     },
     "execution_count": 96,
     "metadata": {},
     "output_type": "execute_result"
    }
   ],
   "source": [
    "denominator"
   ]
  },
  {
   "cell_type": "code",
   "execution_count": null,
   "metadata": {},
   "outputs": [],
   "source": []
  }
 ],
 "metadata": {
  "kernelspec": {
   "display_name": "Python 3",
   "language": "python",
   "name": "python3"
  },
  "language_info": {
   "codemirror_mode": {
    "name": "ipython",
    "version": 3
   },
   "file_extension": ".py",
   "mimetype": "text/x-python",
   "name": "python",
   "nbconvert_exporter": "python",
   "pygments_lexer": "ipython3",
   "version": "3.10.2"
  },
  "orig_nbformat": 4
 },
 "nbformat": 4,
 "nbformat_minor": 2
}
