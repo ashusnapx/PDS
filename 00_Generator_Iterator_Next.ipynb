{
 "cells": [
  {
   "cell_type": "markdown",
   "id": "43e98c4c-138c-4872-9556-9e8cad83b50e",
   "metadata": {},
   "source": [
    "1. Generator Functions "
   ]
  },
  {
   "cell_type": "code",
   "execution_count": 1,
   "id": "55ddbbcd-9fb8-4d2a-b18a-11b108851835",
   "metadata": {},
   "outputs": [
    {
     "data": {
      "text/plain": [
       "range(0, 10)"
      ]
     },
     "execution_count": 1,
     "metadata": {},
     "output_type": "execute_result"
    }
   ],
   "source": [
    "range(10)"
   ]
  },
  {
   "cell_type": "code",
   "execution_count": 2,
   "id": "84ceb692-2d5a-4276-9db1-ebd3b81a96a5",
   "metadata": {},
   "outputs": [
    {
     "name": "stdout",
     "output_type": "stream",
     "text": [
      "0\n",
      "1\n",
      "2\n",
      "3\n",
      "4\n",
      "5\n",
      "6\n",
      "7\n",
      "8\n",
      "9\n"
     ]
    }
   ],
   "source": [
    "for i in range(10):\n",
    "    print(i)"
   ]
  },
  {
   "cell_type": "code",
   "execution_count": 6,
   "id": "09048fbe-91ca-4366-98ea-b8371d0cecf3",
   "metadata": {},
   "outputs": [],
   "source": [
    "# Fibonacci Number\n",
    "def fibo(n):\n",
    "    a,b = 0,1\n",
    "    for i in range(n):\n",
    "        yield a\n",
    "        a,b = b, a+b\n",
    "        \n",
    "    print(a)"
   ]
  },
  {
   "cell_type": "code",
   "execution_count": 7,
   "id": "a9164421-a855-4681-a2cf-5ea7d6ce8a36",
   "metadata": {},
   "outputs": [
    {
     "data": {
      "text/plain": [
       "<generator object fibo at 0x7f29d309d9a0>"
      ]
     },
     "execution_count": 7,
     "metadata": {},
     "output_type": "execute_result"
    }
   ],
   "source": [
    "fibo(3)"
   ]
  },
  {
   "cell_type": "code",
   "execution_count": 8,
   "id": "348f1917-bf77-4289-9b88-3828a619e67f",
   "metadata": {},
   "outputs": [
    {
     "name": "stdout",
     "output_type": "stream",
     "text": [
      "2\n"
     ]
    },
    {
     "data": {
      "text/plain": [
       "[0, 1, 1]"
      ]
     },
     "execution_count": 8,
     "metadata": {},
     "output_type": "execute_result"
    }
   ],
   "source": [
    "list(fibo(3))"
   ]
  },
  {
   "cell_type": "code",
   "execution_count": 12,
   "id": "1b069ef4-18d7-4632-b72c-b5bd65342e51",
   "metadata": {},
   "outputs": [
    {
     "name": "stdout",
     "output_type": "stream",
     "text": [
      "['a']\n",
      "['s']\n",
      "['h']\n",
      "['u']\n"
     ]
    }
   ],
   "source": [
    "s = \"ashu\"\n",
    "\n",
    "for i in s:\n",
    "    print(list(i))"
   ]
  },
  {
   "cell_type": "code",
   "execution_count": 13,
   "id": "c3831ecd-ab06-4b8e-ab5b-4886e6a0b750",
   "metadata": {},
   "outputs": [
    {
     "ename": "TypeError",
     "evalue": "'str' object is not an iterator",
     "output_type": "error",
     "traceback": [
      "\u001b[0;31m---------------------------------------------------------------------------\u001b[0m",
      "\u001b[0;31mTypeError\u001b[0m                                 Traceback (most recent call last)",
      "Cell \u001b[0;32mIn[13], line 1\u001b[0m\n\u001b[0;32m----> 1\u001b[0m \u001b[38;5;28;43mnext\u001b[39;49m\u001b[43m(\u001b[49m\u001b[43ms\u001b[49m\u001b[43m)\u001b[49m\n",
      "\u001b[0;31mTypeError\u001b[0m: 'str' object is not an iterator"
     ]
    }
   ],
   "source": [
    "next(s)"
   ]
  },
  {
   "cell_type": "code",
   "execution_count": 14,
   "id": "a66fcb0e-14d2-4ec1-a36e-e9a850ebb96f",
   "metadata": {},
   "outputs": [],
   "source": [
    "s1 = iter(s)"
   ]
  },
  {
   "cell_type": "code",
   "execution_count": 16,
   "id": "dc8ebc05-ca3f-4344-a509-cd8e80202699",
   "metadata": {},
   "outputs": [
    {
     "data": {
      "text/plain": [
       "'a'"
      ]
     },
     "execution_count": 16,
     "metadata": {},
     "output_type": "execute_result"
    }
   ],
   "source": [
    "next(s1)"
   ]
  },
  {
   "cell_type": "code",
   "execution_count": 17,
   "id": "1c1824a8-cfc0-42b3-84f8-6ecb98ed1af5",
   "metadata": {},
   "outputs": [
    {
     "data": {
      "text/plain": [
       "'s'"
      ]
     },
     "execution_count": 17,
     "metadata": {},
     "output_type": "execute_result"
    }
   ],
   "source": [
    "next(s1)"
   ]
  },
  {
   "cell_type": "code",
   "execution_count": 18,
   "id": "5ee9194b-e93e-4da4-8bc9-8ef1ddd9e15d",
   "metadata": {},
   "outputs": [
    {
     "data": {
      "text/plain": [
       "'h'"
      ]
     },
     "execution_count": 18,
     "metadata": {},
     "output_type": "execute_result"
    }
   ],
   "source": [
    "next(s1)"
   ]
  },
  {
   "cell_type": "code",
   "execution_count": 19,
   "id": "cc2d66e3-f100-4e78-bc00-6870a360522e",
   "metadata": {},
   "outputs": [
    {
     "data": {
      "text/plain": [
       "'u'"
      ]
     },
     "execution_count": 19,
     "metadata": {},
     "output_type": "execute_result"
    }
   ],
   "source": [
    "next(s1)"
   ]
  },
  {
   "cell_type": "code",
   "execution_count": 20,
   "id": "5cae79a8-15e0-4fff-9e05-b2df719a1ff4",
   "metadata": {},
   "outputs": [
    {
     "ename": "StopIteration",
     "evalue": "",
     "output_type": "error",
     "traceback": [
      "\u001b[0;31m---------------------------------------------------------------------------\u001b[0m",
      "\u001b[0;31mStopIteration\u001b[0m                             Traceback (most recent call last)",
      "Cell \u001b[0;32mIn[20], line 1\u001b[0m\n\u001b[0;32m----> 1\u001b[0m \u001b[38;5;28;43mnext\u001b[39;49m\u001b[43m(\u001b[49m\u001b[43ms1\u001b[49m\u001b[43m)\u001b[49m\n",
      "\u001b[0;31mStopIteration\u001b[0m: "
     ]
    }
   ],
   "source": [
    "next(s1)"
   ]
  },
  {
   "cell_type": "markdown",
   "id": "10d8c94d-3bde-4eb9-97c0-1b23dc8b1677",
   "metadata": {},
   "source": [
    "!Note : Concept of iterator and iterable needs to be focused. Iterator means that data in which we can go to neighbour element by adding next and iterable means that data that can be converted to iterator."
   ]
  },
  {
   "cell_type": "code",
   "execution_count": 27,
   "id": "0c6b37a1-a446-452d-95ce-f387ba936303",
   "metadata": {},
   "outputs": [],
   "source": [
    "#Fibonaaci without generator:\n",
    "def fib(n):\n",
    "    a,b = 0,1\n",
    "    for i in range(n):\n",
    "        c = a + b\n",
    "        a, b = b,c\n",
    "\n",
    "    print(a)"
   ]
  },
  {
   "cell_type": "code",
   "execution_count": 28,
   "id": "a4338859-cb17-46ab-9c5a-9db4bf24d33c",
   "metadata": {},
   "outputs": [
    {
     "name": "stdout",
     "output_type": "stream",
     "text": [
      "13\n"
     ]
    }
   ],
   "source": [
    "(fib(7))"
   ]
  },
  {
   "cell_type": "code",
   "execution_count": 14,
   "id": "82dddea4-ec1b-4eb2-a20b-05b56fe6928c",
   "metadata": {},
   "outputs": [],
   "source": [
    "def count(n):\n",
    "    count = 1\n",
    "    while count < n:\n",
    "        yield count\n",
    "        count += 1"
   ]
  },
  {
   "cell_type": "code",
   "execution_count": 17,
   "id": "7e35361f-ddc8-4c5a-927d-f8707edd1588",
   "metadata": {},
   "outputs": [],
   "source": [
    "c = (count(5))"
   ]
  },
  {
   "cell_type": "code",
   "execution_count": 12,
   "id": "481ed236-5a04-4fed-a8d2-a08a9175f0d9",
   "metadata": {},
   "outputs": [
    {
     "name": "stdout",
     "output_type": "stream",
     "text": [
      "<generator object count at 0x7f4688307e60>\n"
     ]
    }
   ],
   "source": [
    "print(c)"
   ]
  },
  {
   "cell_type": "code",
   "execution_count": 18,
   "id": "95a63696-579c-482b-94f4-7b69615b89a6",
   "metadata": {},
   "outputs": [
    {
     "name": "stdout",
     "output_type": "stream",
     "text": [
      "1\n",
      "2\n",
      "3\n",
      "4\n"
     ]
    }
   ],
   "source": [
    "for i in c:\n",
    "    print(i)"
   ]
  },
  {
   "cell_type": "code",
   "execution_count": 20,
   "id": "a07476ca-4869-407f-aa66-08c3bd60ff5d",
   "metadata": {},
   "outputs": [],
   "source": [
    "l = [12,3,4,5]"
   ]
  },
  {
   "cell_type": "code",
   "execution_count": 21,
   "id": "3cd74612-bf48-442e-ae25-1ef90ec513b4",
   "metadata": {},
   "outputs": [],
   "source": [
    "def sq(l):\n",
    "    for i in l:\n",
    "         yield i**2"
   ]
  },
  {
   "cell_type": "code",
   "execution_count": 22,
   "id": "58dd0f7e-c0e0-4f9c-a772-c0d36dac800b",
   "metadata": {},
   "outputs": [
    {
     "data": {
      "text/plain": [
       "<generator object sq at 0x7f4680641af0>"
      ]
     },
     "execution_count": 22,
     "metadata": {},
     "output_type": "execute_result"
    }
   ],
   "source": [
    "sq(l)"
   ]
  },
  {
   "cell_type": "code",
   "execution_count": 24,
   "id": "2df3c755-946f-4e19-b15b-b6215793f129",
   "metadata": {},
   "outputs": [
    {
     "name": "stdout",
     "output_type": "stream",
     "text": [
      "144\n",
      "9\n",
      "16\n",
      "25\n"
     ]
    }
   ],
   "source": [
    "for i in sq(l):\n",
    "    print(i)"
   ]
  },
  {
   "cell_type": "code",
   "execution_count": null,
   "id": "ef645d17-5e57-45f5-88b6-0428f571b662",
   "metadata": {},
   "outputs": [],
   "source": []
  }
 ],
 "metadata": {
  "kernelspec": {
   "display_name": "Python 3 (ipykernel)",
   "language": "python",
   "name": "python3"
  },
  "language_info": {
   "codemirror_mode": {
    "name": "ipython",
    "version": 3
   },
   "file_extension": ".py",
   "mimetype": "text/x-python",
   "name": "python",
   "nbconvert_exporter": "python",
   "pygments_lexer": "ipython3",
   "version": "3.10.8"
  }
 },
 "nbformat": 4,
 "nbformat_minor": 5
}
