{
 "cells": [
  {
   "cell_type": "code",
   "execution_count": 2,
   "metadata": {},
   "outputs": [],
   "source": [
    "class jec:\n",
    "    def __init__(self,name,age,batch):\n",
    "        self.name = name\n",
    "        self.age = age\n",
    "        self.batch = batch\n",
    "        \n",
    "    def details(self): # details is the classmethod\n",
    "        print(self.name, self.age, self.batch)"
   ]
  },
  {
   "cell_type": "code",
   "execution_count": 5,
   "metadata": {},
   "outputs": [],
   "source": [
    "ashu = jec('Ashutosh', 50, 2000) #ashu is the object"
   ]
  },
  {
   "cell_type": "code",
   "execution_count": 6,
   "metadata": {},
   "outputs": [
    {
     "name": "stdout",
     "output_type": "stream",
     "text": [
      "Ashutosh 50 2000\n"
     ]
    }
   ],
   "source": [
    "ashu.details()"
   ]
  },
  {
   "cell_type": "markdown",
   "metadata": {},
   "source": []
  },
  {
   "attachments": {},
   "cell_type": "markdown",
   "metadata": {},
   "source": [
    "***\n",
    "with the help of class methods, lets see\n",
    "***"
   ]
  },
  {
   "cell_type": "code",
   "execution_count": 11,
   "metadata": {},
   "outputs": [],
   "source": [
    "class jec1:\n",
    "    def __init__(self, name, age, batch):\n",
    "        self.name = name\n",
    "        self.age = age\n",
    "        self.batch = batch\n",
    "\n",
    "    @classmethod\n",
    "    def student_details(cls, name, age, batch):\n",
    "        return cls(name, age, batch)\n",
    "        \n",
    "    def details(self):  # details is the classmethod\n",
    "        print(self.name, self.age, self.batch)"
   ]
  },
  {
   "cell_type": "code",
   "execution_count": 12,
   "metadata": {},
   "outputs": [
    {
     "data": {
      "text/plain": [
       "<__main__.jec1 at 0x108136a70>"
      ]
     },
     "execution_count": 12,
     "metadata": {},
     "output_type": "execute_result"
    }
   ],
   "source": [
    "jec1.student_details('Ashutosh', 69, 2000)"
   ]
  },
  {
   "cell_type": "code",
   "execution_count": 13,
   "metadata": {},
   "outputs": [],
   "source": [
    "yo = jec1.student_details('Ashutosh', 69, 2000)"
   ]
  },
  {
   "cell_type": "code",
   "execution_count": 14,
   "metadata": {},
   "outputs": [
    {
     "name": "stdout",
     "output_type": "stream",
     "text": [
      "Ashutosh 69 2000\n"
     ]
    }
   ],
   "source": [
    "yo.details()"
   ]
  },
  {
   "cell_type": "markdown",
   "metadata": {},
   "source": []
  },
  {
   "attachments": {},
   "cell_type": "markdown",
   "metadata": {},
   "source": [
    "***\n",
    "Example - 2\n",
    "***"
   ]
  },
  {
   "cell_type": "code",
   "execution_count": 23,
   "metadata": {},
   "outputs": [],
   "source": [
    "class jec2:\n",
    "    \n",
    "    mobile_number = 81892892928789 # this is called as class variable\n",
    "    \n",
    "    def __init__(self, name, age, batch):\n",
    "        self.name = name\n",
    "        self.age = age\n",
    "        self.batch = batch\n",
    "        \n",
    "    @classmethod\n",
    "    def change_mobile_number(cls, mobile):\n",
    "        jec2.mobile_number = mobile\n",
    "\n",
    "    @classmethod\n",
    "    def student_details(cls, name, age, batch):\n",
    "        return cls(name, age, batch)\n",
    "\n",
    "    def details(self):  # details is the classmethod\n",
    "        print(self.name, self.age, self.batch, jec2.mobile_number)\n"
   ]
  },
  {
   "attachments": {},
   "cell_type": "markdown",
   "metadata": {},
   "source": [
    "okay so class method is used to create object without declaring their names and also we cam say we can overload the init part without creating an object"
   ]
  },
  {
   "cell_type": "code",
   "execution_count": 21,
   "metadata": {},
   "outputs": [
    {
     "data": {
      "text/plain": [
       "3498698"
      ]
     },
     "execution_count": 21,
     "metadata": {},
     "output_type": "execute_result"
    }
   ],
   "source": [
    "jec2.mobile_number"
   ]
  },
  {
   "cell_type": "code",
   "execution_count": 19,
   "metadata": {},
   "outputs": [],
   "source": [
    "jec2.change_mobile_number(3498698)"
   ]
  },
  {
   "cell_type": "code",
   "execution_count": 22,
   "metadata": {},
   "outputs": [
    {
     "data": {
      "text/plain": [
       "3498698"
      ]
     },
     "execution_count": 22,
     "metadata": {},
     "output_type": "execute_result"
    }
   ],
   "source": [
    "jec2.mobile_number"
   ]
  },
  {
   "cell_type": "code",
   "execution_count": 26,
   "metadata": {},
   "outputs": [
    {
     "data": {
      "text/plain": [
       "<__main__.jec2 at 0x103e56d10>"
      ]
     },
     "execution_count": 26,
     "metadata": {},
     "output_type": "execute_result"
    }
   ],
   "source": [
    "jec2.student_details('Ashutosh',69,2000)"
   ]
  },
  {
   "cell_type": "code",
   "execution_count": 29,
   "metadata": {},
   "outputs": [],
   "source": [
    "ashu = jec2('Ashutosh',69,2000)"
   ]
  },
  {
   "cell_type": "code",
   "execution_count": 30,
   "metadata": {},
   "outputs": [
    {
     "name": "stdout",
     "output_type": "stream",
     "text": [
      "Ashutosh 69 2000 81892892928789\n"
     ]
    }
   ],
   "source": [
    "ashu.details()"
   ]
  },
  {
   "cell_type": "code",
   "execution_count": null,
   "metadata": {},
   "outputs": [],
   "source": []
  },
  {
   "attachments": {},
   "cell_type": "markdown",
   "metadata": {},
   "source": [
    "***\n",
    "Example - 3\n",
    "***"
   ]
  },
  {
   "cell_type": "code",
   "execution_count": 31,
   "metadata": {},
   "outputs": [],
   "source": [
    "class jec3:\n",
    "\n",
    "    mobile_number = 81892892928789  # this is called as class variable\n",
    "\n",
    "    def __init__(self, name, age, batch):\n",
    "        self.name = name\n",
    "        self.age = age\n",
    "        self.batch = batch\n",
    "\n",
    "    @classmethod\n",
    "    def change_mobile_number(cls, mobile):\n",
    "        jec2.mobile_number = mobile\n",
    "\n",
    "    @classmethod\n",
    "    def student_details(cls, name, age, batch):\n",
    "        return cls(name, age, batch)\n",
    "\n",
    "    def details(self):  # details is the classmethod\n",
    "        print(self.name, self.age, self.batch, jec2.mobile_number)\n"
   ]
  },
  {
   "cell_type": "code",
   "execution_count": 35,
   "metadata": {},
   "outputs": [],
   "source": [
    "def course_details(cls, course_name):\n",
    "    print(f'Course name is {course_name}')"
   ]
  },
  {
   "cell_type": "code",
   "execution_count": 37,
   "metadata": {},
   "outputs": [],
   "source": [
    "jec3.course_details = classmethod(course_details)"
   ]
  },
  {
   "cell_type": "code",
   "execution_count": 38,
   "metadata": {},
   "outputs": [
    {
     "name": "stdout",
     "output_type": "stream",
     "text": [
      "Course name is BTech\n"
     ]
    }
   ],
   "source": [
    "jec3.course_details('BTech')"
   ]
  },
  {
   "cell_type": "code",
   "execution_count": 39,
   "metadata": {},
   "outputs": [],
   "source": [
    "def course_fees(cls, fees):\n",
    "    print(f\"Course fee : {fees}\")"
   ]
  },
  {
   "cell_type": "code",
   "execution_count": 42,
   "metadata": {},
   "outputs": [],
   "source": [
    "jec3.course_fees = classmethod(course_fees)"
   ]
  },
  {
   "cell_type": "code",
   "execution_count": 43,
   "metadata": {},
   "outputs": [
    {
     "name": "stdout",
     "output_type": "stream",
     "text": [
      "Course fee : 4000\n"
     ]
    }
   ],
   "source": [
    "jec3.course_fees(4000)"
   ]
  },
  {
   "attachments": {},
   "cell_type": "markdown",
   "metadata": {},
   "source": [
    "***\n",
    "deleting a class function\n",
    "***"
   ]
  },
  {
   "cell_type": "code",
   "execution_count": 44,
   "metadata": {},
   "outputs": [],
   "source": [
    "del jec3.change_mobile_number"
   ]
  },
  {
   "cell_type": "code",
   "execution_count": 45,
   "metadata": {},
   "outputs": [
    {
     "ename": "AttributeError",
     "evalue": "type object 'jec3' has no attribute 'change_mobile_number'",
     "output_type": "error",
     "traceback": [
      "\u001b[0;31m---------------------------------------------------------------------------\u001b[0m",
      "\u001b[0;31mAttributeError\u001b[0m                            Traceback (most recent call last)",
      "Cell \u001b[0;32mIn[45], line 1\u001b[0m\n\u001b[0;32m----> 1\u001b[0m jec3\u001b[39m.\u001b[39;49mchange_mobile_number(\u001b[39m3298\u001b[39m)\n",
      "\u001b[0;31mAttributeError\u001b[0m: type object 'jec3' has no attribute 'change_mobile_number'"
     ]
    }
   ],
   "source": [
    "jec3.change_mobile_number(3298)"
   ]
  },
  {
   "cell_type": "code",
   "execution_count": 48,
   "metadata": {},
   "outputs": [],
   "source": [
    "delattr(jec3, \"details\")"
   ]
  },
  {
   "cell_type": "code",
   "execution_count": 49,
   "metadata": {},
   "outputs": [
    {
     "ename": "AttributeError",
     "evalue": "type object 'jec3' has no attribute 'details'",
     "output_type": "error",
     "traceback": [
      "\u001b[0;31m---------------------------------------------------------------------------\u001b[0m",
      "\u001b[0;31mAttributeError\u001b[0m                            Traceback (most recent call last)",
      "Cell \u001b[0;32mIn[49], line 1\u001b[0m\n\u001b[0;32m----> 1\u001b[0m jec3\u001b[39m.\u001b[39;49mdetails()\n",
      "\u001b[0;31mAttributeError\u001b[0m: type object 'jec3' has no attribute 'details'"
     ]
    }
   ],
   "source": [
    "jec3.details()"
   ]
  },
  {
   "cell_type": "code",
   "execution_count": null,
   "metadata": {},
   "outputs": [],
   "source": []
  }
 ],
 "metadata": {
  "kernelspec": {
   "display_name": "Python 3",
   "language": "python",
   "name": "python3"
  },
  "language_info": {
   "codemirror_mode": {
    "name": "ipython",
    "version": 3
   },
   "file_extension": ".py",
   "mimetype": "text/x-python",
   "name": "python",
   "nbconvert_exporter": "python",
   "pygments_lexer": "ipython3",
   "version": "3.10.2"
  },
  "orig_nbformat": 4,
  "vscode": {
   "interpreter": {
    "hash": "2f590b0345379a3d388fae64db70f94b273a9b90cf99d61611d4169b37ba26e6"
   }
  }
 },
 "nbformat": 4,
 "nbformat_minor": 2
}
