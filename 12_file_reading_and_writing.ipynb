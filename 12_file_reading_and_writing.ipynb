{
 "cells": [
  {
   "cell_type": "code",
   "execution_count": 1,
   "id": "3537274d-28de-4918-a38f-9a74701c6f6a",
   "metadata": {},
   "outputs": [],
   "source": [
    "data = {\n",
    "    \"name\" : \"Apple\",\n",
    "    \"age\" : 40,\n",
    "    \"mail_id\" : \"apple.com\",\n",
    "    \"phone_number\" : 900,\n",
    "    \"products\" : [\"iPhone\", \"iMac\"]\n",
    "}"
   ]
  },
  {
   "cell_type": "markdown",
   "id": "cf863842-79ee-4903-ad87-8c43520af450",
   "metadata": {},
   "source": [
    "This above representaion is also called JSON representation "
   ]
  },
  {
   "cell_type": "code",
   "execution_count": 2,
   "id": "77028f46-3824-46d6-9c37-a7357d40430d",
   "metadata": {},
   "outputs": [],
   "source": [
    "import json"
   ]
  },
  {
   "cell_type": "code",
   "execution_count": 3,
   "id": "b2e4274d-6e1d-4674-9c7f-0ab99a76e859",
   "metadata": {},
   "outputs": [],
   "source": [
    "with open(\"13_data.json\",\"w\") as f:\n",
    "    json.dump(data,f)"
   ]
  },
  {
   "cell_type": "code",
   "execution_count": 4,
   "id": "46e0ec36-7366-4bf3-8b8e-c25ac137df0e",
   "metadata": {},
   "outputs": [],
   "source": [
    "data_jec = {\n",
    "    \"name\" : \"Ashutosh\",\n",
    "    \"batch\" : 2024,\n",
    "    \"branch\" : \"Information_Technology \",\n",
    "    \"fees\" : 11150\n",
    "}"
   ]
  },
  {
   "cell_type": "code",
   "execution_count": 9,
   "id": "c1da6de0-918a-4d2a-93b3-e2aa8b0b475d",
   "metadata": {},
   "outputs": [],
   "source": [
    "with open(\"data_jec.json\",\"w\") as f1:\n",
    "    json.dump(data_jec, f1)"
   ]
  },
  {
   "cell_type": "code",
   "execution_count": 12,
   "id": "a9379de5-bc95-4d65-8167-2c582649d06a",
   "metadata": {},
   "outputs": [],
   "source": [
    "with open(\"data_jec.json\",\"r\") as f1:\n",
    "    data1 = json.load(f1)"
   ]
  },
  {
   "cell_type": "code",
   "execution_count": 13,
   "id": "ff3ef2d5-0e07-44bb-93cd-b3ed8a5a1a5a",
   "metadata": {},
   "outputs": [
    {
     "data": {
      "text/plain": [
       "{'name': 'Ashutosh',\n",
       " 'batch': 2024,\n",
       " 'branch': 'Information_Technology ',\n",
       " 'fees': 11150}"
      ]
     },
     "execution_count": 13,
     "metadata": {},
     "output_type": "execute_result"
    }
   ],
   "source": [
    "data1"
   ]
  },
  {
   "cell_type": "code",
   "execution_count": 15,
   "id": "91f502de-fb6d-48af-afe3-3b1c9112d63c",
   "metadata": {},
   "outputs": [
    {
     "data": {
      "text/plain": [
       "'Information_Technology '"
      ]
     },
     "execution_count": 15,
     "metadata": {},
     "output_type": "execute_result"
    }
   ],
   "source": [
    "data1['branch']"
   ]
  },
  {
   "cell_type": "code",
   "execution_count": 3,
   "id": "a5e2060d-3fbb-4957-a129-fbd5babcf258",
   "metadata": {},
   "outputs": [],
   "source": [
    "import csv"
   ]
  },
  {
   "cell_type": "code",
   "execution_count": 4,
   "id": "10da2452-18c6-4387-8475-16330c9e5547",
   "metadata": {},
   "outputs": [],
   "source": [
    "data = [\n",
    "    [\"name\",\"email\",\"phone_number\"],\n",
    "    [\"Ashu\",\"ashu.com\",27017082189],\n",
    "    [\"Yogi\",\"yogi.com\",73288288282],\n",
    "    [\"Logi\",\"logi.com\",69696969696]\n",
    "]"
   ]
  },
  {
   "cell_type": "code",
   "execution_count": 5,
   "id": "0aca86fd-aff2-4de4-9026-c537368c7c0a",
   "metadata": {},
   "outputs": [],
   "source": [
    "with open(\"14_data.csv\",\"w\") as f:\n",
    "    writer = csv.writer(f)\n",
    "    \n",
    "    for i in data:\n",
    "        writer.writerow(i)"
   ]
  },
  {
   "cell_type": "code",
   "execution_count": 6,
   "id": "e8bf8647-59e0-4e84-a89d-2ff68903c7d9",
   "metadata": {},
   "outputs": [
    {
     "name": "stdout",
     "output_type": "stream",
     "text": [
      "['name', 'email', 'phone_number']\n",
      "['Ashu', 'ashu.com', '27017082189']\n",
      "['Yogi', 'yogi.com', '73288288282']\n",
      "['Logi', 'logi.com', '69696969696']\n"
     ]
    }
   ],
   "source": [
    "with open(\"14_data.csv\",\"r\") as f:\n",
    "    read_data = csv.reader(f)\n",
    "    \n",
    "    for i in read_data:\n",
    "        print(i)"
   ]
  },
  {
   "cell_type": "code",
   "execution_count": 7,
   "id": "3bfb7c6c-da59-464c-b845-f50a505a85f0",
   "metadata": {},
   "outputs": [],
   "source": [
    "data = {\n",
    "    \"name\" : \"Samsung\",\n",
    "    \"age\" : 70,\n",
    "    \"wealth\" : 1000000000000\n",
    "}"
   ]
  },
  {
   "cell_type": "code",
   "execution_count": 8,
   "id": "67e65528-0678-4ae4-90fc-b7541202d9fd",
   "metadata": {},
   "outputs": [],
   "source": [
    "import json"
   ]
  },
  {
   "cell_type": "code",
   "execution_count": 9,
   "id": "28c31752-18d7-483a-ba77-3f0bfe560ab2",
   "metadata": {},
   "outputs": [],
   "source": [
    "with open(\"15_data.json\",\"w\") as f:\n",
    "    json.dump(data, f)"
   ]
  },
  {
   "cell_type": "code",
   "execution_count": 13,
   "id": "8f3200cf-eba7-432c-a430-0a3bbe0f6e80",
   "metadata": {},
   "outputs": [],
   "source": [
    "import csv"
   ]
  },
  {
   "cell_type": "code",
   "execution_count": 14,
   "id": "5e85241f-b298-4266-8e77-213736877497",
   "metadata": {},
   "outputs": [],
   "source": [
    "data = [\n",
    "    [\"name\",\"rollNo\",\"branch\",\"batch\"],\n",
    "    [\"Ashutosh\",\"0201IT201020\",\"Information-Technology\",2024],\n",
    "    [\"Prabhanshu\",\"0201IT201070\",\"Information-Technology\",2024],\n",
    "    [\"Hritik\",\"0201IT201039\",\"Information-Technology\",2024],\n",
    "    [\"Sanket\",\"0201IT201078\",\"Information-Technology\",2024],\n",
    "    [\"Yogendra\",\"0201IT201099\",\"Information-Technology\",2024]\n",
    "]"
   ]
  },
  {
   "cell_type": "code",
   "execution_count": 16,
   "id": "60fa6663-f38c-4e14-ac4e-62153488f21e",
   "metadata": {},
   "outputs": [],
   "source": [
    "with open('16_data.csv','w') as f:\n",
    "    write_data = csv.writer(f)\n",
    "    \n",
    "    for i in data:\n",
    "        write_data.writerow(i)"
   ]
  },
  {
   "cell_type": "code",
   "execution_count": 17,
   "id": "27c997ba-7c54-454e-a8d9-7ce468d2b35c",
   "metadata": {},
   "outputs": [
    {
     "name": "stdout",
     "output_type": "stream",
     "text": [
      "['name', 'rollNo', 'branch', 'batch']\n",
      "['Ashutosh', '0201IT201020', 'Information-Technology', '2024']\n",
      "['Prabhanshu', '0201IT201070', 'Information-Technology', '2024']\n",
      "['Hritik', '0201IT201039', 'Information-Technology', '2024']\n",
      "['Sanket', '0201IT201078', 'Information-Technology', '2024']\n",
      "['Yogendra', '0201IT201099', 'Information-Technology', '2024']\n"
     ]
    }
   ],
   "source": [
    "with open('16_data.csv','r') as f:\n",
    "    read_data = csv.reader(f)\n",
    "    \n",
    "    for i in read_data:\n",
    "        print(i)"
   ]
  },
  {
   "cell_type": "markdown",
   "id": "258f5429-5af3-4d2b-85c1-8389aa7faf4f",
   "metadata": {},
   "source": [
    "***\n",
    "okay so csv.writer() is not iterable (common sense) and csv.reader is iterable\n",
    "***"
   ]
  },
  {
   "cell_type": "code",
   "execution_count": null,
   "id": "d7056bce-ad4d-4fd6-ac14-92f9e7f19d95",
   "metadata": {},
   "outputs": [],
   "source": []
  },
  {
   "cell_type": "code",
   "execution_count": null,
   "id": "7d6b50ed-80bb-45c8-9d12-a1e5272cb1bb",
   "metadata": {},
   "outputs": [],
   "source": []
  },
  {
   "cell_type": "markdown",
   "id": "906c38b0-93e1-48c0-9c15-acc4d300240c",
   "metadata": {},
   "source": [
    "***\n",
    "Binary Dataz\n",
    "***"
   ]
  },
  {
   "cell_type": "code",
   "execution_count": 2,
   "id": "f3367ace-0d41-4ee1-9c34-428cff39bb3c",
   "metadata": {},
   "outputs": [],
   "source": [
    "with open('17_test.bin','wb') as f:\n",
    "    f.write(b\"\\x01\\x02\\x03\")"
   ]
  },
  {
   "cell_type": "code",
   "execution_count": null,
   "id": "b3a25f74-d101-4c6a-a48f-793d0d157621",
   "metadata": {},
   "outputs": [],
   "source": [
    "with open('17_test.bin','rb') as f:\n",
    "    printf.read"
   ]
  }
 ],
 "metadata": {
  "kernelspec": {
   "display_name": "Python 3 (ipykernel)",
   "language": "python",
   "name": "python3"
  },
  "language_info": {
   "codemirror_mode": {
    "name": "ipython",
    "version": 3
   },
   "file_extension": ".py",
   "mimetype": "text/x-python",
   "name": "python",
   "nbconvert_exporter": "python",
   "pygments_lexer": "ipython3",
   "version": "3.10.8"
  }
 },
 "nbformat": 4,
 "nbformat_minor": 5
}
