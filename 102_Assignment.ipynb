{
 "cells": [
  {
   "cell_type": "code",
   "execution_count": 2,
   "metadata": {},
   "outputs": [
    {
     "data": {
      "text/html": [
       "<style>\n",
       "        .bk-notebook-logo {\n",
       "            display: block;\n",
       "            width: 20px;\n",
       "            height: 20px;\n",
       "            background-image: url(data:image/png;base64,iVBORw0KGgoAAAANSUhEUgAAABQAAAAUCAYAAACNiR0NAAAABHNCSVQICAgIfAhkiAAAAAlwSFlzAAALEgAACxIB0t1+/AAAABx0RVh0U29mdHdhcmUAQWRvYmUgRmlyZXdvcmtzIENTNui8sowAAAOkSURBVDiNjZRtaJVlGMd/1/08zzln5zjP1LWcU9N0NkN8m2CYjpgQYQXqSs0I84OLIC0hkEKoPtiH3gmKoiJDU7QpLgoLjLIQCpEsNJ1vqUOdO7ppbuec5+V+rj4ctwzd8IIbbi6u+8f1539dt3A78eXC7QizUF7gyV1fD1Yqg4JWz84yffhm0qkFqBogB9rM8tZdtwVsPUhWhGcFJngGeWrPzHm5oaMmkfEg1usvLFyc8jLRqDOMru7AyC8saQr7GG7f5fvDeH7Ej8CM66nIF+8yngt6HWaKh7k49Soy9nXurCi1o3qUbS3zWfrYeQDTB/Qj6kX6Ybhw4B+bOYoLKCC9H3Nu/leUTZ1JdRWkkn2ldcCamzrcf47KKXdAJllSlxAOkRgyHsGC/zRday5Qld9DyoM4/q/rUoy/CXh3jzOu3bHUVZeU+DEn8FInkPBFlu3+nW3Nw0mk6vCDiWg8CeJaxEwuHS3+z5RgY+YBR6V1Z1nxSOfoaPa4LASWxxdNp+VWTk7+4vzaou8v8PN+xo+KY2xsw6une2frhw05CTYOmQvsEhjhWjn0bmXPjpE1+kplmmkP3suftwTubK9Vq22qKmrBhpY4jvd5afdRA3wGjFAgcnTK2s4hY0/GPNIb0nErGMCRxWOOX64Z8RAC4oCXdklmEvcL8o0BfkNK4lUg9HTl+oPlQxdNo3Mg4Nv175e/1LDGzZen30MEjRUtmXSfiTVu1kK8W4txyV6BMKlbgk3lMwYCiusNy9fVfvvwMxv8Ynl6vxoByANLTWplvuj/nF9m2+PDtt1eiHPBr1oIfhCChQMBw6Aw0UulqTKZdfVvfG7VcfIqLG9bcldL/+pdWTLxLUy8Qq38heUIjh4XlzZxzQm19lLFlr8vdQ97rjZVOLf8nclzckbcD4wxXMidpX30sFd37Fv/GtwwhzhxGVAprjbg0gCAEeIgwCZyTV2Z1REEW8O4py0wsjeloKoMr6iCY6dP92H6Vw/oTyICIthibxjm/DfN9lVz8IqtqKYLUXfoKVMVQVVJOElGjrnnUt9T9wbgp8AyYKaGlqingHZU/uG2NTZSVqwHQTWkx9hxjkpWDaCg6Ckj5qebgBVbT3V3NNXMSiWSDdGV3hrtzla7J+duwPOToIg42ChPQOQjspnSlp1V+Gjdged7+8UN5CRAV7a5EdFNwCjEaBR27b3W890TE7g24NAP/mMDXRWrGoFPQI9ls/MWO2dWFAar/xcOIImbbpA3zgAAAABJRU5ErkJggg==);\n",
       "        }\n",
       "    </style>\n",
       "    <div>\n",
       "        <a href=\"https://bokeh.org\" target=\"_blank\" class=\"bk-notebook-logo\"></a>\n",
       "        <span id=\"a471475c-0df7-4892-989f-93e299f62fec\">Loading BokehJS ...</span>\n",
       "    </div>\n"
      ]
     },
     "metadata": {},
     "output_type": "display_data"
    },
    {
     "data": {
      "application/javascript": "(function(root) {\n  function now() {\n    return new Date();\n  }\n\n  const force = true;\n\n  if (typeof root._bokeh_onload_callbacks === \"undefined\" || force === true) {\n    root._bokeh_onload_callbacks = [];\n    root._bokeh_is_loading = undefined;\n  }\n\nconst JS_MIME_TYPE = 'application/javascript';\n  const HTML_MIME_TYPE = 'text/html';\n  const EXEC_MIME_TYPE = 'application/vnd.bokehjs_exec.v0+json';\n  const CLASS_NAME = 'output_bokeh rendered_html';\n\n  /**\n   * Render data to the DOM node\n   */\n  function render(props, node) {\n    const script = document.createElement(\"script\");\n    node.appendChild(script);\n  }\n\n  /**\n   * Handle when an output is cleared or removed\n   */\n  function handleClearOutput(event, handle) {\n    const cell = handle.cell;\n\n    const id = cell.output_area._bokeh_element_id;\n    const server_id = cell.output_area._bokeh_server_id;\n    // Clean up Bokeh references\n    if (id != null && id in Bokeh.index) {\n      Bokeh.index[id].model.document.clear();\n      delete Bokeh.index[id];\n    }\n\n    if (server_id !== undefined) {\n      // Clean up Bokeh references\n      const cmd_clean = \"from bokeh.io.state import curstate; print(curstate().uuid_to_server['\" + server_id + \"'].get_sessions()[0].document.roots[0]._id)\";\n      cell.notebook.kernel.execute(cmd_clean, {\n        iopub: {\n          output: function(msg) {\n            const id = msg.content.text.trim();\n            if (id in Bokeh.index) {\n              Bokeh.index[id].model.document.clear();\n              delete Bokeh.index[id];\n            }\n          }\n        }\n      });\n      // Destroy server and session\n      const cmd_destroy = \"import bokeh.io.notebook as ion; ion.destroy_server('\" + server_id + \"')\";\n      cell.notebook.kernel.execute(cmd_destroy);\n    }\n  }\n\n  /**\n   * Handle when a new output is added\n   */\n  function handleAddOutput(event, handle) {\n    const output_area = handle.output_area;\n    const output = handle.output;\n\n    // limit handleAddOutput to display_data with EXEC_MIME_TYPE content only\n    if ((output.output_type != \"display_data\") || (!Object.prototype.hasOwnProperty.call(output.data, EXEC_MIME_TYPE))) {\n      return\n    }\n\n    const toinsert = output_area.element.find(\".\" + CLASS_NAME.split(' ')[0]);\n\n    if (output.metadata[EXEC_MIME_TYPE][\"id\"] !== undefined) {\n      toinsert[toinsert.length - 1].firstChild.textContent = output.data[JS_MIME_TYPE];\n      // store reference to embed id on output_area\n      output_area._bokeh_element_id = output.metadata[EXEC_MIME_TYPE][\"id\"];\n    }\n    if (output.metadata[EXEC_MIME_TYPE][\"server_id\"] !== undefined) {\n      const bk_div = document.createElement(\"div\");\n      bk_div.innerHTML = output.data[HTML_MIME_TYPE];\n      const script_attrs = bk_div.children[0].attributes;\n      for (let i = 0; i < script_attrs.length; i++) {\n        toinsert[toinsert.length - 1].firstChild.setAttribute(script_attrs[i].name, script_attrs[i].value);\n        toinsert[toinsert.length - 1].firstChild.textContent = bk_div.children[0].textContent\n      }\n      // store reference to server id on output_area\n      output_area._bokeh_server_id = output.metadata[EXEC_MIME_TYPE][\"server_id\"];\n    }\n  }\n\n  function register_renderer(events, OutputArea) {\n\n    function append_mime(data, metadata, element) {\n      // create a DOM node to render to\n      const toinsert = this.create_output_subarea(\n        metadata,\n        CLASS_NAME,\n        EXEC_MIME_TYPE\n      );\n      this.keyboard_manager.register_events(toinsert);\n      // Render to node\n      const props = {data: data, metadata: metadata[EXEC_MIME_TYPE]};\n      render(props, toinsert[toinsert.length - 1]);\n      element.append(toinsert);\n      return toinsert\n    }\n\n    /* Handle when an output is cleared or removed */\n    events.on('clear_output.CodeCell', handleClearOutput);\n    events.on('delete.Cell', handleClearOutput);\n\n    /* Handle when a new output is added */\n    events.on('output_added.OutputArea', handleAddOutput);\n\n    /**\n     * Register the mime type and append_mime function with output_area\n     */\n    OutputArea.prototype.register_mime_type(EXEC_MIME_TYPE, append_mime, {\n      /* Is output safe? */\n      safe: true,\n      /* Index of renderer in `output_area.display_order` */\n      index: 0\n    });\n  }\n\n  // register the mime type if in Jupyter Notebook environment and previously unregistered\n  if (root.Jupyter !== undefined) {\n    const events = require('base/js/events');\n    const OutputArea = require('notebook/js/outputarea').OutputArea;\n\n    if (OutputArea.prototype.mime_types().indexOf(EXEC_MIME_TYPE) == -1) {\n      register_renderer(events, OutputArea);\n    }\n  }\n  if (typeof (root._bokeh_timeout) === \"undefined\" || force === true) {\n    root._bokeh_timeout = Date.now() + 5000;\n    root._bokeh_failed_load = false;\n  }\n\n  const NB_LOAD_WARNING = {'data': {'text/html':\n     \"<div style='background-color: #fdd'>\\n\"+\n     \"<p>\\n\"+\n     \"BokehJS does not appear to have successfully loaded. If loading BokehJS from CDN, this \\n\"+\n     \"may be due to a slow or bad network connection. Possible fixes:\\n\"+\n     \"</p>\\n\"+\n     \"<ul>\\n\"+\n     \"<li>re-rerun `output_notebook()` to attempt to load from CDN again, or</li>\\n\"+\n     \"<li>use INLINE resources instead, as so:</li>\\n\"+\n     \"</ul>\\n\"+\n     \"<code>\\n\"+\n     \"from bokeh.resources import INLINE\\n\"+\n     \"output_notebook(resources=INLINE)\\n\"+\n     \"</code>\\n\"+\n     \"</div>\"}};\n\n  function display_loaded() {\n    const el = document.getElementById(\"a471475c-0df7-4892-989f-93e299f62fec\");\n    if (el != null) {\n      el.textContent = \"BokehJS is loading...\";\n    }\n    if (root.Bokeh !== undefined) {\n      if (el != null) {\n        el.textContent = \"BokehJS \" + root.Bokeh.version + \" successfully loaded.\";\n      }\n    } else if (Date.now() < root._bokeh_timeout) {\n      setTimeout(display_loaded, 100)\n    }\n  }\n\n  function run_callbacks() {\n    try {\n      root._bokeh_onload_callbacks.forEach(function(callback) {\n        if (callback != null)\n          callback();\n      });\n    } finally {\n      delete root._bokeh_onload_callbacks\n    }\n    console.debug(\"Bokeh: all callbacks have finished\");\n  }\n\n  function load_libs(css_urls, js_urls, callback) {\n    if (css_urls == null) css_urls = [];\n    if (js_urls == null) js_urls = [];\n\n    root._bokeh_onload_callbacks.push(callback);\n    if (root._bokeh_is_loading > 0) {\n      console.debug(\"Bokeh: BokehJS is being loaded, scheduling callback at\", now());\n      return null;\n    }\n    if (js_urls == null || js_urls.length === 0) {\n      run_callbacks();\n      return null;\n    }\n    console.debug(\"Bokeh: BokehJS not loaded, scheduling load and callback at\", now());\n    root._bokeh_is_loading = css_urls.length + js_urls.length;\n\n    function on_load() {\n      root._bokeh_is_loading--;\n      if (root._bokeh_is_loading === 0) {\n        console.debug(\"Bokeh: all BokehJS libraries/stylesheets loaded\");\n        run_callbacks()\n      }\n    }\n\n    function on_error(url) {\n      console.error(\"failed to load \" + url);\n    }\n\n    for (let i = 0; i < css_urls.length; i++) {\n      const url = css_urls[i];\n      const element = document.createElement(\"link\");\n      element.onload = on_load;\n      element.onerror = on_error.bind(null, url);\n      element.rel = \"stylesheet\";\n      element.type = \"text/css\";\n      element.href = url;\n      console.debug(\"Bokeh: injecting link tag for BokehJS stylesheet: \", url);\n      document.body.appendChild(element);\n    }\n\n    for (let i = 0; i < js_urls.length; i++) {\n      const url = js_urls[i];\n      const element = document.createElement('script');\n      element.onload = on_load;\n      element.onerror = on_error.bind(null, url);\n      element.async = false;\n      element.src = url;\n      console.debug(\"Bokeh: injecting script tag for BokehJS library: \", url);\n      document.head.appendChild(element);\n    }\n  };\n\n  function inject_raw_css(css) {\n    const element = document.createElement(\"style\");\n    element.appendChild(document.createTextNode(css));\n    document.body.appendChild(element);\n  }\n\n  const js_urls = [\"https://cdn.bokeh.org/bokeh/release/bokeh-3.1.1.min.js\", \"https://cdn.bokeh.org/bokeh/release/bokeh-gl-3.1.1.min.js\", \"https://cdn.bokeh.org/bokeh/release/bokeh-widgets-3.1.1.min.js\", \"https://cdn.bokeh.org/bokeh/release/bokeh-tables-3.1.1.min.js\", \"https://cdn.bokeh.org/bokeh/release/bokeh-mathjax-3.1.1.min.js\"];\n  const css_urls = [];\n\n  const inline_js = [    function(Bokeh) {\n      Bokeh.set_log_level(\"info\");\n    },\nfunction(Bokeh) {\n    }\n  ];\n\n  function run_inline_js() {\n    if (root.Bokeh !== undefined || force === true) {\n          for (let i = 0; i < inline_js.length; i++) {\n      inline_js[i].call(root, root.Bokeh);\n    }\nif (force === true) {\n        display_loaded();\n      }} else if (Date.now() < root._bokeh_timeout) {\n      setTimeout(run_inline_js, 100);\n    } else if (!root._bokeh_failed_load) {\n      console.log(\"Bokeh: BokehJS failed to load within specified timeout.\");\n      root._bokeh_failed_load = true;\n    } else if (force !== true) {\n      const cell = $(document.getElementById(\"a471475c-0df7-4892-989f-93e299f62fec\")).parents('.cell').data().cell;\n      cell.output_area.append_execute_result(NB_LOAD_WARNING)\n    }\n  }\n\n  if (root._bokeh_is_loading === 0) {\n    console.debug(\"Bokeh: BokehJS loaded, going straight to plotting\");\n    run_inline_js();\n  } else {\n    load_libs(css_urls, js_urls, function() {\n      console.debug(\"Bokeh: BokehJS plotting callback run at\", now());\n      run_inline_js();\n    });\n  }\n}(window));",
      "application/vnd.bokehjs_load.v0+json": ""
     },
     "metadata": {},
     "output_type": "display_data"
    }
   ],
   "source": [
    "import bokeh.io \n",
    "import bokeh.plotting\n",
    "bokeh.io.output_notebook()\n",
    "from bokeh.plotting import figure, output_file, show"
   ]
  },
  {
   "attachments": {},
   "cell_type": "markdown",
   "metadata": {},
   "source": [
    "***\n",
    "Q1. How can you create a Bokeh plot using Python code?"
   ]
  },
  {
   "cell_type": "code",
   "execution_count": 3,
   "metadata": {},
   "outputs": [
    {
     "data": {
      "text/html": [
       "\n",
       "  <div id=\"dd4f038d-eb08-4320-b41e-164f4a582b3a\" data-root-id=\"p1001\" style=\"display: contents;\"></div>\n"
      ]
     },
     "metadata": {},
     "output_type": "display_data"
    },
    {
     "data": {
      "application/javascript": "(function(root) {\n  function embed_document(root) {\n  const docs_json = {\"52dae2eb-1c5f-4bf3-968f-4765ad40b746\":{\"version\":\"3.1.1\",\"title\":\"Bokeh Application\",\"defs\":[],\"roots\":[{\"type\":\"object\",\"name\":\"Figure\",\"id\":\"p1001\",\"attributes\":{\"x_range\":{\"type\":\"object\",\"name\":\"DataRange1d\",\"id\":\"p1002\"},\"y_range\":{\"type\":\"object\",\"name\":\"DataRange1d\",\"id\":\"p1003\"},\"x_scale\":{\"type\":\"object\",\"name\":\"LinearScale\",\"id\":\"p1015\"},\"y_scale\":{\"type\":\"object\",\"name\":\"LinearScale\",\"id\":\"p1017\"},\"title\":{\"type\":\"object\",\"name\":\"Title\",\"id\":\"p1004\",\"attributes\":{\"text\":\"Solution of Q1\"}},\"renderers\":[{\"type\":\"object\",\"name\":\"GlyphRenderer\",\"id\":\"p1054\",\"attributes\":{\"data_source\":{\"type\":\"object\",\"name\":\"ColumnDataSource\",\"id\":\"p1048\",\"attributes\":{\"selected\":{\"type\":\"object\",\"name\":\"Selection\",\"id\":\"p1049\",\"attributes\":{\"indices\":[],\"line_indices\":[]}},\"selection_policy\":{\"type\":\"object\",\"name\":\"UnionRenderers\",\"id\":\"p1050\"},\"data\":{\"type\":\"map\",\"entries\":[[\"x\",[10,30,90,120]],[\"y\",[34,56,89,250]]]}}},\"view\":{\"type\":\"object\",\"name\":\"CDSView\",\"id\":\"p1055\",\"attributes\":{\"filter\":{\"type\":\"object\",\"name\":\"AllIndices\",\"id\":\"p1056\"}}},\"glyph\":{\"type\":\"object\",\"name\":\"Line\",\"id\":\"p1051\",\"attributes\":{\"x\":{\"type\":\"field\",\"field\":\"x\"},\"y\":{\"type\":\"field\",\"field\":\"y\"},\"line_color\":\"#1f77b4\"}},\"nonselection_glyph\":{\"type\":\"object\",\"name\":\"Line\",\"id\":\"p1052\",\"attributes\":{\"x\":{\"type\":\"field\",\"field\":\"x\"},\"y\":{\"type\":\"field\",\"field\":\"y\"},\"line_color\":\"#1f77b4\",\"line_alpha\":0.1}},\"muted_glyph\":{\"type\":\"object\",\"name\":\"Line\",\"id\":\"p1053\",\"attributes\":{\"x\":{\"type\":\"field\",\"field\":\"x\"},\"y\":{\"type\":\"field\",\"field\":\"y\"},\"line_color\":\"#1f77b4\",\"line_alpha\":0.2}}}}],\"toolbar\":{\"type\":\"object\",\"name\":\"Toolbar\",\"id\":\"p1010\",\"attributes\":{\"tools\":[{\"type\":\"object\",\"name\":\"PanTool\",\"id\":\"p1033\"},{\"type\":\"object\",\"name\":\"WheelZoomTool\",\"id\":\"p1034\"},{\"type\":\"object\",\"name\":\"BoxZoomTool\",\"id\":\"p1035\",\"attributes\":{\"overlay\":{\"type\":\"object\",\"name\":\"BoxAnnotation\",\"id\":\"p1036\",\"attributes\":{\"syncable\":false,\"level\":\"overlay\",\"visible\":false,\"left_units\":\"canvas\",\"right_units\":\"canvas\",\"bottom_units\":\"canvas\",\"top_units\":\"canvas\",\"line_color\":\"black\",\"line_alpha\":1.0,\"line_width\":2,\"line_dash\":[4,4],\"fill_color\":\"lightgrey\",\"fill_alpha\":0.5}}}},{\"type\":\"object\",\"name\":\"SaveTool\",\"id\":\"p1037\"},{\"type\":\"object\",\"name\":\"ResetTool\",\"id\":\"p1038\"},{\"type\":\"object\",\"name\":\"HelpTool\",\"id\":\"p1039\"}]}},\"left\":[{\"type\":\"object\",\"name\":\"LinearAxis\",\"id\":\"p1026\",\"attributes\":{\"ticker\":{\"type\":\"object\",\"name\":\"BasicTicker\",\"id\":\"p1028\",\"attributes\":{\"mantissas\":[1,2,5]}},\"formatter\":{\"type\":\"object\",\"name\":\"BasicTickFormatter\",\"id\":\"p1027\"},\"axis_label\":\"This is Y-axis\",\"major_label_policy\":{\"type\":\"object\",\"name\":\"AllLabels\",\"id\":\"p1029\"}}}],\"below\":[{\"type\":\"object\",\"name\":\"LinearAxis\",\"id\":\"p1019\",\"attributes\":{\"ticker\":{\"type\":\"object\",\"name\":\"BasicTicker\",\"id\":\"p1021\",\"attributes\":{\"mantissas\":[1,2,5]}},\"formatter\":{\"type\":\"object\",\"name\":\"BasicTickFormatter\",\"id\":\"p1020\"},\"axis_label\":\"This is X-axis\",\"major_label_policy\":{\"type\":\"object\",\"name\":\"AllLabels\",\"id\":\"p1022\"}}}],\"center\":[{\"type\":\"object\",\"name\":\"Grid\",\"id\":\"p1025\",\"attributes\":{\"axis\":{\"id\":\"p1019\"}}},{\"type\":\"object\",\"name\":\"Grid\",\"id\":\"p1032\",\"attributes\":{\"dimension\":1,\"axis\":{\"id\":\"p1026\"}}},{\"type\":\"object\",\"name\":\"Legend\",\"id\":\"p1057\",\"attributes\":{\"items\":[{\"type\":\"object\",\"name\":\"LegendItem\",\"id\":\"p1058\",\"attributes\":{\"label\":{\"type\":\"value\",\"value\":\"This is legend label\"},\"renderers\":[{\"id\":\"p1054\"}]}}]}}]}}],\"callbacks\":{\"type\":\"map\"}}};\n  const render_items = [{\"docid\":\"52dae2eb-1c5f-4bf3-968f-4765ad40b746\",\"roots\":{\"p1001\":\"dd4f038d-eb08-4320-b41e-164f4a582b3a\"},\"root_ids\":[\"p1001\"]}];\n  root.Bokeh.embed.embed_items_notebook(docs_json, render_items);\n  }\n  if (root.Bokeh !== undefined) {\n    embed_document(root);\n  } else {\n    let attempts = 0;\n    const timer = setInterval(function(root) {\n      if (root.Bokeh !== undefined) {\n        clearInterval(timer);\n        embed_document(root);\n      } else {\n        attempts++;\n        if (attempts > 100) {\n          clearInterval(timer);\n          console.log(\"Bokeh: ERROR: Unable to run BokehJS code because BokehJS library is missing\");\n        }\n      }\n    }, 10, root)\n  }\n})(window);",
      "application/vnd.bokehjs_exec.v0+json": ""
     },
     "metadata": {
      "application/vnd.bokehjs_exec.v0+json": {
       "id": "p1001"
      }
     },
     "output_type": "display_data"
    }
   ],
   "source": [
    "x = [10, 30, 90, 120]\n",
    "y = [34, 56, 89, 250]\n",
    "output_file(\"103_assignment_5th_March.html\")\n",
    "p = figure(title = \"Solution of Q1\")\n",
    "p.xaxis.axis_label = \"This is X-axis\"\n",
    "p.yaxis.axis_label = \"This is Y-axis\"\n",
    "p.line(x, y, legend_label=\"This is legend label\")\n",
    "show(p)"
   ]
  },
  {
   "attachments": {},
   "cell_type": "markdown",
   "metadata": {},
   "source": [
    "***\n",
    "Q2. What are glyphs in Bokeh, and how can you add them to a Bokeh plot? Explain with an example."
   ]
  },
  {
   "attachments": {},
   "cell_type": "markdown",
   "metadata": {},
   "source": [
    "Interviewer: \"What are glyphs in Bokeh?\"\n",
    "\n",
    "Candidate: \"In Bokeh, glyphs are visual markers used to represent data points on a plot. They are fundamental building blocks for creating visualizations. Glyphs can be simple shapes such as circles, squares, or lines, or more complex shapes like wedges or patches. Each glyph represents a single data point and can be customized with various attributes such as size, color, and transparency to convey additional information.\"\n",
    "\n",
    "Interviewer: \"That's correct. Now, can you provide an example of how to add glyphs to a Bokeh plot?\"\n",
    "\n",
    "Candidate: \"Certainly. Let's say we want to create a scatter plot using circles as glyphs to represent data points. Here's an example code snippet to achieve that:\"\n",
    "\n",
    "```python\n",
    "from bokeh.plotting import figure, output_file, show\n",
    "\n",
    "# Create data\n",
    "x = [1, 2, 3, 4, 5]\n",
    "y = [6, 7, 2, 4, 5]\n",
    "\n",
    "# Specify output file\n",
    "output_file(\"scatter_plot.html\")\n",
    "\n",
    "# Create a figure object\n",
    "p = figure(title=\"Scatter Plot Example\", x_axis_label=\"X\", y_axis_label=\"Y\")\n",
    "\n",
    "# Add glyphs to the figure\n",
    "p.circle(x, y, size=10, color=\"blue\", alpha=0.5)\n",
    "\n",
    "# Display the plot\n",
    "show(p)\n",
    "```\n",
    "\n",
    "Interviewer: \"Great! This code demonstrates a scatter plot with circles as glyphs. Now, let's discuss some follow-up questions. Can you explain the role of the `x` and `y` variables in the code?\"\n",
    "\n",
    "Candidate: \"Certainly. In this example, the `x` and `y` variables are lists that contain the coordinates of the data points we want to plot. Each value in the `x` list corresponds to the x-coordinate of a data point, and each value in the `y` list corresponds to the y-coordinate of a data point. In our example, we have five data points with x-values [1, 2, 3, 4, 5] and y-values [6, 7, 2, 4, 5].\"\n",
    "\n",
    "Interviewer: \"Good explanation. Now, can you explain the purpose of the `size`, `color`, and `alpha` parameters in the `p.circle()` function?\"\n",
    "\n",
    "Candidate: \"Certainly. The `size` parameter allows us to specify the size of the circle glyphs. In this example, we set the size to 10, meaning each circle will have a diameter of 10 units on the plot. The `color` parameter determines the color of the glyphs. Here, we set it to 'blue', so the circles will be blue. Lastly, the `alpha` parameter controls the transparency of the glyphs. A value of 0.5 means the circles will be semi-transparent, allowing us to see underlying data or other glyphs if present.\"\n",
    "\n",
    "Interviewer: \"Great explanation. Now, suppose we want to add a hover tooltip to display additional information when hovering over a glyph. How would you modify the code to achieve that?\"\n",
    "\n",
    "Candidate: \"To add a hover tooltip, we can use the `HoverTool` class provided by Bokeh. Here's an example modification to the code:\"\n",
    "\n",
    "```python\n",
    "from bokeh.models import HoverTool\n",
    "\n",
    "# Create a figure object\n",
    "p = figure(title=\"Scatter Plot Example\", x_axis_label=\"X\", y_axis_label=\"Y\")\n",
    "\n",
    "# Add glyphs to the figure\n",
    "circle_glyph = p.circle(x, y, size=10, color=\"blue\", alpha=0.5)\n",
    "\n",
    "# Add a hover tooltip to the circle glyphs\n",
    "hover_tool = HoverTool(renderers=[circle_glyph], tooltips=[(\"X\", \"@x\"),\n",
    "\n",
    " (\"Y\", \"@y\")])\n",
    "p.add_tools(hover_tool)\n",
    "\n",
    "# Display the plot\n",
    "show(p)\n",
    "```\n",
    "\n",
    "In this modified code, we import the `HoverTool` class from `bokeh.models` and create an instance of it. We specify the `renderers` parameter as `[circle_glyph]` to associate the hover tooltip with the circle glyphs. The `tooltips` parameter is a list of tuples defining the information to display when hovering over the glyphs. In this case, we display the x and y coordinates of the data points.\"\n",
    "\n",
    "Interviewer: \"Excellent solution. You provided a clear explanation and implemented the hover tooltip feature effectively. Well done!\"\n",
    "\n",
    "Candidate: \"Thank you! I'm glad I could provide a satisfactory solution. If you have any further questions or if there's anything else you'd like me to explain, please let me know.\""
   ]
  },
  {
   "attachments": {},
   "cell_type": "markdown",
   "metadata": {},
   "source": [
    "***\n",
    "Q3. How can you customize the appearance of a Bokeh plot, including the axes, title, and legend?"
   ]
  },
  {
   "attachments": {},
   "cell_type": "markdown",
   "metadata": {},
   "source": [
    "To customize the appearance of a Bokeh plot, including the axes, title, and legend, you can use various attributes and methods provided by the `figure` object. Here are some ways to achieve customization:\n",
    "\n",
    "1. Axes customization:\n",
    "   - To set the labels for the x-axis and y-axis, you can use the `x_axis_label` and `y_axis_label` attributes of the `figure` object.\n",
    "   - To modify the range or scaling of the axes, you can use the `x_range` and `y_range` attributes. For example, to set a specific range, you can assign a tuple of `(start, end)` values to these attributes.\n",
    "   - To control the appearance of tick marks, tick labels, and grid lines, you can access the axis objects using `p.xaxis` and `p.yaxis`, and then customize their properties. For example, you can set the font size, color, or visibility of the tick labels using attributes like `major_label_text_font_size`, `major_label_text_color`, or `major_tick_line_color`.\n",
    "\n",
    "2. Title customization:\n",
    "   - To set the title of the plot, you can use the `title` attribute of the `figure` object. Assigning a string value to this attribute will set the title text.\n",
    "   - You can further customize the appearance of the title by accessing the title object using `p.title`. For example, you can adjust the font size, color, or alignment of the title using attributes like `text_font_size`, `text_color`, or `align`.\n",
    "\n",
    "3. Legend customization:\n",
    "   - To add a legend to the plot, you can use the `legend` attribute of the `figure` object. Assigning a string value to this attribute will create a legend with that label.\n",
    "   - You can also customize the position of the legend using the `legend.location` attribute. Common values include `'top_left'`, `'top_right'`, `'bottom_left'`, and `'bottom_right'`.\n",
    "   - To modify the appearance of the legend, you can access the legend object using `p.legend` and customize its properties. For example, you can set the font size, color, or background color using attributes like `label_text_font_size`, `label_text_color`, or `background_fill_color`.\n",
    "\n",
    "These are just a few examples of how you can customize the appearance of a Bokeh plot. Bokeh provides a wide range of attributes and methods to control various aspects of the plot's appearance, allowing you to create visually appealing and informative visualizations."
   ]
  },
  {
   "attachments": {},
   "cell_type": "markdown",
   "metadata": {},
   "source": [
    "***\n",
    "Q4. What is a Bokeh server, and how can you use it to create interactive plots that can be updated in\n",
    "real time?"
   ]
  },
  {
   "attachments": {},
   "cell_type": "markdown",
   "metadata": {},
   "source": [
    "A Bokeh server is a Python process that allows you to create and serve interactive Bokeh plots and applications. It provides a way to create web-based interactive visualizations that can be updated in real-time, enabling dynamic and responsive user experiences. Here's an explanation of how you can use the Bokeh server to create such interactive plots:\n",
    "\n",
    "1. Creating a Bokeh server application:\n",
    "   - To use the Bokeh server, you need to define a Bokeh application, which is a Python function or class that creates and updates the plots and widgets.\n",
    "   - Within the application, you can create interactive plots using Bokeh's plotting API and add interactive widgets like sliders, buttons, or dropdowns.\n",
    "   - The application function or class should specify how the plot or widgets should react to user interactions or data updates.\n",
    "\n",
    "2. Running the Bokeh server:\n",
    "   - Once you have defined your Bokeh application, you can start the Bokeh server using the `bokeh serve` command in the terminal.\n",
    "   - The server will start running and listen for incoming connections on a specified port (e.g., `localhost:5006` by default).\n",
    "   - The server automatically handles communication between the client's web browser and the Python process running the Bokeh application.\n",
    "\n",
    "3. Viewing and interacting with the plot:\n",
    "   - You can access the interactive plot by opening a web browser and navigating to the appropriate URL (e.g., `localhost:5006/myapp` if your application is named `myapp`).\n",
    "   - The plot and widgets will be rendered in the browser, and any interactions or updates specified in the application will be reflected in real-time.\n",
    "   - Users can interact with the plot by interacting with the widgets, such as dragging sliders, clicking buttons, or selecting options from dropdowns.\n",
    "   - As users interact with the plot, the Bokeh server processes these events and triggers updates to the plot accordingly, allowing for dynamic visualizations.\n",
    "\n",
    "By using the Bokeh server, you can create web-based interactive plots that can respond to user input or data changes in real-time, providing a highly interactive and engaging data visualization experience."
   ]
  },
  {
   "attachments": {},
   "cell_type": "markdown",
   "metadata": {},
   "source": [
    "***\n",
    "Q5. How can you embed a Bokeh plot into a web page or dashboard using Flask or Django?\n"
   ]
  },
  {
   "attachments": {},
   "cell_type": "markdown",
   "metadata": {},
   "source": [
    "To embed a Bokeh plot into a web page or dashboard using Flask or Django, you can follow these general steps:\n",
    "\n",
    "1. Set up your Flask or Django project:\n",
    "   - Create a new Flask or Django project or use an existing one.\n",
    "   - Install the necessary dependencies, including Bokeh and any additional libraries required by your project.\n",
    "\n",
    "2. Create a Bokeh plot:\n",
    "   - Use Bokeh's plotting API to create the desired plot or visualization.\n",
    "   - Customize the plot's appearance, add glyphs, configure axes, titles, legends, and any other desired features.\n",
    "\n",
    "3. Serve the Bokeh plot:\n",
    "   - With Flask:\n",
    "     - In your Flask application, create a route that will render the web page or template where you want to embed the Bokeh plot.\n",
    "     - Inside the route, create the Bokeh plot and generate the necessary JavaScript and HTML code.\n",
    "     - Pass the JavaScript and HTML code to the template context and render the template.\n",
    "     - The web page will now display the embedded Bokeh plot when accessed through the specified route.\n",
    "\n",
    "   - With Django:\n",
    "     - In your Django project, create a view function or class that will handle the request and generate the web page or template.\n",
    "     - Inside the view function or class, create the Bokeh plot and generate the necessary JavaScript and HTML code.\n",
    "     - Pass the JavaScript and HTML code to the template context and render the template.\n",
    "     - The web page will now display the embedded Bokeh plot when accessed through the specified URL pattern.\n",
    "\n",
    "4. Configure interactions and updates (optional):\n",
    "   - If you want to add interactivity or real-time updates to the embedded Bokeh plot, you can define JavaScript callbacks or use Bokeh's server capabilities to handle user interactions or data changes.\n",
    "   - You can define these interactions within the JavaScript code generated for the plot or by using the Bokeh server to serve the plot and handle callbacks.\n",
    "\n",
    "5. Run the Flask or Django server:\n",
    "   - Start the Flask or Django server to run your application.\n",
    "   - Access the web page or dashboard in a web browser to view and interact with the embedded Bokeh plot.\n",
    "\n",
    "By following these steps, you can embed a Bokeh plot into a web page or dashboard using Flask or Django, allowing you to combine the power of Bokeh's interactive visualizations with the web development frameworks provided by Flask or Django."
   ]
  },
  {
   "attachments": {},
   "cell_type": "markdown",
   "metadata": {},
   "source": [
    "***"
   ]
  }
 ],
 "metadata": {
  "kernelspec": {
   "display_name": "Python 3",
   "language": "python",
   "name": "python3"
  },
  "language_info": {
   "codemirror_mode": {
    "name": "ipython",
    "version": 3
   },
   "file_extension": ".py",
   "mimetype": "text/x-python",
   "name": "python",
   "nbconvert_exporter": "python",
   "pygments_lexer": "ipython3",
   "version": "3.10.2"
  },
  "orig_nbformat": 4
 },
 "nbformat": 4,
 "nbformat_minor": 2
}
