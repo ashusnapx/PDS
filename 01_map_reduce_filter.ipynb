{
 "cells": [
  {
   "cell_type": "code",
   "execution_count": 1,
   "id": "8656e528-2959-41fe-bb73-403bb7ed2aac",
   "metadata": {},
   "outputs": [],
   "source": [
    "l = [1,2,3,4,5]"
   ]
  },
  {
   "cell_type": "markdown",
   "id": "a56bf55d-cb92-4c2b-a3bc-61122d3078c0",
   "metadata": {},
   "source": [
    "Square each value in list"
   ]
  },
  {
   "cell_type": "code",
   "execution_count": 4,
   "id": "f4203db1-bdf8-4883-a610-d52399fd06f3",
   "metadata": {},
   "outputs": [],
   "source": [
    "l1 = []\n",
    "def sq(l):\n",
    "    for i in l:\n",
    "      l1.append(i**2)\n",
    "    print(l1)"
   ]
  },
  {
   "cell_type": "code",
   "execution_count": 5,
   "id": "872598f0-f13e-4d0b-940e-d5fda6ebf473",
   "metadata": {},
   "outputs": [
    {
     "name": "stdout",
     "output_type": "stream",
     "text": [
      "[1, 4, 9, 16, 25]\n"
     ]
    }
   ],
   "source": [
    "sq(l)"
   ]
  },
  {
   "cell_type": "code",
   "execution_count": 14,
   "id": "cff416c9-0687-4d12-972a-75cd7ceef3bb",
   "metadata": {},
   "outputs": [],
   "source": [
    "# Method 2 with generator functions\n",
    "def sq2(l):\n",
    "    for i in l:\n",
    "        yield i**2"
   ]
  },
  {
   "cell_type": "code",
   "execution_count": 15,
   "id": "18c42ed6-8d6b-49b6-990d-bd07f9ad4835",
   "metadata": {},
   "outputs": [],
   "source": [
    "c = sq2(l)"
   ]
  },
  {
   "cell_type": "code",
   "execution_count": 16,
   "id": "fcda47e4-fdaa-4bb8-b492-47d846c3976b",
   "metadata": {},
   "outputs": [
    {
     "name": "stdout",
     "output_type": "stream",
     "text": [
      "1\n",
      "4\n",
      "9\n",
      "16\n",
      "25\n"
     ]
    }
   ],
   "source": [
    "for i in c:\n",
    "    print(i)"
   ]
  },
  {
   "cell_type": "code",
   "execution_count": 17,
   "id": "0b7de82b-c26b-4d1a-af1d-63b1f01a2679",
   "metadata": {},
   "outputs": [
    {
     "name": "stdout",
     "output_type": "stream",
     "text": [
      "hello\n"
     ]
    }
   ],
   "source": [
    "print(\"hello\")"
   ]
  },
  {
   "cell_type": "code",
   "execution_count": 18,
   "id": "641a37cc-6146-4061-bac2-adc0964e3c80",
   "metadata": {},
   "outputs": [],
   "source": [
    "def sq(n):\n",
    "    return n**2"
   ]
  },
  {
   "cell_type": "code",
   "execution_count": 19,
   "id": "64404b79-e643-4858-b1d0-bd1f6aae6205",
   "metadata": {},
   "outputs": [],
   "source": [
    "l3 = [7,8,9,6]"
   ]
  },
  {
   "cell_type": "code",
   "execution_count": 20,
   "id": "3dd5ba4c-eaf5-4939-a9c8-ca1722f06cea",
   "metadata": {},
   "outputs": [
    {
     "data": {
      "text/plain": [
       "<map at 0x7ff789d1f250>"
      ]
     },
     "execution_count": 20,
     "metadata": {},
     "output_type": "execute_result"
    }
   ],
   "source": [
    "map(sq,l3)"
   ]
  },
  {
   "cell_type": "code",
   "execution_count": 21,
   "id": "7da94641-ff1f-4bf0-b73f-c7c89348dfc9",
   "metadata": {},
   "outputs": [
    {
     "data": {
      "text/plain": [
       "[49, 64, 81, 36]"
      ]
     },
     "execution_count": 21,
     "metadata": {},
     "output_type": "execute_result"
    }
   ],
   "source": [
    "list(map(sq,l3))"
   ]
  },
  {
   "cell_type": "code",
   "execution_count": 22,
   "id": "a34883b1-274a-4bfa-a20c-68bc1fe7a88f",
   "metadata": {},
   "outputs": [
    {
     "data": {
      "text/plain": [
       "[49, 64, 81, 36]"
      ]
     },
     "execution_count": 22,
     "metadata": {},
     "output_type": "execute_result"
    }
   ],
   "source": [
    "list(map(lambda x: x**2,l3))"
   ]
  },
  {
   "cell_type": "code",
   "execution_count": 1,
   "id": "ba4fe285-763a-43e4-b376-0b0f5c239213",
   "metadata": {},
   "outputs": [],
   "source": [
    "l1 = [1,2,3,4,5]\n",
    "l2 = [6,7,8,9,10]"
   ]
  },
  {
   "cell_type": "code",
   "execution_count": 3,
   "id": "e2832096-7c15-46c0-8c51-543d69047da6",
   "metadata": {},
   "outputs": [
    {
     "data": {
      "text/plain": [
       "[7, 9, 11, 13, 15]"
      ]
     },
     "execution_count": 3,
     "metadata": {},
     "output_type": "execute_result"
    }
   ],
   "source": [
    "list(map(lambda x,y : x+y,l1,l2))"
   ]
  },
  {
   "cell_type": "code",
   "execution_count": 6,
   "id": "4a39981b-38d8-4b3b-a7b6-f30d8709c036",
   "metadata": {},
   "outputs": [],
   "source": [
    "l3 = ['','l','v',' ']\n",
    "l4 = ['i','o','e','u']"
   ]
  },
  {
   "cell_type": "code",
   "execution_count": 7,
   "id": "e70972c4-6cc7-4a2d-ba85-ec1b8463d890",
   "metadata": {},
   "outputs": [
    {
     "data": {
      "text/plain": [
       "['i', 'lo', 've', ' u']"
      ]
     },
     "execution_count": 7,
     "metadata": {},
     "output_type": "execute_result"
    }
   ],
   "source": [
    "list(map(lambda c,d : c + d, l3,l4))"
   ]
  },
  {
   "cell_type": "code",
   "execution_count": 8,
   "id": "e0d786bb-1c0b-47aa-9c8d-1c9fc129e4a2",
   "metadata": {},
   "outputs": [],
   "source": [
    "def add_two(l1,l2):\n",
    "    return l1 + l2"
   ]
  },
  {
   "cell_type": "code",
   "execution_count": 9,
   "id": "eeecf217-66aa-4ced-94cd-0aba75409861",
   "metadata": {},
   "outputs": [
    {
     "data": {
      "text/plain": [
       "[7, 9, 11, 13, 15]"
      ]
     },
     "execution_count": 9,
     "metadata": {},
     "output_type": "execute_result"
    }
   ],
   "source": [
    "list(map(add_two,l1,l2))"
   ]
  },
  {
   "cell_type": "code",
   "execution_count": 10,
   "id": "0ddd43e5-7d1c-437c-9467-89cb52f16c19",
   "metadata": {},
   "outputs": [
    {
     "data": {
      "text/plain": [
       "['i', 'lo', 've', ' u']"
      ]
     },
     "execution_count": 10,
     "metadata": {},
     "output_type": "execute_result"
    }
   ],
   "source": [
    "list(map(add_two,l3,l4))"
   ]
  },
  {
   "cell_type": "code",
   "execution_count": 11,
   "id": "323b1134-af2d-45ac-8f18-a41c1fade75b",
   "metadata": {},
   "outputs": [],
   "source": [
    "s = \"youtube\""
   ]
  },
  {
   "cell_type": "code",
   "execution_count": 12,
   "id": "d6cabd22-f80a-438c-9f2b-ac09ee1a8122",
   "metadata": {},
   "outputs": [
    {
     "data": {
      "text/plain": [
       "['Y', 'O', 'U', 'T', 'U', 'B', 'E']"
      ]
     },
     "execution_count": 12,
     "metadata": {},
     "output_type": "execute_result"
    }
   ],
   "source": [
    "list(map(lambda s : s.upper(),s))"
   ]
  },
  {
   "cell_type": "markdown",
   "id": "99fc77d0-d5e0-4170-b48f-4573c72483c8",
   "metadata": {},
   "source": [
    " Reduce Function"
   ]
  },
  {
   "cell_type": "code",
   "execution_count": 13,
   "id": "6d77acfa-cb5d-4efc-ae64-493785130b25",
   "metadata": {},
   "outputs": [],
   "source": [
    "from functools import reduce"
   ]
  },
  {
   "cell_type": "code",
   "execution_count": 14,
   "id": "6b8055d0-f1e0-411e-8bb5-d6438325c0dc",
   "metadata": {},
   "outputs": [],
   "source": [
    "l = [1,2,3,4,5,6]"
   ]
  },
  {
   "cell_type": "code",
   "execution_count": 15,
   "id": "59311cc9-b4dc-4c17-a523-eb642eb47a59",
   "metadata": {},
   "outputs": [
    {
     "data": {
      "text/plain": [
       "21"
      ]
     },
     "execution_count": 15,
     "metadata": {},
     "output_type": "execute_result"
    }
   ],
   "source": [
    "reduce(lambda x,y : x + y,l)"
   ]
  },
  {
   "cell_type": "markdown",
   "id": "59f65011-d235-4b1d-981d-0684b36b835d",
   "metadata": {},
   "source": [
    "Reduce function cannot have more than 2 values"
   ]
  },
  {
   "cell_type": "code",
   "execution_count": 16,
   "id": "3976628f-c5e1-4be3-b435-614c8b952043",
   "metadata": {},
   "outputs": [],
   "source": [
    "l3 = [12,3,2,89]"
   ]
  },
  {
   "cell_type": "code",
   "execution_count": 17,
   "id": "b5a910ca-95dc-4b5f-8d3d-5955eb3a7992",
   "metadata": {},
   "outputs": [
    {
     "data": {
      "text/plain": [
       "89"
      ]
     },
     "execution_count": 17,
     "metadata": {},
     "output_type": "execute_result"
    }
   ],
   "source": [
    "reduce(lambda x,y : x if x >y else y ,l3)"
   ]
  },
  {
   "cell_type": "markdown",
   "id": "ad590f4f-f516-4b16-bc1c-6a8e8c575b2e",
   "metadata": {},
   "source": [
    "Filter functions "
   ]
  },
  {
   "cell_type": "code",
   "execution_count": 18,
   "id": "85ef2b5c-0cd8-4739-99be-f9dad31e622c",
   "metadata": {},
   "outputs": [
    {
     "data": {
      "text/plain": [
       "[1, 2, 3, 4, 5]"
      ]
     },
     "execution_count": 18,
     "metadata": {},
     "output_type": "execute_result"
    }
   ],
   "source": [
    "l1"
   ]
  },
  {
   "cell_type": "code",
   "execution_count": 21,
   "id": "dddc40e3-ed56-491a-a690-5f97bd4eed2c",
   "metadata": {},
   "outputs": [
    {
     "ename": "TypeError",
     "evalue": "<lambda>() takes 1 positional argument but 2 were given",
     "output_type": "error",
     "traceback": [
      "\u001b[0;31m---------------------------------------------------------------------------\u001b[0m",
      "\u001b[0;31mTypeError\u001b[0m                                 Traceback (most recent call last)",
      "Cell \u001b[0;32mIn[21], line 1\u001b[0m\n\u001b[0;32m----> 1\u001b[0m \u001b[43mreduce\u001b[49m\u001b[43m(\u001b[49m\u001b[38;5;28;43;01mlambda\u001b[39;49;00m\u001b[43m \u001b[49m\u001b[43mx\u001b[49m\u001b[43m \u001b[49m\u001b[43m:\u001b[49m\u001b[43m \u001b[49m\u001b[43mx\u001b[49m\u001b[43m \u001b[49m\u001b[38;5;241;43m%\u001b[39;49m\u001b[43m \u001b[49m\u001b[38;5;241;43m2\u001b[39;49m\u001b[43m \u001b[49m\u001b[38;5;241;43m==\u001b[39;49m\u001b[43m \u001b[49m\u001b[38;5;241;43m0\u001b[39;49m\u001b[43m,\u001b[49m\u001b[43ml1\u001b[49m\u001b[43m)\u001b[49m\n",
      "\u001b[0;31mTypeError\u001b[0m: <lambda>() takes 1 positional argument but 2 were given"
     ]
    }
   ],
   "source": [
    "reduce(lambda x : x % 2 == 0,l1)"
   ]
  },
  {
   "cell_type": "code",
   "execution_count": 22,
   "id": "2a33bd17-51e9-4f9b-921b-5d85c0ca21db",
   "metadata": {},
   "outputs": [
    {
     "data": {
      "text/plain": [
       "[2, 4]"
      ]
     },
     "execution_count": 22,
     "metadata": {},
     "output_type": "execute_result"
    }
   ],
   "source": [
    "list(filter(lambda x : x % 2 == 0,l1))"
   ]
  },
  {
   "cell_type": "code",
   "execution_count": 23,
   "id": "044d3b15-2196-45b8-b40c-cdd4e0ada11e",
   "metadata": {},
   "outputs": [
    {
     "data": {
      "text/plain": [
       "[1, 3, 5]"
      ]
     },
     "execution_count": 23,
     "metadata": {},
     "output_type": "execute_result"
    }
   ],
   "source": [
    "list(filter(lambda x : x % 2 != 0,l1))"
   ]
  },
  {
   "cell_type": "code",
   "execution_count": 24,
   "id": "82a69b32-5ac0-4e92-9b1b-1ecd5fbe2f18",
   "metadata": {},
   "outputs": [],
   "source": [
    "l4 = [-3,-9,3,9,8,-4]"
   ]
  },
  {
   "cell_type": "code",
   "execution_count": 25,
   "id": "77a1716d-6411-43a4-8226-6b76bb95e10e",
   "metadata": {},
   "outputs": [
    {
     "data": {
      "text/plain": [
       "[3, 9, 8]"
      ]
     },
     "execution_count": 25,
     "metadata": {},
     "output_type": "execute_result"
    }
   ],
   "source": [
    "list(filter(lambda x : x >= 0, l4))"
   ]
  },
  {
   "cell_type": "code",
   "execution_count": 26,
   "id": "4b457a07-5d67-477d-a26e-ee28c22bb4ae",
   "metadata": {},
   "outputs": [
    {
     "data": {
      "text/plain": [
       "[-3, -9, -4]"
      ]
     },
     "execution_count": 26,
     "metadata": {},
     "output_type": "execute_result"
    }
   ],
   "source": [
    "list(filter(lambda x : x < 0, l4))"
   ]
  },
  {
   "cell_type": "code",
   "execution_count": null,
   "id": "abb31593-9797-4666-b3b6-7927c3f19378",
   "metadata": {},
   "outputs": [],
   "source": []
  }
 ],
 "metadata": {
  "kernelspec": {
   "display_name": "Python 3 (ipykernel)",
   "language": "python",
   "name": "python3"
  },
  "language_info": {
   "codemirror_mode": {
    "name": "ipython",
    "version": 3
   },
   "file_extension": ".py",
   "mimetype": "text/x-python",
   "name": "python",
   "nbconvert_exporter": "python",
   "pygments_lexer": "ipython3",
   "version": "3.10.8"
  }
 },
 "nbformat": 4,
 "nbformat_minor": 5
}
