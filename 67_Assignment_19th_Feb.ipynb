{
 "cells": [
  {
   "attachments": {},
   "cell_type": "markdown",
   "metadata": {},
   "source": [
    "***\n",
    "<span style=\"color:yellow\">Q1. What is Flask Framework? What are the advantages of Flask Framework?<span>"
   ]
  },
  {
   "attachments": {},
   "cell_type": "markdown",
   "metadata": {},
   "source": [
    "Flask is a Python web framework that provides a lightweight, modular, and flexible approach to building web applications. It was created by Armin Ronacher in 2010 and has since gained popularity due to its simplicity and ease of use. Flask is built on top of the WSGI (Web Server Gateway Interface) toolkit and is classified as a micro-framework, meaning that it provides only the basic functionality necessary to build web applications.\n",
    "\n",
    "Advantages of Flask Framework include:\n",
    "\n",
    "Lightweight and flexible: Flask is lightweight and doesn't come with pre-packaged tools or libraries, allowing developers to build custom solutions using only the components they need.\n",
    "\n",
    "Easy to learn and use: Flask has a simple and intuitive API, which makes it easy for developers to learn and use.\n",
    "\n",
    "Modular and extensible: Flask is modular and extensible, allowing developers to add new functionality through extensions or third-party libraries.\n",
    "\n",
    "Integrated with Jinja2: Flask has built-in support for Jinja2, a popular templating engine that makes it easy to create HTML templates.\n",
    "\n",
    "Good documentation: Flask has extensive documentation that is easy to understand and follow, making it easy for developers to get started with the framework.\n",
    "\n",
    "Large community: Flask has a large and active community of developers who contribute to its development and provide support to other users.\n",
    "\n",
    "Built-in development server: Flask comes with a built-in development server, which makes it easy to test and debug web applications locally.\n",
    "\n",
    "Overall, Flask is a great choice for developers who want to build web applications quickly and efficiently, without sacrificing flexibility or scalability.\n",
    "\n",
    "\n",
    "\n",
    "\n"
   ]
  },
  {
   "attachments": {},
   "cell_type": "markdown",
   "metadata": {},
   "source": [
    "***\n",
    "<span style=\"color:yellow\">Q2. Create a simple Flask application to display ‘Hello World!!’. Attach the screenshot of the output in\n",
    "Jupyter Notebook.<span>"
   ]
  },
  {
   "attachments": {},
   "cell_type": "markdown",
   "metadata": {},
   "source": [
    "```\n",
    "from flask import Flask\n",
    "\n",
    "app = Flask(__name__)\n",
    "\n",
    "@app.route('/')\n",
    "def hello_world():\n",
    "    return 'Hello World!!'\n",
    "\n",
    "if __name__ == '__main__':\n",
    "    app.run(host=\"127.0.0.1\", port=5000)\n",
    "```"
   ]
  },
  {
   "attachments": {},
   "cell_type": "markdown",
   "metadata": {},
   "source": [
    "***\n",
    "<span style=\"color:yellow\">Q3. What is App routing in Flask? Why do we use app routes?<span>"
   ]
  },
  {
   "attachments": {},
   "cell_type": "markdown",
   "metadata": {},
   "source": [
    "In Flask, app routing is the process of mapping URLs to specific functions in your application. This is done using the @app.route() decorator, which is used to specify the URL endpoint for a particular view function.\n",
    "\n",
    "For example, consider the following code snippet:\n",
    "```\n",
    "@app.route('/hello')\n",
    "def say_hello():\n",
    "    return 'Hello, World!'\n",
    "```\n",
    "When a client requests the URL http://localhost:5000/hello, Flask will invoke the say_hello() function and return the string \"Hello, World!\" as the HTTP response.\n",
    "\n",
    "App routing is an important feature of Flask because it allows developers to create complex web applications with multiple pages and endpoints. By defining routes for each page or endpoint, Flask can ensure that the correct function is invoked when the corresponding URL is requested.\n",
    "\n",
    "App routes are also useful for creating RESTful APIs, where each route corresponds to a particular resource or action. For example, you might define a route for creating a new user account, another route for retrieving user data, and so on. This makes it easy for clients to interact with your API and perform the desired actions.\n",
    "\n",
    "Overall, app routing is an essential part of building web applications in Flask, and it provides a flexible and powerful way to map URL paths to the corresponding functions that generate the HTTP responses."
   ]
  },
  {
   "attachments": {},
   "cell_type": "markdown",
   "metadata": {},
   "source": [
    "***\n",
    "<span style=\"color:yellow\">Q4. Create a “/welcome” route to display the welcome message “Welcome to ABC Corporation” and a “/”\n",
    "route to show the following details:\n",
    "Company Name: ABC Corporation\n",
    "Location: India\n",
    "Contact Detail: 999-999-9999<span>"
   ]
  },
  {
   "attachments": {},
   "cell_type": "markdown",
   "metadata": {},
   "source": [
    "```\n",
    "from flask import Flask\n",
    "\n",
    "app = Flask(__name__)\n",
    "\n",
    "@app.route('/welcome')\n",
    "def welcome():\n",
    "    return 'Welcome to ABC Corporation'\n",
    "\n",
    "@app.route('/')\n",
    "def company_details():\n",
    "    return 'Company Name: ABC Corporation<br>Location: India<br>Contact Detail: 999-999-9999'\n",
    "\n",
    "if __name__ == '__main__':\n",
    "    app.run(debug=True)\n",
    "\n",
    "```\n",
    "\n",
    "In this code, we define two routes using the @app.route() decorator:\n",
    "\n",
    "/welcome: This route returns the welcome message \"Welcome to ABC Corporation\" when accessed.\n",
    "\n",
    "/: This route returns the company details when accessed.\n",
    "\n",
    "When you run this code and access http://localhost:5000/welcome in your web browser, you should see the message \"Welcome to ABC Corporation\" displayed.\n",
    "\n",
    "Similarly, when you access http://localhost:5000/, you should see the following details displayed:\n",
    "```\n",
    "Company Name: ABC Corporation\n",
    "Location: India\n",
    "Contact Detail: 999-999-9999\n",
    "\n",
    "```\n",
    "\n",
    "Note that we use the HTML <br> tag to create line breaks between the company details. This allows us to display the details in a more readable format in the web browser."
   ]
  },
  {
   "attachments": {},
   "cell_type": "markdown",
   "metadata": {},
   "source": [
    "***\n",
    "<span style=\"color:yellow\">Q5. What function is used in Flask for URL Building? Write a Python code to demonstrate the working of the\n",
    "url_for() function.<span>"
   ]
  },
  {
   "attachments": {},
   "cell_type": "markdown",
   "metadata": {},
   "source": [
    "In Flask, the url_for() function is used for URL building. This function generates a URL for a given endpoint (i.e., a route function) by taking the endpoint name as its argument and any additional parameters as keyword arguments.\n",
    "\n",
    "Here's an example of how to use the url_for() function in Flask:\n",
    "```\n",
    "from flask import Flask, url_for\n",
    "\n",
    "app = Flask(__name__)\n",
    "\n",
    "@app.route('/')\n",
    "def home():\n",
    "    # generate a URL for the 'about' endpoint\n",
    "    about_url = url_for('about')\n",
    "    return f'<a href=\"{about_url}\">About</a>'\n",
    "\n",
    "@app.route('/about')\n",
    "def about():\n",
    "    return 'This is the About page!'\n",
    "\n",
    "if __name__ == '__main__':\n",
    "    app.run(debug=True)\n",
    "\n",
    "```\n",
    "\n",
    "In this code, we define two routes: / and /about. The / route generates a link to the /about page using the url_for() function, which takes the endpoint name 'about' as its argument.\n",
    "\n",
    "When you run this code and access http://localhost:5000/ in your web browser, you should see a link to the About page. Clicking on the link should take you to the /about page, where you will see the message \"This is the About page!\" displayed.\n",
    "\n",
    "The url_for() function is useful because it allows you to generate URLs dynamically in your Flask application without hard-coding the URLs in your templates or view functions. This can make it easier to maintain your application and avoid errors when URLs change."
   ]
  },
  {
   "attachments": {},
   "cell_type": "markdown",
   "metadata": {},
   "source": [
    "***"
   ]
  },
  {
   "cell_type": "markdown",
   "metadata": {},
   "source": []
  }
 ],
 "metadata": {
  "kernelspec": {
   "display_name": "Python 3",
   "language": "python",
   "name": "python3"
  },
  "language_info": {
   "name": "python",
   "version": "3.10.2"
  },
  "orig_nbformat": 4,
  "vscode": {
   "interpreter": {
    "hash": "2f590b0345379a3d388fae64db70f94b273a9b90cf99d61611d4169b37ba26e6"
   }
  }
 },
 "nbformat": 4,
 "nbformat_minor": 2
}
