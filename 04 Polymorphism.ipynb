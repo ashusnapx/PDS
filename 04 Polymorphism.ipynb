{
 "cells": [
  {
   "cell_type": "code",
   "execution_count": 1,
   "id": "8ad3b722-9fa7-482f-be4a-a9155cf9f54e",
   "metadata": {},
   "outputs": [],
   "source": [
    "def test(a,b):\n",
    "    return a + b"
   ]
  },
  {
   "cell_type": "code",
   "execution_count": 2,
   "id": "456a2540-629a-46d9-aa3b-7b58730a557b",
   "metadata": {},
   "outputs": [
    {
     "data": {
      "text/plain": [
       "7"
      ]
     },
     "execution_count": 2,
     "metadata": {},
     "output_type": "execute_result"
    }
   ],
   "source": [
    "test(3,4)"
   ]
  },
  {
   "cell_type": "code",
   "execution_count": 10,
   "id": "96f35ebe-214e-4749-bead-e344cf2a205d",
   "metadata": {},
   "outputs": [],
   "source": [
    "class human:\n",
    "    def animal(self):\n",
    "        print(\"These are males\")"
   ]
  },
  {
   "cell_type": "code",
   "execution_count": 11,
   "id": "0d9323d2-a018-46dc-a2bb-a764365ce81d",
   "metadata": {},
   "outputs": [],
   "source": [
    "class mammals:\n",
    "    def animal(self):\n",
    "        print(\"These are females\")"
   ]
  },
  {
   "cell_type": "code",
   "execution_count": 12,
   "id": "0c60078f-cc6c-4e4b-9e51-e4ad9c260210",
   "metadata": {},
   "outputs": [],
   "source": [
    "def class_parser(class_obj):\n",
    "    for i in class_obj:\n",
    "        i.animal()"
   ]
  },
  {
   "cell_type": "code",
   "execution_count": 13,
   "id": "dae8cb45-e242-4fe2-b3a5-3a8397216091",
   "metadata": {},
   "outputs": [],
   "source": [
    "male = human()"
   ]
  },
  {
   "cell_type": "code",
   "execution_count": 14,
   "id": "49caa1d3-feaa-4d7a-a031-858711b9806c",
   "metadata": {},
   "outputs": [],
   "source": [
    "female = mammals()"
   ]
  },
  {
   "cell_type": "code",
   "execution_count": 15,
   "id": "dac1e7e6-150b-4cb6-99c4-023002e4f2b9",
   "metadata": {},
   "outputs": [],
   "source": [
    "class_obj = [male, female]"
   ]
  },
  {
   "cell_type": "code",
   "execution_count": 16,
   "id": "ab86d303-26ed-4f59-aaab-556406f6cbe0",
   "metadata": {},
   "outputs": [
    {
     "name": "stdout",
     "output_type": "stream",
     "text": [
      "These are males\n",
      "These are females\n"
     ]
    }
   ],
   "source": [
    "class_parser(class_obj)"
   ]
  },
  {
   "cell_type": "code",
   "execution_count": null,
   "id": "e0938e25-5150-4415-b4d7-eaf5a2bc24ab",
   "metadata": {},
   "outputs": [],
   "source": []
  },
  {
   "cell_type": "markdown",
   "id": "bfc85e5e-61a8-4cec-8752-9ca7137710a8",
   "metadata": {},
   "source": [
    "***\n",
    "Example - 2\n",
    "***"
   ]
  },
  {
   "cell_type": "code",
   "execution_count": 17,
   "id": "8d5ffcb5-a53d-4609-bbff-6c149577b0a9",
   "metadata": {},
   "outputs": [],
   "source": [
    "class college:\n",
    "    def me(self):\n",
    "        print(\"Bohot badmass baccha hai\")"
   ]
  },
  {
   "cell_type": "code",
   "execution_count": 18,
   "id": "2f5ae84f-0286-4105-b0f4-1b34543474e3",
   "metadata": {},
   "outputs": [],
   "source": [
    "class home:\n",
    "    def me(self):\n",
    "        print(\"Isse seedha kya ho sakta hai ?\")"
   ]
  },
  {
   "cell_type": "code",
   "execution_count": 19,
   "id": "2e0ac70c-b5cd-491d-9770-0a99e3de20dc",
   "metadata": {},
   "outputs": [],
   "source": [
    "college = college()"
   ]
  },
  {
   "cell_type": "code",
   "execution_count": 20,
   "id": "06c808b0-a615-4b3b-b295-2a24575d5d06",
   "metadata": {},
   "outputs": [],
   "source": [
    "home = home()"
   ]
  },
  {
   "cell_type": "code",
   "execution_count": 21,
   "id": "1d0332b0-9f69-418f-bca0-65497e7d85da",
   "metadata": {},
   "outputs": [],
   "source": [
    "def class_parser(class_obj):\n",
    "    for i in class_obj:\n",
    "        i.me()"
   ]
  },
  {
   "cell_type": "code",
   "execution_count": 22,
   "id": "29b3d093-6c36-4469-b9bb-5041d5f2d235",
   "metadata": {},
   "outputs": [],
   "source": [
    "class_obj = [college, home]"
   ]
  },
  {
   "cell_type": "code",
   "execution_count": 23,
   "id": "246d04fb-0d37-41e1-b35e-db18647b992d",
   "metadata": {},
   "outputs": [
    {
     "name": "stdout",
     "output_type": "stream",
     "text": [
      "Bohot badmass baccha hai\n",
      "Isse seedha kya ho sakta hai ?\n"
     ]
    }
   ],
   "source": [
    "class_parser(class_obj)"
   ]
  },
  {
   "cell_type": "code",
   "execution_count": null,
   "id": "bc9790a4-c8dc-4601-9765-1be0858f0fe1",
   "metadata": {},
   "outputs": [],
   "source": []
  }
 ],
 "metadata": {
  "kernelspec": {
   "display_name": "Python 3 (ipykernel)",
   "language": "python",
   "name": "python3"
  },
  "language_info": {
   "codemirror_mode": {
    "name": "ipython",
    "version": 3
   },
   "file_extension": ".py",
   "mimetype": "text/x-python",
   "name": "python",
   "nbconvert_exporter": "python",
   "pygments_lexer": "ipython3",
   "version": "3.10.8"
  }
 },
 "nbformat": 4,
 "nbformat_minor": 5
}
