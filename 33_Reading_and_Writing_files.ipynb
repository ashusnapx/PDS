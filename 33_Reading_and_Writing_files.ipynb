{
 "cells": [
  {
   "cell_type": "code",
   "execution_count": 1,
   "metadata": {},
   "outputs": [],
   "source": [
    "data = {\n",
    "    \"name\": \"Ashutosh\",\n",
    "    \"batch\": 2024,\n",
    "    \"email\": \"ashu@gmail.com\",\n",
    "    \"subject\": [\"Software engineering\", \"object oriented design and analysis\", \"microprocessor and interfacing\", \"internet and web technology\", \"information theory and coding\"]\n",
    "}\n"
   ]
  },
  {
   "cell_type": "code",
   "execution_count": 2,
   "metadata": {},
   "outputs": [],
   "source": [
    "import json\n"
   ]
  },
  {
   "cell_type": "code",
   "execution_count": 5,
   "metadata": {},
   "outputs": [],
   "source": [
    "import os\n"
   ]
  },
  {
   "cell_type": "code",
   "execution_count": 6,
   "metadata": {},
   "outputs": [],
   "source": [
    "os.remove('34_test.json')\n"
   ]
  },
  {
   "cell_type": "code",
   "execution_count": 7,
   "metadata": {},
   "outputs": [],
   "source": [
    "with open('34_test.json', 'w') as f:\n",
    "    json.dump(data, f)\n"
   ]
  },
  {
   "cell_type": "code",
   "execution_count": 9,
   "metadata": {},
   "outputs": [],
   "source": [
    "with open('34_test.json', 'r') as f:\n",
    "    data1 = json.load(f)\n"
   ]
  },
  {
   "cell_type": "code",
   "execution_count": 10,
   "metadata": {},
   "outputs": [
    {
     "data": {
      "text/plain": [
       "{'name': 'Ashutosh',\n",
       " 'batch': 2024,\n",
       " 'email': 'ashu@gmail.com',\n",
       " 'subject': ['Software engineering',\n",
       "  'object oriented design and analysis',\n",
       "  'microprocessor and interfacing',\n",
       "  'internet and web technology',\n",
       "  'information theory and coding']}"
      ]
     },
     "execution_count": 10,
     "metadata": {},
     "output_type": "execute_result"
    }
   ],
   "source": [
    "data1\n"
   ]
  },
  {
   "cell_type": "code",
   "execution_count": 11,
   "metadata": {},
   "outputs": [
    {
     "data": {
      "text/plain": [
       "['Software engineering',\n",
       " 'object oriented design and analysis',\n",
       " 'microprocessor and interfacing',\n",
       " 'internet and web technology',\n",
       " 'information theory and coding']"
      ]
     },
     "execution_count": 11,
     "metadata": {},
     "output_type": "execute_result"
    }
   ],
   "source": [
    "data1['subject']\n"
   ]
  },
  {
   "cell_type": "code",
   "execution_count": 12,
   "metadata": {},
   "outputs": [
    {
     "data": {
      "text/plain": [
       "'object oriented design and analysis'"
      ]
     },
     "execution_count": 12,
     "metadata": {},
     "output_type": "execute_result"
    }
   ],
   "source": [
    "data1['subject'][1]\n"
   ]
  },
  {
   "cell_type": "markdown",
   "metadata": {},
   "source": []
  },
  {
   "attachments": {},
   "cell_type": "markdown",
   "metadata": {},
   "source": [
    "## CSV - Comma Separated Values\n"
   ]
  },
  {
   "cell_type": "code",
   "execution_count": 4,
   "metadata": {},
   "outputs": [],
   "source": [
    "import csv\n"
   ]
  },
  {
   "cell_type": "code",
   "execution_count": 5,
   "metadata": {},
   "outputs": [],
   "source": [
    "data = [\n",
    "    [\"name\", \"branch\", \"batch\"],\n",
    "    [\"Ashutosh Kumar\", \"Information Technology\", 2024],\n",
    "    [\"Prabhanshu Rawat\", \"Information Technology\", 2024],\n",
    "    [\"Paras Pipre\", \"Information Technology\", 2024],\n",
    "    [\"Yogendra Manawat\", \"Information Technology\", 2024],\n",
    "    [\"Hritik Kumar\", \"Information Technology\", 2024],\n",
    "    [\"Sanket Upadhayay\", \"Information Technology\", 2024]\n",
    "]\n"
   ]
  },
  {
   "cell_type": "code",
   "execution_count": 6,
   "metadata": {},
   "outputs": [],
   "source": [
    "with open('35_test.csv', 'w') as f:\n",
    "    writer = csv.writer(f)\n",
    "    for i in data:\n",
    "        writer.writerow(i)\n"
   ]
  },
  {
   "cell_type": "code",
   "execution_count": 7,
   "metadata": {},
   "outputs": [
    {
     "name": "stdout",
     "output_type": "stream",
     "text": [
      "['name', 'branch', 'batch']\n",
      "['Ashutosh Kumar', 'Information Technology', '2024']\n",
      "['Prabhanshu Rawat', 'Information Technology', '2024']\n",
      "['Paras Pipre', 'Information Technology', '2024']\n",
      "['Yogendra Manawat', 'Information Technology', '2024']\n",
      "['Hritik Kumar', 'Information Technology', '2024']\n",
      "['Sanket Upadhayay', 'Information Technology', '2024']\n"
     ]
    }
   ],
   "source": [
    "with open('35_test.csv', 'r') as f:\n",
    "    reader = csv.reader(f)\n",
    "\n",
    "    for i in reader:\n",
    "        print(i)\n"
   ]
  },
  {
   "cell_type": "code",
   "execution_count": 10,
   "metadata": {},
   "outputs": [],
   "source": [
    "with open('36_test.bin','wb') as f:\n",
    "    f.write(b'\\x01\\x02\\x03')\n"
   ]
  },
  {
   "cell_type": "code",
   "execution_count": 12,
   "metadata": {},
   "outputs": [
    {
     "name": "stdout",
     "output_type": "stream",
     "text": [
      "b'\\x02\\x03\\x04'\n"
     ]
    }
   ],
   "source": [
    "with open('36_test.bin', 'rb') as f:\n",
    "    print(f.read())\n"
   ]
  },
  {
   "cell_type": "code",
   "execution_count": null,
   "metadata": {},
   "outputs": [],
   "source": []
  }
 ],
 "metadata": {
  "kernelspec": {
   "display_name": "Python 3",
   "language": "python",
   "name": "python3"
  },
  "language_info": {
   "codemirror_mode": {
    "name": "ipython",
    "version": 3
   },
   "file_extension": ".py",
   "mimetype": "text/x-python",
   "name": "python",
   "nbconvert_exporter": "python",
   "pygments_lexer": "ipython3",
   "version": "3.10.2"
  },
  "orig_nbformat": 4,
  "vscode": {
   "interpreter": {
    "hash": "2f590b0345379a3d388fae64db70f94b273a9b90cf99d61611d4169b37ba26e6"
   }
  }
 },
 "nbformat": 4,
 "nbformat_minor": 2
}
