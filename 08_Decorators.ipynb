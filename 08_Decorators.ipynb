{
 "cells": [
  {
   "cell_type": "code",
   "execution_count": 16,
   "id": "fc4f0da3-4b95-4604-96c1-c59641e7a911",
   "metadata": {},
   "outputs": [],
   "source": [
    "def test():\n",
    "    print(\"pehle\")\n",
    "    print(\"beech\")\n",
    "    print(\"baad\")"
   ]
  },
  {
   "cell_type": "markdown",
   "id": "762642c3-b27a-40dd-b3df-73faed4db722",
   "metadata": {},
   "source": [
    "test()"
   ]
  },
  {
   "cell_type": "code",
   "execution_count": null,
   "id": "ca576d62-a39f-4951-a18c-2f3836282075",
   "metadata": {},
   "outputs": [],
   "source": [
    "def deco(test):\n",
    "    def inner_deco():\n",
    "        print(\"start\")\n",
    "        test()\n",
    "        print(\"end\")\n",
    "    return inner_deco"
   ]
  },
  {
   "cell_type": "code",
   "execution_count": 24,
   "id": "237b6125-3b09-4430-936f-2748fab71aa9",
   "metadata": {},
   "outputs": [],
   "source": [
    "@deco\n",
    "def test1():\n",
    "    print(7+9)"
   ]
  },
  {
   "cell_type": "code",
   "execution_count": 25,
   "id": "8808e3bb-a9a5-424b-9cc0-a88cb4d95da5",
   "metadata": {},
   "outputs": [
    {
     "name": "stdout",
     "output_type": "stream",
     "text": [
      "start\n",
      "16\n",
      "end\n"
     ]
    }
   ],
   "source": [
    "test1()"
   ]
  },
  {
   "cell_type": "markdown",
   "id": "32b8dc43-8a9e-4c97-ab3d-f891a01627ee",
   "metadata": {},
   "source": [
    "***\n",
    "Example - 2\n",
    "***"
   ]
  },
  {
   "cell_type": "code",
   "execution_count": 27,
   "id": "e68080b4-e09f-4ab1-aa04-f40d95da46df",
   "metadata": {},
   "outputs": [],
   "source": [
    "import time\n",
    "\n",
    "def timer_test(test):\n",
    "    def timer_test_inner():\n",
    "        start = time.time()\n",
    "        test()\n",
    "        end = time.time()\n",
    "        print (end - start)\n",
    "    return timer_test_inner"
   ]
  },
  {
   "cell_type": "code",
   "execution_count": 28,
   "id": "c3e6133e-8879-4a25-83c4-d3572b033102",
   "metadata": {},
   "outputs": [],
   "source": [
    "def test2():\n",
    "    print(76+87)"
   ]
  },
  {
   "cell_type": "code",
   "execution_count": 29,
   "id": "44661ac7-0a80-45de-8b91-510d3bf7c5c5",
   "metadata": {},
   "outputs": [
    {
     "name": "stdout",
     "output_type": "stream",
     "text": [
      "163\n"
     ]
    }
   ],
   "source": [
    "test2()"
   ]
  },
  {
   "cell_type": "code",
   "execution_count": 30,
   "id": "52377f5a-c58a-44da-a888-0a789c411867",
   "metadata": {},
   "outputs": [],
   "source": [
    "@timer_test\n",
    "def test2():\n",
    "    print(76+87)"
   ]
  },
  {
   "cell_type": "code",
   "execution_count": 31,
   "id": "3eebf193-eb72-485a-8cf0-f094336c9508",
   "metadata": {},
   "outputs": [
    {
     "name": "stdout",
     "output_type": "stream",
     "text": [
      "163\n",
      "6.437301635742188e-05\n"
     ]
    }
   ],
   "source": [
    "test2()"
   ]
  },
  {
   "cell_type": "code",
   "execution_count": 32,
   "id": "5b67bfcb-7a70-4ad3-9e2b-afcd3da721ba",
   "metadata": {},
   "outputs": [],
   "source": [
    "def test():\n",
    "    for i in range(10000):\n",
    "        pass"
   ]
  },
  {
   "cell_type": "code",
   "execution_count": 33,
   "id": "844d8ea1-bff2-4ad4-a180-251360cbf908",
   "metadata": {},
   "outputs": [],
   "source": [
    "@timer_test\n",
    "def test():\n",
    "    for i in range(10000):\n",
    "        pass"
   ]
  },
  {
   "cell_type": "code",
   "execution_count": 34,
   "id": "3f665f6c-ee3a-4086-b9ce-b9db4e5589b6",
   "metadata": {},
   "outputs": [
    {
     "name": "stdout",
     "output_type": "stream",
     "text": [
      "0.00019502639770507812\n"
     ]
    }
   ],
   "source": [
    "test()"
   ]
  },
  {
   "cell_type": "code",
   "execution_count": null,
   "id": "7949cccc-02e1-4065-bc01-521c4125230d",
   "metadata": {},
   "outputs": [],
   "source": []
  }
 ],
 "metadata": {
  "kernelspec": {
   "display_name": "Python 3 (ipykernel)",
   "language": "python",
   "name": "python3"
  },
  "language_info": {
   "codemirror_mode": {
    "name": "ipython",
    "version": 3
   },
   "file_extension": ".py",
   "mimetype": "text/x-python",
   "name": "python",
   "nbconvert_exporter": "python",
   "pygments_lexer": "ipython3",
   "version": "3.10.8"
  }
 },
 "nbformat": 4,
 "nbformat_minor": 5
}
