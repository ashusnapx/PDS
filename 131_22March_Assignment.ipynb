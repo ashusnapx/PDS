{
 "cells": [
  {
   "cell_type": "markdown",
   "metadata": {},
   "source": [
    "### Q1. Pearson correlation coefficient is a measure of the linear relationship between two variables. Suppose you have collected data on the amount of time students spend studying for an exam and their final exam scores. Calculate the Pearson correlation coefficient between these two variables and interpret the result."
   ]
  },
  {
   "cell_type": "code",
   "execution_count": 4,
   "metadata": {},
   "outputs": [
    {
     "data": {
      "text/html": [
       "<div>\n",
       "<style scoped>\n",
       "    .dataframe tbody tr th:only-of-type {\n",
       "        vertical-align: middle;\n",
       "    }\n",
       "\n",
       "    .dataframe tbody tr th {\n",
       "        vertical-align: top;\n",
       "    }\n",
       "\n",
       "    .dataframe thead th {\n",
       "        text-align: right;\n",
       "    }\n",
       "</style>\n",
       "<table border=\"1\" class=\"dataframe\">\n",
       "  <thead>\n",
       "    <tr style=\"text-align: right;\">\n",
       "      <th></th>\n",
       "      <th>time</th>\n",
       "      <th>marks</th>\n",
       "    </tr>\n",
       "  </thead>\n",
       "  <tbody>\n",
       "    <tr>\n",
       "      <th>time</th>\n",
       "      <td>1.000000</td>\n",
       "      <td>0.934162</td>\n",
       "    </tr>\n",
       "    <tr>\n",
       "      <th>marks</th>\n",
       "      <td>0.934162</td>\n",
       "      <td>1.000000</td>\n",
       "    </tr>\n",
       "  </tbody>\n",
       "</table>\n",
       "</div>"
      ],
      "text/plain": [
       "           time     marks\n",
       "time   1.000000  0.934162\n",
       "marks  0.934162  1.000000"
      ]
     },
     "execution_count": 4,
     "metadata": {},
     "output_type": "execute_result"
    }
   ],
   "source": [
    "import pandas as pd\n",
    "\n",
    "df = pd.DataFrame({\n",
    "    'time': [10, 8, 5, 7, 9],\n",
    "    'marks': [85, 78, 62, 70, 90]\n",
    "})\n",
    "\n",
    "df.corr(method=\"pearson\")"
   ]
  },
  {
   "cell_type": "markdown",
   "metadata": {},
   "source": [
    "***\n",
    "### Q2. Spearman's rank correlation is a measure of the monotonic relationship between two variables. Suppose you have collected data on the amount of sleep individuals get each night and their overall job satisfaction level on a scale of 1 to 10. Calculate the Spearman's rank correlation between these two variables and interpret the result."
   ]
  },
  {
   "cell_type": "code",
   "execution_count": 5,
   "metadata": {},
   "outputs": [
    {
     "data": {
      "text/html": [
       "<div>\n",
       "<style scoped>\n",
       "    .dataframe tbody tr th:only-of-type {\n",
       "        vertical-align: middle;\n",
       "    }\n",
       "\n",
       "    .dataframe tbody tr th {\n",
       "        vertical-align: top;\n",
       "    }\n",
       "\n",
       "    .dataframe thead th {\n",
       "        text-align: right;\n",
       "    }\n",
       "</style>\n",
       "<table border=\"1\" class=\"dataframe\">\n",
       "  <thead>\n",
       "    <tr style=\"text-align: right;\">\n",
       "      <th></th>\n",
       "      <th>sleep</th>\n",
       "      <th>satisfaction</th>\n",
       "    </tr>\n",
       "  </thead>\n",
       "  <tbody>\n",
       "    <tr>\n",
       "      <th>sleep</th>\n",
       "      <td>1.000000</td>\n",
       "      <td>0.666886</td>\n",
       "    </tr>\n",
       "    <tr>\n",
       "      <th>satisfaction</th>\n",
       "      <td>0.666886</td>\n",
       "      <td>1.000000</td>\n",
       "    </tr>\n",
       "  </tbody>\n",
       "</table>\n",
       "</div>"
      ],
      "text/plain": [
       "                 sleep  satisfaction\n",
       "sleep         1.000000      0.666886\n",
       "satisfaction  0.666886      1.000000"
      ]
     },
     "execution_count": 5,
     "metadata": {},
     "output_type": "execute_result"
    }
   ],
   "source": [
    "import pandas as pd\n",
    "\n",
    "df = pd.DataFrame({\n",
    "    'sleep': [7, 6, 8, 5, 7],\n",
    "    'satisfaction': [8, 6, 7, 4, 9]\n",
    "})\n",
    "\n",
    "df.corr(method=\"spearman\")"
   ]
  },
  {
   "cell_type": "markdown",
   "metadata": {},
   "source": [
    "***\n",
    "### Q3. Suppose you are conducting a study to examine the relationship between the number of hours of exercise per week and body mass index (BMI) in a sample of adults. You collected data on both variables for 50 participants. Calculate the Pearson correlation coefficient and the Spearman's rank correlation between these two variables and compare the results."
   ]
  },
  {
   "cell_type": "code",
   "execution_count": 8,
   "metadata": {},
   "outputs": [
    {
     "name": "stdout",
     "output_type": "stream",
     "text": [
      "Spearman Correlation\n",
      "          hours       BMI\n",
      "hours  1.000000  0.948974\n",
      "BMI    0.948974  1.000000\n",
      "\n",
      "\n",
      "Pearson Correlation\n",
      "         hours      BMI\n",
      "hours  1.00000  0.94791\n",
      "BMI    0.94791  1.00000\n"
     ]
    }
   ],
   "source": [
    "import pandas as pd\n",
    "\n",
    "df = pd.DataFrame({\n",
    "    'hours': [3, 5, 2, 4, 6, 1, 7, 5, 3, 4, 2, 6, 1, 5, 4, 3, 2, 7, 6, 1, 4, 5, 3, 2, 6, 7, 4, 5, 3, 2, 1, 6, 4, 5, 3, 7, 2, 1, 6, 4, 5, 3, 2, 7, 1, 6, 4, 5, 3],\n",
    "    'BMI': [22.5, 26.1, 28.9, 24.8, 30.6, 19.2, 32.0, 25.9, 21.8, 24.4, 20.1, 31.7, 18.5, 27.3, 23.7, 22.0, 20.8, 33.2, 29.8, 17.6, 25.3, 27.9, 22.3, 20.4, 29.5, 31.0, 24.0, 26.6, 21.5, 18.9, 17.1, 30.3, 24.2, 26.5, 22.8, 33.7, 19.9, 16.3, 30.1, 24.6, 27.1, 23.1, 21.0, 32.5, 18.0, 31.3, 25.1, 28.2, 23.4]\n",
    "})\n",
    "\n",
    "a = df.corr(method=\"spearman\")\n",
    "b = df.corr(method=\"pearson\")\n",
    "print(\"Spearman Correlation\")\n",
    "print(a)\n",
    "print(\"\\n\")\n",
    "print(\"Pearson Correlation\")\n",
    "print(b)"
   ]
  },
  {
   "cell_type": "markdown",
   "metadata": {},
   "source": [
    "***\n",
    "### Q4. A researcher is interested in examining the relationship between the number of hours individuals spend watching television per day and their level of physical activity. The researcher collected data on both variables from a sample of 50 participants. Calculate the Pearson correlation coefficient between these two variables."
   ]
  },
  {
   "cell_type": "code",
   "execution_count": 12,
   "metadata": {},
   "outputs": [
    {
     "name": "stdout",
     "output_type": "stream",
     "text": [
      "Pearson Correlation\n",
      "          hours     level\n",
      "hours  1.000000 -0.886597\n",
      "level -0.886597  1.000000\n"
     ]
    }
   ],
   "source": [
    "import pandas as pd\n",
    "\n",
    "df1 = pd.DataFrame({\n",
    "    'hours': [2, 3, 4, 1, 5, 2, 3, 2, 4, 1, 3, 2, 5, 4, 2, 3, 1, 4, 5, 2, 3, 1, 4, 5, 2, 3, 4, 1, 5, 2, 3, 4, 1, 5, 2, 3, 4, 1, 5, 2, 3, 4, 1, 5, 2, 3, 4, 1, 5],\n",
    "    'level': [3, 4, 2, 5, 1, 3, 4, 3, 2, 5, 4, 3, 1, 2, 3, 4, 5, 2, 1, 3, 4, 5, 2, 1, 3, 4, 2, 5, 1, 3, 4, 2, 5, 1, 3, 4, 2, 5, 1, 3, 4, 2, 5, 1, 3, 4, 2, 5, 1]\n",
    "})\n",
    "\n",
    "b = df1.corr(method=\"pearson\")\n",
    "print(\"Pearson Correlation\")\n",
    "print(b)"
   ]
  },
  {
   "cell_type": "markdown",
   "metadata": {},
   "source": [
    "***\n",
    "### Q5. A survey was conducted to examine the relationship between age and preference for a particular brand of soft drink. The survey results are shown below:"
   ]
  },
  {
   "cell_type": "code",
   "execution_count": 16,
   "metadata": {},
   "outputs": [
    {
     "name": "stdout",
     "output_type": "stream",
     "text": [
      "Spearman Correlation\n",
      "     age\n",
      "age  1.0\n",
      "\n",
      "\n",
      "Pearson Correlation\n",
      "     age\n",
      "age  1.0\n"
     ]
    },
    {
     "name": "stderr",
     "output_type": "stream",
     "text": [
      "/var/folders/y4/6zfff_pj0h39ylj3s39306rc0000gn/T/ipykernel_37503/3585738467.py:8: FutureWarning: The default value of numeric_only in DataFrame.corr is deprecated. In a future version, it will default to False. Select only valid columns or specify the value of numeric_only to silence this warning.\n",
      "  a = df.corr(method=\"spearman\")\n",
      "/var/folders/y4/6zfff_pj0h39ylj3s39306rc0000gn/T/ipykernel_37503/3585738467.py:9: FutureWarning: The default value of numeric_only in DataFrame.corr is deprecated. In a future version, it will default to False. Select only valid columns or specify the value of numeric_only to silence this warning.\n",
      "  b = df.corr(method=\"pearson\")\n"
     ]
    }
   ],
   "source": [
    "import pandas as pd\n",
    "\n",
    "df = pd.DataFrame({\n",
    "    'age': [25, 42, 37, 19, 31, 28],\n",
    "    'drink': ['Coke', 'Pepsi', 'Mountain Dew', 'Coke', 'Pepsi', 'Coke']\n",
    "})\n",
    "\n",
    "a = df.corr(method=\"spearman\")\n",
    "b = df.corr(method=\"pearson\")\n",
    "print(\"Spearman Correlation\")\n",
    "print(a)\n",
    "print(\"\\n\")\n",
    "print(\"Pearson Correlation\")\n",
    "print(b)"
   ]
  },
  {
   "cell_type": "markdown",
   "metadata": {},
   "source": [
    "***\n",
    "### Q6. A company is interested in examining the relationship between the number of sales calls made per day and the number of sales made per week. The company collected data on both variables from a sample of 30 sales representatives. Calculate the Pearson correlation coefficient between these two variables."
   ]
  },
  {
   "cell_type": "code",
   "execution_count": 17,
   "metadata": {},
   "outputs": [
    {
     "name": "stdout",
     "output_type": "stream",
     "text": [
      "Spearman Correlation\n",
      "          calls     sales\n",
      "calls  1.000000  0.987945\n",
      "sales  0.987945  1.000000\n",
      "\n",
      "\n",
      "Pearson Correlation\n",
      "          calls     sales\n",
      "calls  1.000000  0.980863\n",
      "sales  0.980863  1.000000\n"
     ]
    }
   ],
   "source": [
    "import pandas as pd\n",
    "\n",
    "df = pd.DataFrame({\n",
    "    'calls': [18, 21, 15, 20, 23, 17, 14, 19, 22, 16, 24, 13, 18, 21, 15, 20, 23, 17, 14, 19, 22, 16, 24, 13, 18, 21, 15, 20, 23, 17],\n",
    "    'sales':  [6, 8, 5, 7, 9, 6, 5, 7, 8, 5, 10, 4, 6, 8, 5, 7, 9, 6, 5, 7, 8, 5, 10, 4, 6, 8, 5, 7, 9, 6]\n",
    "})\n",
    "\n",
    "a = df.corr(method=\"spearman\")\n",
    "b = df.corr(method=\"pearson\")\n",
    "print(\"Spearman Correlation\")\n",
    "print(a)\n",
    "print(\"\\n\")\n",
    "print(\"Pearson Correlation\")\n",
    "print(b)\n"
   ]
  }
 ],
 "metadata": {
  "kernelspec": {
   "display_name": "Python 3",
   "language": "python",
   "name": "python3"
  },
  "language_info": {
   "codemirror_mode": {
    "name": "ipython",
    "version": 3
   },
   "file_extension": ".py",
   "mimetype": "text/x-python",
   "name": "python",
   "nbconvert_exporter": "python",
   "pygments_lexer": "ipython3",
   "version": "3.10.2"
  },
  "orig_nbformat": 4
 },
 "nbformat": 4,
 "nbformat_minor": 2
}
