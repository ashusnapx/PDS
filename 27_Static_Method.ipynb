{
 "cells": [
  {
   "cell_type": "code",
   "execution_count": 1,
   "metadata": {},
   "outputs": [],
   "source": [
    "class youtube:\n",
    "    def student_details(self, name, mail_id, number):\n",
    "        print(name, mail_id, number)\n"
   ]
  },
  {
   "cell_type": "code",
   "execution_count": 3,
   "metadata": {},
   "outputs": [],
   "source": [
    "yt = youtube()\n"
   ]
  },
  {
   "cell_type": "code",
   "execution_count": 4,
   "metadata": {},
   "outputs": [
    {
     "name": "stdout",
     "output_type": "stream",
     "text": [
      "Ashutosh ashu@gmail.com 8723683648648\n"
     ]
    }
   ],
   "source": [
    "yt.student_details('Ashutosh', 'ashu@gmail.com', 8723683648648)\n"
   ]
  },
  {
   "attachments": {},
   "cell_type": "markdown",
   "metadata": {},
   "source": [
    "---\n"
   ]
  },
  {
   "cell_type": "code",
   "execution_count": 5,
   "metadata": {},
   "outputs": [],
   "source": [
    "class yt1:\n",
    "    def __init__(self, name, age):\n",
    "        self.name = name\n",
    "        self.age = age\n",
    "\n",
    "    @classmethod\n",
    "    def student(cls, name, age):\n",
    "        return cls(name, age)\n",
    "\n",
    "    def details(self):\n",
    "        print(self.name, self.age)\n"
   ]
  },
  {
   "cell_type": "code",
   "execution_count": 7,
   "metadata": {},
   "outputs": [],
   "source": [
    "yt = yt1.student('Ashu', 78)\n"
   ]
  },
  {
   "cell_type": "code",
   "execution_count": 8,
   "metadata": {},
   "outputs": [
    {
     "name": "stdout",
     "output_type": "stream",
     "text": [
      "Ashu 78\n"
     ]
    }
   ],
   "source": [
    "yt.details()\n"
   ]
  },
  {
   "attachments": {},
   "cell_type": "markdown",
   "metadata": {},
   "source": [
    "---\n",
    "\n",
    "Static Method\n",
    "\n",
    "---\n"
   ]
  },
  {
   "cell_type": "markdown",
   "metadata": {},
   "source": []
  },
  {
   "attachments": {},
   "cell_type": "markdown",
   "metadata": {},
   "source": [
    "---\n",
    "\n",
    "# <b>Static method vs class method</b>\n",
    "\n",
    "Imagine you and your friends have a secret clubhouse. Sometimes you want to do things together in the clubhouse, but sometimes you want to do things by yourself, without your friends.\n",
    "\n",
    "A static method is like a secret activity that you can do by yourself, without needing your friends. It's something that belongs to your clubhouse, but it doesn't need any help or information from your friends.\n",
    "\n",
    "A class method is like a secret activity that you can only do with your friends, because it requires some special information that you all know about. It's still something that belongs to your clubhouse, but it needs help from your friends to work.\n",
    "\n",
    "So, static methods are like private things that don't depend on anyone else, while class methods are like secret games that need your friends to play.\n",
    "\n",
    "---\n"
   ]
  },
  {
   "attachments": {},
   "cell_type": "markdown",
   "metadata": {},
   "source": [
    "---\n",
    "\n",
    "# <b>But when we need classmethod and when do we need static method?</b>\n",
    "\n",
    "Imagine that you and your friends have a rule that whenever you enter the clubhouse, you have to sign a special book. This is something that everyone needs to do, whether they're playing by themselves or with their friends. So, you can make a static method to handle this task because it doesn't depend on anyone else.\n",
    "\n",
    "But sometimes, you and your friends want to play a special game that only you know how to play. You need to use a special toy that only you and your friends have, and you need to follow some special rules that only you know about. So, you can make a class method to handle this game because it requires help from your friends.\n",
    "\n",
    "In programming, static methods are used when you want to define a method that doesn't depend on any instance-specific data, while class methods are used when you want to define a method that needs access to class-specific data, but not instance-specific data. This means that you should use a static method when you don't need any information from the objects you create, and use a class method when you need some special information that only the class itself knows about.\n",
    "\n",
    "---\n"
   ]
  },
  {
   "cell_type": "code",
   "execution_count": 9,
   "metadata": {},
   "outputs": [],
   "source": [
    "class jec1:\n",
    "    def student_details(self, name, age):\n",
    "        print(name, age)\n",
    "\n",
    "    @staticmethod\n",
    "    def mentor_class(list_mentor):\n",
    "        print(list_mentor)\n",
    "\n",
    "    def mentor(self, mentor_list):\n",
    "        print(mentor_list)\n"
   ]
  },
  {
   "cell_type": "code",
   "execution_count": 10,
   "metadata": {},
   "outputs": [
    {
     "name": "stdout",
     "output_type": "stream",
     "text": [
      "['tandonSir', 'sujeetSir', 'neeluMam']\n"
     ]
    }
   ],
   "source": [
    "jec1.mentor_class([\"tandonSir\", \"sujeetSir\", \"neeluMam\"])\n"
   ]
  },
  {
   "cell_type": "code",
   "execution_count": 11,
   "metadata": {},
   "outputs": [],
   "source": [
    "jec2 = jec1()\n"
   ]
  },
  {
   "attachments": {},
   "cell_type": "markdown",
   "metadata": {},
   "source": [
    "---\n"
   ]
  },
  {
   "cell_type": "code",
   "execution_count": 22,
   "metadata": {},
   "outputs": [],
   "source": [
    "class jec2:\n",
    "    def student_details(self, name, age):\n",
    "        print(name, age)\n",
    "\n",
    "    @staticmethod\n",
    "    def mentor_class(list_mentor):\n",
    "        print(list_mentor)\n",
    "\n",
    "    @staticmethod\n",
    "    def mentor_email(email_list_mentor):\n",
    "        jec2.mentor_class([\"sujeetSir\", \"neeluMam\", \"Tandon Sir\"])\n",
    "        print(email_list_mentor)\n",
    "\n",
    "    # @classmethod\n",
    "    # def class_method(cls):\n",
    "    #     cls.mentor_class([\"sujeetSir\",\"neeluMam\",\"Tandon Sir\"])\n",
    "\n",
    "    @classmethod\n",
    "    def class_email(cls):\n",
    "        cls.mentor_email([\"sujeet@gmail.com\", \"wwuqwiu@gmail.com\", \"wfkfvfvv\"])\n",
    "\n",
    "    def mentor(self, mentor_list):\n",
    "        print(mentor_list)\n",
    "        self.mentor_email(\n",
    "            [\"sujeet@gmail.com\", \"wwuqwiu@gmail.com\", \"wfkfvfvv\"])\n"
   ]
  },
  {
   "cell_type": "code",
   "execution_count": 14,
   "metadata": {},
   "outputs": [
    {
     "name": "stdout",
     "output_type": "stream",
     "text": [
      "['sujeetSir', 'neeluMam', 'Tandon Sir']\n"
     ]
    }
   ],
   "source": [
    "jec2.class_method()\n"
   ]
  },
  {
   "cell_type": "code",
   "execution_count": 21,
   "metadata": {},
   "outputs": [
    {
     "name": "stdout",
     "output_type": "stream",
     "text": [
      "['sujeetSir', 'neeluMam', 'Tandon Sir']\n",
      "['sujeet@gmail.com', 'wwuqwiu@gmail.com', 'wfkfvfvv']\n"
     ]
    }
   ],
   "source": [
    "jec2.class_email()\n"
   ]
  },
  {
   "cell_type": "code",
   "execution_count": 25,
   "metadata": {},
   "outputs": [],
   "source": [
    "a = jec2()"
   ]
  },
  {
   "cell_type": "code",
   "execution_count": 26,
   "metadata": {},
   "outputs": [
    {
     "name": "stdout",
     "output_type": "stream",
     "text": [
      "['sujeetSir', 'neeluMam', 'Tandon Sir']\n",
      "['sujeetSir', 'neeluMam', 'Tandon Sir']\n",
      "['sujeet@gmail.com', 'wwuqwiu@gmail.com', 'wfkfvfvv']\n"
     ]
    }
   ],
   "source": [
    "a.mentor([\"sujeetSir\", \"neeluMam\", \"Tandon Sir\"])"
   ]
  },
  {
   "cell_type": "code",
   "execution_count": null,
   "metadata": {},
   "outputs": [],
   "source": []
  }
 ],
 "metadata": {
  "kernelspec": {
   "display_name": "Python 3",
   "language": "python",
   "name": "python3"
  },
  "language_info": {
   "codemirror_mode": {
    "name": "ipython",
    "version": 3
   },
   "file_extension": ".py",
   "mimetype": "text/x-python",
   "name": "python",
   "nbconvert_exporter": "python",
   "pygments_lexer": "ipython3",
   "version": "3.10.2"
  },
  "orig_nbformat": 4,
  "vscode": {
   "interpreter": {
    "hash": "2f590b0345379a3d388fae64db70f94b273a9b90cf99d61611d4169b37ba26e6"
   }
  }
 },
 "nbformat": 4,
 "nbformat_minor": 2
}
