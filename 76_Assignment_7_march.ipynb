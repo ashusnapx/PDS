{
 "cells": [
  {
   "cell_type": "code",
   "execution_count": 1,
   "metadata": {},
   "outputs": [
    {
     "data": {
      "text/plain": [
       "' 1 August, 2023 '"
      ]
     },
     "execution_count": 1,
     "metadata": {},
     "output_type": "execute_result"
    }
   ],
   "source": [
    "\"\"\" 1 August, 2023 \"\"\""
   ]
  },
  {
   "cell_type": "markdown",
   "metadata": {},
   "source": [
    "Q1. What are the three measures of central tendency?"
   ]
  },
  {
   "cell_type": "markdown",
   "metadata": {},
   "source": [
    "The three measures of central tendency are:\n",
    "\n",
    "1. Mean: The mean is the arithmetic average of a set of data. It is calculated by adding up all the values in the dataset and then dividing the sum by the number of data points. The mean is sensitive to outliers, as extreme values can significantly impact its value.\n",
    "\n",
    "2. Median: The median is the middle value of a dataset when the data is arranged in ascending or descending order. If the dataset has an odd number of observations, the median is the middle value itself. If the dataset has an even number of observations, the median is the average of the two middle values. The median is robust to outliers because it is not affected by extreme values.\n",
    "\n",
    "3. Mode: The mode is the value that appears most frequently in a dataset. A dataset can have one mode (unimodal) or multiple modes (bimodal, trimodal, etc.). The mode can be useful for categorical data or discrete data with distinct peaks.\n",
    "\n",
    "These measures are used to describe the typical or central value of a dataset and provide valuable insights into its distribution. Each measure has its strengths and limitations, and the choice of which measure to use depends on the nature of the data and the purpose of the analysis.\n",
    "\n",
    "***"
   ]
  },
  {
   "cell_type": "markdown",
   "metadata": {},
   "source": [
    "Q2. What is the difference between the mean, median, and mode? How are they used to measure the\n",
    "central tendency of a dataset?"
   ]
  },
  {
   "cell_type": "markdown",
   "metadata": {},
   "source": [
    "The mean, median, and mode are three different measures of central tendency used to describe the typical or central value of a dataset. Here are the differences between these measures and how they are used to measure the central tendency of a dataset:\n",
    "\n",
    "Mean:\n",
    "- The mean is the arithmetic average of a set of data.\n",
    "- It is calculated by adding up all the values in the dataset and then dividing the sum by the number of data points.\n",
    "- The mean is sensitive to outliers, as extreme values can significantly impact its value.\n",
    "- It is used for data that follow a roughly symmetrical distribution, where the majority of values are clustered around the center.\n",
    "\n",
    "Median:\n",
    "- The median is the middle value of a dataset when the data is arranged in ascending or descending order.\n",
    "- If the dataset has an odd number of observations, the median is the middle value itself.\n",
    "- If the dataset has an even number of observations, the median is the average of the two middle values.\n",
    "- The median is robust to outliers because it is not affected by extreme values.\n",
    "- It is used when dealing with skewed data or datasets with potential outliers, as it provides a better representation of the central value in such cases.\n",
    "\n",
    "Mode:\n",
    "- The mode is the value that appears most frequently in a dataset.\n",
    "- A dataset can have one mode (unimodal) or multiple modes (bimodal, trimodal, etc.).\n",
    "- The mode is useful for categorical data or discrete data with distinct peaks.\n",
    "- It is used to identify the most frequent or common value in a dataset, which can be essential for understanding the distribution or patterns in the data.\n",
    "\n",
    "How they are used to measure the central tendency of a dataset:\n",
    "- The mean, median, and mode are used to describe the central tendency or central value of a dataset.\n",
    "- The mean is commonly used when the data is normally distributed and has no significant outliers.\n",
    "- The median is used when the data has skewed distributions or when outliers may affect the mean.\n",
    "- The mode is useful for identifying the most frequent value or category in categorical data.\n",
    "- By using these measures, statisticians and analysts can gain insights into the distribution and typical value of a dataset, helping them better understand and interpret the data for various applications.\n",
    "\n",
    "***"
   ]
  },
  {
   "cell_type": "markdown",
   "metadata": {},
   "source": [
    "Q3. Measure the three measures of central tendency for the given height data:\n",
    "[178,177,176,177,178.2,178,175,179,180,175,178.9,176.2,177,172.5,178,176.5]"
   ]
  },
  {
   "cell_type": "markdown",
   "metadata": {},
   "source": [
    "To find the three measures of central tendency (mean, median, and mode) for the given height data, let's start by arranging the data in ascending order:\n",
    "\n",
    "[172.5, 175, 175, 176, 176, 176.2, 176.5, 177, 177, 177, 178, 178, 178, 178.2, 178.9, 179, 180]\n",
    "\n",
    "Mean:\n",
    "The mean is calculated by adding up all the values and dividing the sum by the number of data points:\n",
    "\n",
    "Mean = (172.5 + 175 + 175 + 176 + 176 + 176.2 + 176.5 + 177 + 177 + 177 + 178 + 178 + 178 + 178.2 + 178.9 + 179 + 180) / 17\n",
    "\n",
    "Mean = 3002.3 / 17\n",
    "\n",
    "Mean ≈ 176.6058823529412\n",
    "\n",
    "Median:\n",
    "Since there are 17 data points, the median is the middle value when the data is arranged in ascending order:\n",
    "\n",
    "Median = 176.5\n",
    "\n",
    "Mode:\n",
    "The mode is the value that appears most frequently in the dataset. In this case, there are two modes: 176 and 178, as they both appear three times, which is more than any other value in the dataset.\n",
    "\n",
    "Mode = 176 and 178\n",
    "\n",
    "So, the three measures of central tendency for the given height data are:\n",
    "- Mean ≈ 176.61\n",
    "- Median = 176.5\n",
    "- Mode = 176 and 178\n",
    "\n",
    "***"
   ]
  },
  {
   "cell_type": "markdown",
   "metadata": {},
   "source": [
    "Q4. Find the standard deviation for the given data:\n",
    "[178,177,176,177,178.2,178,175,179,180,175,178.9,176.2,177,172.5,178,176.5]"
   ]
  },
  {
   "cell_type": "markdown",
   "metadata": {},
   "source": [
    "To find the standard deviation for the given height data, we can use the following steps:\n",
    "\n",
    "Step 1: Find the mean of the data.\n",
    "Step 2: Calculate the squared difference between each data point and the mean.\n",
    "Step 3: Find the sum of all squared differences.\n",
    "Step 4: Divide the sum of squared differences by the total number of data points.\n",
    "Step 5: Take the square root of the result from Step 4 to get the standard deviation.\n",
    "\n",
    "Given height data:\n",
    "[178, 177, 176, 177, 178.2, 178, 175, 179, 180, 175, 178.9, 176.2, 177, 172.5, 178, 176.5]\n",
    "\n",
    "Step 1: Calculate the mean.\n",
    "Mean = (178 + 177 + 176 + 177 + 178.2 + 178 + 175 + 179 + 180 + 175 + 178.9 + 176.2 + 177 + 172.5 + 178 + 176.5) / 17\n",
    "\n",
    "Mean = 3002.3 / 17\n",
    "\n",
    "Mean ≈ 176.61\n",
    "\n",
    "Step 2: Calculate the squared difference between each data point and the mean.\n",
    "\n",
    "(178 - 176.61)^2 ≈ 2.37\n",
    "(177 - 176.61)^2 ≈ 0.15\n",
    "(176 - 176.61)^2 ≈ 0.37\n",
    "(177 - 176.61)^2 ≈ 0.17\n",
    "(178.2 - 176.61)^2 ≈ 0.28\n",
    "(178 - 176.61)^2 ≈ 1.93\n",
    "(175 - 176.61)^2 ≈ 2.59\n",
    "(179 - 176.61)^2 ≈ 4.81\n",
    "(180 - 176.61)^2 ≈ 11.56\n",
    "(175 - 176.61)^2 ≈ 2.56\n",
    "(178.9 - 176.61)^2 ≈ 5.19\n",
    "(176.2 - 176.61)^2 ≈ 0.16\n",
    "(177 - 176.61)^2 ≈ 0.15\n",
    "(172.5 - 176.61)^2 ≈ 16.68\n",
    "(178 - 176.61)^2 ≈ 2.37\n",
    "(176.5 - 176.61)^2 ≈ 0.01\n",
    "\n",
    "Step 3: Find the sum of all squared differences.\n",
    "Sum of squared differences = 2.37 + 0.15 + 0.37 + 0.17 + 0.28 + 1.93 + 2.59 + 4.81 + 11.56 + 2.56 + 5.19 + 0.16 + 0.15 + 16.68 + 2.37 + 0.01\n",
    "Sum of squared differences ≈ 51.66\n",
    "\n",
    "Step 4: Divide the sum of squared differences by the total number of data points.\n",
    "Variance = 51.66 / 17\n",
    "Variance ≈ 3.040588235294118\n",
    "\n",
    "Step 5: Take the square root of the result from Step 4 to get the standard deviation.\n",
    "Standard Deviation ≈ √3.040588235294118\n",
    "Standard Deviation ≈ 1.744286325939468\n",
    "\n",
    "So, the standard deviation for the given height data is approximately 1.74."
   ]
  },
  {
   "cell_type": "markdown",
   "metadata": {},
   "source": [
    "***\n"
   ]
  }
 ],
 "metadata": {
  "kernelspec": {
   "display_name": "Python 3",
   "language": "python",
   "name": "python3"
  },
  "language_info": {
   "codemirror_mode": {
    "name": "ipython",
    "version": 3
   },
   "file_extension": ".py",
   "mimetype": "text/x-python",
   "name": "python",
   "nbconvert_exporter": "python",
   "pygments_lexer": "ipython3",
   "version": "3.10.2"
  },
  "orig_nbformat": 4
 },
 "nbformat": 4,
 "nbformat_minor": 2
}
