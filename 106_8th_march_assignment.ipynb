{
 "cells": [
  {
   "cell_type": "code",
   "execution_count": null,
   "metadata": {},
   "outputs": [],
   "source": []
  },
  {
   "cell_type": "markdown",
   "metadata": {},
   "source": [
    "# Q1. What is the Probability density function?"
   ]
  },
  {
   "cell_type": "markdown",
   "metadata": {},
   "source": [
    "## Probability Density Function (PDF)\n",
    "\n",
    "A **Probability Density Function (PDF)** is a fundamental concept in probability and statistics, particularly in the field of continuous random variables. It describes the likelihood of a continuous random variable taking on a specific value within a given interval. The PDF is used to characterize the distribution of a continuous random variable and is an essential component for understanding and working with such variables.\n",
    "\n",
    "The PDF itself does not directly give the probability of a specific value, as the probability of a continuous variable taking on any specific value within a continuous range is technically zero. Instead, the PDF indicates the relative likelihood of the variable falling within a certain interval. The total probability over the entire range of possible values is determined by integrating the PDF over that range, which results in a probability of 1 (100%).\n",
    "\n",
    "Mathematically, for a continuous random variable X, the probability that X falls within an interval \\[a, b\\] is given by the integral of the PDF f(x) over that interval:\n",
    "\n",
    "\\[ P(a \\leq X \\leq b) = \\int_{a}^{b} f(x) dx \\]\n",
    "\n",
    "Some key properties of a PDF include:\n",
    "\n",
    "1. The PDF must be non-negative for all values of the random variable: \\( f(x) \\geq 0 \\).\n",
    "2. The total area under the PDF curve over the entire range of possible values is equal to 1: \\( \\int_{-\\infty}^{\\infty} f(x) dx = 1 \\).\n",
    "\n",
    "Common probability distributions, such as the normal distribution, exponential distribution, and uniform distribution, have well-known PDFs that are used in various fields, including physics, engineering, finance, and more. The PDF is a crucial concept in statistical modeling and inference, as it helps describe the behavior of continuous random variables and enables calculations related to probabilities and expected values."
   ]
  },
  {
   "cell_type": "markdown",
   "metadata": {},
   "source": [
    "***\n",
    "# Q2. What are the types of Probability distribution?"
   ]
  },
  {
   "cell_type": "markdown",
   "metadata": {},
   "source": [
    "## Types of Probability Distributions\n",
    "\n",
    "There are several important probability distributions that are commonly used in statistics and probability theory. Each of these distributions has specific characteristics and applications. Here are some of the most well-known types:\n",
    "\n",
    "1. **Normal Distribution (Gaussian Distribution)**:\n",
    "   - Symbol: \\( N(\\mu, \\sigma^2) \\)\n",
    "   - Description: The normal distribution is symmetric and bell-shaped. It is widely used due to the Central Limit Theorem and is often encountered in natural phenomena.\n",
    "   - Applications: Many real-world variables, such as heights, weights, and errors, tend to follow a normal distribution.\n",
    "\n",
    "2. **Uniform Distribution**:\n",
    "   - Symbol: \\( U(a, b) \\)\n",
    "   - Description: The uniform distribution has a constant probability over a specified range. All outcomes in the range are equally likely.\n",
    "   - Applications: Used in scenarios where each outcome within a certain interval is equally probable, such as random number generation.\n",
    "\n",
    "3. **Exponential Distribution**:\n",
    "   - Symbol: \\( Exp(\\lambda) \\)\n",
    "   - Description: The exponential distribution models the time between events in a Poisson process. It has a memoryless property, meaning future events do not depend on past events.\n",
    "   - Applications: Used in reliability analysis, queueing systems, and survival analysis.\n",
    "\n",
    "4. **Poisson Distribution**:\n",
    "   - Symbol: \\( Poisson(\\lambda) \\)\n",
    "   - Description: The Poisson distribution models the number of events occurring in a fixed interval of time or space when events occur with a known constant mean rate and are independent.\n",
    "   - Applications: Used in scenarios involving counts of rare events, such as the number of phone calls at a call center in a given time period.\n",
    "\n",
    "5. **Binomial Distribution**:\n",
    "   - Symbol: \\( B(n, p) \\)\n",
    "   - Description: The binomial distribution models the number of successes in a fixed number of independent Bernoulli trials, where each trial has a constant probability of success.\n",
    "   - Applications: Used in situations with binary outcomes, such as coin flips, where we want to count the number of \"successes\" in a fixed number of trials.\n",
    "\n",
    "These are just a few examples of probability distributions. There are many other distributions, each with its own unique characteristics and applications in various fields of study and practical scenarios. Understanding these distributions is essential for statistical analysis and modeling."
   ]
  },
  {
   "cell_type": "markdown",
   "metadata": {},
   "source": [
    "***\n",
    "# Q3. Write a Python function to calculate the probability density function of a normal distribution with given mean and standard deviation at a given point."
   ]
  },
  {
   "cell_type": "code",
   "execution_count": 1,
   "metadata": {},
   "outputs": [
    {
     "name": "stdout",
     "output_type": "stream",
     "text": [
      "PDF at x = 1.5 : 0.12951759566589174\n"
     ]
    }
   ],
   "source": [
    "import math\n",
    "\n",
    "\n",
    "def normal_pdf(x, mean, std_dev):\n",
    "    \"\"\"\n",
    "    Calculate the Probability Density Function (PDF) of a normal distribution\n",
    "    at a given point x, with the specified mean and standard deviation.\n",
    "    \n",
    "    :param x: The point at which to calculate the PDF.\n",
    "    :param mean: Mean (μ) of the normal distribution.\n",
    "    :param std_dev: Standard deviation (σ) of the normal distribution.\n",
    "    :return: PDF value at the given point x.\n",
    "    \"\"\"\n",
    "    coefficient = 1 / (std_dev * math.sqrt(2 * math.pi))\n",
    "    exponent = -(1/2) * ((x - mean) / std_dev)**2\n",
    "    pdf_value = coefficient * math.exp(exponent)\n",
    "    return pdf_value\n",
    "\n",
    "\n",
    "# Example usage:\n",
    "mean = 0\n",
    "std_dev = 1\n",
    "x = 1.5\n",
    "pdf = normal_pdf(x, mean, std_dev)\n",
    "print(\"PDF at x =\", x, \":\", pdf)\n"
   ]
  },
  {
   "cell_type": "markdown",
   "metadata": {},
   "source": [
    "***\n",
    "# Q4. What are the properties of Binomial distribution? Give two examples of events where binomial distribution can be applied."
   ]
  },
  {
   "cell_type": "markdown",
   "metadata": {},
   "source": [
    "## Properties of the Binomial Distribution\n",
    "\n",
    "1. **Fixed Number of Trials**: The Binomial distribution describes the number of successes in a fixed number of independent Bernoulli trials.\n",
    "\n",
    "2. **Two Possible Outcomes**: Each trial in a Binomial distribution can have only two possible outcomes, typically labeled as \"success\" (probability of success denoted as 'p') or \"failure\" (probability of failure denoted as 'q' where q = 1 - p).\n",
    "\n",
    "3. **Independence**: The trials must be independent of each other, meaning the outcome of one trial does not influence the outcome of any other trial.\n",
    "\n",
    "4. **Constant Probability**: The probability of success 'p' remains constant across all trials.\n",
    "\n",
    "5. **Discrete Distribution**: The Binomial distribution is a discrete probability distribution, meaning it describes the probability of getting specific discrete values (e.g., 0, 1, 2, ..., n) where 'n' is the number of trials.\n",
    "\n",
    "## Examples of Events Where Binomial Distribution Can Be Applied\n",
    "\n",
    "1. **Coin Flips**: The classic example of the Binomial distribution is flipping a coin multiple times. Each flip is a Bernoulli trial with a fixed probability of getting heads ('p') or tails ('q'). The Binomial distribution can be used to calculate the probability of getting a certain number of heads or tails in a given number of coin flips.\n",
    "\n",
    "2. **Quality Control**: In manufacturing, quality control often involves testing a sample of products for defects. Each product can be considered a Bernoulli trial with a certain probability of being defective ('p'). The Binomial distribution can be used to calculate the probability of finding a specific number of defective items in the sample.\n",
    "\n",
    "These examples demonstrate situations where we have a fixed number of trials, each with a binary outcome (success or failure), and we want to understand the distribution of the number of successes (or failures) in those trials. The Binomial distribution provides a useful framework for such scenarios."
   ]
  },
  {
   "cell_type": "markdown",
   "metadata": {},
   "source": [
    "***\n",
    "# Q5. Generate a random sample of size 1000 from a binomial distribution with probability of success 0.4 and plot a histogram of the results using matplotlib."
   ]
  },
  {
   "cell_type": "code",
   "execution_count": 9,
   "metadata": {},
   "outputs": [
    {
     "data": {
      "image/png": "[encoded data removed]",
      "text/plain": [
       "<Figure size 640x480 with 1 Axes>"
      ]
     },
     "metadata": {},
     "output_type": "display_data"
    }
   ],
   "source": [
    "import numpy as np\n",
    "import matplotlib.pyplot as plt\n",
    "\n",
    "# Parameters\n",
    "sample_size = 1000\n",
    "probability_success = 0.4\n",
    "\n",
    "# Generate random sample from binomial distribution\n",
    "random_sample = np.random.binomial(1, probability_success, sample_size)\n",
    "\n",
    "# Plot histogram\n",
    "plt.hist(random_sample, bins=2, density=True,\n",
    "         align='mid', alpha=0.7, rwidth=0.8)\n",
    "plt.xlabel('Number of Successes')\n",
    "plt.ylabel('Probability')\n",
    "plt.title('Histogram of Binomial Distribution - Made by Ashutosh Kumar')\n",
    "plt.xticks([0, 1], ['Failure', 'Success'])\n",
    "plt.grid(axis='y', alpha=0.75)\n",
    "\n",
    "plt.show()\n"
   ]
  },
  {
   "cell_type": "markdown",
   "metadata": {},
   "source": [
    "***\n",
    "# Q6. Write a Python function to calculate the cumulative distribution function of a Poisson distribution with given mean at a given point."
   ]
  },
  {
   "cell_type": "code",
   "execution_count": 1,
   "metadata": {},
   "outputs": [
    {
     "name": "stdout",
     "output_type": "stream",
     "text": [
      "CDF at k = 3 : 0.7575761331330659\n"
     ]
    }
   ],
   "source": [
    "import math\n",
    "\n",
    "\n",
    "def poisson_cdf(k, mean):\n",
    "    \"\"\"\n",
    "    Calculate the Cumulative Distribution Function (CDF) of a Poisson distribution\n",
    "    at a given point k, with the specified mean (λ).\n",
    "    \n",
    "    :param k: The point at which to calculate the CDF.\n",
    "    :param mean: Mean (λ) of the Poisson distribution.\n",
    "    :return: CDF value at the given point k.\n",
    "    \"\"\"\n",
    "    cdf_value = 0.0\n",
    "    for i in range(k + 1):  # Sum the probabilities up to k (inclusive)\n",
    "        cdf_value += (math.exp(-mean)) * (mean**i) / math.factorial(i)\n",
    "    return cdf_value\n",
    "\n",
    "\n",
    "# Example usage:\n",
    "\n",
    "mean = 2.5\n",
    "k = 3\n",
    "cdf = poisson_cdf(k, mean)\n",
    "print(\"CDF at k =\", k, \":\", cdf)\n"
   ]
  },
  {
   "cell_type": "markdown",
   "metadata": {},
   "source": [
    "***\n",
    "# Q7. How Binomial distribution different from Poisson distribution?"
   ]
  },
  {
   "cell_type": "markdown",
   "metadata": {},
   "source": [
    "The Binomial and Poisson distributions are both probability distributions used to model the number of successes in a fixed number of trials, but they are suitable for different types of scenarios, and they have distinct characteristics. Here's how they differ:\n",
    "\n",
    "1. **Nature of the Process**:\n",
    "   - **Binomial Distribution**: The binomial distribution is used when the trials are independent and there are only two possible outcomes: success or failure. Each trial has a constant probability of success (denoted as 'p') and a constant probability of failure (denoted as 'q', where q = 1 - p).\n",
    "   - **Poisson Distribution**: The Poisson distribution is used when we are interested in the number of events that occur in a fixed interval of time or space, and these events occur at a known average rate (denoted as 'λ') independently of the time since the last event. The events must be rare and random.\n",
    "\n",
    "2. **Number of Trials**:\n",
    "   - **Binomial Distribution**: The binomial distribution involves a fixed number of trials (often denoted as 'n'). We are interested in the number of successes in these 'n' trials.\n",
    "   - **Poisson Distribution**: The Poisson distribution does not have a fixed number of trials. Instead, it describes the number of events in a fixed interval.\n",
    "\n",
    "3. **Probability of Success**:\n",
    "   - **Binomial Distribution**: The probability of success ('p') is constant for each trial.\n",
    "   - **Poisson Distribution**: The Poisson distribution does not directly have a probability of success, as it's used for events that occur at a known average rate ('λ').\n",
    "\n",
    "4. **Assumptions**:\n",
    "   - **Binomial Distribution**: Assumes a fixed number of trials, each with a binary outcome (success or failure), and the trials are independent.\n",
    "   - **Poisson Distribution**: Assumes rare and random events occurring at a constant average rate in a fixed interval, and the events are independent.\n",
    "\n",
    "5. **Applicability**:\n",
    "   - **Binomial Distribution**: Used when there are a fixed number of trials with a binary outcome, such as coin flips, counting successes in a sample, or repeated independent experiments.\n",
    "   - **Poisson Distribution**: Used for modeling rare events, such as the number of arrivals in a given time period, the number of phone calls in an hour, or the number of accidents in a day."
   ]
  },
  {
   "cell_type": "markdown",
   "metadata": {},
   "source": [
    "***\n",
    "# Q8. Generate a random sample of size 1000 from a Poisson distribution with mean 5 and calculate the sample mean and variance."
   ]
  },
  {
   "cell_type": "code",
   "execution_count": 2,
   "metadata": {},
   "outputs": [
    {
     "name": "stdout",
     "output_type": "stream",
     "text": [
      "Sample Mean: 5.198\n",
      "Sample Variance: 5.212008008008009\n"
     ]
    }
   ],
   "source": [
    "import random\n",
    "import math\n",
    "\n",
    "\n",
    "def generate_poisson_sample(mean, sample_size):\n",
    "    \"\"\"\n",
    "    Generate a random sample of the given size from a Poisson distribution\n",
    "    with the specified mean (λ).\n",
    "    \n",
    "    :param mean: Mean (λ) of the Poisson distribution.\n",
    "    :param sample_size: Size of the sample to be generated.\n",
    "    :return: A list containing the generated random sample.\n",
    "    \"\"\"\n",
    "    poisson_sample = []\n",
    "    for _ in range(sample_size):\n",
    "        poisson_sample.append(generate_single_poisson_value(mean))\n",
    "    return poisson_sample\n",
    "\n",
    "\n",
    "def generate_single_poisson_value(mean):\n",
    "    \"\"\"\n",
    "    Generate a single random value from a Poisson distribution\n",
    "    with the specified mean (λ).\n",
    "    \n",
    "    :param mean: Mean (λ) of the Poisson distribution.\n",
    "    :return: A single random value generated from the Poisson distribution.\n",
    "    \"\"\"\n",
    "    L = math.exp(-mean)\n",
    "    k = 0\n",
    "    p = 1.0\n",
    "    while p > L:\n",
    "        k += 1\n",
    "        p *= random.uniform(0, 1)\n",
    "    return k - 1\n",
    "\n",
    "\n",
    "def calculate_mean(sample):\n",
    "    \"\"\"\n",
    "    Calculate the sample mean of a given sample.\n",
    "    \n",
    "    :param sample: List containing the sample data.\n",
    "    :return: The sample mean.\n",
    "    \"\"\"\n",
    "    return sum(sample) / len(sample)\n",
    "\n",
    "\n",
    "def calculate_variance(sample, mean):\n",
    "    \"\"\"\n",
    "    Calculate the sample variance of a given sample.\n",
    "    \n",
    "    :param sample: List containing the sample data.\n",
    "    :param mean: The sample mean.\n",
    "    :return: The sample variance.\n",
    "    \"\"\"\n",
    "    squared_diff_sum = sum((x - mean)**2 for x in sample)\n",
    "    return squared_diff_sum / (len(sample) - 1)\n",
    "\n",
    "\n",
    "# Parameters\n",
    "mean = 5\n",
    "sample_size = 1000\n",
    "\n",
    "# Generate random sample\n",
    "poisson_sample = generate_poisson_sample(mean, sample_size)\n",
    "\n",
    "# Calculate sample mean and variance\n",
    "sample_mean = calculate_mean(poisson_sample)\n",
    "sample_variance = calculate_variance(poisson_sample, sample_mean)\n",
    "\n",
    "print(\"Sample Mean:\", sample_mean)\n",
    "print(\"Sample Variance:\", sample_variance)"
   ]
  },
  {
   "cell_type": "markdown",
   "metadata": {},
   "source": [
    "***\n",
    "# Q9. How mean and variance are related in Binomial distribution and Poisson distribution?"
   ]
  },
  {
   "cell_type": "markdown",
   "metadata": {},
   "source": [
    "In both the Binomial distribution and the Poisson distribution, the mean and variance have a significant relationship, but the nature of this relationship is different due to the distinct characteristics of these distributions.\n",
    "\n",
    "1. **Binomial Distribution**:\n",
    "   - **Mean**: For a Binomial distribution, the mean (expected value) is given by the product of the number of trials ('n') and the probability of success in each trial ('p'). Mathematically, the mean (μ) of a Binomial distribution is given by μ = n * p.\n",
    "   - **Variance**: The variance of a Binomial distribution is calculated as the product of the number of trials ('n'), the probability of success in each trial ('p'), and the probability of failure in each trial ('q' where q = 1 - p). Mathematically, the variance (σ^2) of a Binomial distribution is given by σ^2 = n * p * q.\n",
    "\n",
    "   The relationship between the mean and variance in a Binomial distribution is linear. If the probability of success ('p') is low, the distribution is more spread out, resulting in a larger variance compared to the mean. If 'p' is close to 0.5, the variance is smaller, indicating a more symmetric distribution.\n",
    "\n",
    "2. **Poisson Distribution**:\n",
    "   - **Mean**: For a Poisson distribution, the mean (expected value) is equal to the parameter that specifies the average rate of occurrence ('λ'). Mathematically, the mean (μ) of a Poisson distribution is given by μ = λ.\n",
    "   - **Variance**: The variance of a Poisson distribution is also equal to the parameter that specifies the average rate of occurrence ('λ'). Mathematically, the variance (σ^2) of a Poisson distribution is given by σ^2 = λ.\n",
    "\n",
    "   In the Poisson distribution, the mean and variance are equal. This relationship indicates that the spread of the distribution is directly proportional to the mean, which makes sense for a distribution describing rare and random events.\n",
    "\n",
    "In summary, for the Binomial distribution, the variance depends on both the number of trials and the probability of success, leading to a linear relationship between the mean and variance. In contrast, for the Poisson distribution, the variance is solely determined by the mean, resulting in the mean and variance being equal."
   ]
  },
  {
   "cell_type": "markdown",
   "metadata": {},
   "source": [
    "***\n",
    "# Q10. In normal distribution with respect to mean position, where does the least frequent data appear?"
   ]
  },
  {
   "cell_type": "markdown",
   "metadata": {},
   "source": [
    "In a normal distribution, the least frequent data points are found in the tails of the distribution, farthest away from the mean. These tails are the regions where the values are either significantly smaller or significantly larger than the mean.\n",
    "\n",
    "In a standard normal distribution (a special case of the normal distribution with a mean of 0 and a standard deviation of 1), the tails are often referred to as the left tail (for values much smaller than the mean) and the right tail (for values much larger than the mean). \n",
    "\n",
    "For a normal distribution with a specific mean (μ) and standard deviation (σ), the least frequent data points will appear in the tails that are σ units away from the mean in both directions.\n",
    "\n",
    "Here's a visualization of a normal distribution, with the mean indicated as μ and the standard deviation as σ:\n",
    "\n",
    "```\n",
    "   ^              μ\n",
    "   |             /\\\n",
    "   |            /  \\\n",
    "   |           /    \\\n",
    "   |          /      \\\n",
    "   |         /        \\\n",
    "   |        /          \\\n",
    "   |       /            \\\n",
    "   |      /              \\\n",
    "   |     /                \\\n",
    "   |    /                  \\\n",
    "   |   /                    \\\n",
    "   |  /                      \\\n",
    "   | /                        \\\n",
    "   |/                          \\\n",
    "   +--------------------------->\n",
    "   |   Left Tail       Right Tail\n",
    "```\n",
    "\n",
    "The least frequent data points are in the regions of the left and right tails, away from the mean. The majority of the data points are clustered around the mean, making it the most frequent value in a normal distribution. The tails contain a smaller number of data points, and their frequency decreases as you move away from the mean."
   ]
  },
  {
   "cell_type": "markdown",
   "metadata": {},
   "source": [
    "***"
   ]
  }
 ],
 "metadata": {
  "kernelspec": {
   "display_name": "Python 3",
   "language": "python",
   "name": "python3"
  },
  "language_info": {
   "codemirror_mode": {
    "name": "ipython",
    "version": 3
   },
   "file_extension": ".py",
   "mimetype": "text/x-python",
   "name": "python",
   "nbconvert_exporter": "python",
   "pygments_lexer": "ipython3",
   "version": "3.10.2"
  },
  "orig_nbformat": 4
 },
 "nbformat": 4,
 "nbformat_minor": 2
}
