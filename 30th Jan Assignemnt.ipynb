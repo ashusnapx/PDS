{
 "cells": [
  {
   "cell_type": "code",
   "execution_count": 3,
   "id": "901622e8-9927-4e8b-9e43-526bb0a76e64",
   "metadata": {},
   "outputs": [
    {
     "name": "stdin",
     "output_type": "stream",
     "text": [
      "Enter the percentage 78\n"
     ]
    },
    {
     "name": "stdout",
     "output_type": "stream",
     "text": [
      "Grade C\n"
     ]
    }
   ],
   "source": [
    "marks = int(input(\"Enter the percentage\"))\n",
    "\n",
    "if marks > 90:\n",
    "    print('Grade A') \n",
    "elif marks > 80 and marks <= 90:\n",
    "    print('Grade B')\n",
    "elif marks >= 60 and marks <= 80:\n",
    "    print('Grade C')\n",
    "else:\n",
    "    print('Grade D')"
   ]
  },
  {
   "cell_type": "code",
   "execution_count": 4,
   "id": "176bd3c2-467e-477b-abfb-074e0becaa5f",
   "metadata": {},
   "outputs": [
    {
     "name": "stdin",
     "output_type": "stream",
     "text": [
      "Enter the price of bike 8000000\n"
     ]
    },
    {
     "name": "stdout",
     "output_type": "stream",
     "text": [
      "15%\n"
     ]
    }
   ],
   "source": [
    "price = int(input(\"Enter the price of bike\"))\n",
    "\n",
    "if price > 100000:\n",
    "    print(\"15%\")\n",
    "elif price > 50000 and price <= 100000:\n",
    "    print(\"10%\")\n",
    "else:\n",
    "    print(\"5%\")"
   ]
  },
  {
   "cell_type": "code",
   "execution_count": 5,
   "id": "3dafa133-5350-437c-b326-bbcbd3168591",
   "metadata": {},
   "outputs": [
    {
     "name": "stdin",
     "output_type": "stream",
     "text": [
      "Enter the name of city agra\n"
     ]
    },
    {
     "name": "stdout",
     "output_type": "stream",
     "text": [
      "Taj Mahal\n"
     ]
    }
   ],
   "source": [
    "city = input(\"Enter the name of city\")\n",
    "\n",
    "if city == \"Delhi\" or city == \"delhi\":\n",
    "    print(\"Red Fort\")\n",
    "elif city == \"Agra\" or city == \"agra\":\n",
    "    print(\"Taj Mahal\")\n",
    "elif city == \"Jaipur\" or city == \"jaipur\":\n",
    "    print(\"Hawa Mahal\")"
   ]
  },
  {
   "cell_type": "code",
   "execution_count": null,
   "id": "c2528ca0-a68b-4bfd-8233-03877f1b4f87",
   "metadata": {},
   "outputs": [],
   "source": [
    "# Q8. Reverse numbers from 10 to 1 using while loop\n",
    "i = 10\n",
    "while i >= 1:\n",
    "    print(i)\n",
    "    i=i-1"
   ]
  },
  {
   "cell_type": "code",
   "execution_count": null,
   "id": "6a416679-d1cb-4fc9-bd07-0476a5fa5160",
   "metadata": {},
   "outputs": [],
   "source": [
    "# Q7 and Q8 are same"
   ]
  },
  {
   "cell_type": "code",
   "execution_count": null,
   "id": "f1c68612-66be-4810-a7d3-9bf198a0386d",
   "metadata": {},
   "outputs": [],
   "source": []
  }
 ],
 "metadata": {
  "kernelspec": {
   "display_name": "Python 3 (ipykernel)",
   "language": "python",
   "name": "python3"
  },
  "language_info": {
   "codemirror_mode": {
    "name": "ipython",
    "version": 3
   },
   "file_extension": ".py",
   "mimetype": "text/x-python",
   "name": "python",
   "nbconvert_exporter": "python",
   "pygments_lexer": "ipython3",
   "version": "3.10.8"
  }
 },
 "nbformat": 4,
 "nbformat_minor": 5
}
