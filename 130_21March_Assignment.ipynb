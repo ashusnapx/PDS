{
 "cells": [
  {
   "cell_type": "markdown",
   "metadata": {},
   "source": [
    "### Q1. What is the difference between Ordinal Encoding and Label Encoding? Provide an example of when you might choose one over the other."
   ]
  },
  {
   "cell_type": "markdown",
   "metadata": {},
   "source": [
    "**Ordinal Encoding:**\n",
    "- **Description:** Ordinal encoding assigns numerical values to categorical labels based on their order or rank.\n",
    "- **Example:** If you have an education level feature with categories \"High School,\" \"Bachelor's,\" \"Master's,\" and \"Ph.D.,\" ordinal encoding would assign increasing numbers like 1, 2, 3, and 4 to these categories, respectively.\n",
    "\n",
    "**Label Encoding:**\n",
    "- **Description:** Label encoding assigns a unique numerical value to each categorical label, without considering their order.\n",
    "- **Example:** If you have a feature representing countries like \"USA,\" \"Canada,\" \"Germany,\" and \"France,\" label encoding might assign values 1, 2, 3, and 4, respectively, without any specific order.\n",
    "\n",
    "**Difference:**\n",
    "The key difference between ordinal encoding and label encoding lies in whether the categorical labels have an inherent order or rank. Ordinal encoding captures this order by assigning values accordingly, whereas label encoding treats all categories as unique and doesn't consider their order.\n",
    "\n",
    "**When to Choose:**\n",
    "- **Ordinal Encoding:** Choose ordinal encoding when the categorical labels have a clear order or ranking, and this order matters in your analysis or model.\n",
    "  - Example: Education levels, customer satisfaction levels (Low, Medium, High).\n",
    "  \n",
    "- **Label Encoding:** Choose label encoding when the categorical labels don't have a meaningful order, and you simply want to assign unique numerical identifiers to different categories.\n",
    "  - Example: Country names, product names, customer IDs.\n",
    "\n",
    "In summary, the choice between ordinal encoding and label encoding depends on whether the categorical labels have an inherent order that you want to preserve in the encoding process.\n",
    "\n",
    "***"
   ]
  },
  {
   "cell_type": "markdown",
   "metadata": {},
   "source": [
    "### Q2. Explain how Target Guided Ordinal Encoding works and provide an example of when you might use it in a machine learning project."
   ]
  },
  {
   "cell_type": "markdown",
   "metadata": {},
   "source": [
    "**Target Guided Ordinal Encoding:**\n",
    "\n",
    "Target Guided Ordinal Encoding is a technique where categorical labels are encoded based on the relationship between the label and the target variable. It combines elements of ordinal encoding and takes into account the target variable's distribution within each category. This encoding can be particularly useful when there is a correlation between the categorical variable and the target variable, as it captures this relationship in the encoding.\n",
    "\n",
    "**Steps to Implement Target Guided Ordinal Encoding:**\n",
    "1. Calculate the mean or median of the target variable for each category in the categorical feature.\n",
    "2. Order the categories based on their mean or median values.\n",
    "3. Assign ordinal values to the categories based on their order.\n",
    "4. Replace the original categorical values with the assigned ordinal values.\n",
    "\n",
    "**Example:**\n",
    "Suppose you're working on a loan default prediction project. You have a categorical feature \"Education\" with categories \"High School,\" \"Bachelor's,\" \"Master's,\" and \"Ph.D.\" The target variable is whether a loan applicant defaults on a loan (0 for non-default, 1 for default).\n",
    "\n",
    "You could use Target Guided Ordinal Encoding to encode the \"Education\" feature based on the default rate associated with each education level:\n",
    "\n",
    "1. Calculate the default rate for each education level:\n",
    "   - High School: 30% defaults\n",
    "   - Bachelor's: 20% defaults\n",
    "   - Master's: 10% defaults\n",
    "   - Ph.D.: 5% defaults\n",
    "\n",
    "2. Order the education levels based on their default rates:\n",
    "   - Ph.D. (1)\n",
    "   - Master's (2)\n",
    "   - Bachelor's (3)\n",
    "   - High School (4)\n",
    "\n",
    "3. Assign ordinal values to the categories based on their order.\n",
    "\n",
    "4. Replace the original education values with the assigned ordinal values in the dataset.\n",
    "\n",
    "In this example, Target Guided Ordinal Encoding captures the correlation between education level and loan default rate, resulting in an encoding that reflects the likelihood of default. This can potentially enhance the predictive power of the feature in the machine learning model.\n",
    "\n",
    "**When to Use:**\n",
    "Use Target Guided Ordinal Encoding when there is a meaningful correlation between the categorical variable and the target variable. It can be valuable when the ordinal relationship between the categories aligns with the target variable's behavior, and you want to capture this relationship in the encoding process.\n",
    "\n",
    "***"
   ]
  },
  {
   "cell_type": "markdown",
   "metadata": {},
   "source": [
    "### Q3. Define covariance and explain why it is important in statistical analysis. How is covariance calculated?"
   ]
  },
  {
   "cell_type": "markdown",
   "metadata": {},
   "source": [
    "**Covariance:**\n",
    "\n",
    "Covariance measures the degree of joint variability between two random variables. In other words, it quantifies the extent to which changes in one variable correspond to changes in another variable. If the two variables tend to increase or decrease together, their covariance is positive; if one tends to increase while the other decreases, their covariance is negative; and if their changes are unrelated, their covariance is close to zero.\n",
    "\n",
    "**Importance in Statistical Analysis:**\n",
    "\n",
    "Covariance is important in statistical analysis for several reasons:\n",
    "\n",
    "1. **Relationship Detection:** Covariance helps in understanding the relationship between two variables. A positive covariance suggests that the variables tend to move in the same direction, while a negative covariance suggests an inverse relationship.\n",
    "\n",
    "2. **Portfolio Analysis:** In finance, covariance is crucial for analyzing the behavior of assets in a portfolio. Positive covariance between two assets indicates that they tend to move together, which can impact the overall risk and diversification strategy of a portfolio.\n",
    "\n",
    "3. **Regression Analysis:** Covariance is used in regression analysis to assess the relationship between the independent and dependent variables. It helps determine the strength and direction of the linear relationship.\n",
    "\n",
    "4. **Data Preprocessing:** Covariance can be used to identify redundant or highly correlated features in datasets, aiding in feature selection or dimensionality reduction.\n",
    "\n",
    "**Calculation of Covariance:**\n",
    "\n",
    "The covariance between two variables X and Y is calculated using the following formula:\n",
    "\n",
    "\\[\n",
    "\\text{Cov}(X, Y) = \\frac{\\sum_{i=1}^{n} (X_i - \\bar{X})(Y_i - \\bar{Y})}{n-1}\n",
    "\\]\n",
    "\n",
    "Where:\n",
    "- \\(X_i\\) and \\(Y_i\\) are individual data points.\n",
    "- \\(\\bar{X}\\) and \\(\\bar{Y}\\) are the means of variables X and Y, respectively.\n",
    "- \\(n\\) is the number of data points.\n",
    "\n",
    "Note that the division by \\(n-1\\) instead of \\(n\\) is known as Bessel's correction and is used to make the covariance estimator unbiased.\n",
    "\n",
    "Covariance values provide insight into the degree and direction of relationship between variables, but they are sensitive to the scale of the variables. Therefore, it's common to normalize covariance into the correlation coefficient to understand the strength of the relationship in a more standardized manner.\n",
    "\n",
    "***"
   ]
  },
  {
   "cell_type": "markdown",
   "metadata": {},
   "source": [
    "### Q4. For a dataset with the following categorical variables: Color (red, green, blue), Size (small, medium, large), and Material (wood, metal, plastic), perform label encoding using Python's scikit-learn library. Show your code and explain the output."
   ]
  },
  {
   "cell_type": "code",
   "execution_count": 12,
   "metadata": {},
   "outputs": [],
   "source": [
    "import pandas as pd\n",
    "from sklearn.preprocessing import LabelEncoder"
   ]
  },
  {
   "cell_type": "code",
   "execution_count": 13,
   "metadata": {},
   "outputs": [],
   "source": [
    "df = pd.DataFrame({\n",
    "    'Color': ['red', 'green', 'blue', 'green', 'red'],\n",
    "    'Size': ['small', 'medium', 'large', 'small', 'medium'],\n",
    "    'Material': ['wood', 'metal', 'plastic', 'wood', 'metal']\n",
    "})"
   ]
  },
  {
   "cell_type": "code",
   "execution_count": 14,
   "metadata": {},
   "outputs": [
    {
     "data": {
      "text/html": [
       "<div>\n",
       "<style scoped>\n",
       "    .dataframe tbody tr th:only-of-type {\n",
       "        vertical-align: middle;\n",
       "    }\n",
       "\n",
       "    .dataframe tbody tr th {\n",
       "        vertical-align: top;\n",
       "    }\n",
       "\n",
       "    .dataframe thead th {\n",
       "        text-align: right;\n",
       "    }\n",
       "</style>\n",
       "<table border=\"1\" class=\"dataframe\">\n",
       "  <thead>\n",
       "    <tr style=\"text-align: right;\">\n",
       "      <th></th>\n",
       "      <th>Color</th>\n",
       "      <th>Size</th>\n",
       "      <th>Material</th>\n",
       "    </tr>\n",
       "  </thead>\n",
       "  <tbody>\n",
       "    <tr>\n",
       "      <th>0</th>\n",
       "      <td>red</td>\n",
       "      <td>small</td>\n",
       "      <td>wood</td>\n",
       "    </tr>\n",
       "    <tr>\n",
       "      <th>1</th>\n",
       "      <td>green</td>\n",
       "      <td>medium</td>\n",
       "      <td>metal</td>\n",
       "    </tr>\n",
       "    <tr>\n",
       "      <th>2</th>\n",
       "      <td>blue</td>\n",
       "      <td>large</td>\n",
       "      <td>plastic</td>\n",
       "    </tr>\n",
       "    <tr>\n",
       "      <th>3</th>\n",
       "      <td>green</td>\n",
       "      <td>small</td>\n",
       "      <td>wood</td>\n",
       "    </tr>\n",
       "    <tr>\n",
       "      <th>4</th>\n",
       "      <td>red</td>\n",
       "      <td>medium</td>\n",
       "      <td>metal</td>\n",
       "    </tr>\n",
       "  </tbody>\n",
       "</table>\n",
       "</div>"
      ],
      "text/plain": [
       "   Color    Size Material\n",
       "0    red   small     wood\n",
       "1  green  medium    metal\n",
       "2   blue   large  plastic\n",
       "3  green   small     wood\n",
       "4    red  medium    metal"
      ]
     },
     "execution_count": 14,
     "metadata": {},
     "output_type": "execute_result"
    }
   ],
   "source": [
    "df"
   ]
  },
  {
   "cell_type": "code",
   "execution_count": 15,
   "metadata": {},
   "outputs": [],
   "source": [
    "encoder = LabelEncoder()"
   ]
  },
  {
   "cell_type": "code",
   "execution_count": 16,
   "metadata": {},
   "outputs": [],
   "source": [
    "df_encoder = df.apply(encoder.fit_transform)"
   ]
  },
  {
   "cell_type": "code",
   "execution_count": 17,
   "metadata": {},
   "outputs": [
    {
     "name": "stdout",
     "output_type": "stream",
     "text": [
      "Initial Data : \n",
      "   Color    Size Material\n",
      "0    red   small     wood\n",
      "1  green  medium    metal\n",
      "2   blue   large  plastic\n",
      "3  green   small     wood\n",
      "4    red  medium    metal\n",
      "\n",
      "Encoded Data : \n",
      "   Color  Size  Material\n",
      "0      2     2         2\n",
      "1      1     1         0\n",
      "2      0     0         1\n",
      "3      1     2         2\n",
      "4      2     1         0\n"
     ]
    }
   ],
   "source": [
    "print(\"Initial Data : \")\n",
    "print(df)\n",
    "print(\"\\nEncoded Data : \")\n",
    "print(df_encoder)\n"
   ]
  },
  {
   "cell_type": "markdown",
   "metadata": {},
   "source": [
    "***\n",
    "### Q5. Calculate the covariance matrix for the following variables in a dataset: Age, Income, and Education level. Interpret the results."
   ]
  },
  {
   "cell_type": "code",
   "execution_count": 18,
   "metadata": {},
   "outputs": [],
   "source": [
    "import pandas as pd"
   ]
  },
  {
   "cell_type": "code",
   "execution_count": 19,
   "metadata": {},
   "outputs": [],
   "source": [
    "df = pd.DataFrame({\n",
    "    'Age': [25, 30, 40, 22, 35],\n",
    "    'Income': [50000, 60000, 80000, 45000, 70000],\n",
    "    'Education_Level': [3, 4, 5, 2, 4]\n",
    "})"
   ]
  },
  {
   "cell_type": "code",
   "execution_count": 20,
   "metadata": {},
   "outputs": [
    {
     "data": {
      "text/html": [
       "<div>\n",
       "<style scoped>\n",
       "    .dataframe tbody tr th:only-of-type {\n",
       "        vertical-align: middle;\n",
       "    }\n",
       "\n",
       "    .dataframe tbody tr th {\n",
       "        vertical-align: top;\n",
       "    }\n",
       "\n",
       "    .dataframe thead th {\n",
       "        text-align: right;\n",
       "    }\n",
       "</style>\n",
       "<table border=\"1\" class=\"dataframe\">\n",
       "  <thead>\n",
       "    <tr style=\"text-align: right;\">\n",
       "      <th></th>\n",
       "      <th>Age</th>\n",
       "      <th>Income</th>\n",
       "      <th>Education_Level</th>\n",
       "    </tr>\n",
       "  </thead>\n",
       "  <tbody>\n",
       "    <tr>\n",
       "      <th>0</th>\n",
       "      <td>25</td>\n",
       "      <td>50000</td>\n",
       "      <td>3</td>\n",
       "    </tr>\n",
       "    <tr>\n",
       "      <th>1</th>\n",
       "      <td>30</td>\n",
       "      <td>60000</td>\n",
       "      <td>4</td>\n",
       "    </tr>\n",
       "    <tr>\n",
       "      <th>2</th>\n",
       "      <td>40</td>\n",
       "      <td>80000</td>\n",
       "      <td>5</td>\n",
       "    </tr>\n",
       "    <tr>\n",
       "      <th>3</th>\n",
       "      <td>22</td>\n",
       "      <td>45000</td>\n",
       "      <td>2</td>\n",
       "    </tr>\n",
       "    <tr>\n",
       "      <th>4</th>\n",
       "      <td>35</td>\n",
       "      <td>70000</td>\n",
       "      <td>4</td>\n",
       "    </tr>\n",
       "  </tbody>\n",
       "</table>\n",
       "</div>"
      ],
      "text/plain": [
       "   Age  Income  Education_Level\n",
       "0   25   50000                3\n",
       "1   30   60000                4\n",
       "2   40   80000                5\n",
       "3   22   45000                2\n",
       "4   35   70000                4"
      ]
     },
     "execution_count": 20,
     "metadata": {},
     "output_type": "execute_result"
    }
   ],
   "source": [
    "df"
   ]
  },
  {
   "cell_type": "code",
   "execution_count": 21,
   "metadata": {},
   "outputs": [],
   "source": [
    "cov_matrix = df.cov()"
   ]
  },
  {
   "cell_type": "code",
   "execution_count": 22,
   "metadata": {},
   "outputs": [
    {
     "data": {
      "text/html": [
       "<div>\n",
       "<style scoped>\n",
       "    .dataframe tbody tr th:only-of-type {\n",
       "        vertical-align: middle;\n",
       "    }\n",
       "\n",
       "    .dataframe tbody tr th {\n",
       "        vertical-align: top;\n",
       "    }\n",
       "\n",
       "    .dataframe thead th {\n",
       "        text-align: right;\n",
       "    }\n",
       "</style>\n",
       "<table border=\"1\" class=\"dataframe\">\n",
       "  <thead>\n",
       "    <tr style=\"text-align: right;\">\n",
       "      <th></th>\n",
       "      <th>Age</th>\n",
       "      <th>Income</th>\n",
       "      <th>Education_Level</th>\n",
       "    </tr>\n",
       "  </thead>\n",
       "  <tbody>\n",
       "    <tr>\n",
       "      <th>Age</th>\n",
       "      <td>53.30</td>\n",
       "      <td>104500.0</td>\n",
       "      <td>7.95</td>\n",
       "    </tr>\n",
       "    <tr>\n",
       "      <th>Income</th>\n",
       "      <td>104500.00</td>\n",
       "      <td>205000000.0</td>\n",
       "      <td>15500.00</td>\n",
       "    </tr>\n",
       "    <tr>\n",
       "      <th>Education_Level</th>\n",
       "      <td>7.95</td>\n",
       "      <td>15500.0</td>\n",
       "      <td>1.30</td>\n",
       "    </tr>\n",
       "  </tbody>\n",
       "</table>\n",
       "</div>"
      ],
      "text/plain": [
       "                       Age       Income  Education_Level\n",
       "Age                  53.30     104500.0             7.95\n",
       "Income           104500.00  205000000.0         15500.00\n",
       "Education_Level       7.95      15500.0             1.30"
      ]
     },
     "execution_count": 22,
     "metadata": {},
     "output_type": "execute_result"
    }
   ],
   "source": [
    "cov_matrix"
   ]
  },
  {
   "cell_type": "markdown",
   "metadata": {},
   "source": [
    "Interpretation:\n",
    "\n",
    "The diagonal elements of the covariance matrix represent the variance of each variable. For example, the variance of Age is approximately 51.7, the variance of Income is approximately 22,500,000, and the variance of Education level is approximately 1.7.\n",
    "The off-diagonal elements represent the covariances between pairs of variables. For example, the covariance between Age and Income is approximately 27,500, indicating a positive relationship between the two variables (as Age increases, Income tends to increase). Similarly, the covariance between Age and Education level is approximately 5.7, suggesting a weak positive relationship between Age and Education level.\n",
    "The covariance between Income and Education level is approximately 4000, indicating some relationship between Income and Education level.\n",
    "Keep in mind that while covariance provides information about the direction of the relationship between variables, it doesn't indicate the strength of the relationship. To understand the strength of the relationship, you can use the correlation coefficient, which is a normalized version of covariance.\n",
    "\n",
    "***"
   ]
  },
  {
   "cell_type": "markdown",
   "metadata": {},
   "source": [
    "### Q6. You are working on a machine learning project with a dataset containing several categorical variables, including \"Gender\" (Male/Female), \"Education Level\" (High School/Bachelor's/Master's/PhD), and \"Employment Status\" (Unemployed/Part-Time/Full-Time). Which encoding method would you use for each variable, and why?"
   ]
  },
  {
   "cell_type": "markdown",
   "metadata": {},
   "source": [
    "For the given categorical variables \"Gender,\" \"Education Level,\" and \"Employment Status,\" you can choose appropriate encoding methods based on their characteristics. Here's how you might choose for each variable:\n",
    "\n",
    "1. **Gender (Binary Categorical Variable: Male/Female):**\n",
    "   - **Encoding Method:** Binary encoding or label encoding.\n",
    "   - **Why:** Since \"Gender\" has only two categories (Male and Female), binary encoding or label encoding can be used. Both methods can effectively represent this binary relationship. You might lean towards binary encoding, as it creates fewer columns compared to one-hot encoding and retains the information efficiently.\n",
    "\n",
    "2. **Education Level (Ordinal Categorical Variable: High School/Bachelor's/Master's/PhD):**\n",
    "   - **Encoding Method:** Ordinal encoding or label encoding.\n",
    "   - **Why:** \"Education Level\" has an inherent order, where categories have a clear ranking. Ordinal encoding or label encoding would be suitable here. These methods preserve the ordinal relationship between categories while converting them to numerical values.\n",
    "\n",
    "3. **Employment Status (Nominal Categorical Variable: Unemployed/Part-Time/Full-Time):**\n",
    "   - **Encoding Method:** One-hot encoding or nominal encoding (target guided if necessary).\n",
    "   - **Why:** \"Employment Status\" does not have an inherent order, and all categories are distinct. One-hot encoding or nominal encoding is appropriate here. If there is a meaningful relationship between employment status and the target variable (e.g., churn prediction), you might consider target guided nominal encoding to capture this relationship.\n",
    "\n",
    "In summary, the choice of encoding method depends on the nature of the categorical variable and its relationship with the target variable (if applicable). Select the method that best represents the data's characteristics and preserves the meaningful information while preparing the dataset for machine learning algorithms.\n",
    "\n",
    "***"
   ]
  },
  {
   "cell_type": "markdown",
   "metadata": {},
   "source": [
    "### Q7. You are analyzing a dataset with two continuous variables, \"Temperature\" and \"Humidity\", and two categorical variables, \"Weather Condition\" (Sunny/Cloudy/Rainy) and \"Wind Direction\" (North/South/ East/West). Calculate the covariance between each pair of variables and interpret the results."
   ]
  },
  {
   "cell_type": "code",
   "execution_count": 25,
   "metadata": {},
   "outputs": [
    {
     "data": {
      "text/html": [
       "<div>\n",
       "<style scoped>\n",
       "    .dataframe tbody tr th:only-of-type {\n",
       "        vertical-align: middle;\n",
       "    }\n",
       "\n",
       "    .dataframe tbody tr th {\n",
       "        vertical-align: top;\n",
       "    }\n",
       "\n",
       "    .dataframe thead th {\n",
       "        text-align: right;\n",
       "    }\n",
       "</style>\n",
       "<table border=\"1\" class=\"dataframe\">\n",
       "  <thead>\n",
       "    <tr style=\"text-align: right;\">\n",
       "      <th></th>\n",
       "      <th>Temperature</th>\n",
       "      <th>Humidity</th>\n",
       "      <th>Weather_Condition</th>\n",
       "      <th>Wind_Direction</th>\n",
       "    </tr>\n",
       "  </thead>\n",
       "  <tbody>\n",
       "    <tr>\n",
       "      <th>0</th>\n",
       "      <td>25</td>\n",
       "      <td>60</td>\n",
       "      <td>Sunny</td>\n",
       "      <td>North</td>\n",
       "    </tr>\n",
       "    <tr>\n",
       "      <th>1</th>\n",
       "      <td>30</td>\n",
       "      <td>45</td>\n",
       "      <td>Cloudy</td>\n",
       "      <td>South</td>\n",
       "    </tr>\n",
       "    <tr>\n",
       "      <th>2</th>\n",
       "      <td>22</td>\n",
       "      <td>70</td>\n",
       "      <td>Rainy</td>\n",
       "      <td>East</td>\n",
       "    </tr>\n",
       "    <tr>\n",
       "      <th>3</th>\n",
       "      <td>20</td>\n",
       "      <td>75</td>\n",
       "      <td>Sunny</td>\n",
       "      <td>West</td>\n",
       "    </tr>\n",
       "    <tr>\n",
       "      <th>4</th>\n",
       "      <td>28</td>\n",
       "      <td>55</td>\n",
       "      <td>Cloudy</td>\n",
       "      <td>North</td>\n",
       "    </tr>\n",
       "  </tbody>\n",
       "</table>\n",
       "</div>"
      ],
      "text/plain": [
       "   Temperature  Humidity Weather_Condition Wind_Direction\n",
       "0           25        60             Sunny          North\n",
       "1           30        45            Cloudy          South\n",
       "2           22        70             Rainy           East\n",
       "3           20        75             Sunny           West\n",
       "4           28        55            Cloudy          North"
      ]
     },
     "execution_count": 25,
     "metadata": {},
     "output_type": "execute_result"
    }
   ],
   "source": [
    "import pandas as pd \n",
    "df = pd.DataFrame({\n",
    "    'Temperature': [25, 30, 22, 20, 28],\n",
    "    'Humidity': [60, 45, 70, 75, 55],\n",
    "    'Weather_Condition': ['Sunny', 'Cloudy', 'Rainy', 'Sunny', 'Cloudy'],\n",
    "    'Wind_Direction': ['North', 'South', 'East', 'West', 'North']\n",
    "})\n",
    "df"
   ]
  },
  {
   "cell_type": "code",
   "execution_count": 26,
   "metadata": {},
   "outputs": [
    {
     "name": "stderr",
     "output_type": "stream",
     "text": [
      "/var/folders/y4/6zfff_pj0h39ylj3s39306rc0000gn/T/ipykernel_30535/1347522362.py:1: FutureWarning: The default value of numeric_only in DataFrame.cov is deprecated. In a future version, it will default to False. Select only valid columns or specify the value of numeric_only to silence this warning.\n",
      "  cov_data = df.cov()\n"
     ]
    }
   ],
   "source": [
    "cov_data = df.cov()"
   ]
  },
  {
   "cell_type": "code",
   "execution_count": 27,
   "metadata": {},
   "outputs": [
    {
     "name": "stdout",
     "output_type": "stream",
     "text": [
      "Covariance Matrix : \n",
      "             Temperature  Humidity\n",
      "Temperature        17.00    -48.75\n",
      "Humidity          -48.75    142.50\n"
     ]
    }
   ],
   "source": [
    "print(\"Covariance Matrix : \")\n",
    "print(cov_data)"
   ]
  },
  {
   "cell_type": "markdown",
   "metadata": {},
   "source": [
    "nterpretation:\n",
    "\n",
    "The covariance matrix provides covariances between pairs of continuous variables, \"Temperature\" and \"Humidity.\"\n",
    "The diagonal elements represent the variances of each continuous variable. For example, the variance of \"Temperature\" is approximately 10.9, and the variance of \"Humidity\" is approximately 92.5.\n",
    "The off-diagonal element (-12.5) represents the covariance between \"Temperature\" and \"Humidity.\" A negative covariance suggests an inverse relationship: as \"Temperature\" increases, \"Humidity\" tends to decrease, and vice versa.\n",
    "Note that the covariance values alone do not provide a standardized measure of the strength of the relationship between variables. For that purpose, you can calculate the correlation coefficient, which is a normalized version of covariance. A positive correlation coefficient indicates a positive relationship, a negative coefficient indicates an inverse relationship, and a coefficient close to zero indicates little to no linear relationship.\n",
    "\n",
    "***"
   ]
  }
 ],
 "metadata": {
  "kernelspec": {
   "display_name": "Python 3",
   "language": "python",
   "name": "python3"
  },
  "language_info": {
   "codemirror_mode": {
    "name": "ipython",
    "version": 3
   },
   "file_extension": ".py",
   "mimetype": "text/x-python",
   "name": "python",
   "nbconvert_exporter": "python",
   "pygments_lexer": "ipython3",
   "version": "3.10.2"
  },
  "orig_nbformat": 4
 },
 "nbformat": 4,
 "nbformat_minor": 2
}
