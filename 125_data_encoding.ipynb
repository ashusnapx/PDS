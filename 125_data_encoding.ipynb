{
 "cells": [
  {
   "cell_type": "markdown",
   "metadata": {},
   "source": [
    "### Types of Data Encoding:\n",
    "\n",
    "1. **Nominal or One-Hot Encoding (OHE):**\n",
    "   - Converts categorical variables into binary vectors.\n",
    "   \n",
    "2. **Ordinal or Label Encoding:**\n",
    "   - Assigns a unique numerical label to each category in a categorical variable.\n",
    "   \n",
    "3. **Target Guided Label Encoding:**\n",
    "   - Replaces categories with corresponding mean target values to capture target-related information.\n",
    "   \n",
    "4. **Binary Encoding:**\n",
    "   - Converts categories into binary code, suitable for variables with two categories.\n",
    "   \n",
    "5. **Frequency Encoding:**\n",
    "   - Replaces categories with their frequency of occurrence in the dataset.\n",
    "   \n",
    "6. **Mean Encoding (Target Encoding):**\n",
    "   - Replaces categories with the mean of the target variable for each category.\n",
    "   \n",
    "7. **Weight of Evidence (WoE) Encoding:**\n",
    "   - Transforms categorical variables based on the relationship with the target variable.\n",
    "   \n",
    "8. **Leave-One-Out Encoding:**\n",
    "   - Calculates the mean target value excluding the current observation's category.\n",
    "   \n",
    "9. **James-Stein Encoding:**\n",
    "   - Shrinks category means towards the overall mean of the target variable.\n",
    "   \n",
    "10. **Helmert Encoding:**\n",
    "    - Creates contrast variables by comparing category means to prior category means.\n",
    "   \n",
    "11. **Sum Encoding (Deviation Encoding):**\n",
    "    - Compares category means to the grand mean of the dependent variable.\n",
    "   \n",
    "12. **Effect Encoding (Effects Coding):**\n",
    "    - Compares category means to the overall mean of the dependent variable.\n",
    "\n",
    "Each technique has its unique purpose and applicability based on the data characteristics and the objectives of your analysis or modeling."
   ]
  }
 ],
 "metadata": {
  "kernelspec": {
   "display_name": "Python 3",
   "language": "python",
   "name": "python3"
  },
  "language_info": {
   "codemirror_mode": {
    "name": "ipython",
    "version": 3
   },
   "file_extension": ".py",
   "mimetype": "text/x-python",
   "name": "python",
   "nbconvert_exporter": "python",
   "pygments_lexer": "ipython3",
   "version": "3.10.2"
  },
  "orig_nbformat": 4
 },
 "nbformat": 4,
 "nbformat_minor": 2
}
