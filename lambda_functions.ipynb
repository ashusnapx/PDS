{
 "cells": [
  {
   "cell_type": "markdown",
   "id": "ed1e0da2-8e1a-41c8-b45c-721c3574887c",
   "metadata": {},
   "source": [
    "lambda functions"
   ]
  },
  {
   "cell_type": "markdown",
   "id": "303b2daf-0f4a-4629-84da-94ff58f50e15",
   "metadata": {},
   "source": [
    "Q find value of n to the power p"
   ]
  },
  {
   "cell_type": "code",
   "execution_count": 2,
   "id": "9409fb49-abc3-4795-9742-1aa86ac8952a",
   "metadata": {},
   "outputs": [],
   "source": [
    "n = 3\n",
    "p = 2"
   ]
  },
  {
   "cell_type": "code",
   "execution_count": 3,
   "id": "d772ed8d-fe9c-4f31-9f5a-a1b44f7a0430",
   "metadata": {},
   "outputs": [],
   "source": [
    "def power(n,p):\n",
    "    return n**p"
   ]
  },
  {
   "cell_type": "code",
   "execution_count": 4,
   "id": "07a853fa-cd8b-45c2-a6a8-aac1d88ebbe8",
   "metadata": {},
   "outputs": [
    {
     "data": {
      "text/plain": [
       "9"
      ]
     },
     "execution_count": 4,
     "metadata": {},
     "output_type": "execute_result"
    }
   ],
   "source": [
    "power(3,2)"
   ]
  },
  {
   "cell_type": "code",
   "execution_count": 7,
   "id": "217a9457-aa82-46d6-9b74-090bb93dc6dd",
   "metadata": {},
   "outputs": [],
   "source": [
    "power_lambda = lambda n,p : n**p"
   ]
  },
  {
   "cell_type": "code",
   "execution_count": 8,
   "id": "3dce5d5d-b59c-4f8c-8833-8f519dcb772d",
   "metadata": {},
   "outputs": [
    {
     "data": {
      "text/plain": [
       "9"
      ]
     },
     "execution_count": 8,
     "metadata": {},
     "output_type": "execute_result"
    }
   ],
   "source": [
    "power_lambda(3,2)"
   ]
  },
  {
   "cell_type": "markdown",
   "id": "b74b46e5-83fa-4872-94b0-48ffa3ded842",
   "metadata": {},
   "source": [
    "Add two nos"
   ]
  },
  {
   "cell_type": "code",
   "execution_count": 9,
   "id": "f39d00d7-dfc7-45ce-9ae3-ccdc1b315d7b",
   "metadata": {},
   "outputs": [],
   "source": [
    "def add(a,b):\n",
    "    return a+b"
   ]
  },
  {
   "cell_type": "code",
   "execution_count": 10,
   "id": "f71f8524-54ff-4e27-a359-ff2892adfaf8",
   "metadata": {},
   "outputs": [],
   "source": [
    "c = add(2,3)"
   ]
  },
  {
   "cell_type": "code",
   "execution_count": 11,
   "id": "0512be3d-9d8c-423a-9c7c-41a5b6108790",
   "metadata": {},
   "outputs": [
    {
     "name": "stdout",
     "output_type": "stream",
     "text": [
      "5\n"
     ]
    }
   ],
   "source": [
    "print(c)"
   ]
  },
  {
   "cell_type": "code",
   "execution_count": 14,
   "id": "06b84fc3-56b0-4c4e-85c4-98141cfc667e",
   "metadata": {},
   "outputs": [],
   "source": [
    "add1 = lambda a,b : a + b"
   ]
  },
  {
   "cell_type": "code",
   "execution_count": 15,
   "id": "1231ee8c-18e4-45ff-89e3-da61570d8765",
   "metadata": {},
   "outputs": [
    {
     "data": {
      "text/plain": [
       "5"
      ]
     },
     "execution_count": 15,
     "metadata": {},
     "output_type": "execute_result"
    }
   ],
   "source": [
    "add1(2,3)"
   ]
  },
  {
   "cell_type": "markdown",
   "id": "1aac2284-c51e-4d33-9efa-a19fbff53c36",
   "metadata": {},
   "source": [
    "Celcius to Fahreinheit"
   ]
  },
  {
   "cell_type": "code",
   "execution_count": 2,
   "id": "64f51c09-7a07-48bc-8e69-fb8ff45b7e91",
   "metadata": {},
   "outputs": [],
   "source": [
    "ans = lambda celcius : (9/5 * celcius) + 32"
   ]
  },
  {
   "cell_type": "code",
   "execution_count": 23,
   "id": "b31d4fc4-7e14-4f61-83bd-878e9b1e4c1b",
   "metadata": {},
   "outputs": [
    {
     "data": {
      "text/plain": [
       "89.6"
      ]
     },
     "execution_count": 23,
     "metadata": {},
     "output_type": "execute_result"
    }
   ],
   "source": [
    "ans(32)"
   ]
  },
  {
   "cell_type": "code",
   "execution_count": 24,
   "id": "03bf7c1d-17ac-4994-b48e-1eae1d888a23",
   "metadata": {},
   "outputs": [
    {
     "data": {
      "text/plain": [
       "32.0"
      ]
     },
     "execution_count": 24,
     "metadata": {},
     "output_type": "execute_result"
    }
   ],
   "source": [
    "ans(0)"
   ]
  },
  {
   "cell_type": "code",
   "execution_count": 3,
   "id": "134fa971-7616-4f26-9339-8758b4f0a8ae",
   "metadata": {},
   "outputs": [
    {
     "data": {
      "text/plain": [
       "113.0"
      ]
     },
     "execution_count": 3,
     "metadata": {},
     "output_type": "execute_result"
    }
   ],
   "source": [
    "ans(45)"
   ]
  },
  {
   "cell_type": "code",
   "execution_count": 6,
   "id": "d922b27a-fd9a-40ca-b590-3b4a929c97de",
   "metadata": {},
   "outputs": [],
   "source": [
    "ans2 = lambda n1,n2 : n1 if n1 > n2 else n2"
   ]
  },
  {
   "cell_type": "code",
   "execution_count": 7,
   "id": "94548390-fe06-4284-843e-b83f5a213e3d",
   "metadata": {},
   "outputs": [
    {
     "data": {
      "text/plain": [
       "5"
      ]
     },
     "execution_count": 7,
     "metadata": {},
     "output_type": "execute_result"
    }
   ],
   "source": [
    "ans2(4,5)"
   ]
  },
  {
   "cell_type": "code",
   "execution_count": 8,
   "id": "754b1f53-7dc6-4a55-80d0-56573d9f7def",
   "metadata": {},
   "outputs": [
    {
     "data": {
      "text/plain": [
       "100.51"
      ]
     },
     "execution_count": 8,
     "metadata": {},
     "output_type": "execute_result"
    }
   ],
   "source": [
    "ans2(100.51,100.5)"
   ]
  },
  {
   "cell_type": "code",
   "execution_count": 9,
   "id": "97a12d48-2ec2-4824-9028-ee038cd01ac3",
   "metadata": {},
   "outputs": [],
   "source": [
    "ans3 = lambda s : len(s)"
   ]
  },
  {
   "cell_type": "code",
   "execution_count": 10,
   "id": "ac29c89f-0670-4ba1-8ec7-df436a7223fb",
   "metadata": {},
   "outputs": [],
   "source": [
    "s = \"ashu\""
   ]
  },
  {
   "cell_type": "code",
   "execution_count": 11,
   "id": "ea18f263-8bc0-4e2a-a1b5-240cad0bbb1e",
   "metadata": {},
   "outputs": [
    {
     "data": {
      "text/plain": [
       "4"
      ]
     },
     "execution_count": 11,
     "metadata": {},
     "output_type": "execute_result"
    }
   ],
   "source": [
    "ans3(s)"
   ]
  },
  {
   "cell_type": "code",
   "execution_count": null,
   "id": "4c9ba19b-636c-4d6c-b716-bf545647f963",
   "metadata": {},
   "outputs": [],
   "source": []
  }
 ],
 "metadata": {
  "kernelspec": {
   "display_name": "Python 3 (ipykernel)",
   "language": "python",
   "name": "python3"
  },
  "language_info": {
   "codemirror_mode": {
    "name": "ipython",
    "version": 3
   },
   "file_extension": ".py",
   "mimetype": "text/x-python",
   "name": "python",
   "nbconvert_exporter": "python",
   "pygments_lexer": "ipython3",
   "version": "3.10.8"
  }
 },
 "nbformat": 4,
 "nbformat_minor": 5
}
