{
 "cells": [
  {
   "attachments": {},
   "cell_type": "markdown",
   "metadata": {},
   "source": [
    "Q1. Create a dictionary called fruits with the following key-value pairs:  \n",
    "\"apple\": 0.75  \n",
    "\"banana\": 1.25  \n",
    "\"orange\": 0.90  \n",
    "Then, print out the price of a banana.  "
   ]
  },
  {
   "cell_type": "code",
   "execution_count": 4,
   "metadata": {},
   "outputs": [
    {
     "name": "stdout",
     "output_type": "stream",
     "text": [
      "1.25\n"
     ]
    }
   ],
   "source": [
    "dict = {\n",
    "    \"apple\": 0.75,\n",
    "    \"banana\": 1.25,\n",
    "    \"orange\": 0.90\n",
    "}\n",
    "print(dict[\"banana\"])\n"
   ]
  },
  {
   "attachments": {},
   "cell_type": "markdown",
   "metadata": {},
   "source": [
    "***\n",
    "Q2. Create an empty dictionary called ages. Add the following key-value pairs to the dictionary:  \n",
    "\"Alice\": 30  \n",
    "\"Bob\": 25  \n",
    "\"Charlie\": 35  \n",
    "Then, print out the age of Charlie.  "
   ]
  },
  {
   "cell_type": "code",
   "execution_count": 5,
   "metadata": {},
   "outputs": [],
   "source": [
    "dict = {}\n",
    "dict[\"Alice\"] = 30\n",
    "dict[\"Bob\"] = 25\n",
    "dict[\"Charlie\"] = 35\n"
   ]
  },
  {
   "cell_type": "code",
   "execution_count": 6,
   "metadata": {},
   "outputs": [
    {
     "data": {
      "text/plain": [
       "{'Alice': 30, 'Bob': 25, 'Charlie': 35}"
      ]
     },
     "execution_count": 6,
     "metadata": {},
     "output_type": "execute_result"
    }
   ],
   "source": [
    "dict\n"
   ]
  },
  {
   "cell_type": "code",
   "execution_count": 7,
   "metadata": {},
   "outputs": [
    {
     "data": {
      "text/plain": [
       "35"
      ]
     },
     "execution_count": 7,
     "metadata": {},
     "output_type": "execute_result"
    }
   ],
   "source": [
    "dict[\"Charlie\"]\n"
   ]
  },
  {
   "attachments": {},
   "cell_type": "markdown",
   "metadata": {},
   "source": [
    "***\n",
    "Q3. Write a function called word_count(text) that takes a string as input and returns a dictionary where\n",
    "each key is a word in the text and its value is the number of times that word appears in the text. For\n",
    "example, word_count(\"hello world hello\") should return {\"hello\": 2, \"world\": 1}."
   ]
  },
  {
   "cell_type": "code",
   "execution_count": 8,
   "metadata": {},
   "outputs": [
    {
     "name": "stdout",
     "output_type": "stream",
     "text": [
      "{'hello': 2, 'world': 1}\n"
     ]
    }
   ],
   "source": [
    "def word_count(text):\n",
    "    word_dict = {}\n",
    "    words = text.split()\n",
    "\n",
    "    for word in words:\n",
    "        if word in word_dict:\n",
    "            word_dict[word] += 1\n",
    "        else:\n",
    "            word_dict[word] = 1\n",
    "    return word_dict\n",
    "\n",
    "\n",
    "text = \"hello world hello\"\n",
    "print(word_count(text))\n"
   ]
  },
  {
   "attachments": {},
   "cell_type": "markdown",
   "metadata": {},
   "source": [
    "***\n",
    "Q4. Create a dictionary called phone_book with the following key-value pairs:  \n",
    "\"Alice\": \"555-1234\"  \n",
    "\"Bob\": \"555-5678\"  \n",
    "\"Charlie\": \"555-9012\"  \n",
    "Then, prompt the user to enter a name and print out the corresponding phone   number. If the name is not in the phone book, print out a message saying that the name was not found.  "
   ]
  },
  {
   "cell_type": "code",
   "execution_count": 12,
   "metadata": {},
   "outputs": [
    {
     "name": "stdout",
     "output_type": "stream",
     "text": [
      "name was not found\n"
     ]
    }
   ],
   "source": [
    "phone_book = {\n",
    "    \"Alice\": \"555-1234\",\n",
    "    \"Bob\": \"555-5678\",\n",
    "    \"Charlie\": \"555-9012\"\n",
    "}\n",
    "name = input(\"Enter name\")\n",
    "\n",
    "if name in phone_book:\n",
    "    print(phone_book[name])\n",
    "else:\n",
    "    print(\"name was not found\")\n"
   ]
  },
  {
   "attachments": {},
   "cell_type": "markdown",
   "metadata": {},
   "source": [
    "***\n",
    "Q5. Write a program that prompts the user to enter a number between 1 and 10. If the number is less than\n",
    "5, print out \"Too low!\", otherwise print out \"Too high!\"."
   ]
  },
  {
   "cell_type": "code",
   "execution_count": 14,
   "metadata": {},
   "outputs": [
    {
     "name": "stdout",
     "output_type": "stream",
     "text": [
      "Too high\n"
     ]
    }
   ],
   "source": [
    "def num_range(i):\n",
    "    if(i < 5):\n",
    "        return (\"Too low\")\n",
    "    else:\n",
    "        return (\"Too high\")\n",
    "\n",
    "a = int(input(\"Enter number : \"))\n",
    "\n",
    "print(num_range(a))"
   ]
  },
  {
   "attachments": {},
   "cell_type": "markdown",
   "metadata": {},
   "source": [
    "***\n",
    "Q6. Write a program that prompts the user to enter a password. If the password is \"password123\", print\n",
    "out \"Access granted\", otherwise print out \"Access denied\"."
   ]
  },
  {
   "cell_type": "code",
   "execution_count": 15,
   "metadata": {},
   "outputs": [
    {
     "name": "stdout",
     "output_type": "stream",
     "text": [
      "Access granted\n"
     ]
    }
   ],
   "source": [
    "def access_granted(a):\n",
    "    if(a == \"password123\"):\n",
    "        return \"Access granted\"\n",
    "    else:\n",
    "        return \"Access denied\"\n",
    "    \n",
    "a = input(\"Enter password : \")\n",
    "\n",
    "print(access_granted(a))"
   ]
  },
  {
   "cell_type": "code",
   "execution_count": 16,
   "metadata": {},
   "outputs": [
    {
     "name": "stdout",
     "output_type": "stream",
     "text": [
      "Access denied\n"
     ]
    }
   ],
   "source": [
    "def access_granted(a):\n",
    "    if(a == \"password123\"):\n",
    "        return \"Access granted\"\n",
    "    else:\n",
    "        return \"Access denied\"\n",
    "\n",
    "\n",
    "a = input(\"Enter password : \")\n",
    "\n",
    "print(access_granted(a))"
   ]
  },
  {
   "attachments": {},
   "cell_type": "markdown",
   "metadata": {},
   "source": [
    "***\n",
    "Q7. Write a program that prompts the user to enter a positive integer. Then, use a loop to print out all the\n",
    "odd numbers from 1 to that integer."
   ]
  },
  {
   "cell_type": "code",
   "execution_count": 20,
   "metadata": {},
   "outputs": [
    {
     "name": "stdout",
     "output_type": "stream",
     "text": [
      "1\n",
      "3\n",
      "5\n",
      "7\n",
      "9\n",
      "11\n",
      "13\n",
      "15\n",
      "17\n",
      "19\n",
      "None\n"
     ]
    }
   ],
   "source": [
    "def prompt(a):\n",
    "    if(a > 0):\n",
    "        for i in range(1,a):\n",
    "            if(i % 2 != 0 ):\n",
    "                print(i)\n",
    "\n",
    "a = int(input(\"Enter number\"))\n",
    "\n",
    "print(prompt(a))\n"
   ]
  },
  {
   "attachments": {},
   "cell_type": "markdown",
   "metadata": {},
   "source": [
    "***\n",
    "Q8. Write a program that generates a random number between 1 and 100 and then prompts the user to\n",
    "guess the number. If the user's guess is too low, print out \"Too low!\", if the guess is too high, print out \"Too\n",
    "high!\", and if the guess is correct, print out \"You win!\"."
   ]
  },
  {
   "cell_type": "code",
   "execution_count": 32,
   "metadata": {},
   "outputs": [
    {
     "name": "stdout",
     "output_type": "stream",
     "text": [
      "Too high\n"
     ]
    }
   ],
   "source": [
    "import random\n",
    "def rand():\n",
    "    return random.randint(1,100)\n",
    "\n",
    "def guess(a):\n",
    "    secret = rand()\n",
    "    if(a == secret):\n",
    "        return \"Win\"\n",
    "    elif(a < secret):\n",
    "        return \"Too low\"\n",
    "    else:\n",
    "        return \"Too high\"\n",
    "    \n",
    "a = int(input(\"Enter number : \"))\n",
    "print(guess(a))"
   ]
  },
  {
   "attachments": {},
   "cell_type": "markdown",
   "metadata": {},
   "source": [
    "***\n",
    "Q9. Write a program that generates a random number between 1 and 10 and then prompts the user to\n",
    "guess the number. The user has three attempts to guess the number. If the user guesses correctly within\n",
    "three attempts, print out \"You win!\", otherwise print out \"You lose!\"."
   ]
  },
  {
   "cell_type": "code",
   "execution_count": 35,
   "metadata": {},
   "outputs": [
    {
     "name": "stdout",
     "output_type": "stream",
     "text": [
      "Win\n",
      "Win\n",
      "Lose\n"
     ]
    }
   ],
   "source": [
    "import random\n",
    "def rand():\n",
    "    return random.randint(1,10)\n",
    "\n",
    "def prompt(a):\n",
    "    secret = rand()\n",
    "    if(secret == a):\n",
    "        return True\n",
    "    else:\n",
    "        return False\n",
    "\n",
    "for i in range(1,4):\n",
    "    a = int(input(\"Enter number\"))\n",
    "\n",
    "    if(prompt(a) == True):\n",
    "        print(\"Win\")\n",
    "    else:\n",
    "        print(\"Lose\")"
   ]
  },
  {
   "attachments": {},
   "cell_type": "markdown",
   "metadata": {},
   "source": [
    "***\n",
    "Q10. Write a program that prompts the user to enter their age and then prints out whether they are a child\n",
    "(age 0-12), a teenager (age 13-19), an adult (age 20-59), or a senior (age 60+)"
   ]
  },
  {
   "cell_type": "code",
   "execution_count": 36,
   "metadata": {},
   "outputs": [
    {
     "name": "stdout",
     "output_type": "stream",
     "text": [
      "You are an adult.\n"
     ]
    }
   ],
   "source": [
    "age = int(input(\"Enter your age: \"))\n",
    "\n",
    "if age < 0:\n",
    "    print(\"Invalid age. Please enter a positive number.\")\n",
    "elif age <= 12:\n",
    "    print(\"You are a child.\")\n",
    "elif age <= 19:\n",
    "    print(\"You are a teenager.\")\n",
    "elif age <= 59:\n",
    "    print(\"You are an adult.\")\n",
    "else:\n",
    "    print(\"You are a senior.\")"
   ]
  }
 ],
 "metadata": {
  "kernelspec": {
   "display_name": "Python 3",
   "language": "python",
   "name": "python3"
  },
  "language_info": {
   "codemirror_mode": {
    "name": "ipython",
    "version": 3
   },
   "file_extension": ".py",
   "mimetype": "text/x-python",
   "name": "python",
   "nbconvert_exporter": "python",
   "pygments_lexer": "ipython3",
   "version": "3.10.2"
  },
  "orig_nbformat": 4
 },
 "nbformat": 4,
 "nbformat_minor": 2
}
