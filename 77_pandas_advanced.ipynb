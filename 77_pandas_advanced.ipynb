{
 "cells": [
  {
   "cell_type": "code",
   "execution_count": 1,
   "metadata": {},
   "outputs": [
    {
     "name": "stdout",
     "output_type": "stream",
     "text": [
      "Requirement already satisfied: pandas in /Users/ashu/.pyenv/versions/3.10.2/lib/python3.10/site-packages (1.5.3)\n",
      "Requirement already satisfied: python-dateutil>=2.8.1 in /Users/ashu/.pyenv/versions/3.10.2/lib/python3.10/site-packages (from pandas) (2.8.2)\n",
      "Requirement already satisfied: pytz>=2020.1 in /Users/ashu/.pyenv/versions/3.10.2/lib/python3.10/site-packages (from pandas) (2023.3)\n",
      "Requirement already satisfied: numpy>=1.21.0 in /Users/ashu/.pyenv/versions/3.10.2/lib/python3.10/site-packages (from pandas) (1.24.2)\n",
      "Requirement already satisfied: six>=1.5 in /Users/ashu/.pyenv/versions/3.10.2/lib/python3.10/site-packages (from python-dateutil>=2.8.1->pandas) (1.16.0)\n",
      "Note: you may need to restart the kernel to use updated packages.\n"
     ]
    }
   ],
   "source": [
    "pip install pandas"
   ]
  },
  {
   "cell_type": "code",
   "execution_count": 2,
   "metadata": {},
   "outputs": [],
   "source": [
    "import pandas as pd"
   ]
  },
  {
   "attachments": {},
   "cell_type": "markdown",
   "metadata": {},
   "source": [
    "i'm taking a variable named as df which means data frame"
   ]
  },
  {
   "cell_type": "code",
   "execution_count": 3,
   "metadata": {},
   "outputs": [],
   "source": [
    "df = pd.read_csv(\"75_csv_file_for_pandas.csv\")"
   ]
  },
  {
   "cell_type": "code",
   "execution_count": 4,
   "metadata": {},
   "outputs": [
    {
     "data": {
      "text/html": [
       "<div>\n",
       "<style scoped>\n",
       "    .dataframe tbody tr th:only-of-type {\n",
       "        vertical-align: middle;\n",
       "    }\n",
       "\n",
       "    .dataframe tbody tr th {\n",
       "        vertical-align: top;\n",
       "    }\n",
       "\n",
       "    .dataframe thead th {\n",
       "        text-align: right;\n",
       "    }\n",
       "</style>\n",
       "<table border=\"1\" class=\"dataframe\">\n",
       "  <thead>\n",
       "    <tr style=\"text-align: right;\">\n",
       "      <th></th>\n",
       "      <th>id</th>\n",
       "      <th>firstname</th>\n",
       "      <th>lastname</th>\n",
       "      <th>email</th>\n",
       "      <th>email2</th>\n",
       "      <th>profession</th>\n",
       "    </tr>\n",
       "  </thead>\n",
       "  <tbody>\n",
       "    <tr>\n",
       "      <th>0</th>\n",
       "      <td>100</td>\n",
       "      <td>Rani</td>\n",
       "      <td>Cherianne</td>\n",
       "      <td>Rani.Cherianne@yopmail.com</td>\n",
       "      <td>Rani.Cherianne@gmail.com</td>\n",
       "      <td>developer</td>\n",
       "    </tr>\n",
       "    <tr>\n",
       "      <th>1</th>\n",
       "      <td>101</td>\n",
       "      <td>Flo</td>\n",
       "      <td>Whiffen</td>\n",
       "      <td>Flo.Whiffen@yopmail.com</td>\n",
       "      <td>Flo.Whiffen@gmail.com</td>\n",
       "      <td>worker</td>\n",
       "    </tr>\n",
       "    <tr>\n",
       "      <th>2</th>\n",
       "      <td>102</td>\n",
       "      <td>Berta</td>\n",
       "      <td>Vorster</td>\n",
       "      <td>Berta.Vorster@yopmail.com</td>\n",
       "      <td>Berta.Vorster@gmail.com</td>\n",
       "      <td>developer</td>\n",
       "    </tr>\n",
       "    <tr>\n",
       "      <th>3</th>\n",
       "      <td>103</td>\n",
       "      <td>Evaleen</td>\n",
       "      <td>Marden</td>\n",
       "      <td>Evaleen.Marden@yopmail.com</td>\n",
       "      <td>Evaleen.Marden@gmail.com</td>\n",
       "      <td>worker</td>\n",
       "    </tr>\n",
       "    <tr>\n",
       "      <th>4</th>\n",
       "      <td>104</td>\n",
       "      <td>Meg</td>\n",
       "      <td>Ferino</td>\n",
       "      <td>Meg.Ferino@yopmail.com</td>\n",
       "      <td>Meg.Ferino@gmail.com</td>\n",
       "      <td>worker</td>\n",
       "    </tr>\n",
       "  </tbody>\n",
       "</table>\n",
       "</div>"
      ],
      "text/plain": [
       "    id firstname   lastname                       email  \\\n",
       "0  100      Rani  Cherianne  Rani.Cherianne@yopmail.com   \n",
       "1  101       Flo    Whiffen     Flo.Whiffen@yopmail.com   \n",
       "2  102     Berta    Vorster   Berta.Vorster@yopmail.com   \n",
       "3  103   Evaleen     Marden  Evaleen.Marden@yopmail.com   \n",
       "4  104       Meg     Ferino      Meg.Ferino@yopmail.com   \n",
       "\n",
       "                     email2 profession  \n",
       "0  Rani.Cherianne@gmail.com  developer  \n",
       "1     Flo.Whiffen@gmail.com     worker  \n",
       "2   Berta.Vorster@gmail.com  developer  \n",
       "3  Evaleen.Marden@gmail.com     worker  \n",
       "4      Meg.Ferino@gmail.com     worker  "
      ]
     },
     "execution_count": 4,
     "metadata": {},
     "output_type": "execute_result"
    }
   ],
   "source": [
    "df.head()"
   ]
  },
  {
   "cell_type": "code",
   "execution_count": 5,
   "metadata": {},
   "outputs": [
    {
     "data": {
      "text/html": [
       "<div>\n",
       "<style scoped>\n",
       "    .dataframe tbody tr th:only-of-type {\n",
       "        vertical-align: middle;\n",
       "    }\n",
       "\n",
       "    .dataframe tbody tr th {\n",
       "        vertical-align: top;\n",
       "    }\n",
       "\n",
       "    .dataframe thead th {\n",
       "        text-align: right;\n",
       "    }\n",
       "</style>\n",
       "<table border=\"1\" class=\"dataframe\">\n",
       "  <thead>\n",
       "    <tr style=\"text-align: right;\">\n",
       "      <th></th>\n",
       "      <th>id</th>\n",
       "      <th>firstname</th>\n",
       "      <th>lastname</th>\n",
       "      <th>email</th>\n",
       "      <th>email2</th>\n",
       "      <th>profession</th>\n",
       "    </tr>\n",
       "  </thead>\n",
       "  <tbody>\n",
       "    <tr>\n",
       "      <th>995</th>\n",
       "      <td>1095</td>\n",
       "      <td>Benita</td>\n",
       "      <td>Kussell</td>\n",
       "      <td>Benita.Kussell@yopmail.com</td>\n",
       "      <td>Benita.Kussell@gmail.com</td>\n",
       "      <td>worker</td>\n",
       "    </tr>\n",
       "    <tr>\n",
       "      <th>996</th>\n",
       "      <td>1096</td>\n",
       "      <td>Carilyn</td>\n",
       "      <td>Serilda</td>\n",
       "      <td>Carilyn.Serilda@yopmail.com</td>\n",
       "      <td>Carilyn.Serilda@gmail.com</td>\n",
       "      <td>developer</td>\n",
       "    </tr>\n",
       "    <tr>\n",
       "      <th>997</th>\n",
       "      <td>1097</td>\n",
       "      <td>Fanchon</td>\n",
       "      <td>Hashim</td>\n",
       "      <td>Fanchon.Hashim@yopmail.com</td>\n",
       "      <td>Fanchon.Hashim@gmail.com</td>\n",
       "      <td>firefighter</td>\n",
       "    </tr>\n",
       "    <tr>\n",
       "      <th>998</th>\n",
       "      <td>1098</td>\n",
       "      <td>Hyacinthe</td>\n",
       "      <td>Naashom</td>\n",
       "      <td>Hyacinthe.Naashom@yopmail.com</td>\n",
       "      <td>Hyacinthe.Naashom@gmail.com</td>\n",
       "      <td>developer</td>\n",
       "    </tr>\n",
       "    <tr>\n",
       "      <th>999</th>\n",
       "      <td>1099</td>\n",
       "      <td>Trixi</td>\n",
       "      <td>Westphal</td>\n",
       "      <td>Trixi.Westphal@yopmail.com</td>\n",
       "      <td>Trixi.Westphal@gmail.com</td>\n",
       "      <td>worker</td>\n",
       "    </tr>\n",
       "  </tbody>\n",
       "</table>\n",
       "</div>"
      ],
      "text/plain": [
       "       id  firstname  lastname                          email  \\\n",
       "995  1095     Benita   Kussell     Benita.Kussell@yopmail.com   \n",
       "996  1096    Carilyn   Serilda    Carilyn.Serilda@yopmail.com   \n",
       "997  1097    Fanchon    Hashim     Fanchon.Hashim@yopmail.com   \n",
       "998  1098  Hyacinthe   Naashom  Hyacinthe.Naashom@yopmail.com   \n",
       "999  1099      Trixi  Westphal     Trixi.Westphal@yopmail.com   \n",
       "\n",
       "                          email2   profession  \n",
       "995     Benita.Kussell@gmail.com       worker  \n",
       "996    Carilyn.Serilda@gmail.com    developer  \n",
       "997     Fanchon.Hashim@gmail.com  firefighter  \n",
       "998  Hyacinthe.Naashom@gmail.com    developer  \n",
       "999     Trixi.Westphal@gmail.com       worker  "
      ]
     },
     "execution_count": 5,
     "metadata": {},
     "output_type": "execute_result"
    }
   ],
   "source": [
    "df.tail()"
   ]
  },
  {
   "cell_type": "code",
   "execution_count": 6,
   "metadata": {},
   "outputs": [
    {
     "data": {
      "text/plain": [
       "pandas.core.frame.DataFrame"
      ]
     },
     "execution_count": 6,
     "metadata": {},
     "output_type": "execute_result"
    }
   ],
   "source": [
    "type(df)"
   ]
  },
  {
   "cell_type": "code",
   "execution_count": 8,
   "metadata": {},
   "outputs": [
    {
     "data": {
      "text/plain": [
       "id             int64\n",
       "firstname     object\n",
       "lastname      object\n",
       "email         object\n",
       "email2        object\n",
       "profession    object\n",
       "dtype: object"
      ]
     },
     "execution_count": 8,
     "metadata": {},
     "output_type": "execute_result"
    }
   ],
   "source": [
    "df.dtypes"
   ]
  },
  {
   "cell_type": "code",
   "execution_count": 9,
   "metadata": {},
   "outputs": [
    {
     "data": {
      "text/html": [
       "<div>\n",
       "<style scoped>\n",
       "    .dataframe tbody tr th:only-of-type {\n",
       "        vertical-align: middle;\n",
       "    }\n",
       "\n",
       "    .dataframe tbody tr th {\n",
       "        vertical-align: top;\n",
       "    }\n",
       "\n",
       "    .dataframe thead th {\n",
       "        text-align: right;\n",
       "    }\n",
       "</style>\n",
       "<table border=\"1\" class=\"dataframe\">\n",
       "  <thead>\n",
       "    <tr style=\"text-align: right;\">\n",
       "      <th></th>\n",
       "      <th>id</th>\n",
       "    </tr>\n",
       "  </thead>\n",
       "  <tbody>\n",
       "    <tr>\n",
       "      <th>count</th>\n",
       "      <td>1000.000000</td>\n",
       "    </tr>\n",
       "    <tr>\n",
       "      <th>mean</th>\n",
       "      <td>599.500000</td>\n",
       "    </tr>\n",
       "    <tr>\n",
       "      <th>std</th>\n",
       "      <td>288.819436</td>\n",
       "    </tr>\n",
       "    <tr>\n",
       "      <th>min</th>\n",
       "      <td>100.000000</td>\n",
       "    </tr>\n",
       "    <tr>\n",
       "      <th>25%</th>\n",
       "      <td>349.750000</td>\n",
       "    </tr>\n",
       "    <tr>\n",
       "      <th>50%</th>\n",
       "      <td>599.500000</td>\n",
       "    </tr>\n",
       "    <tr>\n",
       "      <th>75%</th>\n",
       "      <td>849.250000</td>\n",
       "    </tr>\n",
       "    <tr>\n",
       "      <th>max</th>\n",
       "      <td>1099.000000</td>\n",
       "    </tr>\n",
       "  </tbody>\n",
       "</table>\n",
       "</div>"
      ],
      "text/plain": [
       "                id\n",
       "count  1000.000000\n",
       "mean    599.500000\n",
       "std     288.819436\n",
       "min     100.000000\n",
       "25%     349.750000\n",
       "50%     599.500000\n",
       "75%     849.250000\n",
       "max    1099.000000"
      ]
     },
     "execution_count": 9,
     "metadata": {},
     "output_type": "execute_result"
    }
   ],
   "source": [
    "df.describe()"
   ]
  },
  {
   "cell_type": "code",
   "execution_count": 33,
   "metadata": {},
   "outputs": [],
   "source": [
    "df = pd.read_csv(\"75_csv_file_for_pandas.csv\")\n"
   ]
  },
  {
   "cell_type": "code",
   "execution_count": 11,
   "metadata": {},
   "outputs": [
    {
     "data": {
      "text/html": [
       "<div>\n",
       "<style scoped>\n",
       "    .dataframe tbody tr th:only-of-type {\n",
       "        vertical-align: middle;\n",
       "    }\n",
       "\n",
       "    .dataframe tbody tr th {\n",
       "        vertical-align: top;\n",
       "    }\n",
       "\n",
       "    .dataframe thead th {\n",
       "        text-align: right;\n",
       "    }\n",
       "</style>\n",
       "<table border=\"1\" class=\"dataframe\">\n",
       "  <thead>\n",
       "    <tr style=\"text-align: right;\">\n",
       "      <th></th>\n",
       "      <th>id</th>\n",
       "    </tr>\n",
       "  </thead>\n",
       "  <tbody>\n",
       "    <tr>\n",
       "      <th>count</th>\n",
       "      <td>1000.000000</td>\n",
       "    </tr>\n",
       "    <tr>\n",
       "      <th>mean</th>\n",
       "      <td>599.500000</td>\n",
       "    </tr>\n",
       "    <tr>\n",
       "      <th>std</th>\n",
       "      <td>288.819436</td>\n",
       "    </tr>\n",
       "    <tr>\n",
       "      <th>min</th>\n",
       "      <td>100.000000</td>\n",
       "    </tr>\n",
       "    <tr>\n",
       "      <th>25%</th>\n",
       "      <td>349.750000</td>\n",
       "    </tr>\n",
       "    <tr>\n",
       "      <th>50%</th>\n",
       "      <td>599.500000</td>\n",
       "    </tr>\n",
       "    <tr>\n",
       "      <th>75%</th>\n",
       "      <td>849.250000</td>\n",
       "    </tr>\n",
       "    <tr>\n",
       "      <th>max</th>\n",
       "      <td>1099.000000</td>\n",
       "    </tr>\n",
       "  </tbody>\n",
       "</table>\n",
       "</div>"
      ],
      "text/plain": [
       "                id\n",
       "count  1000.000000\n",
       "mean    599.500000\n",
       "std     288.819436\n",
       "min     100.000000\n",
       "25%     349.750000\n",
       "50%     599.500000\n",
       "75%     849.250000\n",
       "max    1099.000000"
      ]
     },
     "execution_count": 11,
     "metadata": {},
     "output_type": "execute_result"
    }
   ],
   "source": [
    "df.describe()"
   ]
  },
  {
   "cell_type": "code",
   "execution_count": 12,
   "metadata": {},
   "outputs": [
    {
     "data": {
      "text/plain": [
       "id             int64\n",
       "firstname     object\n",
       "lastname      object\n",
       "email         object\n",
       "email2        object\n",
       "profession    object\n",
       "dtype: object"
      ]
     },
     "execution_count": 12,
     "metadata": {},
     "output_type": "execute_result"
    }
   ],
   "source": [
    "df.dtypes"
   ]
  },
  {
   "cell_type": "code",
   "execution_count": 13,
   "metadata": {},
   "outputs": [
    {
     "data": {
      "text/html": [
       "<div>\n",
       "<style scoped>\n",
       "    .dataframe tbody tr th:only-of-type {\n",
       "        vertical-align: middle;\n",
       "    }\n",
       "\n",
       "    .dataframe tbody tr th {\n",
       "        vertical-align: top;\n",
       "    }\n",
       "\n",
       "    .dataframe thead th {\n",
       "        text-align: right;\n",
       "    }\n",
       "</style>\n",
       "<table border=\"1\" class=\"dataframe\">\n",
       "  <thead>\n",
       "    <tr style=\"text-align: right;\">\n",
       "      <th></th>\n",
       "      <th>firstname</th>\n",
       "      <th>lastname</th>\n",
       "      <th>email</th>\n",
       "      <th>email2</th>\n",
       "    </tr>\n",
       "  </thead>\n",
       "  <tbody>\n",
       "    <tr>\n",
       "      <th>0</th>\n",
       "      <td>Rani</td>\n",
       "      <td>Cherianne</td>\n",
       "      <td>Rani.Cherianne@yopmail.com</td>\n",
       "      <td>Rani.Cherianne@gmail.com</td>\n",
       "    </tr>\n",
       "    <tr>\n",
       "      <th>1</th>\n",
       "      <td>Flo</td>\n",
       "      <td>Whiffen</td>\n",
       "      <td>Flo.Whiffen@yopmail.com</td>\n",
       "      <td>Flo.Whiffen@gmail.com</td>\n",
       "    </tr>\n",
       "    <tr>\n",
       "      <th>2</th>\n",
       "      <td>Berta</td>\n",
       "      <td>Vorster</td>\n",
       "      <td>Berta.Vorster@yopmail.com</td>\n",
       "      <td>Berta.Vorster@gmail.com</td>\n",
       "    </tr>\n",
       "    <tr>\n",
       "      <th>3</th>\n",
       "      <td>Evaleen</td>\n",
       "      <td>Marden</td>\n",
       "      <td>Evaleen.Marden@yopmail.com</td>\n",
       "      <td>Evaleen.Marden@gmail.com</td>\n",
       "    </tr>\n",
       "    <tr>\n",
       "      <th>4</th>\n",
       "      <td>Meg</td>\n",
       "      <td>Ferino</td>\n",
       "      <td>Meg.Ferino@yopmail.com</td>\n",
       "      <td>Meg.Ferino@gmail.com</td>\n",
       "    </tr>\n",
       "    <tr>\n",
       "      <th>...</th>\n",
       "      <td>...</td>\n",
       "      <td>...</td>\n",
       "      <td>...</td>\n",
       "      <td>...</td>\n",
       "    </tr>\n",
       "    <tr>\n",
       "      <th>995</th>\n",
       "      <td>Benita</td>\n",
       "      <td>Kussell</td>\n",
       "      <td>Benita.Kussell@yopmail.com</td>\n",
       "      <td>Benita.Kussell@gmail.com</td>\n",
       "    </tr>\n",
       "    <tr>\n",
       "      <th>996</th>\n",
       "      <td>Carilyn</td>\n",
       "      <td>Serilda</td>\n",
       "      <td>Carilyn.Serilda@yopmail.com</td>\n",
       "      <td>Carilyn.Serilda@gmail.com</td>\n",
       "    </tr>\n",
       "    <tr>\n",
       "      <th>997</th>\n",
       "      <td>Fanchon</td>\n",
       "      <td>Hashim</td>\n",
       "      <td>Fanchon.Hashim@yopmail.com</td>\n",
       "      <td>Fanchon.Hashim@gmail.com</td>\n",
       "    </tr>\n",
       "    <tr>\n",
       "      <th>998</th>\n",
       "      <td>Hyacinthe</td>\n",
       "      <td>Naashom</td>\n",
       "      <td>Hyacinthe.Naashom@yopmail.com</td>\n",
       "      <td>Hyacinthe.Naashom@gmail.com</td>\n",
       "    </tr>\n",
       "    <tr>\n",
       "      <th>999</th>\n",
       "      <td>Trixi</td>\n",
       "      <td>Westphal</td>\n",
       "      <td>Trixi.Westphal@yopmail.com</td>\n",
       "      <td>Trixi.Westphal@gmail.com</td>\n",
       "    </tr>\n",
       "  </tbody>\n",
       "</table>\n",
       "<p>1000 rows × 4 columns</p>\n",
       "</div>"
      ],
      "text/plain": [
       "     firstname   lastname                          email  \\\n",
       "0         Rani  Cherianne     Rani.Cherianne@yopmail.com   \n",
       "1          Flo    Whiffen        Flo.Whiffen@yopmail.com   \n",
       "2        Berta    Vorster      Berta.Vorster@yopmail.com   \n",
       "3      Evaleen     Marden     Evaleen.Marden@yopmail.com   \n",
       "4          Meg     Ferino         Meg.Ferino@yopmail.com   \n",
       "..         ...        ...                            ...   \n",
       "995     Benita    Kussell     Benita.Kussell@yopmail.com   \n",
       "996    Carilyn    Serilda    Carilyn.Serilda@yopmail.com   \n",
       "997    Fanchon     Hashim     Fanchon.Hashim@yopmail.com   \n",
       "998  Hyacinthe    Naashom  Hyacinthe.Naashom@yopmail.com   \n",
       "999      Trixi   Westphal     Trixi.Westphal@yopmail.com   \n",
       "\n",
       "                          email2  \n",
       "0       Rani.Cherianne@gmail.com  \n",
       "1          Flo.Whiffen@gmail.com  \n",
       "2        Berta.Vorster@gmail.com  \n",
       "3       Evaleen.Marden@gmail.com  \n",
       "4           Meg.Ferino@gmail.com  \n",
       "..                           ...  \n",
       "995     Benita.Kussell@gmail.com  \n",
       "996    Carilyn.Serilda@gmail.com  \n",
       "997     Fanchon.Hashim@gmail.com  \n",
       "998  Hyacinthe.Naashom@gmail.com  \n",
       "999     Trixi.Westphal@gmail.com  \n",
       "\n",
       "[1000 rows x 4 columns]"
      ]
     },
     "execution_count": 13,
     "metadata": {},
     "output_type": "execute_result"
    }
   ],
   "source": [
    "df[['firstname', 'lastname','email','email2']]"
   ]
  },
  {
   "cell_type": "code",
   "execution_count": 14,
   "metadata": {},
   "outputs": [
    {
     "data": {
      "text/plain": [
       "id            False\n",
       "firstname      True\n",
       "lastname       True\n",
       "email          True\n",
       "email2         True\n",
       "profession     True\n",
       "dtype: bool"
      ]
     },
     "execution_count": 14,
     "metadata": {},
     "output_type": "execute_result"
    }
   ],
   "source": [
    "df.dtypes == 'object'"
   ]
  },
  {
   "cell_type": "code",
   "execution_count": 16,
   "metadata": {},
   "outputs": [
    {
     "data": {
      "text/plain": [
       "firstname     object\n",
       "lastname      object\n",
       "email         object\n",
       "email2        object\n",
       "profession    object\n",
       "dtype: object"
      ]
     },
     "execution_count": 16,
     "metadata": {},
     "output_type": "execute_result"
    }
   ],
   "source": [
    "df.dtypes[df.dtypes == 'object']"
   ]
  },
  {
   "cell_type": "code",
   "execution_count": 17,
   "metadata": {},
   "outputs": [
    {
     "data": {
      "text/plain": [
       "Index(['firstname', 'lastname', 'email', 'email2', 'profession'], dtype='object')"
      ]
     },
     "execution_count": 17,
     "metadata": {},
     "output_type": "execute_result"
    }
   ],
   "source": [
    "df.dtypes[df.dtypes == 'object'].index"
   ]
  },
  {
   "cell_type": "code",
   "execution_count": 19,
   "metadata": {},
   "outputs": [
    {
     "data": {
      "text/plain": [
       "pandas.core.series.Series"
      ]
     },
     "execution_count": 19,
     "metadata": {},
     "output_type": "execute_result"
    }
   ],
   "source": [
    "type(df.dtypes[df.dtypes == 'object'])"
   ]
  },
  {
   "cell_type": "code",
   "execution_count": 20,
   "metadata": {},
   "outputs": [
    {
     "data": {
      "text/html": [
       "<div>\n",
       "<style scoped>\n",
       "    .dataframe tbody tr th:only-of-type {\n",
       "        vertical-align: middle;\n",
       "    }\n",
       "\n",
       "    .dataframe tbody tr th {\n",
       "        vertical-align: top;\n",
       "    }\n",
       "\n",
       "    .dataframe thead th {\n",
       "        text-align: right;\n",
       "    }\n",
       "</style>\n",
       "<table border=\"1\" class=\"dataframe\">\n",
       "  <thead>\n",
       "    <tr style=\"text-align: right;\">\n",
       "      <th></th>\n",
       "      <th>firstname</th>\n",
       "      <th>lastname</th>\n",
       "      <th>email</th>\n",
       "      <th>email2</th>\n",
       "      <th>profession</th>\n",
       "    </tr>\n",
       "  </thead>\n",
       "  <tbody>\n",
       "    <tr>\n",
       "      <th>count</th>\n",
       "      <td>1000</td>\n",
       "      <td>1000</td>\n",
       "      <td>1000</td>\n",
       "      <td>1000</td>\n",
       "      <td>1000</td>\n",
       "    </tr>\n",
       "    <tr>\n",
       "      <th>unique</th>\n",
       "      <td>542</td>\n",
       "      <td>640</td>\n",
       "      <td>999</td>\n",
       "      <td>999</td>\n",
       "      <td>5</td>\n",
       "    </tr>\n",
       "    <tr>\n",
       "      <th>top</th>\n",
       "      <td>Charissa</td>\n",
       "      <td>Cynar</td>\n",
       "      <td>Jenda.Viddah@yopmail.com</td>\n",
       "      <td>Jenda.Viddah@gmail.com</td>\n",
       "      <td>firefighter</td>\n",
       "    </tr>\n",
       "    <tr>\n",
       "      <th>freq</th>\n",
       "      <td>6</td>\n",
       "      <td>5</td>\n",
       "      <td>2</td>\n",
       "      <td>2</td>\n",
       "      <td>213</td>\n",
       "    </tr>\n",
       "  </tbody>\n",
       "</table>\n",
       "</div>"
      ],
      "text/plain": [
       "       firstname lastname                     email                  email2  \\\n",
       "count       1000     1000                      1000                    1000   \n",
       "unique       542      640                       999                     999   \n",
       "top     Charissa    Cynar  Jenda.Viddah@yopmail.com  Jenda.Viddah@gmail.com   \n",
       "freq           6        5                         2                       2   \n",
       "\n",
       "         profession  \n",
       "count          1000  \n",
       "unique            5  \n",
       "top     firefighter  \n",
       "freq            213  "
      ]
     },
     "execution_count": 20,
     "metadata": {},
     "output_type": "execute_result"
    }
   ],
   "source": [
    "df[df.dtypes[df.dtypes == 'object'].index].describe()"
   ]
  },
  {
   "cell_type": "code",
   "execution_count": 23,
   "metadata": {},
   "outputs": [
    {
     "data": {
      "text/html": [
       "<div>\n",
       "<style scoped>\n",
       "    .dataframe tbody tr th:only-of-type {\n",
       "        vertical-align: middle;\n",
       "    }\n",
       "\n",
       "    .dataframe tbody tr th {\n",
       "        vertical-align: top;\n",
       "    }\n",
       "\n",
       "    .dataframe thead th {\n",
       "        text-align: right;\n",
       "    }\n",
       "</style>\n",
       "<table border=\"1\" class=\"dataframe\">\n",
       "  <thead>\n",
       "    <tr style=\"text-align: right;\">\n",
       "      <th></th>\n",
       "      <th>email</th>\n",
       "      <th>profession</th>\n",
       "    </tr>\n",
       "  </thead>\n",
       "  <tbody>\n",
       "    <tr>\n",
       "      <th>4</th>\n",
       "      <td>Meg.Ferino@yopmail.com</td>\n",
       "      <td>worker</td>\n",
       "    </tr>\n",
       "    <tr>\n",
       "      <th>7</th>\n",
       "      <td>Jackie.Tiffa@yopmail.com</td>\n",
       "      <td>doctor</td>\n",
       "    </tr>\n",
       "    <tr>\n",
       "      <th>10</th>\n",
       "      <td>Nataline.Sammons@yopmail.com</td>\n",
       "      <td>doctor</td>\n",
       "    </tr>\n",
       "    <tr>\n",
       "      <th>13</th>\n",
       "      <td>Gusella.Bord@yopmail.com</td>\n",
       "      <td>police officer</td>\n",
       "    </tr>\n",
       "    <tr>\n",
       "      <th>16</th>\n",
       "      <td>Kore.Brittani@yopmail.com</td>\n",
       "      <td>firefighter</td>\n",
       "    </tr>\n",
       "    <tr>\n",
       "      <th>19</th>\n",
       "      <td>Merrie.Zeeba@yopmail.com</td>\n",
       "      <td>worker</td>\n",
       "    </tr>\n",
       "  </tbody>\n",
       "</table>\n",
       "</div>"
      ],
      "text/plain": [
       "                           email      profession\n",
       "4         Meg.Ferino@yopmail.com          worker\n",
       "7       Jackie.Tiffa@yopmail.com          doctor\n",
       "10  Nataline.Sammons@yopmail.com          doctor\n",
       "13      Gusella.Bord@yopmail.com  police officer\n",
       "16     Kore.Brittani@yopmail.com     firefighter\n",
       "19      Merrie.Zeeba@yopmail.com          worker"
      ]
     },
     "execution_count": 23,
     "metadata": {},
     "output_type": "execute_result"
    }
   ],
   "source": [
    "df[['email','profession']][4:21:3]"
   ]
  },
  {
   "cell_type": "code",
   "execution_count": 24,
   "metadata": {},
   "outputs": [],
   "source": [
    "df['new_column'] = df['firstname'] + ' ' + df['lastname']"
   ]
  },
  {
   "cell_type": "code",
   "execution_count": 25,
   "metadata": {},
   "outputs": [
    {
     "data": {
      "text/html": [
       "<div>\n",
       "<style scoped>\n",
       "    .dataframe tbody tr th:only-of-type {\n",
       "        vertical-align: middle;\n",
       "    }\n",
       "\n",
       "    .dataframe tbody tr th {\n",
       "        vertical-align: top;\n",
       "    }\n",
       "\n",
       "    .dataframe thead th {\n",
       "        text-align: right;\n",
       "    }\n",
       "</style>\n",
       "<table border=\"1\" class=\"dataframe\">\n",
       "  <thead>\n",
       "    <tr style=\"text-align: right;\">\n",
       "      <th></th>\n",
       "      <th>id</th>\n",
       "      <th>firstname</th>\n",
       "      <th>lastname</th>\n",
       "      <th>email</th>\n",
       "      <th>email2</th>\n",
       "      <th>profession</th>\n",
       "      <th>new_column</th>\n",
       "    </tr>\n",
       "  </thead>\n",
       "  <tbody>\n",
       "    <tr>\n",
       "      <th>0</th>\n",
       "      <td>100</td>\n",
       "      <td>Rani</td>\n",
       "      <td>Cherianne</td>\n",
       "      <td>Rani.Cherianne@yopmail.com</td>\n",
       "      <td>Rani.Cherianne@gmail.com</td>\n",
       "      <td>developer</td>\n",
       "      <td>Rani Cherianne</td>\n",
       "    </tr>\n",
       "    <tr>\n",
       "      <th>1</th>\n",
       "      <td>101</td>\n",
       "      <td>Flo</td>\n",
       "      <td>Whiffen</td>\n",
       "      <td>Flo.Whiffen@yopmail.com</td>\n",
       "      <td>Flo.Whiffen@gmail.com</td>\n",
       "      <td>worker</td>\n",
       "      <td>Flo Whiffen</td>\n",
       "    </tr>\n",
       "    <tr>\n",
       "      <th>2</th>\n",
       "      <td>102</td>\n",
       "      <td>Berta</td>\n",
       "      <td>Vorster</td>\n",
       "      <td>Berta.Vorster@yopmail.com</td>\n",
       "      <td>Berta.Vorster@gmail.com</td>\n",
       "      <td>developer</td>\n",
       "      <td>Berta Vorster</td>\n",
       "    </tr>\n",
       "    <tr>\n",
       "      <th>3</th>\n",
       "      <td>103</td>\n",
       "      <td>Evaleen</td>\n",
       "      <td>Marden</td>\n",
       "      <td>Evaleen.Marden@yopmail.com</td>\n",
       "      <td>Evaleen.Marden@gmail.com</td>\n",
       "      <td>worker</td>\n",
       "      <td>Evaleen Marden</td>\n",
       "    </tr>\n",
       "    <tr>\n",
       "      <th>4</th>\n",
       "      <td>104</td>\n",
       "      <td>Meg</td>\n",
       "      <td>Ferino</td>\n",
       "      <td>Meg.Ferino@yopmail.com</td>\n",
       "      <td>Meg.Ferino@gmail.com</td>\n",
       "      <td>worker</td>\n",
       "      <td>Meg Ferino</td>\n",
       "    </tr>\n",
       "    <tr>\n",
       "      <th>...</th>\n",
       "      <td>...</td>\n",
       "      <td>...</td>\n",
       "      <td>...</td>\n",
       "      <td>...</td>\n",
       "      <td>...</td>\n",
       "      <td>...</td>\n",
       "      <td>...</td>\n",
       "    </tr>\n",
       "    <tr>\n",
       "      <th>995</th>\n",
       "      <td>1095</td>\n",
       "      <td>Benita</td>\n",
       "      <td>Kussell</td>\n",
       "      <td>Benita.Kussell@yopmail.com</td>\n",
       "      <td>Benita.Kussell@gmail.com</td>\n",
       "      <td>worker</td>\n",
       "      <td>Benita Kussell</td>\n",
       "    </tr>\n",
       "    <tr>\n",
       "      <th>996</th>\n",
       "      <td>1096</td>\n",
       "      <td>Carilyn</td>\n",
       "      <td>Serilda</td>\n",
       "      <td>Carilyn.Serilda@yopmail.com</td>\n",
       "      <td>Carilyn.Serilda@gmail.com</td>\n",
       "      <td>developer</td>\n",
       "      <td>Carilyn Serilda</td>\n",
       "    </tr>\n",
       "    <tr>\n",
       "      <th>997</th>\n",
       "      <td>1097</td>\n",
       "      <td>Fanchon</td>\n",
       "      <td>Hashim</td>\n",
       "      <td>Fanchon.Hashim@yopmail.com</td>\n",
       "      <td>Fanchon.Hashim@gmail.com</td>\n",
       "      <td>firefighter</td>\n",
       "      <td>Fanchon Hashim</td>\n",
       "    </tr>\n",
       "    <tr>\n",
       "      <th>998</th>\n",
       "      <td>1098</td>\n",
       "      <td>Hyacinthe</td>\n",
       "      <td>Naashom</td>\n",
       "      <td>Hyacinthe.Naashom@yopmail.com</td>\n",
       "      <td>Hyacinthe.Naashom@gmail.com</td>\n",
       "      <td>developer</td>\n",
       "      <td>Hyacinthe Naashom</td>\n",
       "    </tr>\n",
       "    <tr>\n",
       "      <th>999</th>\n",
       "      <td>1099</td>\n",
       "      <td>Trixi</td>\n",
       "      <td>Westphal</td>\n",
       "      <td>Trixi.Westphal@yopmail.com</td>\n",
       "      <td>Trixi.Westphal@gmail.com</td>\n",
       "      <td>worker</td>\n",
       "      <td>Trixi Westphal</td>\n",
       "    </tr>\n",
       "  </tbody>\n",
       "</table>\n",
       "<p>1000 rows × 7 columns</p>\n",
       "</div>"
      ],
      "text/plain": [
       "       id  firstname   lastname                          email  \\\n",
       "0     100       Rani  Cherianne     Rani.Cherianne@yopmail.com   \n",
       "1     101        Flo    Whiffen        Flo.Whiffen@yopmail.com   \n",
       "2     102      Berta    Vorster      Berta.Vorster@yopmail.com   \n",
       "3     103    Evaleen     Marden     Evaleen.Marden@yopmail.com   \n",
       "4     104        Meg     Ferino         Meg.Ferino@yopmail.com   \n",
       "..    ...        ...        ...                            ...   \n",
       "995  1095     Benita    Kussell     Benita.Kussell@yopmail.com   \n",
       "996  1096    Carilyn    Serilda    Carilyn.Serilda@yopmail.com   \n",
       "997  1097    Fanchon     Hashim     Fanchon.Hashim@yopmail.com   \n",
       "998  1098  Hyacinthe    Naashom  Hyacinthe.Naashom@yopmail.com   \n",
       "999  1099      Trixi   Westphal     Trixi.Westphal@yopmail.com   \n",
       "\n",
       "                          email2   profession         new_column  \n",
       "0       Rani.Cherianne@gmail.com    developer     Rani Cherianne  \n",
       "1          Flo.Whiffen@gmail.com       worker        Flo Whiffen  \n",
       "2        Berta.Vorster@gmail.com    developer      Berta Vorster  \n",
       "3       Evaleen.Marden@gmail.com       worker     Evaleen Marden  \n",
       "4           Meg.Ferino@gmail.com       worker         Meg Ferino  \n",
       "..                           ...          ...                ...  \n",
       "995     Benita.Kussell@gmail.com       worker     Benita Kussell  \n",
       "996    Carilyn.Serilda@gmail.com    developer    Carilyn Serilda  \n",
       "997     Fanchon.Hashim@gmail.com  firefighter     Fanchon Hashim  \n",
       "998  Hyacinthe.Naashom@gmail.com    developer  Hyacinthe Naashom  \n",
       "999     Trixi.Westphal@gmail.com       worker     Trixi Westphal  \n",
       "\n",
       "[1000 rows x 7 columns]"
      ]
     },
     "execution_count": 25,
     "metadata": {},
     "output_type": "execute_result"
    }
   ],
   "source": [
    "df"
   ]
  },
  {
   "cell_type": "code",
   "execution_count": 27,
   "metadata": {},
   "outputs": [
    {
     "data": {
      "text/html": [
       "<div>\n",
       "<style scoped>\n",
       "    .dataframe tbody tr th:only-of-type {\n",
       "        vertical-align: middle;\n",
       "    }\n",
       "\n",
       "    .dataframe tbody tr th {\n",
       "        vertical-align: top;\n",
       "    }\n",
       "\n",
       "    .dataframe thead th {\n",
       "        text-align: right;\n",
       "    }\n",
       "</style>\n",
       "<table border=\"1\" class=\"dataframe\">\n",
       "  <thead>\n",
       "    <tr style=\"text-align: right;\">\n",
       "      <th></th>\n",
       "      <th>id</th>\n",
       "      <th>firstname</th>\n",
       "      <th>lastname</th>\n",
       "      <th>email</th>\n",
       "      <th>email2</th>\n",
       "      <th>profession</th>\n",
       "      <th>new_column</th>\n",
       "    </tr>\n",
       "  </thead>\n",
       "  <tbody>\n",
       "    <tr>\n",
       "      <th>0</th>\n",
       "      <td>100</td>\n",
       "      <td>Rani</td>\n",
       "      <td>Cherianne</td>\n",
       "      <td>Rani.Cherianne@yopmail.com</td>\n",
       "      <td>Rani.Cherianne@gmail.com</td>\n",
       "      <td>developer</td>\n",
       "      <td>Rani Cherianne</td>\n",
       "    </tr>\n",
       "    <tr>\n",
       "      <th>1</th>\n",
       "      <td>101</td>\n",
       "      <td>Flo</td>\n",
       "      <td>Whiffen</td>\n",
       "      <td>Flo.Whiffen@yopmail.com</td>\n",
       "      <td>Flo.Whiffen@gmail.com</td>\n",
       "      <td>worker</td>\n",
       "      <td>Flo Whiffen</td>\n",
       "    </tr>\n",
       "    <tr>\n",
       "      <th>2</th>\n",
       "      <td>102</td>\n",
       "      <td>Berta</td>\n",
       "      <td>Vorster</td>\n",
       "      <td>Berta.Vorster@yopmail.com</td>\n",
       "      <td>Berta.Vorster@gmail.com</td>\n",
       "      <td>developer</td>\n",
       "      <td>Berta Vorster</td>\n",
       "    </tr>\n",
       "    <tr>\n",
       "      <th>3</th>\n",
       "      <td>103</td>\n",
       "      <td>Evaleen</td>\n",
       "      <td>Marden</td>\n",
       "      <td>Evaleen.Marden@yopmail.com</td>\n",
       "      <td>Evaleen.Marden@gmail.com</td>\n",
       "      <td>worker</td>\n",
       "      <td>Evaleen Marden</td>\n",
       "    </tr>\n",
       "    <tr>\n",
       "      <th>4</th>\n",
       "      <td>104</td>\n",
       "      <td>Meg</td>\n",
       "      <td>Ferino</td>\n",
       "      <td>Meg.Ferino@yopmail.com</td>\n",
       "      <td>Meg.Ferino@gmail.com</td>\n",
       "      <td>worker</td>\n",
       "      <td>Meg Ferino</td>\n",
       "    </tr>\n",
       "  </tbody>\n",
       "</table>\n",
       "</div>"
      ],
      "text/plain": [
       "    id firstname   lastname                       email  \\\n",
       "0  100      Rani  Cherianne  Rani.Cherianne@yopmail.com   \n",
       "1  101       Flo    Whiffen     Flo.Whiffen@yopmail.com   \n",
       "2  102     Berta    Vorster   Berta.Vorster@yopmail.com   \n",
       "3  103   Evaleen     Marden  Evaleen.Marden@yopmail.com   \n",
       "4  104       Meg     Ferino      Meg.Ferino@yopmail.com   \n",
       "\n",
       "                     email2 profession      new_column  \n",
       "0  Rani.Cherianne@gmail.com  developer  Rani Cherianne  \n",
       "1     Flo.Whiffen@gmail.com     worker     Flo Whiffen  \n",
       "2   Berta.Vorster@gmail.com  developer   Berta Vorster  \n",
       "3  Evaleen.Marden@gmail.com     worker  Evaleen Marden  \n",
       "4      Meg.Ferino@gmail.com     worker      Meg Ferino  "
      ]
     },
     "execution_count": 27,
     "metadata": {},
     "output_type": "execute_result"
    }
   ],
   "source": [
    "df.head()"
   ]
  },
  {
   "cell_type": "code",
   "execution_count": 29,
   "metadata": {},
   "outputs": [
    {
     "data": {
      "text/plain": [
       "[100, 101, 102, 103, 104, ..., 1095, 1096, 1097, 1098, 1099]\n",
       "Length: 1000\n",
       "Categories (1000, int64): [100, 101, 102, 103, ..., 1096, 1097, 1098, 1099]"
      ]
     },
     "execution_count": 29,
     "metadata": {},
     "output_type": "execute_result"
    }
   ],
   "source": [
    "pd.Categorical(df['id'])"
   ]
  },
  {
   "cell_type": "code",
   "execution_count": 30,
   "metadata": {},
   "outputs": [
    {
     "data": {
      "text/plain": [
       "['Cherianne', 'Whiffen', 'Vorster', 'Marden', 'Ferino', ..., 'Kussell', 'Serilda', 'Hashim', 'Naashom', 'Westphal']\n",
       "Length: 1000\n",
       "Categories (640, object): ['Abernon', 'Abram', 'Ackerley', 'Adamsen', ..., 'Zina', 'Zola', 'Zrike', 'Zuzana']"
      ]
     },
     "execution_count": 30,
     "metadata": {},
     "output_type": "execute_result"
    }
   ],
   "source": [
    "pd.Categorical(df['lastname'])"
   ]
  },
  {
   "cell_type": "code",
   "execution_count": 35,
   "metadata": {},
   "outputs": [
    {
     "ename": "IndexError",
     "evalue": ".iloc requires numeric indexers, got ['firstname' 'lastname']",
     "output_type": "error",
     "traceback": [
      "\u001b[0;31m---------------------------------------------------------------------------\u001b[0m",
      "\u001b[0;31mIndexError\u001b[0m                                Traceback (most recent call last)",
      "Cell \u001b[0;32mIn[35], line 1\u001b[0m\n\u001b[0;32m----> 1\u001b[0m df\u001b[39m.\u001b[39;49miloc[\u001b[39m0\u001b[39;49m:\u001b[39m2\u001b[39;49m,[\u001b[39m'\u001b[39;49m\u001b[39mfirstname\u001b[39;49m\u001b[39m'\u001b[39;49m,\u001b[39m'\u001b[39;49m\u001b[39mlastname\u001b[39;49m\u001b[39m'\u001b[39;49m]]\n",
      "File \u001b[0;32m~/.pyenv/versions/3.10.2/lib/python3.10/site-packages/pandas/core/indexing.py:1067\u001b[0m, in \u001b[0;36m_LocationIndexer.__getitem__\u001b[0;34m(self, key)\u001b[0m\n\u001b[1;32m   1065\u001b[0m     \u001b[39mif\u001b[39;00m \u001b[39mself\u001b[39m\u001b[39m.\u001b[39m_is_scalar_access(key):\n\u001b[1;32m   1066\u001b[0m         \u001b[39mreturn\u001b[39;00m \u001b[39mself\u001b[39m\u001b[39m.\u001b[39mobj\u001b[39m.\u001b[39m_get_value(\u001b[39m*\u001b[39mkey, takeable\u001b[39m=\u001b[39m\u001b[39mself\u001b[39m\u001b[39m.\u001b[39m_takeable)\n\u001b[0;32m-> 1067\u001b[0m     \u001b[39mreturn\u001b[39;00m \u001b[39mself\u001b[39;49m\u001b[39m.\u001b[39;49m_getitem_tuple(key)\n\u001b[1;32m   1068\u001b[0m \u001b[39melse\u001b[39;00m:\n\u001b[1;32m   1069\u001b[0m     \u001b[39m# we by definition only have the 0th axis\u001b[39;00m\n\u001b[1;32m   1070\u001b[0m     axis \u001b[39m=\u001b[39m \u001b[39mself\u001b[39m\u001b[39m.\u001b[39maxis \u001b[39mor\u001b[39;00m \u001b[39m0\u001b[39m\n",
      "File \u001b[0;32m~/.pyenv/versions/3.10.2/lib/python3.10/site-packages/pandas/core/indexing.py:1563\u001b[0m, in \u001b[0;36m_iLocIndexer._getitem_tuple\u001b[0;34m(self, tup)\u001b[0m\n\u001b[1;32m   1561\u001b[0m \u001b[39mdef\u001b[39;00m \u001b[39m_getitem_tuple\u001b[39m(\u001b[39mself\u001b[39m, tup: \u001b[39mtuple\u001b[39m):\n\u001b[0;32m-> 1563\u001b[0m     tup \u001b[39m=\u001b[39m \u001b[39mself\u001b[39;49m\u001b[39m.\u001b[39;49m_validate_tuple_indexer(tup)\n\u001b[1;32m   1564\u001b[0m     \u001b[39mwith\u001b[39;00m suppress(IndexingError):\n\u001b[1;32m   1565\u001b[0m         \u001b[39mreturn\u001b[39;00m \u001b[39mself\u001b[39m\u001b[39m.\u001b[39m_getitem_lowerdim(tup)\n",
      "File \u001b[0;32m~/.pyenv/versions/3.10.2/lib/python3.10/site-packages/pandas/core/indexing.py:873\u001b[0m, in \u001b[0;36m_LocationIndexer._validate_tuple_indexer\u001b[0;34m(self, key)\u001b[0m\n\u001b[1;32m    871\u001b[0m \u001b[39mfor\u001b[39;00m i, k \u001b[39min\u001b[39;00m \u001b[39menumerate\u001b[39m(key):\n\u001b[1;32m    872\u001b[0m     \u001b[39mtry\u001b[39;00m:\n\u001b[0;32m--> 873\u001b[0m         \u001b[39mself\u001b[39;49m\u001b[39m.\u001b[39;49m_validate_key(k, i)\n\u001b[1;32m    874\u001b[0m     \u001b[39mexcept\u001b[39;00m \u001b[39mValueError\u001b[39;00m \u001b[39mas\u001b[39;00m err:\n\u001b[1;32m    875\u001b[0m         \u001b[39mraise\u001b[39;00m \u001b[39mValueError\u001b[39;00m(\n\u001b[1;32m    876\u001b[0m             \u001b[39m\"\u001b[39m\u001b[39mLocation based indexing can only have \u001b[39m\u001b[39m\"\u001b[39m\n\u001b[1;32m    877\u001b[0m             \u001b[39mf\u001b[39m\u001b[39m\"\u001b[39m\u001b[39m[\u001b[39m\u001b[39m{\u001b[39;00m\u001b[39mself\u001b[39m\u001b[39m.\u001b[39m_valid_types\u001b[39m}\u001b[39;00m\u001b[39m] types\u001b[39m\u001b[39m\"\u001b[39m\n\u001b[1;32m    878\u001b[0m         ) \u001b[39mfrom\u001b[39;00m \u001b[39merr\u001b[39;00m\n",
      "File \u001b[0;32m~/.pyenv/versions/3.10.2/lib/python3.10/site-packages/pandas/core/indexing.py:1477\u001b[0m, in \u001b[0;36m_iLocIndexer._validate_key\u001b[0;34m(self, key, axis)\u001b[0m\n\u001b[1;32m   1475\u001b[0m \u001b[39m# check that the key has a numeric dtype\u001b[39;00m\n\u001b[1;32m   1476\u001b[0m \u001b[39mif\u001b[39;00m \u001b[39mnot\u001b[39;00m is_numeric_dtype(arr\u001b[39m.\u001b[39mdtype):\n\u001b[0;32m-> 1477\u001b[0m     \u001b[39mraise\u001b[39;00m \u001b[39mIndexError\u001b[39;00m(\u001b[39mf\u001b[39m\u001b[39m\"\u001b[39m\u001b[39m.iloc requires numeric indexers, got \u001b[39m\u001b[39m{\u001b[39;00marr\u001b[39m}\u001b[39;00m\u001b[39m\"\u001b[39m)\n\u001b[1;32m   1479\u001b[0m \u001b[39m# check that the key does not exceed the maximum size of the index\u001b[39;00m\n\u001b[1;32m   1480\u001b[0m \u001b[39mif\u001b[39;00m \u001b[39mlen\u001b[39m(arr) \u001b[39mand\u001b[39;00m (arr\u001b[39m.\u001b[39mmax() \u001b[39m>\u001b[39m\u001b[39m=\u001b[39m len_axis \u001b[39mor\u001b[39;00m arr\u001b[39m.\u001b[39mmin() \u001b[39m<\u001b[39m \u001b[39m-\u001b[39mlen_axis):\n",
      "\u001b[0;31mIndexError\u001b[0m: .iloc requires numeric indexers, got ['firstname' 'lastname']"
     ]
    }
   ],
   "source": [
    "df.iloc[0:2,['firstname','lastname']]"
   ]
  },
  {
   "cell_type": "code",
   "execution_count": 36,
   "metadata": {},
   "outputs": [
    {
     "data": {
      "text/html": [
       "<div>\n",
       "<style scoped>\n",
       "    .dataframe tbody tr th:only-of-type {\n",
       "        vertical-align: middle;\n",
       "    }\n",
       "\n",
       "    .dataframe tbody tr th {\n",
       "        vertical-align: top;\n",
       "    }\n",
       "\n",
       "    .dataframe thead th {\n",
       "        text-align: right;\n",
       "    }\n",
       "</style>\n",
       "<table border=\"1\" class=\"dataframe\">\n",
       "  <thead>\n",
       "    <tr style=\"text-align: right;\">\n",
       "      <th></th>\n",
       "      <th>firstname</th>\n",
       "      <th>lastname</th>\n",
       "    </tr>\n",
       "  </thead>\n",
       "  <tbody>\n",
       "    <tr>\n",
       "      <th>0</th>\n",
       "      <td>Rani</td>\n",
       "      <td>Cherianne</td>\n",
       "    </tr>\n",
       "    <tr>\n",
       "      <th>1</th>\n",
       "      <td>Flo</td>\n",
       "      <td>Whiffen</td>\n",
       "    </tr>\n",
       "    <tr>\n",
       "      <th>2</th>\n",
       "      <td>Berta</td>\n",
       "      <td>Vorster</td>\n",
       "    </tr>\n",
       "  </tbody>\n",
       "</table>\n",
       "</div>"
      ],
      "text/plain": [
       "  firstname   lastname\n",
       "0      Rani  Cherianne\n",
       "1       Flo    Whiffen\n",
       "2     Berta    Vorster"
      ]
     },
     "execution_count": 36,
     "metadata": {},
     "output_type": "execute_result"
    }
   ],
   "source": [
    "df.loc[0:2,['firstname','lastname']]"
   ]
  },
  {
   "cell_type": "code",
   "execution_count": 37,
   "metadata": {},
   "outputs": [
    {
     "data": {
      "text/plain": [
       "firstname      Berta\n",
       "lastname     Vorster\n",
       "Name: 2, dtype: object"
      ]
     },
     "execution_count": 37,
     "metadata": {},
     "output_type": "execute_result"
    }
   ],
   "source": [
    "df.loc[2,['firstname','lastname']]"
   ]
  },
  {
   "cell_type": "code",
   "execution_count": 38,
   "metadata": {},
   "outputs": [
    {
     "data": {
      "text/plain": [
       "firstname      Berta\n",
       "lastname     Vorster\n",
       "Name: 2, dtype: object"
      ]
     },
     "execution_count": 38,
     "metadata": {},
     "output_type": "execute_result"
    }
   ],
   "source": [
    "df.iloc[2,[1,2]]"
   ]
  },
  {
   "attachments": {},
   "cell_type": "markdown",
   "metadata": {},
   "source": [
    "# <span style=\"color:yellow\">Pandas Concepts</span>\n",
    "\n",
    "Pandas is a powerful library for data manipulation and analysis in Python. It provides high-performance, easy-to-use data structures and data analysis tools. Here are some key concepts of pandas:\n",
    "\n",
    "## <span style=\"color:purple\">Data Structures</span>\n",
    "- <span style=\"color:blue\">Series</span>: One-dimensional labeled array capable of holding any data type.\n",
    "- <span style=\"color:blue\">DataFrame</span>: Two-dimensional labeled data structure with columns of potentially different types.\n",
    "- <span style=\"color:blue\">Index</span>: Immutable array or ordered set of labels used for indexing and aligning data.\n",
    "\n",
    "## <span style=\"color:purple\">Data Manipulation</span>\n",
    "- <span style=\"color:blue\">Data Selection</span>: Extracting subsets of data using indexing, slicing, boolean indexing, or label-based selection.\n",
    "- <span style=\"color:blue\">Data Cleaning</span>: Handling missing data using methods like `dropna()`, `fillna()`, or `interpolate()`.\n",
    "- <span style=\"color:blue\">Data Transformation</span>: Applying operations like sorting, ranking, reshaping, merging, or pivoting on data.\n",
    "- <span style=\"color:blue\">Data Aggregation</span>: Computing summary statistics using methods like `groupby()`, `agg()`, or `pivot_table()`.\n",
    "- <span style=\"color:blue\">Data Alignment</span>: Aligning data based on index labels for arithmetic operations or joining data.\n",
    "- <span style=\"color:blue\">Data IO</span>: Reading and writing data from/to various file formats like CSV, Excel, SQL databases, etc.\n",
    "\n",
    "## <span style=\"color:purple\">Data Analysis</span>\n",
    "- <span style=\"color:blue\">Exploratory Data Analysis</span>: Understanding data through summarization, visualization, and statistical analysis.\n",
    "- <span style=\"color:blue\">Data Visualization</span>: Creating plots, charts, and graphs using built-in pandas plotting functions or libraries like Matplotlib or Seaborn.\n",
    "- <span style=\"color:blue\">Data Manipulation</span>: Performing complex data transformations using pandas methods and functions.\n",
    "- <span style=\"color:blue\">Data Filtering</span>: Applying conditions and filters to extract specific subsets of data.\n",
    "\n",
    "## <span style=\"color:purple\">Performance Optimization</span>\n",
    "- <span style=\"color:blue\">Vectorization</span>: Utilizing vectorized operations to perform computations efficiently on arrays of data.\n",
    "- <span style=\"color:blue\">Categorical Data</span>: Converting data into categorical type for better memory and performance optimization.\n",
    "- <span style=\"color:blue\">Method Chaining</span>: Applying a sequence of operations in a single line to optimize code readability and execution speed.\n",
    "\n",
    "Pandas provides a vast array of functionality for data analysis and manipulation. Exploring the official pandas documentation and trying out examples in Jupyter Notebook will further enhance your understanding of these concepts.\n"
   ]
  },
  {
   "cell_type": "markdown",
   "metadata": {},
   "source": []
  }
 ],
 "metadata": {
  "kernelspec": {
   "display_name": "Python 3",
   "language": "python",
   "name": "python3"
  },
  "language_info": {
   "codemirror_mode": {
    "name": "ipython",
    "version": 3
   },
   "file_extension": ".py",
   "mimetype": "text/x-python",
   "name": "python",
   "nbconvert_exporter": "python",
   "pygments_lexer": "ipython3",
   "version": "3.10.2"
  },
  "orig_nbformat": 4
 },
 "nbformat": 4,
 "nbformat_minor": 2
}
