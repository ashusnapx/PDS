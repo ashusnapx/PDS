{
 "cells": [
  {
   "cell_type": "code",
   "execution_count": 1,
   "id": "07b4703b-edd0-4b5a-ab68-9108c875b9f6",
   "metadata": {},
   "outputs": [],
   "source": [
    "class youtube:\n",
    "    def __init__(self,name,mail):\n",
    "        self.name = name\n",
    "        self.mail = mail\n",
    "        \n",
    "    def student_details(self):\n",
    "        print(self.name, self.mail)"
   ]
  },
  {
   "cell_type": "code",
   "execution_count": 2,
   "id": "60854acc-427a-4c4f-b840-631965b8073c",
   "metadata": {},
   "outputs": [],
   "source": [
    "ashu = youtube(\"Ashutosh\", \"yt@gmail.com\")"
   ]
  },
  {
   "cell_type": "code",
   "execution_count": 3,
   "id": "3f74086f-8998-4983-94b2-598804131945",
   "metadata": {},
   "outputs": [
    {
     "data": {
      "text/plain": [
       "'Ashutosh'"
      ]
     },
     "execution_count": 3,
     "metadata": {},
     "output_type": "execute_result"
    }
   ],
   "source": [
    "ashu.name"
   ]
  },
  {
   "cell_type": "code",
   "execution_count": 4,
   "id": "f3e965b6-650f-44c3-825b-ec98c0483918",
   "metadata": {},
   "outputs": [
    {
     "data": {
      "text/plain": [
       "'yt@gmail.com'"
      ]
     },
     "execution_count": 4,
     "metadata": {},
     "output_type": "execute_result"
    }
   ],
   "source": [
    "ashu.mail"
   ]
  },
  {
   "cell_type": "code",
   "execution_count": 6,
   "id": "436148d2-ef0f-405c-9e1b-fff0d17a472e",
   "metadata": {},
   "outputs": [
    {
     "name": "stdout",
     "output_type": "stream",
     "text": [
      "Ashutosh yt@gmail.com\n"
     ]
    }
   ],
   "source": [
    "ashu.student_details()"
   ]
  },
  {
   "cell_type": "markdown",
   "id": "0947660d-e242-4938-8e4e-4a2cfd5bd650",
   "metadata": {},
   "source": [
    "okay so basically init was having problem of creating object first, but cls doesn;t need that"
   ]
  },
  {
   "cell_type": "code",
   "execution_count": 21,
   "id": "b6432ae1-4929-452f-97da-24767e65d683",
   "metadata": {},
   "outputs": [],
   "source": [
    "class youtube1:\n",
    "    \n",
    "    def __init__(self,name,mail):\n",
    "        self.name = name\n",
    "        self.mail = mail\n",
    "    \n",
    "    @classmethod\n",
    "    def details(cls,name,mail):\n",
    "        return cls(name, mail)\n",
    "    \n",
    "    def student_details1(self):\n",
    "        print(self.name,self.mail)"
   ]
  },
  {
   "cell_type": "code",
   "execution_count": 24,
   "id": "fc500412-9704-4545-a530-9aa898246148",
   "metadata": {},
   "outputs": [],
   "source": [
    "yt1 = youtube1.details(\"Sanket\",\"yo@gmail.com\")"
   ]
  },
  {
   "cell_type": "code",
   "execution_count": 25,
   "id": "80d7df81-c47a-4ab0-868f-8ebd89319b09",
   "metadata": {},
   "outputs": [
    {
     "name": "stdout",
     "output_type": "stream",
     "text": [
      "Sanket yo@gmail.com\n"
     ]
    }
   ],
   "source": [
    "yt1.student_details1()"
   ]
  },
  {
   "cell_type": "code",
   "execution_count": 39,
   "id": "422c5143-1e8d-496d-afd1-f22f9f796bd0",
   "metadata": {},
   "outputs": [],
   "source": [
    "class youtube3:\n",
    "    mobile_number = 999888\n",
    "    \n",
    "    def __init__(self,name,mail):\n",
    "        self.name = name\n",
    "        self.mail = mail\n",
    "        \n",
    "    @classmethod\n",
    "    def change_mobile(cls,mobile):\n",
    "        youtube3.mobile_number = mobile\n",
    "        \n",
    "    @classmethod\n",
    "    def details1(cls,name,mail):\n",
    "        return cls(name,mail)\n",
    "    \n",
    "    def student_details(self):\n",
    "        print(self.name, self.mail,youtube3.mobile_number)"
   ]
  },
  {
   "cell_type": "code",
   "execution_count": 41,
   "id": "0c330b71-b21d-429d-b611-18613c49568e",
   "metadata": {},
   "outputs": [],
   "source": [
    "yt3 = youtube3.details1(\"Yogendra\",\"yma@gmail.com\")"
   ]
  },
  {
   "cell_type": "code",
   "execution_count": 32,
   "id": "692c575f-7d05-4783-a043-014c9a32b37b",
   "metadata": {},
   "outputs": [
    {
     "name": "stdout",
     "output_type": "stream",
     "text": [
      "Yogendra yma@gmail.com\n"
     ]
    }
   ],
   "source": [
    "yt3.student_details()"
   ]
  },
  {
   "cell_type": "code",
   "execution_count": 33,
   "id": "2236d4e4-4cfc-4151-9cfd-69b75e715e27",
   "metadata": {},
   "outputs": [
    {
     "data": {
      "text/plain": [
       "999888"
      ]
     },
     "execution_count": 33,
     "metadata": {},
     "output_type": "execute_result"
    }
   ],
   "source": [
    "yt3.mobile_number"
   ]
  },
  {
   "cell_type": "code",
   "execution_count": 45,
   "id": "93b2c7c8-6d2d-40fe-9763-6add9041e095",
   "metadata": {},
   "outputs": [],
   "source": [
    "yt3.change_mobile(98998686868788)"
   ]
  },
  {
   "cell_type": "code",
   "execution_count": 46,
   "id": "6cd09413-2627-4d9c-8a7b-29642ea7293b",
   "metadata": {},
   "outputs": [
    {
     "name": "stdout",
     "output_type": "stream",
     "text": [
      "Yogendra yma@gmail.com 98998686868788\n"
     ]
    }
   ],
   "source": [
    "yt3.student_details()"
   ]
  },
  {
   "cell_type": "code",
   "execution_count": 47,
   "id": "4c47a56a-7a3f-4607-8884-bff45cdac01b",
   "metadata": {},
   "outputs": [
    {
     "data": {
      "text/plain": [
       "98998686868788"
      ]
     },
     "execution_count": 47,
     "metadata": {},
     "output_type": "execute_result"
    }
   ],
   "source": [
    "yt3.mobile_number"
   ]
  },
  {
   "cell_type": "code",
   "execution_count": 48,
   "id": "f43675be-ee26-4f7e-8d5e-85d9300630ac",
   "metadata": {},
   "outputs": [
    {
     "name": "stdout",
     "output_type": "stream",
     "text": [
      "Yogendra yma@gmail.com 98998686868788\n"
     ]
    }
   ],
   "source": [
    "yt3.student_details()"
   ]
  },
  {
   "cell_type": "code",
   "execution_count": 49,
   "id": "838e9132-6493-4d36-96f4-d74433581020",
   "metadata": {},
   "outputs": [],
   "source": [
    "def course_details(cls,course_name):\n",
    "    print(\"Course name is \",course_name)"
   ]
  },
  {
   "cell_type": "code",
   "execution_count": 52,
   "id": "5f83e16e-d307-4a58-a666-53a3cefe9ed3",
   "metadata": {},
   "outputs": [],
   "source": [
    "youtube3.course_details = classmethod(course_details)"
   ]
  },
  {
   "cell_type": "code",
   "execution_count": 53,
   "id": "ba13085a-100d-4054-8556-2b2d86667b0f",
   "metadata": {},
   "outputs": [
    {
     "name": "stdout",
     "output_type": "stream",
     "text": [
      "Course name is  B.Tech.\n"
     ]
    }
   ],
   "source": [
    "youtube3.course_details(\"B.Tech.\")"
   ]
  },
  {
   "cell_type": "code",
   "execution_count": 54,
   "id": "85cb37ac-028d-4f03-b437-079afe69943b",
   "metadata": {},
   "outputs": [],
   "source": [
    "def list_of_mentors(cls,l):\n",
    "    print(l)"
   ]
  },
  {
   "cell_type": "code",
   "execution_count": 61,
   "id": "b5195953-421f-4d4c-97ff-3f78af4b502c",
   "metadata": {},
   "outputs": [],
   "source": [
    "youtube3.list_of_mentors = classmethod(list_of_mentors)"
   ]
  },
  {
   "cell_type": "code",
   "execution_count": 62,
   "id": "b2cc97f4-c4b2-4485-837a-545edc946588",
   "metadata": {},
   "outputs": [],
   "source": [
    "l = [\"sujeet\",\"tandon\"]"
   ]
  },
  {
   "cell_type": "code",
   "execution_count": 63,
   "id": "de45b572-8c15-4ca0-9ca3-621d0fc7cd84",
   "metadata": {},
   "outputs": [
    {
     "name": "stdout",
     "output_type": "stream",
     "text": [
      "['sujeet', 'tandon']\n"
     ]
    }
   ],
   "source": [
    "youtube3.list_of_mentors(l)"
   ]
  },
  {
   "cell_type": "code",
   "execution_count": 64,
   "id": "58e318ad-f7cf-4ef4-a0a3-5af6ce5ff238",
   "metadata": {},
   "outputs": [],
   "source": [
    "class youtube4:\n",
    "    def __init__(self,name,mail):\n",
    "        self.name = name\n",
    "        self.mail = mail\n",
    "        \n",
    "    mobile_number = 999999999\n",
    "    \n",
    "    @classmethod\n",
    "    def change_mobile_number(cls,new_mobile_number):\n",
    "        youtube4.change_mobile_number = new_mobile_number\n",
    "        \n",
    "    @classmethod\n",
    "    def details_of_student(cls,name,mail):\n",
    "        return cls(name,mail)\n",
    "    \n",
    "    def student_summary(self):\n",
    "        print(self.name,self.mail,youtube4.mobile_number)"
   ]
  },
  {
   "cell_type": "code",
   "execution_count": 66,
   "id": "2f262776-d80a-46a1-bb9c-dab724560845",
   "metadata": {},
   "outputs": [],
   "source": [
    "yt4 = youtube4(\"Colt\",\"colt@gmail.com\")"
   ]
  },
  {
   "cell_type": "code",
   "execution_count": 67,
   "id": "c8ef8792-30a2-47cd-a262-27f5c29f805b",
   "metadata": {},
   "outputs": [
    {
     "data": {
      "text/plain": [
       "999999999"
      ]
     },
     "execution_count": 67,
     "metadata": {},
     "output_type": "execute_result"
    }
   ],
   "source": [
    "yt4.mobile_number"
   ]
  },
  {
   "cell_type": "code",
   "execution_count": 68,
   "id": "241c3d6a-cefd-4639-9b7c-4b420a561c54",
   "metadata": {},
   "outputs": [
    {
     "name": "stdout",
     "output_type": "stream",
     "text": [
      "Colt colt@gmail.com 999999999\n"
     ]
    }
   ],
   "source": [
    "yt4.student_summary()"
   ]
  },
  {
   "cell_type": "code",
   "execution_count": 69,
   "id": "529afad0-7c1f-41be-9bd4-bd8f743686f3",
   "metadata": {},
   "outputs": [],
   "source": [
    "def student_age(cls,age):\n",
    "    print(age)"
   ]
  },
  {
   "cell_type": "code",
   "execution_count": 70,
   "id": "97d1ac1d-c6e7-493a-9ba4-5409c35afd08",
   "metadata": {},
   "outputs": [],
   "source": [
    "youtube4.student_age = classmethod(student_age)"
   ]
  },
  {
   "cell_type": "code",
   "execution_count": 71,
   "id": "062e34d7-7d0c-4aa5-9115-5dc3088670d6",
   "metadata": {},
   "outputs": [
    {
     "name": "stdout",
     "output_type": "stream",
     "text": [
      "19\n"
     ]
    }
   ],
   "source": [
    "yt4.student_age(19)"
   ]
  },
  {
   "cell_type": "code",
   "execution_count": 72,
   "id": "4cfa009c-041c-4220-af1d-9c0f8d5aaaa6",
   "metadata": {},
   "outputs": [],
   "source": [
    "def student_father_name(cls,father_name):\n",
    "    print(father_name)"
   ]
  },
  {
   "cell_type": "code",
   "execution_count": 73,
   "id": "a649144b-dcc0-4488-bd52-ab1dc9cfb1b4",
   "metadata": {},
   "outputs": [],
   "source": [
    "youtube4.student_father_name = classmethod(student_father_name)"
   ]
  },
  {
   "cell_type": "code",
   "execution_count": 74,
   "id": "8c6105d0-8382-4454-9d7e-0f68c46fe012",
   "metadata": {},
   "outputs": [
    {
     "name": "stdout",
     "output_type": "stream",
     "text": [
      "SelmonBhoi\n"
     ]
    }
   ],
   "source": [
    "yt4.student_father_name(\"SelmonBhoi\")"
   ]
  },
  {
   "cell_type": "code",
   "execution_count": 76,
   "id": "110902a0-64a7-437f-bc0f-f5c54001456e",
   "metadata": {},
   "outputs": [],
   "source": [
    "del youtube4.change_mobile_number"
   ]
  },
  {
   "cell_type": "code",
   "execution_count": 77,
   "id": "85b8b6ef-469e-473e-8a2d-0d773b846d14",
   "metadata": {},
   "outputs": [
    {
     "ename": "AttributeError",
     "evalue": "'youtube4' object has no attribute 'change_mobile_number'",
     "output_type": "error",
     "traceback": [
      "\u001b[0;31m---------------------------------------------------------------------------\u001b[0m",
      "\u001b[0;31mAttributeError\u001b[0m                            Traceback (most recent call last)",
      "Cell \u001b[0;32mIn[77], line 1\u001b[0m\n\u001b[0;32m----> 1\u001b[0m \u001b[43myt4\u001b[49m\u001b[38;5;241;43m.\u001b[39;49m\u001b[43mchange_mobile_number\u001b[49m(\u001b[38;5;241m8829169\u001b[39m)\n",
      "\u001b[0;31mAttributeError\u001b[0m: 'youtube4' object has no attribute 'change_mobile_number'"
     ]
    }
   ],
   "source": [
    "yt4.change_mobile_number(8829169)"
   ]
  },
  {
   "cell_type": "code",
   "execution_count": 79,
   "id": "bfecf3d6-f914-475b-b642-94cfef87bc68",
   "metadata": {},
   "outputs": [],
   "source": [
    "delattr(youtube4,\"student_father_name\")"
   ]
  },
  {
   "cell_type": "code",
   "execution_count": null,
   "id": "016462e6-6899-4da8-bba3-6e6a945f7779",
   "metadata": {},
   "outputs": [],
   "source": []
  }
 ],
 "metadata": {
  "kernelspec": {
   "display_name": "Python 3 (ipykernel)",
   "language": "python",
   "name": "python3"
  },
  "language_info": {
   "codemirror_mode": {
    "name": "ipython",
    "version": 3
   },
   "file_extension": ".py",
   "mimetype": "text/x-python",
   "name": "python",
   "nbconvert_exporter": "python",
   "pygments_lexer": "ipython3",
   "version": "3.10.8"
  }
 },
 "nbformat": 4,
 "nbformat_minor": 5
}
