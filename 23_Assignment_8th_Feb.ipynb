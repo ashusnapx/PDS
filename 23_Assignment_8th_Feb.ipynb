{
 "cells": [
  {
   "attachments": {},
   "cell_type": "markdown",
   "metadata": {},
   "source": [
    "Q1. What is Abstraction in OOps? Explain with an example."
   ]
  },
  {
   "attachments": {},
   "cell_type": "markdown",
   "metadata": {},
   "source": [
    "Abstraction means to hide something from user that is not relevant for user, but important for the process. For eg: the shampoo which we use, we just apply, but never try to make it at home."
   ]
  },
  {
   "cell_type": "code",
   "execution_count": 1,
   "metadata": {},
   "outputs": [],
   "source": [
    "class car:\n",
    "    def start(self):\n",
    "        pass\n",
    "    def drive(self):\n",
    "        pass\n",
    "    \n",
    "class Mercedes(car):\n",
    "    def start(self):\n",
    "        print('Mercedes car is starting')\n",
    "    def drive(self):\n",
    "        print('Mercedes car is driving')\n",
    "        \n",
    "class Audi(car):\n",
    "    def start(self):\n",
    "        print('Audi car is starting')\n",
    "    def drive(self):\n",
    "        print('Audi car is driving')"
   ]
  },
  {
   "cell_type": "code",
   "execution_count": 2,
   "metadata": {},
   "outputs": [],
   "source": [
    "ashu = Mercedes()"
   ]
  },
  {
   "cell_type": "code",
   "execution_count": 3,
   "metadata": {},
   "outputs": [
    {
     "name": "stdout",
     "output_type": "stream",
     "text": [
      "Mercedes car is starting\n"
     ]
    }
   ],
   "source": [
    "ashu.start()"
   ]
  },
  {
   "cell_type": "code",
   "execution_count": 4,
   "metadata": {},
   "outputs": [
    {
     "name": "stdout",
     "output_type": "stream",
     "text": [
      "Mercedes car is driving\n"
     ]
    }
   ],
   "source": [
    "ashu.drive()"
   ]
  },
  {
   "cell_type": "code",
   "execution_count": 6,
   "metadata": {},
   "outputs": [],
   "source": [
    "ashu1 = Audi()"
   ]
  },
  {
   "cell_type": "code",
   "execution_count": 7,
   "metadata": {},
   "outputs": [
    {
     "name": "stdout",
     "output_type": "stream",
     "text": [
      "Audi car is starting\n"
     ]
    }
   ],
   "source": [
    "ashu1.start()"
   ]
  },
  {
   "cell_type": "code",
   "execution_count": 8,
   "metadata": {},
   "outputs": [
    {
     "name": "stdout",
     "output_type": "stream",
     "text": [
      "Audi car is driving\n"
     ]
    }
   ],
   "source": [
    "ashu1.drive()"
   ]
  },
  {
   "attachments": {},
   "cell_type": "markdown",
   "metadata": {},
   "source": [
    "Q2. Differentiate between Abstraction and Encapsulation. Explain with an example."
   ]
  },
  {
   "attachments": {},
   "cell_type": "markdown",
   "metadata": {},
   "source": [
    "Abstraction for eg: i've a mobile phone, i make a call, i binge netflix, etc but i don't know inside what happening.\n",
    "Encapsulation for eg : i've a bank account and all the access keys are safe with me"
   ]
  },
  {
   "attachments": {},
   "cell_type": "markdown",
   "metadata": {},
   "source": [
    "Q3. What is abc module in python? Why is it used?"
   ]
  },
  {
   "attachments": {},
   "cell_type": "markdown",
   "metadata": {},
   "source": [
    "a. abc module stands for abstract base class\n",
    "\n",
    "b. think of abc as a tool that tells you what all things you can do with a given thing. let given    thing be a car, then abc module will tell you what you can do with car. You can race, drive, tour, etc.\n",
    "\n",
    "c. abc module is used when you've created a class that is incomplete or it has some methods that needs to be explained in a specified way by a subclass. \n",
    "\n",
    "d. abc module creates a blueprint of what a class should look like or what should be its structure and then any subclass can inherit the features of base class with the help of abc module.\n",
    "\n",
    "e. for eg - you've created a class named animal and defined a property of sound. but as we all know that all animals don't have same sound, so we'll just create a sound property and then we'll make other classes and take it as a reference.\n",
    "code below"
   ]
  },
  {
   "cell_type": "code",
   "execution_count": 16,
   "metadata": {},
   "outputs": [
    {
     "ename": "TypeError",
     "evalue": "abstractmethod() missing 1 required positional argument: 'funcobj'",
     "output_type": "error",
     "traceback": [
      "\u001b[0;31m---------------------------------------------------------------------------\u001b[0m",
      "\u001b[0;31mTypeError\u001b[0m                                 Traceback (most recent call last)",
      "Cell \u001b[0;32mIn[16], line 2\u001b[0m\n\u001b[1;32m      1\u001b[0m \u001b[39mfrom\u001b[39;00m \u001b[39mabc\u001b[39;00m \u001b[39mimport\u001b[39;00m ABC, abstractmethod\n\u001b[0;32m----> 2\u001b[0m \u001b[39mclass\u001b[39;00m \u001b[39mAnimal\u001b[39;00m(ABC):\n\u001b[1;32m      3\u001b[0m     \u001b[39m@abstractmethod\u001b[39m()\n\u001b[1;32m      4\u001b[0m     \u001b[39mdef\u001b[39;00m \u001b[39msound\u001b[39m(\u001b[39mself\u001b[39m):\n\u001b[1;32m      5\u001b[0m         \u001b[39mpass\u001b[39;00m\n",
      "Cell \u001b[0;32mIn[16], line 3\u001b[0m, in \u001b[0;36mAnimal\u001b[0;34m()\u001b[0m\n\u001b[1;32m      2\u001b[0m \u001b[39mclass\u001b[39;00m \u001b[39mAnimal\u001b[39;00m(ABC):\n\u001b[0;32m----> 3\u001b[0m     \u001b[39m@abstractmethod\u001b[39m()\n\u001b[1;32m      4\u001b[0m     \u001b[39mdef\u001b[39;00m \u001b[39msound\u001b[39m(\u001b[39mself\u001b[39m):\n\u001b[1;32m      5\u001b[0m         \u001b[39mpass\u001b[39;00m\n",
      "\u001b[0;31mTypeError\u001b[0m: abstractmethod() missing 1 required positional argument: 'funcobj'"
     ]
    }
   ],
   "source": [
    "from abc import ABC, abstractmethod\n",
    "class Animal(ABC):\n",
    "    @abstractmethod()\n",
    "    def sound(self):\n",
    "        pass\n",
    "    \n",
    "class dog(Animal):\n",
    "    def sound(self):\n",
    "        return \"Woof!\""
   ]
  },
  {
   "cell_type": "code",
   "execution_count": 17,
   "metadata": {},
   "outputs": [],
   "source": [
    "hi = Animal()"
   ]
  },
  {
   "attachments": {},
   "cell_type": "markdown",
   "metadata": {},
   "source": [
    "Q4. How can we achieve data abstraction?"
   ]
  },
  {
   "attachments": {},
   "cell_type": "markdown",
   "metadata": {},
   "source": [
    "Data abstraction basically means less focus on implementation and more focus on let the task done.\n",
    "\n",
    "Okay lets think of it as a vending machine that gives parle g biscuit, so when we put money, it dispenses the biscuit and we don't go in its implementation that how it came out and all.\n",
    "\n",
    "In programming we can achive abstraction, by declaring functions and classes with private variable and methods."
   ]
  },
  {
   "cell_type": "code",
   "execution_count": 18,
   "metadata": {},
   "outputs": [],
   "source": [
    "class bank:\n",
    "    def __init__(self, balance):\n",
    "        self.__balance = balance\n",
    "        \n",
    "    def deposit(self, amount):\n",
    "        self.__balance += amount\n",
    "        \n",
    "    def withdrawl(self, amount):\n",
    "        if self.__balance > amount:\n",
    "            self.__balance -= amount\n",
    "            \n",
    "    def get_balance(self):\n",
    "        return self.__balance"
   ]
  },
  {
   "cell_type": "code",
   "execution_count": 19,
   "metadata": {},
   "outputs": [],
   "source": [
    "sbi = bank(2000)"
   ]
  },
  {
   "cell_type": "code",
   "execution_count": 20,
   "metadata": {},
   "outputs": [],
   "source": [
    "sbi.deposit(100)"
   ]
  },
  {
   "cell_type": "code",
   "execution_count": 21,
   "metadata": {},
   "outputs": [
    {
     "data": {
      "text/plain": [
       "2100"
      ]
     },
     "execution_count": 21,
     "metadata": {},
     "output_type": "execute_result"
    }
   ],
   "source": [
    "sbi.get_balance()"
   ]
  },
  {
   "attachments": {},
   "cell_type": "markdown",
   "metadata": {},
   "source": [
    "Q5. Can we create an instance of an abstract class? Explain your answer."
   ]
  },
  {
   "attachments": {},
   "cell_type": "markdown",
   "metadata": {},
   "source": [
    "No, we cannot create an instance of an abstract class in Python. An abstract class is a class that contains one or more abstract methods, which are methods without an implementation. An abstract class is meant to be subclassed, and the abstract methods must be implemented in the subclasses.\n",
    "\n",
    "Since the abstract methods do not have an implementation, it doesn't make sense to create an instance of an abstract class, as we wouldn't be able to use its abstract methods. Instead, we create instances of concrete subclasses that inherit from the abstract class and provide an implementation for the abstract methods."
   ]
  },
  {
   "cell_type": "markdown",
   "metadata": {},
   "source": []
  }
 ],
 "metadata": {
  "kernelspec": {
   "display_name": "Python 3",
   "language": "python",
   "name": "python3"
  },
  "language_info": {
   "codemirror_mode": {
    "name": "ipython",
    "version": 3
   },
   "file_extension": ".py",
   "mimetype": "text/x-python",
   "name": "python",
   "nbconvert_exporter": "python",
   "pygments_lexer": "ipython3",
   "version": "3.10.2"
  },
  "orig_nbformat": 4,
  "vscode": {
   "interpreter": {
    "hash": "2f590b0345379a3d388fae64db70f94b273a9b90cf99d61611d4169b37ba26e6"
   }
  }
 },
 "nbformat": 4,
 "nbformat_minor": 2
}
