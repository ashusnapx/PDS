{
 "cells": [
  {
   "attachments": {},
   "cell_type": "markdown",
   "metadata": {},
   "source": [
    "<span style=\"color:yellow\">Q1. What is a database? Differentiate between SQL and NoSQL databases.</span>"
   ]
  },
  {
   "attachments": {},
   "cell_type": "markdown",
   "metadata": {},
   "source": [
    "When data is collected in a organised manner and stored somewhere is called database. \n",
    "<ul>\n",
    "<li>1. SQL uses RDBMS(relational database management system) and NoSQL uses non-relational database management system</li>\n",
    "<li>2. SQL's database schema is fixed whereas NoSQL's database schema is dynamic</li>\n",
    "<li>3. SQL's is not suited for hierarchial data storage whereas NoSQL's does.</li>\n",
    "<li>4. SQL's is good for complex data queries whereas NoSQL's is not.</li>\n",
    "<li>5. SQL's is vertically scalable whereas NoSQL's is horizontally scalable.</li>\n",
    "<li>6. SQL's follows ACID (Atomicity, consistency, isolation, durability) whereas NoSQL's follows CAP(consitency, availability, partial tolerance).</li>\n",
    "<li>7. SQL's eg : MySQl whereas NoSQL's eg: MongoDB</li>\n",
    "</ul>"
   ]
  },
  {
   "attachments": {},
   "cell_type": "markdown",
   "metadata": {},
   "source": [
    "<span style=\"color:yellow\">Q2. What is DDL? Explain why CREATE, DROP, ALTER, and TRUNCATE are used with an example.</span>"
   ]
  },
  {
   "attachments": {},
   "cell_type": "markdown",
   "metadata": {},
   "source": [
    "<span style=\"color:red\">Ans : </span>\n",
    "<ul>\n",
    "DDL stands for data definition language\n",
    "<li>Create : this is used to create a new table.</li>\n",
    "<li>Alter : this is used to add, delete or change in existing table.</li>\n",
    "<li>Truncate: this is used to create remove all rows from table without restructuring the table.</li>\n",
    "<li>Drop : This command is used to remove an existing table along with its structure from the Database.</li>\n",
    "</ul>"
   ]
  },
  {
   "attachments": {},
   "cell_type": "markdown",
   "metadata": {},
   "source": [
    "<span style=\"color:yellow\">Q3. What is DML? Explain INSERT, UPDATE, and DELETE with an example.</span>"
   ]
  },
  {
   "attachments": {},
   "cell_type": "markdown",
   "metadata": {},
   "source": [
    "<span style=\"color:red\">Ans : </span>\n",
    "<ul>\n",
    "DDl stands for data manipulation language\n",
    "<li>Insert : this is used to insert data in table.</li>\n",
    "<li>Update : this is used to update data in existing table.</li>\n",
    "<li>Delete : this is used to delete records from table.</li>\n",
    "</ul>"
   ]
  },
  {
   "attachments": {},
   "cell_type": "markdown",
   "metadata": {},
   "source": [
    "<span style=\"color:yellow\">Q4. What is DQL? Explain SELECT with an example.</span>"
   ]
  },
  {
   "attachments": {},
   "cell_type": "markdown",
   "metadata": {},
   "source": [
    "Select statement is used to select data from database.\n",
    "<ol>SELECT column1, column2, ...</ol>\n",
    "<ol>FROM table_name;</ol>\n",
    "\n",
    "\n",
    "<img src=\"/Users/ashu/Desktop/c/61.png\" alt=\"Alternative text\" />"
   ]
  },
  {
   "attachments": {},
   "cell_type": "markdown",
   "metadata": {},
   "source": [
    "<span style=\"color:yellow\">Q5. Explain Primary Key and Foreign Key.</span>"
   ]
  },
  {
   "attachments": {},
   "cell_type": "markdown",
   "metadata": {},
   "source": [
    "<img src='/Users/ashu/Desktop/c/62.png'>"
   ]
  },
  {
   "attachments": {},
   "cell_type": "markdown",
   "metadata": {},
   "source": [
    "<span style=\"color:yellow\">Q6. Write a python code to connect MySQL to python. Explain the cursor() and execute() method.</span>"
   ]
  },
  {
   "attachments": {},
   "cell_type": "markdown",
   "metadata": {},
   "source": [
    "Ans : \n",
    "```\n",
    "import mysql.connector\n",
    "\n",
    "#establishing the connection\n",
    "conn = mysql.connector.connect(\n",
    "   user='root', password='password', host='127.0.0.1', database='mydb'\n",
    ")\n",
    "#Creating a cursor object using the cursor() method\n",
    "cursor = conn.cursor()\n",
    "```\n",
    "\n",
    "Cursor:\n",
    "A cursor is an object which helps to execute the query and fetch the records from the database.\n",
    "\n",
    "Execute:\n",
    "The execute () method helps us to execute the query and return records according to the query.\n"
   ]
  },
  {
   "attachments": {},
   "cell_type": "markdown",
   "metadata": {},
   "source": [
    "<span style=\"color:yellow\">Q7. Give the order of execution of SQL clauses in an SQL query.</span>"
   ]
  },
  {
   "attachments": {},
   "cell_type": "markdown",
   "metadata": {},
   "source": [
    "<ol>First, we identify the data we want to work with using the FROM and JOIN clauses.</ol>\n",
    "<ol>Then, we filter out any irrelevant data using the WHERE clause.</ol>\n",
    "<ol>Next, we group the remaining data based on specific values using the GROUP BY clause.</ol>\n",
    "<ol>After grouping, we apply further filters using the HAVING clause to remove any unwanted groups.</ol>\n",
    "<ol>We select the specific columns and calculations we want to see using the SELECT clause.</ol>\n",
    "<ol>We can then sort the results using the ORDER BY clause.</ol>\n",
    "<ol>Finally, we can limit the number of results displayed or skip a certain number of results using the LIMIT and OFFSET clauses.</ol>"
   ]
  },
  {
   "cell_type": "markdown",
   "metadata": {},
   "source": []
  }
 ],
 "metadata": {
  "kernelspec": {
   "display_name": "Python 3",
   "language": "python",
   "name": "python3"
  },
  "language_info": {
   "name": "python",
   "version": "3.10.2"
  },
  "orig_nbformat": 4,
  "vscode": {
   "interpreter": {
    "hash": "2f590b0345379a3d388fae64db70f94b273a9b90cf99d61611d4169b37ba26e6"
   }
  }
 },
 "nbformat": 4,
 "nbformat_minor": 2
}
