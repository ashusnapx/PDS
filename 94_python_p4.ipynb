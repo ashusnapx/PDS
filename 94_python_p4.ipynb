{
 "cells": [
  {
   "attachments": {},
   "cell_type": "markdown",
   "metadata": {},
   "source": [
    "Q1. Create a class called \"Person\" with properties for \"name\", \"age\", and \"gender\". Create an object of this\n",
    "class and print out its properties."
   ]
  },
  {
   "cell_type": "code",
   "execution_count": 2,
   "metadata": {},
   "outputs": [
    {
     "name": "stdout",
     "output_type": "stream",
     "text": [
      "Name :  Ashutosh\n",
      "Age :  20\n",
      "Gender :  Male\n"
     ]
    }
   ],
   "source": [
    "class Person:\n",
    "    def __init__(self, name, age, gender):\n",
    "        self.name = name\n",
    "        self.age = age\n",
    "        self.gender = gender\n",
    "\n",
    "person1 = Person(\"Ashutosh\",20,\"Male\")\n",
    "\n",
    "print(\"Name : \", person1.name)\n",
    "print(\"Age : \", person1.age)\n",
    "print(\"Gender : \", person1.gender)"
   ]
  },
  {
   "attachments": {},
   "cell_type": "markdown",
   "metadata": {},
   "source": [
    "***\n",
    "Q2. Write a Python class called \"Rectangle\" with attributes for \"width\" and \"height\". Implement methods\n",
    "to calculate the area and perimeter of the rectangle. Create an instance of this class and use it to print out\n",
    "the rectangle's area and perimeter."
   ]
  },
  {
   "cell_type": "code",
   "execution_count": 7,
   "metadata": {},
   "outputs": [
    {
     "name": "stdout",
     "output_type": "stream",
     "text": [
      "Area:  50\n",
      "Perimeter:  30\n"
     ]
    }
   ],
   "source": [
    "class Rectangle:\n",
    "    def __init__(self, width, height):\n",
    "        self.width = width\n",
    "        self.height = height\n",
    "\n",
    "    def area(self):\n",
    "            return self.width * self.height\n",
    "    def perimeter(self):\n",
    "            return 2 * ( self.width +  self.height )\n",
    "        \n",
    "rectangle1 = Rectangle(5,10)\n",
    "\n",
    "print(\"Area: \", rectangle1.area())\n",
    "print(\"Perimeter: \", rectangle1.perimeter())"
   ]
  },
  {
   "attachments": {},
   "cell_type": "markdown",
   "metadata": {},
   "source": [
    "***\n",
    "Q3. Write a Python class called \"BankAccount\" with attributes for \"balance\" and \"interest_rate\".\n",
    "Implement methods to deposit and withdraw money from the account, as well as to calculate the interest\n",
    "earned on the balance based on the interest rate. Create an instance of this class and use it to test out the\n",
    "implemented methods for deposit, withdrawal, and interest calculation."
   ]
  },
  {
   "cell_type": "code",
   "execution_count": 8,
   "metadata": {},
   "outputs": [],
   "source": [
    "class BankAccount:\n",
    "    def __init__(self, balance, interest_rate):\n",
    "        self.balance = balance\n",
    "        self.interest_rate = interest_rate\n",
    "\n",
    "    def deposit(self, amount):\n",
    "        self.balance += amount\n",
    "\n",
    "    def withdraw(self, amount):\n",
    "        if(amount <= self.balance):\n",
    "            self.balance -= amount\n",
    "\n",
    "    def interest(self):\n",
    "        return self.balance * self.interest_rate\n"
   ]
  },
  {
   "cell_type": "code",
   "execution_count": 10,
   "metadata": {},
   "outputs": [
    {
     "name": "stdout",
     "output_type": "stream",
     "text": [
      "Balance: 1300\n",
      "Interest Earned: 65.0\n"
     ]
    }
   ],
   "source": [
    "# Create an instance of BankAccount with an initial balance of 1000rs and an interest rate of 0.05 (5%)\n",
    "account = BankAccount(1000, 0.05)\n",
    "\n",
    "# Deposit 500rs into the account\n",
    "account.deposit(500)\n",
    "\n",
    "# Withdraw rs200 from the account\n",
    "account.withdraw(200)\n",
    "\n",
    "# Calculate the interest earned on the balance\n",
    "interest_earned = account.interest()\n",
    "\n",
    "# Print the updated balance and the interest earned\n",
    "print(\"Balance:\", account.balance)\n",
    "print(\"Interest Earned:\", interest_earned)\n"
   ]
  },
  {
   "attachments": {},
   "cell_type": "markdown",
   "metadata": {},
   "source": [
    "***\n",
    "Q4. Write a Python class called \"Animal\" with attributes for \"name\" and \"species\". Create a subclass of\n",
    "\"Animal\" called \"Dog\" with additional attributes for \"breed\" and \"owner\". Implement both classes with\n",
    "appropriate methods and constructors to initialise their properties. Create instances of both classes and\n",
    "use them to print out the various properties of the animals and dogs, such as their names, species,\n",
    "breeds, and owners."
   ]
  },
  {
   "cell_type": "code",
   "execution_count": 11,
   "metadata": {},
   "outputs": [],
   "source": [
    "class Animal:\n",
    "    def __init__(self, name, species):\n",
    "        self.name = name\n",
    "        self.species = species\n",
    "\n",
    "class Dog(Animal):\n",
    "    def __init__(self, name, species, breed, owner):\n",
    "        super().__init__(name, species)\n",
    "        self.breed = breed\n",
    "        self.owner = owner"
   ]
  },
  {
   "cell_type": "code",
   "execution_count": 12,
   "metadata": {},
   "outputs": [
    {
     "name": "stdout",
     "output_type": "stream",
     "text": [
      "Animal name: Leo\n",
      "Animal species: Lion\n",
      "Dog name: Max\n",
      "Dog species: Canine\n",
      "Dog breed: Labrador Retriever\n",
      "Dog owner: Ashutosh\n"
     ]
    }
   ],
   "source": [
    "animal = Animal(\"Leo\", \"Lion\")\n",
    "print(\"Animal name:\", animal.name)\n",
    "print(\"Animal species:\", animal.species)\n",
    "\n",
    "dog = Dog(\"Max\", \"Canine\", \"Labrador Retriever\", \"Ashutosh\")\n",
    "print(\"Dog name:\", dog.name)\n",
    "print(\"Dog species:\", dog.species)\n",
    "print(\"Dog breed:\", dog.breed)\n",
    "print(\"Dog owner:\", dog.owner)"
   ]
  },
  {
   "attachments": {},
   "cell_type": "markdown",
   "metadata": {},
   "source": [
    "***\n",
    "Q5. Create a class called \"Car\" with properties for \"make\", \"model\", and \"year\". Create a subclass of \"Car\"\n",
    "called \"ElectricCar\" with additional properties for \"battery_size\" and \"range\". Create objects of both\n",
    "classes and print out their properties."
   ]
  },
  {
   "cell_type": "code",
   "execution_count": 15,
   "metadata": {},
   "outputs": [
    {
     "name": "stdout",
     "output_type": "stream",
     "text": [
      "Car Make :  Maruti Suzuki\n",
      "Car Model :  Swift\n",
      "Car Year :  2016\n",
      "Electric Car Make :  Tata\n",
      "Electric Car Model :  Nexon\n",
      "Electric Car Year :  2023\n",
      "Electric Car Battery Size :  30.2 to 40.5 kWh\n",
      "Electric Car Range :  450 km\n"
     ]
    }
   ],
   "source": [
    "class Car:\n",
    "    def __init__(self, make, model, year):\n",
    "        self.m = make\n",
    "        self.mod = model\n",
    "        self.y = year\n",
    "\n",
    "class ElectricCar(Car):\n",
    "    def __init__(self, make, model, year, battery_size, range):\n",
    "        super().__init__(make, model, year)\n",
    "        self.b = battery_size\n",
    "        self.r = range\n",
    "\n",
    "\n",
    "car = Car(\"Maruti Suzuki\", \"Swift\", 2016)\n",
    "print(\"Car Make : \", car.m)\n",
    "print(\"Car Model : \", car.mod)\n",
    "print(\"Car Year : \", car.y)\n",
    "\n",
    "e_car = ElectricCar(\"Tata\", \"Nexon\", 2023, \"30.2 to 40.5 kWh\",\"450 km\")\n",
    "print(\"Electric Car Make : \",e_car.m)\n",
    "print(\"Electric Car Model : \",e_car.mod)\n",
    "print(\"Electric Car Year : \",e_car.y)\n",
    "print(\"Electric Car Battery Size : \",e_car.b)\n",
    "print(\"Electric Car Range : \",e_car.r)"
   ]
  },
  {
   "attachments": {},
   "cell_type": "markdown",
   "metadata": {},
   "source": [
    "***\n",
    "Q6. Create a class called \"Student\" with properties for \"name\" and \"id\". Create a subclass of \"Student\"\n",
    "called \"GraduateStudent\" with additional properties for \"advisor\" and \"research_area\". Create objects of\n",
    "both classes and print out their properties."
   ]
  },
  {
   "cell_type": "code",
   "execution_count": 21,
   "metadata": {},
   "outputs": [
    {
     "name": "stdout",
     "output_type": "stream",
     "text": [
      "Student Name :  Ashutosh Kumar\n",
      "Student ID :  CSE2010\n",
      "Graduate student advisor :  Code with harry\n",
      "Graduate student research area :  Delhi street food\n"
     ]
    }
   ],
   "source": [
    "class Student:\n",
    "    def __init__(self, name, id):\n",
    "        self.n = name\n",
    "        self.i = id\n",
    "\n",
    "class GraduateStudent(Student):\n",
    "    def __init__(self, name, id, advisor, research_area):\n",
    "        super().__init__(name, id)\n",
    "        self.a = advisor\n",
    "        self.r = research_area\n",
    "\n",
    "student1 = Student(\"Ashutosh Kumar\", \"CSE2010\")\n",
    "print(\"Student Name : \", student1.n)\n",
    "print(\"Student ID : \", student1.i)\n",
    "\n",
    "graduate1 = GraduateStudent(\"Ashutosh Kumar\", \"CSE2010\",\"Code with harry\",\"Delhi street food\")\n",
    "print(\"Graduate student advisor : \", graduate1.a)\n",
    "print(\"Graduate student research area : \", graduate1.r)\n"
   ]
  },
  {
   "attachments": {},
   "cell_type": "markdown",
   "metadata": {},
   "source": [
    "***\n",
    "Q7. Create a class called \"Shape\" with methods to calculate the area and perimeter of the shape. Create\n",
    "subclasses of \"Shape\" for \"Rectangle\", \"Circle\", and \"Triangle\" with their own methods for calculating area\n",
    "and perimeter. Create objects of each class and print out their area and perimeter."
   ]
  },
  {
   "cell_type": "code",
   "execution_count": 24,
   "metadata": {},
   "outputs": [
    {
     "name": "stdout",
     "output_type": "stream",
     "text": [
      "Rectangle Area: 50\n",
      "Rectangle Perimeter: 30\n",
      "Circle Area: 153.86\n",
      "Circle Perimeter: 43.96\n",
      "Triangle Area: 24.0\n",
      "Triangle Perimeter: 16\n"
     ]
    }
   ],
   "source": [
    "class Shape:\n",
    "    def __init__(self):\n",
    "        return \n",
    "class Rectangle(Shape):\n",
    "    def __init__(self, length, width):\n",
    "        super().__init__()\n",
    "        self.l = length\n",
    "        self.w = width\n",
    "    def area(self):\n",
    "        return self.l * self.w\n",
    "    def perimeter(self):\n",
    "        return 2 * (self.l + self.w)\n",
    "    \n",
    "class Circle(Shape):\n",
    "    def __init__(self, radius):\n",
    "        super().__init__()\n",
    "        self.r = radius\n",
    "\n",
    "    def area(self):\n",
    "        return 3.14 * self.r**2\n",
    "\n",
    "    def perimeter(self):\n",
    "        return 2 * 3.14 * self.r\n",
    "    \n",
    "class Triangle(Shape):\n",
    "    def __init__(self, base, height, left, right):\n",
    "        super().__init__()\n",
    "        self.b = base\n",
    "        self.h = height\n",
    "        self.l = left\n",
    "        self.r = right\n",
    "\n",
    "    def area(self):\n",
    "        return 0.5 * self.b * self.h\n",
    "\n",
    "    def perimeter(self):\n",
    "        return self.r + self.l + self.b\n",
    "    \n",
    "\n",
    "rectangle = Rectangle(5, 10)\n",
    "print(\"Rectangle Area:\", rectangle.area())\n",
    "print(\"Rectangle Perimeter:\", rectangle.perimeter())\n",
    "\n",
    "circle = Circle(7)\n",
    "print(\"Circle Area:\", circle.area())\n",
    "print(\"Circle Perimeter:\", circle.perimeter())\n",
    "\n",
    "triangle = Triangle(6, 8, 5, 5)\n",
    "print(\"Triangle Area:\", triangle.area())\n",
    "print(\"Triangle Perimeter:\", triangle.perimeter())"
   ]
  },
  {
   "attachments": {},
   "cell_type": "markdown",
   "metadata": {},
   "source": [
    "***\n",
    "Q8. Create a class called \"Employee\" with properties for \"name\", \"id\", and \"salary\". Add methods to give\n",
    "the employee a raise and to calculate their annual salary. Create objects of this class and test out the\n",
    "methods."
   ]
  },
  {
   "cell_type": "code",
   "execution_count": 36,
   "metadata": {},
   "outputs": [
    {
     "name": "stdout",
     "output_type": "stream",
     "text": [
      "Name :  Ashutosh\n",
      "ID :  CSE2010\n",
      "Salary :  10\n",
      "Annual Salary :  120\n",
      "Raise :  12.0\n"
     ]
    }
   ],
   "source": [
    "class Employee:\n",
    "    def __init__(self, name, id, salary):\n",
    "        self.n = name\n",
    "        self.i = id\n",
    "        self.s = salary\n",
    "    def annual(self):\n",
    "        return self.s * 12\n",
    "    def rais_e(self):\n",
    "        self.s += self.s * 0.20\n",
    "    \n",
    "emp1 = Employee(\"Ashutosh\", \"CSE2010\", 10)\n",
    "print(\"Name : \", emp1.n)\n",
    "print(\"ID : \", emp1.i)\n",
    "print(\"Salary : \", emp1.s)\n",
    "print(\"Annual Salary : \", emp1.annual())\n",
    "emp1.rais_e()\n",
    "print(\"Raise : \", emp1.s)\n"
   ]
  },
  {
   "attachments": {},
   "cell_type": "markdown",
   "metadata": {},
   "source": [
    "***\n",
    "Q10. Create a class called \"Bank\" with properties for \"name\" and \"accounts\". Add methods to create new\n",
    "accounts, deposit and withdraw money from accounts, and to calculate the total balance of all accounts.\n",
    "Create an object of this class and test out the methods."
   ]
  },
  {
   "cell_type": "code",
   "execution_count": 37,
   "metadata": {},
   "outputs": [
    {
     "name": "stdout",
     "output_type": "stream",
     "text": [
      "Total Balance: 2500\n"
     ]
    }
   ],
   "source": [
    "class Bank:\n",
    "    def __init__(self, name):\n",
    "        self.name = name\n",
    "        self.accounts = []\n",
    "\n",
    "    def create_account(self, account):\n",
    "        self.accounts.append(account)\n",
    "\n",
    "    def deposit(self, account_number, amount):\n",
    "        for account in self.accounts:\n",
    "            if account.account_number == account_number:\n",
    "                account.deposit(amount)\n",
    "                break\n",
    "\n",
    "    def withdraw(self, account_number, amount):\n",
    "        for account in self.accounts:\n",
    "            if account.account_number == account_number:\n",
    "                account.withdraw(amount)\n",
    "                break\n",
    "\n",
    "    def calculate_total_balance(self):\n",
    "        total_balance = 0\n",
    "        for account in self.accounts:\n",
    "            total_balance += account.balance\n",
    "        return total_balance\n",
    "\n",
    "\n",
    "class BankAccount:\n",
    "    def __init__(self, account_number, balance):\n",
    "        self.account_number = account_number\n",
    "        self.balance = balance\n",
    "\n",
    "    def deposit(self, amount):\n",
    "        self.balance += amount\n",
    "\n",
    "    def withdraw(self, amount):\n",
    "        if amount <= self.balance:\n",
    "            self.balance -= amount\n",
    "        else:\n",
    "            print(\"Insufficient balance!\")\n",
    "\n",
    "\n",
    "# Testing the Bank class\n",
    "bank = Bank(\"MyBank\")\n",
    "\n",
    "account1 = BankAccount(\"A001\", 1000)\n",
    "account2 = BankAccount(\"A002\", 2000)\n",
    "\n",
    "bank.create_account(account1)\n",
    "bank.create_account(account2)\n",
    "\n",
    "bank.deposit(\"A001\", 500)\n",
    "bank.withdraw(\"A002\", 1000)\n",
    "\n",
    "total_balance = bank.calculate_total_balance()\n",
    "print(\"Total Balance:\", total_balance)\n"
   ]
  },
  {
   "cell_type": "markdown",
   "metadata": {},
   "source": [
    "***"
   ]
  }
 ],
 "metadata": {
  "kernelspec": {
   "display_name": "Python 3",
   "language": "python",
   "name": "python3"
  },
  "language_info": {
   "codemirror_mode": {
    "name": "ipython",
    "version": 3
   },
   "file_extension": ".py",
   "mimetype": "text/x-python",
   "name": "python",
   "nbconvert_exporter": "python",
   "pygments_lexer": "ipython3",
   "version": "3.10.2"
  },
  "orig_nbformat": 4
 },
 "nbformat": 4,
 "nbformat_minor": 2
}
