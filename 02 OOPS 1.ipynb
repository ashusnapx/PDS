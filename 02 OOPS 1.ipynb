{
 "cells": [
  {
   "cell_type": "code",
   "execution_count": 1,
   "id": "2c23bcac-4c15-4048-a095-e182be834021",
   "metadata": {},
   "outputs": [],
   "source": [
    "a = 1"
   ]
  },
  {
   "cell_type": "code",
   "execution_count": 3,
   "id": "69b09b20-c86e-46b5-a6d8-df4ce109bf98",
   "metadata": {},
   "outputs": [
    {
     "data": {
      "text/plain": [
       "int"
      ]
     },
     "execution_count": 3,
     "metadata": {},
     "output_type": "execute_result"
    }
   ],
   "source": [
    "type(a)"
   ]
  },
  {
   "cell_type": "code",
   "execution_count": 4,
   "id": "d8cfb71f-0073-4102-b8fb-5ca3d3a50571",
   "metadata": {},
   "outputs": [
    {
     "name": "stdout",
     "output_type": "stream",
     "text": [
      "<class 'int'>\n"
     ]
    }
   ],
   "source": [
    "print(type(a))"
   ]
  },
  {
   "cell_type": "code",
   "execution_count": 1,
   "id": "70f362bc-a28c-4096-9b37-679b8de2374f",
   "metadata": {},
   "outputs": [],
   "source": [
    "class test:\n",
    "    pass"
   ]
  },
  {
   "cell_type": "code",
   "execution_count": 2,
   "id": "05a69156-189b-4b64-886a-1a6d7f0d5c13",
   "metadata": {},
   "outputs": [],
   "source": [
    "b = test()"
   ]
  },
  {
   "cell_type": "code",
   "execution_count": 3,
   "id": "32ece4df-cfb0-4816-8621-c0c1dd85d35d",
   "metadata": {},
   "outputs": [
    {
     "data": {
      "text/plain": [
       "__main__.test"
      ]
     },
     "execution_count": 3,
     "metadata": {},
     "output_type": "execute_result"
    }
   ],
   "source": [
    "type(b)"
   ]
  },
  {
   "cell_type": "code",
   "execution_count": 4,
   "id": "6b84858e-36d4-4242-a636-638881477dc7",
   "metadata": {},
   "outputs": [
    {
     "name": "stdout",
     "output_type": "stream",
     "text": [
      "<class '__main__.test'>\n"
     ]
    }
   ],
   "source": [
    "print(type(b))"
   ]
  },
  {
   "cell_type": "code",
   "execution_count": 2,
   "id": "dae6148e-c377-4fc2-8c27-9fd8d32c4b26",
   "metadata": {},
   "outputs": [],
   "source": [
    "class jec:\n",
    "    def welcome(self):\n",
    "        print(\"No placements\")"
   ]
  },
  {
   "cell_type": "code",
   "execution_count": 3,
   "id": "4ae0647a-ebaf-48b6-9d42-4ba2d6e3db82",
   "metadata": {},
   "outputs": [],
   "source": [
    "ashu = jec()"
   ]
  },
  {
   "cell_type": "code",
   "execution_count": 4,
   "id": "fbc23d46-05d9-474f-b189-f1e7e106e39f",
   "metadata": {},
   "outputs": [
    {
     "name": "stdout",
     "output_type": "stream",
     "text": [
      "No placements\n"
     ]
    }
   ],
   "source": [
    "ashu.welcome()"
   ]
  },
  {
   "cell_type": "code",
   "execution_count": 3,
   "id": "52b1aa32-f5a3-454b-afcc-a61fd4395bb4",
   "metadata": {},
   "outputs": [],
   "source": [
    "class youtube:\n",
    "    def __init__(self,name,age,roll):\n",
    "        self.name = name\n",
    "        self.age = age\n",
    "        self.roll = roll\n",
    "        \n",
    "    def student(self):\n",
    "        return self.name, self.age, self.roll\n",
    "    "
   ]
  },
  {
   "cell_type": "markdown",
   "id": "7ee711bb-5b9d-4559-941e-e29ee2f1ceb8",
   "metadata": {},
   "source": [
    "The above is the generic class"
   ]
  },
  {
   "cell_type": "code",
   "execution_count": 4,
   "id": "3794f363-5760-47ef-9dc5-7a7ace4e280c",
   "metadata": {},
   "outputs": [],
   "source": [
    "ashu = youtube(\"ashutosh\", 23, 20)"
   ]
  },
  {
   "cell_type": "code",
   "execution_count": 5,
   "id": "3724dba3-3456-4ed7-980b-68ac63d423f1",
   "metadata": {},
   "outputs": [
    {
     "data": {
      "text/plain": [
       "('ashutosh', 23, 20)"
      ]
     },
     "execution_count": 5,
     "metadata": {},
     "output_type": "execute_result"
    }
   ],
   "source": [
    "ashu.student()"
   ]
  },
  {
   "cell_type": "code",
   "execution_count": null,
   "id": "db44889a-6f79-4c1b-8587-9522bca7ece5",
   "metadata": {},
   "outputs": [],
   "source": []
  }
 ],
 "metadata": {
  "kernelspec": {
   "display_name": "Python 3 (ipykernel)",
   "language": "python",
   "name": "python3"
  },
  "language_info": {
   "codemirror_mode": {
    "name": "ipython",
    "version": 3
   },
   "file_extension": ".py",
   "mimetype": "text/x-python",
   "name": "python",
   "nbconvert_exporter": "python",
   "pygments_lexer": "ipython3",
   "version": "3.10.8"
  }
 },
 "nbformat": 4,
 "nbformat_minor": 5
}
