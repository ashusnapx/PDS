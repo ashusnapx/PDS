{
 "cells": [
  {
   "attachments": {},
   "cell_type": "markdown",
   "metadata": {},
   "source": [
    "***"
   ]
  },
  {
   "attachments": {},
   "cell_type": "markdown",
   "metadata": {},
   "source": [
    "Q1. List any five functions of the pandas library with execution."
   ]
  },
  {
   "attachments": {},
   "cell_type": "markdown",
   "metadata": {},
   "source": [
    "function 1 - read csv and html files"
   ]
  },
  {
   "cell_type": "code",
   "execution_count": 1,
   "metadata": {},
   "outputs": [
    {
     "name": "stdout",
     "output_type": "stream",
     "text": [
      "Requirement already satisfied: pandas in /Users/ashu/.pyenv/versions/3.10.2/lib/python3.10/site-packages (1.5.3)\n",
      "Requirement already satisfied: python-dateutil>=2.8.1 in /Users/ashu/.pyenv/versions/3.10.2/lib/python3.10/site-packages (from pandas) (2.8.2)\n",
      "Requirement already satisfied: pytz>=2020.1 in /Users/ashu/.pyenv/versions/3.10.2/lib/python3.10/site-packages (from pandas) (2023.3)\n",
      "Requirement already satisfied: numpy>=1.21.0 in /Users/ashu/.pyenv/versions/3.10.2/lib/python3.10/site-packages (from pandas) (1.24.2)\n",
      "Requirement already satisfied: six>=1.5 in /Users/ashu/.pyenv/versions/3.10.2/lib/python3.10/site-packages (from python-dateutil>=2.8.1->pandas) (1.16.0)\n",
      "Note: you may need to restart the kernel to use updated packages.\n"
     ]
    }
   ],
   "source": [
    "pip install pandas"
   ]
  },
  {
   "cell_type": "code",
   "execution_count": 2,
   "metadata": {},
   "outputs": [],
   "source": [
    "import pandas as pd"
   ]
  },
  {
   "cell_type": "code",
   "execution_count": 6,
   "metadata": {},
   "outputs": [],
   "source": [
    "df = pd.read_csv(\"75_csv_file_for_pandas.csv\")"
   ]
  },
  {
   "cell_type": "code",
   "execution_count": 7,
   "metadata": {},
   "outputs": [
    {
     "data": {
      "text/html": [
       "<div>\n",
       "<style scoped>\n",
       "    .dataframe tbody tr th:only-of-type {\n",
       "        vertical-align: middle;\n",
       "    }\n",
       "\n",
       "    .dataframe tbody tr th {\n",
       "        vertical-align: top;\n",
       "    }\n",
       "\n",
       "    .dataframe thead th {\n",
       "        text-align: right;\n",
       "    }\n",
       "</style>\n",
       "<table border=\"1\" class=\"dataframe\">\n",
       "  <thead>\n",
       "    <tr style=\"text-align: right;\">\n",
       "      <th></th>\n",
       "      <th>id</th>\n",
       "      <th>firstname</th>\n",
       "      <th>lastname</th>\n",
       "      <th>email</th>\n",
       "      <th>email2</th>\n",
       "      <th>profession</th>\n",
       "    </tr>\n",
       "  </thead>\n",
       "  <tbody>\n",
       "    <tr>\n",
       "      <th>0</th>\n",
       "      <td>100</td>\n",
       "      <td>Rani</td>\n",
       "      <td>Cherianne</td>\n",
       "      <td>Rani.Cherianne@yopmail.com</td>\n",
       "      <td>Rani.Cherianne@gmail.com</td>\n",
       "      <td>developer</td>\n",
       "    </tr>\n",
       "    <tr>\n",
       "      <th>1</th>\n",
       "      <td>101</td>\n",
       "      <td>Flo</td>\n",
       "      <td>Whiffen</td>\n",
       "      <td>Flo.Whiffen@yopmail.com</td>\n",
       "      <td>Flo.Whiffen@gmail.com</td>\n",
       "      <td>worker</td>\n",
       "    </tr>\n",
       "    <tr>\n",
       "      <th>2</th>\n",
       "      <td>102</td>\n",
       "      <td>Berta</td>\n",
       "      <td>Vorster</td>\n",
       "      <td>Berta.Vorster@yopmail.com</td>\n",
       "      <td>Berta.Vorster@gmail.com</td>\n",
       "      <td>developer</td>\n",
       "    </tr>\n",
       "    <tr>\n",
       "      <th>3</th>\n",
       "      <td>103</td>\n",
       "      <td>Evaleen</td>\n",
       "      <td>Marden</td>\n",
       "      <td>Evaleen.Marden@yopmail.com</td>\n",
       "      <td>Evaleen.Marden@gmail.com</td>\n",
       "      <td>worker</td>\n",
       "    </tr>\n",
       "    <tr>\n",
       "      <th>4</th>\n",
       "      <td>104</td>\n",
       "      <td>Meg</td>\n",
       "      <td>Ferino</td>\n",
       "      <td>Meg.Ferino@yopmail.com</td>\n",
       "      <td>Meg.Ferino@gmail.com</td>\n",
       "      <td>worker</td>\n",
       "    </tr>\n",
       "  </tbody>\n",
       "</table>\n",
       "</div>"
      ],
      "text/plain": [
       "    id firstname   lastname                       email  \\\n",
       "0  100      Rani  Cherianne  Rani.Cherianne@yopmail.com   \n",
       "1  101       Flo    Whiffen     Flo.Whiffen@yopmail.com   \n",
       "2  102     Berta    Vorster   Berta.Vorster@yopmail.com   \n",
       "3  103   Evaleen     Marden  Evaleen.Marden@yopmail.com   \n",
       "4  104       Meg     Ferino      Meg.Ferino@yopmail.com   \n",
       "\n",
       "                     email2 profession  \n",
       "0  Rani.Cherianne@gmail.com  developer  \n",
       "1     Flo.Whiffen@gmail.com     worker  \n",
       "2   Berta.Vorster@gmail.com  developer  \n",
       "3  Evaleen.Marden@gmail.com     worker  \n",
       "4      Meg.Ferino@gmail.com     worker  "
      ]
     },
     "execution_count": 7,
     "metadata": {},
     "output_type": "execute_result"
    }
   ],
   "source": [
    "df.head()"
   ]
  },
  {
   "cell_type": "code",
   "execution_count": 8,
   "metadata": {},
   "outputs": [
    {
     "data": {
      "text/html": [
       "<div>\n",
       "<style scoped>\n",
       "    .dataframe tbody tr th:only-of-type {\n",
       "        vertical-align: middle;\n",
       "    }\n",
       "\n",
       "    .dataframe tbody tr th {\n",
       "        vertical-align: top;\n",
       "    }\n",
       "\n",
       "    .dataframe thead th {\n",
       "        text-align: right;\n",
       "    }\n",
       "</style>\n",
       "<table border=\"1\" class=\"dataframe\">\n",
       "  <thead>\n",
       "    <tr style=\"text-align: right;\">\n",
       "      <th></th>\n",
       "      <th>id</th>\n",
       "      <th>firstname</th>\n",
       "      <th>lastname</th>\n",
       "      <th>email</th>\n",
       "      <th>email2</th>\n",
       "      <th>profession</th>\n",
       "    </tr>\n",
       "  </thead>\n",
       "  <tbody>\n",
       "    <tr>\n",
       "      <th>995</th>\n",
       "      <td>1095</td>\n",
       "      <td>Benita</td>\n",
       "      <td>Kussell</td>\n",
       "      <td>Benita.Kussell@yopmail.com</td>\n",
       "      <td>Benita.Kussell@gmail.com</td>\n",
       "      <td>worker</td>\n",
       "    </tr>\n",
       "    <tr>\n",
       "      <th>996</th>\n",
       "      <td>1096</td>\n",
       "      <td>Carilyn</td>\n",
       "      <td>Serilda</td>\n",
       "      <td>Carilyn.Serilda@yopmail.com</td>\n",
       "      <td>Carilyn.Serilda@gmail.com</td>\n",
       "      <td>developer</td>\n",
       "    </tr>\n",
       "    <tr>\n",
       "      <th>997</th>\n",
       "      <td>1097</td>\n",
       "      <td>Fanchon</td>\n",
       "      <td>Hashim</td>\n",
       "      <td>Fanchon.Hashim@yopmail.com</td>\n",
       "      <td>Fanchon.Hashim@gmail.com</td>\n",
       "      <td>firefighter</td>\n",
       "    </tr>\n",
       "    <tr>\n",
       "      <th>998</th>\n",
       "      <td>1098</td>\n",
       "      <td>Hyacinthe</td>\n",
       "      <td>Naashom</td>\n",
       "      <td>Hyacinthe.Naashom@yopmail.com</td>\n",
       "      <td>Hyacinthe.Naashom@gmail.com</td>\n",
       "      <td>developer</td>\n",
       "    </tr>\n",
       "    <tr>\n",
       "      <th>999</th>\n",
       "      <td>1099</td>\n",
       "      <td>Trixi</td>\n",
       "      <td>Westphal</td>\n",
       "      <td>Trixi.Westphal@yopmail.com</td>\n",
       "      <td>Trixi.Westphal@gmail.com</td>\n",
       "      <td>worker</td>\n",
       "    </tr>\n",
       "  </tbody>\n",
       "</table>\n",
       "</div>"
      ],
      "text/plain": [
       "       id  firstname  lastname                          email  \\\n",
       "995  1095     Benita   Kussell     Benita.Kussell@yopmail.com   \n",
       "996  1096    Carilyn   Serilda    Carilyn.Serilda@yopmail.com   \n",
       "997  1097    Fanchon    Hashim     Fanchon.Hashim@yopmail.com   \n",
       "998  1098  Hyacinthe   Naashom  Hyacinthe.Naashom@yopmail.com   \n",
       "999  1099      Trixi  Westphal     Trixi.Westphal@yopmail.com   \n",
       "\n",
       "                          email2   profession  \n",
       "995     Benita.Kussell@gmail.com       worker  \n",
       "996    Carilyn.Serilda@gmail.com    developer  \n",
       "997     Fanchon.Hashim@gmail.com  firefighter  \n",
       "998  Hyacinthe.Naashom@gmail.com    developer  \n",
       "999     Trixi.Westphal@gmail.com       worker  "
      ]
     },
     "execution_count": 8,
     "metadata": {},
     "output_type": "execute_result"
    }
   ],
   "source": [
    "df.tail()"
   ]
  },
  {
   "cell_type": "code",
   "execution_count": 9,
   "metadata": {},
   "outputs": [
    {
     "data": {
      "text/html": [
       "<div>\n",
       "<style scoped>\n",
       "    .dataframe tbody tr th:only-of-type {\n",
       "        vertical-align: middle;\n",
       "    }\n",
       "\n",
       "    .dataframe tbody tr th {\n",
       "        vertical-align: top;\n",
       "    }\n",
       "\n",
       "    .dataframe thead th {\n",
       "        text-align: right;\n",
       "    }\n",
       "</style>\n",
       "<table border=\"1\" class=\"dataframe\">\n",
       "  <thead>\n",
       "    <tr style=\"text-align: right;\">\n",
       "      <th></th>\n",
       "      <th>id</th>\n",
       "      <th>firstname</th>\n",
       "      <th>lastname</th>\n",
       "      <th>email</th>\n",
       "      <th>email2</th>\n",
       "      <th>profession</th>\n",
       "    </tr>\n",
       "  </thead>\n",
       "  <tbody>\n",
       "    <tr>\n",
       "      <th>0</th>\n",
       "      <td>100</td>\n",
       "      <td>Rani</td>\n",
       "      <td>Cherianne</td>\n",
       "      <td>Rani.Cherianne@yopmail.com</td>\n",
       "      <td>Rani.Cherianne@gmail.com</td>\n",
       "      <td>developer</td>\n",
       "    </tr>\n",
       "    <tr>\n",
       "      <th>1</th>\n",
       "      <td>101</td>\n",
       "      <td>Flo</td>\n",
       "      <td>Whiffen</td>\n",
       "      <td>Flo.Whiffen@yopmail.com</td>\n",
       "      <td>Flo.Whiffen@gmail.com</td>\n",
       "      <td>worker</td>\n",
       "    </tr>\n",
       "    <tr>\n",
       "      <th>2</th>\n",
       "      <td>102</td>\n",
       "      <td>Berta</td>\n",
       "      <td>Vorster</td>\n",
       "      <td>Berta.Vorster@yopmail.com</td>\n",
       "      <td>Berta.Vorster@gmail.com</td>\n",
       "      <td>developer</td>\n",
       "    </tr>\n",
       "  </tbody>\n",
       "</table>\n",
       "</div>"
      ],
      "text/plain": [
       "    id firstname   lastname                       email  \\\n",
       "0  100      Rani  Cherianne  Rani.Cherianne@yopmail.com   \n",
       "1  101       Flo    Whiffen     Flo.Whiffen@yopmail.com   \n",
       "2  102     Berta    Vorster   Berta.Vorster@yopmail.com   \n",
       "\n",
       "                     email2 profession  \n",
       "0  Rani.Cherianne@gmail.com  developer  \n",
       "1     Flo.Whiffen@gmail.com     worker  \n",
       "2   Berta.Vorster@gmail.com  developer  "
      ]
     },
     "execution_count": 9,
     "metadata": {},
     "output_type": "execute_result"
    }
   ],
   "source": [
    "df.head(3)"
   ]
  },
  {
   "cell_type": "code",
   "execution_count": 10,
   "metadata": {},
   "outputs": [
    {
     "data": {
      "text/html": [
       "<div>\n",
       "<style scoped>\n",
       "    .dataframe tbody tr th:only-of-type {\n",
       "        vertical-align: middle;\n",
       "    }\n",
       "\n",
       "    .dataframe tbody tr th {\n",
       "        vertical-align: top;\n",
       "    }\n",
       "\n",
       "    .dataframe thead th {\n",
       "        text-align: right;\n",
       "    }\n",
       "</style>\n",
       "<table border=\"1\" class=\"dataframe\">\n",
       "  <thead>\n",
       "    <tr style=\"text-align: right;\">\n",
       "      <th></th>\n",
       "      <th>id</th>\n",
       "      <th>firstname</th>\n",
       "      <th>lastname</th>\n",
       "      <th>email</th>\n",
       "      <th>email2</th>\n",
       "      <th>profession</th>\n",
       "    </tr>\n",
       "  </thead>\n",
       "  <tbody>\n",
       "    <tr>\n",
       "      <th>997</th>\n",
       "      <td>1097</td>\n",
       "      <td>Fanchon</td>\n",
       "      <td>Hashim</td>\n",
       "      <td>Fanchon.Hashim@yopmail.com</td>\n",
       "      <td>Fanchon.Hashim@gmail.com</td>\n",
       "      <td>firefighter</td>\n",
       "    </tr>\n",
       "    <tr>\n",
       "      <th>998</th>\n",
       "      <td>1098</td>\n",
       "      <td>Hyacinthe</td>\n",
       "      <td>Naashom</td>\n",
       "      <td>Hyacinthe.Naashom@yopmail.com</td>\n",
       "      <td>Hyacinthe.Naashom@gmail.com</td>\n",
       "      <td>developer</td>\n",
       "    </tr>\n",
       "    <tr>\n",
       "      <th>999</th>\n",
       "      <td>1099</td>\n",
       "      <td>Trixi</td>\n",
       "      <td>Westphal</td>\n",
       "      <td>Trixi.Westphal@yopmail.com</td>\n",
       "      <td>Trixi.Westphal@gmail.com</td>\n",
       "      <td>worker</td>\n",
       "    </tr>\n",
       "  </tbody>\n",
       "</table>\n",
       "</div>"
      ],
      "text/plain": [
       "       id  firstname  lastname                          email  \\\n",
       "997  1097    Fanchon    Hashim     Fanchon.Hashim@yopmail.com   \n",
       "998  1098  Hyacinthe   Naashom  Hyacinthe.Naashom@yopmail.com   \n",
       "999  1099      Trixi  Westphal     Trixi.Westphal@yopmail.com   \n",
       "\n",
       "                          email2   profession  \n",
       "997     Fanchon.Hashim@gmail.com  firefighter  \n",
       "998  Hyacinthe.Naashom@gmail.com    developer  \n",
       "999     Trixi.Westphal@gmail.com       worker  "
      ]
     },
     "execution_count": 10,
     "metadata": {},
     "output_type": "execute_result"
    }
   ],
   "source": [
    "df.tail(3)"
   ]
  },
  {
   "cell_type": "code",
   "execution_count": 11,
   "metadata": {},
   "outputs": [
    {
     "data": {
      "text/html": [
       "<div>\n",
       "<style scoped>\n",
       "    .dataframe tbody tr th:only-of-type {\n",
       "        vertical-align: middle;\n",
       "    }\n",
       "\n",
       "    .dataframe tbody tr th {\n",
       "        vertical-align: top;\n",
       "    }\n",
       "\n",
       "    .dataframe thead th {\n",
       "        text-align: right;\n",
       "    }\n",
       "</style>\n",
       "<table border=\"1\" class=\"dataframe\">\n",
       "  <thead>\n",
       "    <tr style=\"text-align: right;\">\n",
       "      <th></th>\n",
       "      <th>id</th>\n",
       "      <th>firstname</th>\n",
       "      <th>lastname</th>\n",
       "      <th>email</th>\n",
       "      <th>email2</th>\n",
       "      <th>profession</th>\n",
       "    </tr>\n",
       "  </thead>\n",
       "  <tbody>\n",
       "    <tr>\n",
       "      <th>0</th>\n",
       "      <td>100</td>\n",
       "      <td>Rani</td>\n",
       "      <td>Cherianne</td>\n",
       "      <td>Rani.Cherianne@yopmail.com</td>\n",
       "      <td>Rani.Cherianne@gmail.com</td>\n",
       "      <td>developer</td>\n",
       "    </tr>\n",
       "    <tr>\n",
       "      <th>2</th>\n",
       "      <td>102</td>\n",
       "      <td>Berta</td>\n",
       "      <td>Vorster</td>\n",
       "      <td>Berta.Vorster@yopmail.com</td>\n",
       "      <td>Berta.Vorster@gmail.com</td>\n",
       "      <td>developer</td>\n",
       "    </tr>\n",
       "    <tr>\n",
       "      <th>6</th>\n",
       "      <td>106</td>\n",
       "      <td>Lila</td>\n",
       "      <td>Manolo</td>\n",
       "      <td>Lila.Manolo@yopmail.com</td>\n",
       "      <td>Lila.Manolo@gmail.com</td>\n",
       "      <td>developer</td>\n",
       "    </tr>\n",
       "    <tr>\n",
       "      <th>9</th>\n",
       "      <td>109</td>\n",
       "      <td>Ninnetta</td>\n",
       "      <td>Emerson</td>\n",
       "      <td>Ninnetta.Emerson@yopmail.com</td>\n",
       "      <td>Ninnetta.Emerson@gmail.com</td>\n",
       "      <td>developer</td>\n",
       "    </tr>\n",
       "    <tr>\n",
       "      <th>18</th>\n",
       "      <td>118</td>\n",
       "      <td>Leona</td>\n",
       "      <td>Grayce</td>\n",
       "      <td>Leona.Grayce@yopmail.com</td>\n",
       "      <td>Leona.Grayce@gmail.com</td>\n",
       "      <td>developer</td>\n",
       "    </tr>\n",
       "    <tr>\n",
       "      <th>...</th>\n",
       "      <td>...</td>\n",
       "      <td>...</td>\n",
       "      <td>...</td>\n",
       "      <td>...</td>\n",
       "      <td>...</td>\n",
       "      <td>...</td>\n",
       "    </tr>\n",
       "    <tr>\n",
       "      <th>989</th>\n",
       "      <td>1089</td>\n",
       "      <td>Neila</td>\n",
       "      <td>Behre</td>\n",
       "      <td>Neila.Behre@yopmail.com</td>\n",
       "      <td>Neila.Behre@gmail.com</td>\n",
       "      <td>developer</td>\n",
       "    </tr>\n",
       "    <tr>\n",
       "      <th>991</th>\n",
       "      <td>1091</td>\n",
       "      <td>Sissy</td>\n",
       "      <td>Lamoree</td>\n",
       "      <td>Sissy.Lamoree@yopmail.com</td>\n",
       "      <td>Sissy.Lamoree@gmail.com</td>\n",
       "      <td>developer</td>\n",
       "    </tr>\n",
       "    <tr>\n",
       "      <th>992</th>\n",
       "      <td>1092</td>\n",
       "      <td>Cecile</td>\n",
       "      <td>Medrek</td>\n",
       "      <td>Cecile.Medrek@yopmail.com</td>\n",
       "      <td>Cecile.Medrek@gmail.com</td>\n",
       "      <td>developer</td>\n",
       "    </tr>\n",
       "    <tr>\n",
       "      <th>996</th>\n",
       "      <td>1096</td>\n",
       "      <td>Carilyn</td>\n",
       "      <td>Serilda</td>\n",
       "      <td>Carilyn.Serilda@yopmail.com</td>\n",
       "      <td>Carilyn.Serilda@gmail.com</td>\n",
       "      <td>developer</td>\n",
       "    </tr>\n",
       "    <tr>\n",
       "      <th>998</th>\n",
       "      <td>1098</td>\n",
       "      <td>Hyacinthe</td>\n",
       "      <td>Naashom</td>\n",
       "      <td>Hyacinthe.Naashom@yopmail.com</td>\n",
       "      <td>Hyacinthe.Naashom@gmail.com</td>\n",
       "      <td>developer</td>\n",
       "    </tr>\n",
       "  </tbody>\n",
       "</table>\n",
       "<p>210 rows × 6 columns</p>\n",
       "</div>"
      ],
      "text/plain": [
       "       id  firstname   lastname                          email  \\\n",
       "0     100       Rani  Cherianne     Rani.Cherianne@yopmail.com   \n",
       "2     102      Berta    Vorster      Berta.Vorster@yopmail.com   \n",
       "6     106       Lila     Manolo        Lila.Manolo@yopmail.com   \n",
       "9     109   Ninnetta    Emerson   Ninnetta.Emerson@yopmail.com   \n",
       "18    118      Leona     Grayce       Leona.Grayce@yopmail.com   \n",
       "..    ...        ...        ...                            ...   \n",
       "989  1089      Neila      Behre        Neila.Behre@yopmail.com   \n",
       "991  1091      Sissy    Lamoree      Sissy.Lamoree@yopmail.com   \n",
       "992  1092     Cecile     Medrek      Cecile.Medrek@yopmail.com   \n",
       "996  1096    Carilyn    Serilda    Carilyn.Serilda@yopmail.com   \n",
       "998  1098  Hyacinthe    Naashom  Hyacinthe.Naashom@yopmail.com   \n",
       "\n",
       "                          email2 profession  \n",
       "0       Rani.Cherianne@gmail.com  developer  \n",
       "2        Berta.Vorster@gmail.com  developer  \n",
       "6          Lila.Manolo@gmail.com  developer  \n",
       "9     Ninnetta.Emerson@gmail.com  developer  \n",
       "18        Leona.Grayce@gmail.com  developer  \n",
       "..                           ...        ...  \n",
       "989        Neila.Behre@gmail.com  developer  \n",
       "991      Sissy.Lamoree@gmail.com  developer  \n",
       "992      Cecile.Medrek@gmail.com  developer  \n",
       "996    Carilyn.Serilda@gmail.com  developer  \n",
       "998  Hyacinthe.Naashom@gmail.com  developer  \n",
       "\n",
       "[210 rows x 6 columns]"
      ]
     },
     "execution_count": 11,
     "metadata": {},
     "output_type": "execute_result"
    }
   ],
   "source": [
    "df[df['profession'] == 'developer']"
   ]
  },
  {
   "cell_type": "code",
   "execution_count": 12,
   "metadata": {},
   "outputs": [
    {
     "data": {
      "text/html": [
       "<div>\n",
       "<style scoped>\n",
       "    .dataframe tbody tr th:only-of-type {\n",
       "        vertical-align: middle;\n",
       "    }\n",
       "\n",
       "    .dataframe tbody tr th {\n",
       "        vertical-align: top;\n",
       "    }\n",
       "\n",
       "    .dataframe thead th {\n",
       "        text-align: right;\n",
       "    }\n",
       "</style>\n",
       "<table border=\"1\" class=\"dataframe\">\n",
       "  <thead>\n",
       "    <tr style=\"text-align: right;\">\n",
       "      <th></th>\n",
       "      <th>id</th>\n",
       "      <th>firstname</th>\n",
       "      <th>lastname</th>\n",
       "      <th>email</th>\n",
       "      <th>email2</th>\n",
       "      <th>profession</th>\n",
       "    </tr>\n",
       "  </thead>\n",
       "  <tbody>\n",
       "    <tr>\n",
       "      <th>441</th>\n",
       "      <td>541</td>\n",
       "      <td>Karolina</td>\n",
       "      <td>Lail</td>\n",
       "      <td>Karolina.Lail@yopmail.com</td>\n",
       "      <td>Karolina.Lail@gmail.com</td>\n",
       "      <td>firefighter</td>\n",
       "    </tr>\n",
       "    <tr>\n",
       "      <th>442</th>\n",
       "      <td>542</td>\n",
       "      <td>Joelly</td>\n",
       "      <td>Mauer</td>\n",
       "      <td>Joelly.Mauer@yopmail.com</td>\n",
       "      <td>Joelly.Mauer@gmail.com</td>\n",
       "      <td>developer</td>\n",
       "    </tr>\n",
       "    <tr>\n",
       "      <th>443</th>\n",
       "      <td>543</td>\n",
       "      <td>Elbertina</td>\n",
       "      <td>Oster</td>\n",
       "      <td>Elbertina.Oster@yopmail.com</td>\n",
       "      <td>Elbertina.Oster@gmail.com</td>\n",
       "      <td>police officer</td>\n",
       "    </tr>\n",
       "    <tr>\n",
       "      <th>444</th>\n",
       "      <td>544</td>\n",
       "      <td>Elvira</td>\n",
       "      <td>Erskine</td>\n",
       "      <td>Elvira.Erskine@yopmail.com</td>\n",
       "      <td>Elvira.Erskine@gmail.com</td>\n",
       "      <td>developer</td>\n",
       "    </tr>\n",
       "    <tr>\n",
       "      <th>445</th>\n",
       "      <td>545</td>\n",
       "      <td>Aili</td>\n",
       "      <td>Ricki</td>\n",
       "      <td>Aili.Ricki@yopmail.com</td>\n",
       "      <td>Aili.Ricki@gmail.com</td>\n",
       "      <td>doctor</td>\n",
       "    </tr>\n",
       "    <tr>\n",
       "      <th>...</th>\n",
       "      <td>...</td>\n",
       "      <td>...</td>\n",
       "      <td>...</td>\n",
       "      <td>...</td>\n",
       "      <td>...</td>\n",
       "      <td>...</td>\n",
       "    </tr>\n",
       "    <tr>\n",
       "      <th>995</th>\n",
       "      <td>1095</td>\n",
       "      <td>Benita</td>\n",
       "      <td>Kussell</td>\n",
       "      <td>Benita.Kussell@yopmail.com</td>\n",
       "      <td>Benita.Kussell@gmail.com</td>\n",
       "      <td>worker</td>\n",
       "    </tr>\n",
       "    <tr>\n",
       "      <th>996</th>\n",
       "      <td>1096</td>\n",
       "      <td>Carilyn</td>\n",
       "      <td>Serilda</td>\n",
       "      <td>Carilyn.Serilda@yopmail.com</td>\n",
       "      <td>Carilyn.Serilda@gmail.com</td>\n",
       "      <td>developer</td>\n",
       "    </tr>\n",
       "    <tr>\n",
       "      <th>997</th>\n",
       "      <td>1097</td>\n",
       "      <td>Fanchon</td>\n",
       "      <td>Hashim</td>\n",
       "      <td>Fanchon.Hashim@yopmail.com</td>\n",
       "      <td>Fanchon.Hashim@gmail.com</td>\n",
       "      <td>firefighter</td>\n",
       "    </tr>\n",
       "    <tr>\n",
       "      <th>998</th>\n",
       "      <td>1098</td>\n",
       "      <td>Hyacinthe</td>\n",
       "      <td>Naashom</td>\n",
       "      <td>Hyacinthe.Naashom@yopmail.com</td>\n",
       "      <td>Hyacinthe.Naashom@gmail.com</td>\n",
       "      <td>developer</td>\n",
       "    </tr>\n",
       "    <tr>\n",
       "      <th>999</th>\n",
       "      <td>1099</td>\n",
       "      <td>Trixi</td>\n",
       "      <td>Westphal</td>\n",
       "      <td>Trixi.Westphal@yopmail.com</td>\n",
       "      <td>Trixi.Westphal@gmail.com</td>\n",
       "      <td>worker</td>\n",
       "    </tr>\n",
       "  </tbody>\n",
       "</table>\n",
       "<p>559 rows × 6 columns</p>\n",
       "</div>"
      ],
      "text/plain": [
       "       id  firstname  lastname                          email  \\\n",
       "441   541   Karolina      Lail      Karolina.Lail@yopmail.com   \n",
       "442   542     Joelly     Mauer       Joelly.Mauer@yopmail.com   \n",
       "443   543  Elbertina     Oster    Elbertina.Oster@yopmail.com   \n",
       "444   544     Elvira   Erskine     Elvira.Erskine@yopmail.com   \n",
       "445   545       Aili     Ricki         Aili.Ricki@yopmail.com   \n",
       "..    ...        ...       ...                            ...   \n",
       "995  1095     Benita   Kussell     Benita.Kussell@yopmail.com   \n",
       "996  1096    Carilyn   Serilda    Carilyn.Serilda@yopmail.com   \n",
       "997  1097    Fanchon    Hashim     Fanchon.Hashim@yopmail.com   \n",
       "998  1098  Hyacinthe   Naashom  Hyacinthe.Naashom@yopmail.com   \n",
       "999  1099      Trixi  Westphal     Trixi.Westphal@yopmail.com   \n",
       "\n",
       "                          email2      profession  \n",
       "441      Karolina.Lail@gmail.com     firefighter  \n",
       "442       Joelly.Mauer@gmail.com       developer  \n",
       "443    Elbertina.Oster@gmail.com  police officer  \n",
       "444     Elvira.Erskine@gmail.com       developer  \n",
       "445         Aili.Ricki@gmail.com          doctor  \n",
       "..                           ...             ...  \n",
       "995     Benita.Kussell@gmail.com          worker  \n",
       "996    Carilyn.Serilda@gmail.com       developer  \n",
       "997     Fanchon.Hashim@gmail.com     firefighter  \n",
       "998  Hyacinthe.Naashom@gmail.com       developer  \n",
       "999     Trixi.Westphal@gmail.com          worker  \n",
       "\n",
       "[559 rows x 6 columns]"
      ]
     },
     "execution_count": 12,
     "metadata": {},
     "output_type": "execute_result"
    }
   ],
   "source": [
    "df[df['id'] > 540]"
   ]
  },
  {
   "cell_type": "code",
   "execution_count": 13,
   "metadata": {},
   "outputs": [
    {
     "data": {
      "text/plain": [
       "id                  120\n",
       "profession    developer\n",
       "Name: 20, dtype: object"
      ]
     },
     "execution_count": 13,
     "metadata": {},
     "output_type": "execute_result"
    }
   ],
   "source": [
    "df.loc[20,['id','profession']]"
   ]
  },
  {
   "cell_type": "code",
   "execution_count": 14,
   "metadata": {},
   "outputs": [
    {
     "data": {
      "text/html": [
       "<div>\n",
       "<style scoped>\n",
       "    .dataframe tbody tr th:only-of-type {\n",
       "        vertical-align: middle;\n",
       "    }\n",
       "\n",
       "    .dataframe tbody tr th {\n",
       "        vertical-align: top;\n",
       "    }\n",
       "\n",
       "    .dataframe thead th {\n",
       "        text-align: right;\n",
       "    }\n",
       "</style>\n",
       "<table border=\"1\" class=\"dataframe\">\n",
       "  <thead>\n",
       "    <tr style=\"text-align: right;\">\n",
       "      <th></th>\n",
       "      <th>id</th>\n",
       "      <th>profession</th>\n",
       "    </tr>\n",
       "  </thead>\n",
       "  <tbody>\n",
       "    <tr>\n",
       "      <th>20</th>\n",
       "      <td>120</td>\n",
       "      <td>developer</td>\n",
       "    </tr>\n",
       "    <tr>\n",
       "      <th>21</th>\n",
       "      <td>121</td>\n",
       "      <td>developer</td>\n",
       "    </tr>\n",
       "    <tr>\n",
       "      <th>22</th>\n",
       "      <td>122</td>\n",
       "      <td>worker</td>\n",
       "    </tr>\n",
       "    <tr>\n",
       "      <th>23</th>\n",
       "      <td>123</td>\n",
       "      <td>police officer</td>\n",
       "    </tr>\n",
       "    <tr>\n",
       "      <th>24</th>\n",
       "      <td>124</td>\n",
       "      <td>developer</td>\n",
       "    </tr>\n",
       "    <tr>\n",
       "      <th>25</th>\n",
       "      <td>125</td>\n",
       "      <td>worker</td>\n",
       "    </tr>\n",
       "  </tbody>\n",
       "</table>\n",
       "</div>"
      ],
      "text/plain": [
       "     id      profession\n",
       "20  120       developer\n",
       "21  121       developer\n",
       "22  122          worker\n",
       "23  123  police officer\n",
       "24  124       developer\n",
       "25  125          worker"
      ]
     },
     "execution_count": 14,
     "metadata": {},
     "output_type": "execute_result"
    }
   ],
   "source": [
    "df.loc[20:25,['id','profession']]"
   ]
  },
  {
   "cell_type": "code",
   "execution_count": 15,
   "metadata": {},
   "outputs": [
    {
     "data": {
      "text/html": [
       "<div>\n",
       "<style scoped>\n",
       "    .dataframe tbody tr th:only-of-type {\n",
       "        vertical-align: middle;\n",
       "    }\n",
       "\n",
       "    .dataframe tbody tr th {\n",
       "        vertical-align: top;\n",
       "    }\n",
       "\n",
       "    .dataframe thead th {\n",
       "        text-align: right;\n",
       "    }\n",
       "</style>\n",
       "<table border=\"1\" class=\"dataframe\">\n",
       "  <thead>\n",
       "    <tr style=\"text-align: right;\">\n",
       "      <th></th>\n",
       "      <th>id</th>\n",
       "      <th>profession</th>\n",
       "    </tr>\n",
       "  </thead>\n",
       "  <tbody>\n",
       "    <tr>\n",
       "      <th>20</th>\n",
       "      <td>120</td>\n",
       "      <td>developer</td>\n",
       "    </tr>\n",
       "    <tr>\n",
       "      <th>30</th>\n",
       "      <td>130</td>\n",
       "      <td>developer</td>\n",
       "    </tr>\n",
       "    <tr>\n",
       "      <th>40</th>\n",
       "      <td>140</td>\n",
       "      <td>worker</td>\n",
       "    </tr>\n",
       "    <tr>\n",
       "      <th>50</th>\n",
       "      <td>150</td>\n",
       "      <td>police officer</td>\n",
       "    </tr>\n",
       "    <tr>\n",
       "      <th>60</th>\n",
       "      <td>160</td>\n",
       "      <td>worker</td>\n",
       "    </tr>\n",
       "    <tr>\n",
       "      <th>70</th>\n",
       "      <td>170</td>\n",
       "      <td>police officer</td>\n",
       "    </tr>\n",
       "    <tr>\n",
       "      <th>80</th>\n",
       "      <td>180</td>\n",
       "      <td>police officer</td>\n",
       "    </tr>\n",
       "    <tr>\n",
       "      <th>90</th>\n",
       "      <td>190</td>\n",
       "      <td>firefighter</td>\n",
       "    </tr>\n",
       "    <tr>\n",
       "      <th>100</th>\n",
       "      <td>200</td>\n",
       "      <td>developer</td>\n",
       "    </tr>\n",
       "  </tbody>\n",
       "</table>\n",
       "</div>"
      ],
      "text/plain": [
       "      id      profession\n",
       "20   120       developer\n",
       "30   130       developer\n",
       "40   140          worker\n",
       "50   150  police officer\n",
       "60   160          worker\n",
       "70   170  police officer\n",
       "80   180  police officer\n",
       "90   190     firefighter\n",
       "100  200       developer"
      ]
     },
     "execution_count": 15,
     "metadata": {},
     "output_type": "execute_result"
    }
   ],
   "source": [
    "df.loc[20:100:10,['id','profession']]"
   ]
  },
  {
   "cell_type": "code",
   "execution_count": 17,
   "metadata": {},
   "outputs": [
    {
     "data": {
      "text/html": [
       "<div>\n",
       "<style scoped>\n",
       "    .dataframe tbody tr th:only-of-type {\n",
       "        vertical-align: middle;\n",
       "    }\n",
       "\n",
       "    .dataframe tbody tr th {\n",
       "        vertical-align: top;\n",
       "    }\n",
       "\n",
       "    .dataframe thead th {\n",
       "        text-align: right;\n",
       "    }\n",
       "</style>\n",
       "<table border=\"1\" class=\"dataframe\">\n",
       "  <thead>\n",
       "    <tr style=\"text-align: right;\">\n",
       "      <th></th>\n",
       "      <th>id</th>\n",
       "      <th>profession</th>\n",
       "    </tr>\n",
       "  </thead>\n",
       "  <tbody>\n",
       "    <tr>\n",
       "      <th>20</th>\n",
       "      <td>120</td>\n",
       "      <td>developer</td>\n",
       "    </tr>\n",
       "    <tr>\n",
       "      <th>30</th>\n",
       "      <td>130</td>\n",
       "      <td>developer</td>\n",
       "    </tr>\n",
       "    <tr>\n",
       "      <th>40</th>\n",
       "      <td>140</td>\n",
       "      <td>worker</td>\n",
       "    </tr>\n",
       "    <tr>\n",
       "      <th>50</th>\n",
       "      <td>150</td>\n",
       "      <td>police officer</td>\n",
       "    </tr>\n",
       "    <tr>\n",
       "      <th>60</th>\n",
       "      <td>160</td>\n",
       "      <td>worker</td>\n",
       "    </tr>\n",
       "    <tr>\n",
       "      <th>70</th>\n",
       "      <td>170</td>\n",
       "      <td>police officer</td>\n",
       "    </tr>\n",
       "    <tr>\n",
       "      <th>80</th>\n",
       "      <td>180</td>\n",
       "      <td>police officer</td>\n",
       "    </tr>\n",
       "    <tr>\n",
       "      <th>90</th>\n",
       "      <td>190</td>\n",
       "      <td>firefighter</td>\n",
       "    </tr>\n",
       "  </tbody>\n",
       "</table>\n",
       "</div>"
      ],
      "text/plain": [
       "     id      profession\n",
       "20  120       developer\n",
       "30  130       developer\n",
       "40  140          worker\n",
       "50  150  police officer\n",
       "60  160          worker\n",
       "70  170  police officer\n",
       "80  180  police officer\n",
       "90  190     firefighter"
      ]
     },
     "execution_count": 17,
     "metadata": {},
     "output_type": "execute_result"
    }
   ],
   "source": [
    "df.iloc[20:100:10,[0,5]]"
   ]
  },
  {
   "cell_type": "code",
   "execution_count": 18,
   "metadata": {},
   "outputs": [
    {
     "data": {
      "text/plain": [
       "['developer', 'worker', 'developer', 'worker', 'worker', ..., 'worker', 'developer', 'firefighter', 'developer', 'worker']\n",
       "Length: 1000\n",
       "Categories (5, object): ['developer', 'doctor', 'firefighter', 'police officer', 'worker']"
      ]
     },
     "execution_count": 18,
     "metadata": {},
     "output_type": "execute_result"
    }
   ],
   "source": [
    "pd.Categorical(df['profession'])"
   ]
  },
  {
   "cell_type": "code",
   "execution_count": 19,
   "metadata": {},
   "outputs": [
    {
     "data": {
      "text/html": [
       "<div>\n",
       "<style scoped>\n",
       "    .dataframe tbody tr th:only-of-type {\n",
       "        vertical-align: middle;\n",
       "    }\n",
       "\n",
       "    .dataframe tbody tr th {\n",
       "        vertical-align: top;\n",
       "    }\n",
       "\n",
       "    .dataframe thead th {\n",
       "        text-align: right;\n",
       "    }\n",
       "</style>\n",
       "<table border=\"1\" class=\"dataframe\">\n",
       "  <thead>\n",
       "    <tr style=\"text-align: right;\">\n",
       "      <th></th>\n",
       "      <th>id</th>\n",
       "    </tr>\n",
       "  </thead>\n",
       "  <tbody>\n",
       "    <tr>\n",
       "      <th>count</th>\n",
       "      <td>1000.000000</td>\n",
       "    </tr>\n",
       "    <tr>\n",
       "      <th>mean</th>\n",
       "      <td>599.500000</td>\n",
       "    </tr>\n",
       "    <tr>\n",
       "      <th>std</th>\n",
       "      <td>288.819436</td>\n",
       "    </tr>\n",
       "    <tr>\n",
       "      <th>min</th>\n",
       "      <td>100.000000</td>\n",
       "    </tr>\n",
       "    <tr>\n",
       "      <th>25%</th>\n",
       "      <td>349.750000</td>\n",
       "    </tr>\n",
       "    <tr>\n",
       "      <th>50%</th>\n",
       "      <td>599.500000</td>\n",
       "    </tr>\n",
       "    <tr>\n",
       "      <th>75%</th>\n",
       "      <td>849.250000</td>\n",
       "    </tr>\n",
       "    <tr>\n",
       "      <th>max</th>\n",
       "      <td>1099.000000</td>\n",
       "    </tr>\n",
       "  </tbody>\n",
       "</table>\n",
       "</div>"
      ],
      "text/plain": [
       "                id\n",
       "count  1000.000000\n",
       "mean    599.500000\n",
       "std     288.819436\n",
       "min     100.000000\n",
       "25%     349.750000\n",
       "50%     599.500000\n",
       "75%     849.250000\n",
       "max    1099.000000"
      ]
     },
     "execution_count": 19,
     "metadata": {},
     "output_type": "execute_result"
    }
   ],
   "source": [
    "df.describe()"
   ]
  },
  {
   "cell_type": "code",
   "execution_count": 20,
   "metadata": {},
   "outputs": [],
   "source": [
    "df['fullName'] = df['firstname'] + ' ' + df['lastname']"
   ]
  },
  {
   "cell_type": "code",
   "execution_count": 21,
   "metadata": {},
   "outputs": [
    {
     "data": {
      "text/html": [
       "<div>\n",
       "<style scoped>\n",
       "    .dataframe tbody tr th:only-of-type {\n",
       "        vertical-align: middle;\n",
       "    }\n",
       "\n",
       "    .dataframe tbody tr th {\n",
       "        vertical-align: top;\n",
       "    }\n",
       "\n",
       "    .dataframe thead th {\n",
       "        text-align: right;\n",
       "    }\n",
       "</style>\n",
       "<table border=\"1\" class=\"dataframe\">\n",
       "  <thead>\n",
       "    <tr style=\"text-align: right;\">\n",
       "      <th></th>\n",
       "      <th>id</th>\n",
       "      <th>firstname</th>\n",
       "      <th>lastname</th>\n",
       "      <th>email</th>\n",
       "      <th>email2</th>\n",
       "      <th>profession</th>\n",
       "      <th>fullName</th>\n",
       "    </tr>\n",
       "  </thead>\n",
       "  <tbody>\n",
       "    <tr>\n",
       "      <th>0</th>\n",
       "      <td>100</td>\n",
       "      <td>Rani</td>\n",
       "      <td>Cherianne</td>\n",
       "      <td>Rani.Cherianne@yopmail.com</td>\n",
       "      <td>Rani.Cherianne@gmail.com</td>\n",
       "      <td>developer</td>\n",
       "      <td>Rani Cherianne</td>\n",
       "    </tr>\n",
       "    <tr>\n",
       "      <th>1</th>\n",
       "      <td>101</td>\n",
       "      <td>Flo</td>\n",
       "      <td>Whiffen</td>\n",
       "      <td>Flo.Whiffen@yopmail.com</td>\n",
       "      <td>Flo.Whiffen@gmail.com</td>\n",
       "      <td>worker</td>\n",
       "      <td>Flo Whiffen</td>\n",
       "    </tr>\n",
       "    <tr>\n",
       "      <th>2</th>\n",
       "      <td>102</td>\n",
       "      <td>Berta</td>\n",
       "      <td>Vorster</td>\n",
       "      <td>Berta.Vorster@yopmail.com</td>\n",
       "      <td>Berta.Vorster@gmail.com</td>\n",
       "      <td>developer</td>\n",
       "      <td>Berta Vorster</td>\n",
       "    </tr>\n",
       "    <tr>\n",
       "      <th>3</th>\n",
       "      <td>103</td>\n",
       "      <td>Evaleen</td>\n",
       "      <td>Marden</td>\n",
       "      <td>Evaleen.Marden@yopmail.com</td>\n",
       "      <td>Evaleen.Marden@gmail.com</td>\n",
       "      <td>worker</td>\n",
       "      <td>Evaleen Marden</td>\n",
       "    </tr>\n",
       "    <tr>\n",
       "      <th>4</th>\n",
       "      <td>104</td>\n",
       "      <td>Meg</td>\n",
       "      <td>Ferino</td>\n",
       "      <td>Meg.Ferino@yopmail.com</td>\n",
       "      <td>Meg.Ferino@gmail.com</td>\n",
       "      <td>worker</td>\n",
       "      <td>Meg Ferino</td>\n",
       "    </tr>\n",
       "    <tr>\n",
       "      <th>...</th>\n",
       "      <td>...</td>\n",
       "      <td>...</td>\n",
       "      <td>...</td>\n",
       "      <td>...</td>\n",
       "      <td>...</td>\n",
       "      <td>...</td>\n",
       "      <td>...</td>\n",
       "    </tr>\n",
       "    <tr>\n",
       "      <th>995</th>\n",
       "      <td>1095</td>\n",
       "      <td>Benita</td>\n",
       "      <td>Kussell</td>\n",
       "      <td>Benita.Kussell@yopmail.com</td>\n",
       "      <td>Benita.Kussell@gmail.com</td>\n",
       "      <td>worker</td>\n",
       "      <td>Benita Kussell</td>\n",
       "    </tr>\n",
       "    <tr>\n",
       "      <th>996</th>\n",
       "      <td>1096</td>\n",
       "      <td>Carilyn</td>\n",
       "      <td>Serilda</td>\n",
       "      <td>Carilyn.Serilda@yopmail.com</td>\n",
       "      <td>Carilyn.Serilda@gmail.com</td>\n",
       "      <td>developer</td>\n",
       "      <td>Carilyn Serilda</td>\n",
       "    </tr>\n",
       "    <tr>\n",
       "      <th>997</th>\n",
       "      <td>1097</td>\n",
       "      <td>Fanchon</td>\n",
       "      <td>Hashim</td>\n",
       "      <td>Fanchon.Hashim@yopmail.com</td>\n",
       "      <td>Fanchon.Hashim@gmail.com</td>\n",
       "      <td>firefighter</td>\n",
       "      <td>Fanchon Hashim</td>\n",
       "    </tr>\n",
       "    <tr>\n",
       "      <th>998</th>\n",
       "      <td>1098</td>\n",
       "      <td>Hyacinthe</td>\n",
       "      <td>Naashom</td>\n",
       "      <td>Hyacinthe.Naashom@yopmail.com</td>\n",
       "      <td>Hyacinthe.Naashom@gmail.com</td>\n",
       "      <td>developer</td>\n",
       "      <td>Hyacinthe Naashom</td>\n",
       "    </tr>\n",
       "    <tr>\n",
       "      <th>999</th>\n",
       "      <td>1099</td>\n",
       "      <td>Trixi</td>\n",
       "      <td>Westphal</td>\n",
       "      <td>Trixi.Westphal@yopmail.com</td>\n",
       "      <td>Trixi.Westphal@gmail.com</td>\n",
       "      <td>worker</td>\n",
       "      <td>Trixi Westphal</td>\n",
       "    </tr>\n",
       "  </tbody>\n",
       "</table>\n",
       "<p>1000 rows × 7 columns</p>\n",
       "</div>"
      ],
      "text/plain": [
       "       id  firstname   lastname                          email  \\\n",
       "0     100       Rani  Cherianne     Rani.Cherianne@yopmail.com   \n",
       "1     101        Flo    Whiffen        Flo.Whiffen@yopmail.com   \n",
       "2     102      Berta    Vorster      Berta.Vorster@yopmail.com   \n",
       "3     103    Evaleen     Marden     Evaleen.Marden@yopmail.com   \n",
       "4     104        Meg     Ferino         Meg.Ferino@yopmail.com   \n",
       "..    ...        ...        ...                            ...   \n",
       "995  1095     Benita    Kussell     Benita.Kussell@yopmail.com   \n",
       "996  1096    Carilyn    Serilda    Carilyn.Serilda@yopmail.com   \n",
       "997  1097    Fanchon     Hashim     Fanchon.Hashim@yopmail.com   \n",
       "998  1098  Hyacinthe    Naashom  Hyacinthe.Naashom@yopmail.com   \n",
       "999  1099      Trixi   Westphal     Trixi.Westphal@yopmail.com   \n",
       "\n",
       "                          email2   profession           fullName  \n",
       "0       Rani.Cherianne@gmail.com    developer     Rani Cherianne  \n",
       "1          Flo.Whiffen@gmail.com       worker        Flo Whiffen  \n",
       "2        Berta.Vorster@gmail.com    developer      Berta Vorster  \n",
       "3       Evaleen.Marden@gmail.com       worker     Evaleen Marden  \n",
       "4           Meg.Ferino@gmail.com       worker         Meg Ferino  \n",
       "..                           ...          ...                ...  \n",
       "995     Benita.Kussell@gmail.com       worker     Benita Kussell  \n",
       "996    Carilyn.Serilda@gmail.com    developer    Carilyn Serilda  \n",
       "997     Fanchon.Hashim@gmail.com  firefighter     Fanchon Hashim  \n",
       "998  Hyacinthe.Naashom@gmail.com    developer  Hyacinthe Naashom  \n",
       "999     Trixi.Westphal@gmail.com       worker     Trixi Westphal  \n",
       "\n",
       "[1000 rows x 7 columns]"
      ]
     },
     "execution_count": 21,
     "metadata": {},
     "output_type": "execute_result"
    }
   ],
   "source": [
    "df"
   ]
  },
  {
   "attachments": {},
   "cell_type": "markdown",
   "metadata": {},
   "source": [
    "***"
   ]
  },
  {
   "attachments": {},
   "cell_type": "markdown",
   "metadata": {},
   "source": [
    "2. Given a Pandas DataFrame df with columns 'A', 'B', and 'C', write a Python function to re-index the\n",
    "DataFrame with a new index that starts from 1 and increments by 2 for each row."
   ]
  },
  {
   "cell_type": "code",
   "execution_count": null,
   "metadata": {},
   "outputs": [],
   "source": []
  },
  {
   "attachments": {},
   "cell_type": "markdown",
   "metadata": {},
   "source": [
    "***"
   ]
  },
  {
   "attachments": {},
   "cell_type": "markdown",
   "metadata": {},
   "source": [
    "Q3. You have a Pandas DataFrame df with a column named 'Values'. Write a Python function that\n",
    "iterates over the DataFrame and calculates the sum of the first three values in the 'Values' column. The\n",
    "function should print the sum to the console."
   ]
  },
  {
   "cell_type": "code",
   "execution_count": 22,
   "metadata": {},
   "outputs": [],
   "source": [
    "import pandas as pd\n",
    "data = {'Age':[10,20,30,40,50]}\n",
    "df = pd.DataFrame(data)"
   ]
  },
  {
   "cell_type": "code",
   "execution_count": 23,
   "metadata": {},
   "outputs": [
    {
     "data": {
      "text/html": [
       "<div>\n",
       "<style scoped>\n",
       "    .dataframe tbody tr th:only-of-type {\n",
       "        vertical-align: middle;\n",
       "    }\n",
       "\n",
       "    .dataframe tbody tr th {\n",
       "        vertical-align: top;\n",
       "    }\n",
       "\n",
       "    .dataframe thead th {\n",
       "        text-align: right;\n",
       "    }\n",
       "</style>\n",
       "<table border=\"1\" class=\"dataframe\">\n",
       "  <thead>\n",
       "    <tr style=\"text-align: right;\">\n",
       "      <th></th>\n",
       "      <th>Age</th>\n",
       "    </tr>\n",
       "  </thead>\n",
       "  <tbody>\n",
       "    <tr>\n",
       "      <th>0</th>\n",
       "      <td>10</td>\n",
       "    </tr>\n",
       "    <tr>\n",
       "      <th>1</th>\n",
       "      <td>20</td>\n",
       "    </tr>\n",
       "    <tr>\n",
       "      <th>2</th>\n",
       "      <td>30</td>\n",
       "    </tr>\n",
       "    <tr>\n",
       "      <th>3</th>\n",
       "      <td>40</td>\n",
       "    </tr>\n",
       "    <tr>\n",
       "      <th>4</th>\n",
       "      <td>50</td>\n",
       "    </tr>\n",
       "  </tbody>\n",
       "</table>\n",
       "</div>"
      ],
      "text/plain": [
       "   Age\n",
       "0   10\n",
       "1   20\n",
       "2   30\n",
       "3   40\n",
       "4   50"
      ]
     },
     "execution_count": 23,
     "metadata": {},
     "output_type": "execute_result"
    }
   ],
   "source": [
    "df"
   ]
  },
  {
   "cell_type": "code",
   "execution_count": 26,
   "metadata": {},
   "outputs": [],
   "source": [
    "\"\"\" step - 1 is to extract the desired column and in my case i've taken age as the desired column \"\"\"\n",
    "\n",
    "desired_column = df['Age']"
   ]
  },
  {
   "cell_type": "code",
   "execution_count": 27,
   "metadata": {},
   "outputs": [],
   "source": [
    "\"\"\" step - 2 is to extract the first three values of the desired column and it can be done using head() function \"\"\"\n",
    "\n",
    "head_value = desired_column.head(3)"
   ]
  },
  {
   "cell_type": "code",
   "execution_count": 28,
   "metadata": {},
   "outputs": [],
   "source": [
    "\"\"\" step - 3 is to find the sum \"\"\"\n",
    "\n",
    "sum_value = head_value.sum()"
   ]
  },
  {
   "cell_type": "code",
   "execution_count": 29,
   "metadata": {},
   "outputs": [
    {
     "name": "stdout",
     "output_type": "stream",
     "text": [
      "60\n"
     ]
    }
   ],
   "source": [
    "\"\"\" step - 4 is to print them \"\"\"\n",
    "\n",
    "print(sum_value)"
   ]
  },
  {
   "attachments": {},
   "cell_type": "markdown",
   "metadata": {},
   "source": [
    "***\n",
    "Q4. Given a Pandas DataFrame df with a column 'Text', write a Python function to create a new column\n",
    "'Word_Count' that contains the number of words in each row of the 'Text' column."
   ]
  },
  {
   "cell_type": "code",
   "execution_count": 33,
   "metadata": {},
   "outputs": [],
   "source": [
    "\"\"\" step - 1 is to create data \"\"\"\n",
    "\n",
    "import pandas as pd\n",
    "\n",
    "data = {'Text': ['Hello, how are you?', 'I am doing well.', 'What about you?']}\n",
    "df = pd.DataFrame(data)\n"
   ]
  },
  {
   "cell_type": "code",
   "execution_count": 34,
   "metadata": {},
   "outputs": [
    {
     "data": {
      "text/html": [
       "<div>\n",
       "<style scoped>\n",
       "    .dataframe tbody tr th:only-of-type {\n",
       "        vertical-align: middle;\n",
       "    }\n",
       "\n",
       "    .dataframe tbody tr th {\n",
       "        vertical-align: top;\n",
       "    }\n",
       "\n",
       "    .dataframe thead th {\n",
       "        text-align: right;\n",
       "    }\n",
       "</style>\n",
       "<table border=\"1\" class=\"dataframe\">\n",
       "  <thead>\n",
       "    <tr style=\"text-align: right;\">\n",
       "      <th></th>\n",
       "      <th>Text</th>\n",
       "    </tr>\n",
       "  </thead>\n",
       "  <tbody>\n",
       "    <tr>\n",
       "      <th>0</th>\n",
       "      <td>Hello, how are you?</td>\n",
       "    </tr>\n",
       "    <tr>\n",
       "      <th>1</th>\n",
       "      <td>I am doing well.</td>\n",
       "    </tr>\n",
       "    <tr>\n",
       "      <th>2</th>\n",
       "      <td>What about you?</td>\n",
       "    </tr>\n",
       "  </tbody>\n",
       "</table>\n",
       "</div>"
      ],
      "text/plain": [
       "                  Text\n",
       "0  Hello, how are you?\n",
       "1     I am doing well.\n",
       "2      What about you?"
      ]
     },
     "execution_count": 34,
     "metadata": {},
     "output_type": "execute_result"
    }
   ],
   "source": [
    "df"
   ]
  },
  {
   "cell_type": "code",
   "execution_count": 35,
   "metadata": {},
   "outputs": [],
   "source": [
    "\"\"\" step - 2 is to make function that counts words size  \"\"\"\n",
    "\n",
    "def count_number_of_words(text):\n",
    "    words = text.split()\n",
    "    return len(words)"
   ]
  },
  {
   "cell_type": "code",
   "execution_count": 36,
   "metadata": {},
   "outputs": [],
   "source": [
    "\"\"\" step - 3 is to create a column that contains the number of words in each row \"\"\"\n",
    "\n",
    "df['number_of_words'] = df[\"Text\"].apply(count_number_of_words)"
   ]
  },
  {
   "cell_type": "code",
   "execution_count": 37,
   "metadata": {},
   "outputs": [
    {
     "data": {
      "text/html": [
       "<div>\n",
       "<style scoped>\n",
       "    .dataframe tbody tr th:only-of-type {\n",
       "        vertical-align: middle;\n",
       "    }\n",
       "\n",
       "    .dataframe tbody tr th {\n",
       "        vertical-align: top;\n",
       "    }\n",
       "\n",
       "    .dataframe thead th {\n",
       "        text-align: right;\n",
       "    }\n",
       "</style>\n",
       "<table border=\"1\" class=\"dataframe\">\n",
       "  <thead>\n",
       "    <tr style=\"text-align: right;\">\n",
       "      <th></th>\n",
       "      <th>Text</th>\n",
       "      <th>number_of_words</th>\n",
       "    </tr>\n",
       "  </thead>\n",
       "  <tbody>\n",
       "    <tr>\n",
       "      <th>0</th>\n",
       "      <td>Hello, how are you?</td>\n",
       "      <td>4</td>\n",
       "    </tr>\n",
       "    <tr>\n",
       "      <th>1</th>\n",
       "      <td>I am doing well.</td>\n",
       "      <td>4</td>\n",
       "    </tr>\n",
       "    <tr>\n",
       "      <th>2</th>\n",
       "      <td>What about you?</td>\n",
       "      <td>3</td>\n",
       "    </tr>\n",
       "  </tbody>\n",
       "</table>\n",
       "</div>"
      ],
      "text/plain": [
       "                  Text  number_of_words\n",
       "0  Hello, how are you?                4\n",
       "1     I am doing well.                4\n",
       "2      What about you?                3"
      ]
     },
     "execution_count": 37,
     "metadata": {},
     "output_type": "execute_result"
    }
   ],
   "source": [
    "\"\"\" step - 4 is to print the dataframe \"\"\"\n",
    "\n",
    "df"
   ]
  },
  {
   "cell_type": "code",
   "execution_count": 38,
   "metadata": {},
   "outputs": [
    {
     "data": {
      "text/plain": [
       "0    4\n",
       "1    4\n",
       "2    3\n",
       "Name: number_of_words, dtype: int64"
      ]
     },
     "execution_count": 38,
     "metadata": {},
     "output_type": "execute_result"
    }
   ],
   "source": [
    "df['number_of_words']"
   ]
  },
  {
   "attachments": {},
   "cell_type": "markdown",
   "metadata": {},
   "source": [
    "***\n",
    "Q5. How are DataFrame.size() and DataFrame.shape() different?"
   ]
  },
  {
   "cell_type": "code",
   "execution_count": 40,
   "metadata": {},
   "outputs": [
    {
     "data": {
      "text/plain": [
       "6"
      ]
     },
     "execution_count": 40,
     "metadata": {},
     "output_type": "execute_result"
    }
   ],
   "source": [
    "df.size"
   ]
  },
  {
   "cell_type": "code",
   "execution_count": 41,
   "metadata": {},
   "outputs": [
    {
     "data": {
      "text/plain": [
       "(3, 2)"
      ]
     },
     "execution_count": 41,
     "metadata": {},
     "output_type": "execute_result"
    }
   ],
   "source": [
    "df.shape"
   ]
  },
  {
   "attachments": {},
   "cell_type": "markdown",
   "metadata": {},
   "source": [
    "DataFrame.size(): This method returns the total number of elements in the DataFrame, which is equivalent to the total number of cells. It is calculated as the product of the number of rows and the number of columns in the DataFrame. The size() method does not take any arguments.\n",
    "\n",
    "DataFrame.shape(): This method returns a tuple representing the dimensions of the DataFrame. It returns the number of rows and the number of columns in the DataFrame as (rows, columns). The shape() method does not take any arguments."
   ]
  },
  {
   "attachments": {},
   "cell_type": "markdown",
   "metadata": {},
   "source": [
    "***\n",
    "Q6. Which function of pandas do we use to read an excel file?"
   ]
  },
  {
   "attachments": {},
   "cell_type": "markdown",
   "metadata": {},
   "source": [
    "pd.read_excel(\"76_practice_pandas.xlsx\")"
   ]
  },
  {
   "attachments": {},
   "cell_type": "markdown",
   "metadata": {},
   "source": [
    "***\n",
    "Q7. You have a Pandas DataFrame df that contains a column named 'Email' that contains email\n",
    "addresses in the format 'username@domain.com'. Write a Python function that creates a new column\n",
    "'Username' in df that contains only the username part of each email address.\n",
    "The username is the part of the email address that appears before the '@' symbol. For example, if the\n",
    "email address is 'john.doe@example.com', the 'Username' column should contain 'john.doe'. Your\n",
    "function should extract the username from each email address and store it in the new 'Username'\n",
    "column."
   ]
  },
  {
   "cell_type": "code",
   "execution_count": 44,
   "metadata": {},
   "outputs": [],
   "source": [
    "import pandas as pd\n",
    "data = {'Email':['ashu.kumarexam@gmail.com','ashu@google.com','ashu@jec.com']}\n",
    "email_dataframe = pd.DataFrame(data)"
   ]
  },
  {
   "cell_type": "code",
   "execution_count": 45,
   "metadata": {},
   "outputs": [],
   "source": [
    "def extract_domain_for_username(Email):\n",
    "    return Email.split('@')[0]"
   ]
  },
  {
   "cell_type": "code",
   "execution_count": 46,
   "metadata": {},
   "outputs": [
    {
     "data": {
      "text/html": [
       "<div>\n",
       "<style scoped>\n",
       "    .dataframe tbody tr th:only-of-type {\n",
       "        vertical-align: middle;\n",
       "    }\n",
       "\n",
       "    .dataframe tbody tr th {\n",
       "        vertical-align: top;\n",
       "    }\n",
       "\n",
       "    .dataframe thead th {\n",
       "        text-align: right;\n",
       "    }\n",
       "</style>\n",
       "<table border=\"1\" class=\"dataframe\">\n",
       "  <thead>\n",
       "    <tr style=\"text-align: right;\">\n",
       "      <th></th>\n",
       "      <th>Email</th>\n",
       "    </tr>\n",
       "  </thead>\n",
       "  <tbody>\n",
       "    <tr>\n",
       "      <th>0</th>\n",
       "      <td>ashu.kumarexam@gmail.com</td>\n",
       "    </tr>\n",
       "    <tr>\n",
       "      <th>1</th>\n",
       "      <td>ashu@google.com</td>\n",
       "    </tr>\n",
       "    <tr>\n",
       "      <th>2</th>\n",
       "      <td>ashu@jec.com</td>\n",
       "    </tr>\n",
       "  </tbody>\n",
       "</table>\n",
       "</div>"
      ],
      "text/plain": [
       "                      Email\n",
       "0  ashu.kumarexam@gmail.com\n",
       "1           ashu@google.com\n",
       "2              ashu@jec.com"
      ]
     },
     "execution_count": 46,
     "metadata": {},
     "output_type": "execute_result"
    }
   ],
   "source": [
    "email_dataframe"
   ]
  },
  {
   "cell_type": "code",
   "execution_count": 48,
   "metadata": {},
   "outputs": [],
   "source": [
    "email_dataframe['username'] = email_dataframe['Email'].apply(extract_domain_for_username)\n"
   ]
  },
  {
   "cell_type": "code",
   "execution_count": 49,
   "metadata": {},
   "outputs": [
    {
     "data": {
      "text/html": [
       "<div>\n",
       "<style scoped>\n",
       "    .dataframe tbody tr th:only-of-type {\n",
       "        vertical-align: middle;\n",
       "    }\n",
       "\n",
       "    .dataframe tbody tr th {\n",
       "        vertical-align: top;\n",
       "    }\n",
       "\n",
       "    .dataframe thead th {\n",
       "        text-align: right;\n",
       "    }\n",
       "</style>\n",
       "<table border=\"1\" class=\"dataframe\">\n",
       "  <thead>\n",
       "    <tr style=\"text-align: right;\">\n",
       "      <th></th>\n",
       "      <th>Email</th>\n",
       "      <th>username</th>\n",
       "    </tr>\n",
       "  </thead>\n",
       "  <tbody>\n",
       "    <tr>\n",
       "      <th>0</th>\n",
       "      <td>ashu.kumarexam@gmail.com</td>\n",
       "      <td>ashu.kumarexam</td>\n",
       "    </tr>\n",
       "    <tr>\n",
       "      <th>1</th>\n",
       "      <td>ashu@google.com</td>\n",
       "      <td>ashu</td>\n",
       "    </tr>\n",
       "    <tr>\n",
       "      <th>2</th>\n",
       "      <td>ashu@jec.com</td>\n",
       "      <td>ashu</td>\n",
       "    </tr>\n",
       "  </tbody>\n",
       "</table>\n",
       "</div>"
      ],
      "text/plain": [
       "                      Email        username\n",
       "0  ashu.kumarexam@gmail.com  ashu.kumarexam\n",
       "1           ashu@google.com            ashu\n",
       "2              ashu@jec.com            ashu"
      ]
     },
     "execution_count": 49,
     "metadata": {},
     "output_type": "execute_result"
    }
   ],
   "source": [
    "email_dataframe"
   ]
  },
  {
   "attachments": {},
   "cell_type": "markdown",
   "metadata": {},
   "source": [
    "***\n",
    "Q8. You have a Pandas DataFrame df with columns 'A', 'B', and 'C'. Write a Python function that selects\n",
    "all rows where the value in column 'A' is greater than 5 and the value in column 'B' is less than 10. The\n",
    "function should return a new DataFrame that contains only the selected rows.\n",
    "For example, if df contains the following values:\n",
    "A B C\n",
    "0 3 5 1\n",
    "1 8 2 7\n",
    "2 6 9 4\n",
    "3 2 3 5\n",
    "4 9 1 2\n",
    "Your function should select the following rows: A B C\n",
    "1 8 2 7\n",
    "4 9 1 2\n",
    "The function should return a new DataFrame that contains only the selected rows."
   ]
  },
  {
   "cell_type": "code",
   "execution_count": 67,
   "metadata": {},
   "outputs": [
    {
     "name": "stdout",
     "output_type": "stream",
     "text": [
      "   A  B  C\n",
      "1  8  2  7\n",
      "2  6  9  4\n",
      "4  9  1  2\n"
     ]
    }
   ],
   "source": [
    "import pandas as pd\n",
    "\n",
    "def select_row(df):\n",
    "    selected_row = df[(df['A'] > 5) & (df['B'] < 10)]\n",
    "    return selected_row\n",
    "\n",
    "\n",
    "data = {'A':[3,8,6,2,9],'B':[5,2,9,3,1],'C':[1,7,4,5,2]}\n",
    "df = pd.DataFrame(data)\n",
    "\n",
    "final_ans = select_row(df)\n",
    "\n",
    "print(final_ans)"
   ]
  },
  {
   "attachments": {},
   "cell_type": "markdown",
   "metadata": {},
   "source": [
    "***\n",
    "Q9. Given a Pandas DataFrame df with a column 'Values', write a Python function to calculate the mean,\n",
    "median, and standard deviation of the values in the 'Values' column."
   ]
  },
  {
   "cell_type": "code",
   "execution_count": 69,
   "metadata": {},
   "outputs": [
    {
     "data": {
      "text/html": [
       "<div>\n",
       "<style scoped>\n",
       "    .dataframe tbody tr th:only-of-type {\n",
       "        vertical-align: middle;\n",
       "    }\n",
       "\n",
       "    .dataframe tbody tr th {\n",
       "        vertical-align: top;\n",
       "    }\n",
       "\n",
       "    .dataframe thead th {\n",
       "        text-align: right;\n",
       "    }\n",
       "</style>\n",
       "<table border=\"1\" class=\"dataframe\">\n",
       "  <thead>\n",
       "    <tr style=\"text-align: right;\">\n",
       "      <th></th>\n",
       "      <th>A</th>\n",
       "      <th>B</th>\n",
       "      <th>C</th>\n",
       "    </tr>\n",
       "  </thead>\n",
       "  <tbody>\n",
       "    <tr>\n",
       "      <th>count</th>\n",
       "      <td>5.000000</td>\n",
       "      <td>5.000000</td>\n",
       "      <td>5.00000</td>\n",
       "    </tr>\n",
       "    <tr>\n",
       "      <th>mean</th>\n",
       "      <td>30.000000</td>\n",
       "      <td>300.000000</td>\n",
       "      <td>3000.00000</td>\n",
       "    </tr>\n",
       "    <tr>\n",
       "      <th>std</th>\n",
       "      <td>15.811388</td>\n",
       "      <td>158.113883</td>\n",
       "      <td>1581.13883</td>\n",
       "    </tr>\n",
       "    <tr>\n",
       "      <th>min</th>\n",
       "      <td>10.000000</td>\n",
       "      <td>100.000000</td>\n",
       "      <td>1000.00000</td>\n",
       "    </tr>\n",
       "    <tr>\n",
       "      <th>25%</th>\n",
       "      <td>20.000000</td>\n",
       "      <td>200.000000</td>\n",
       "      <td>2000.00000</td>\n",
       "    </tr>\n",
       "    <tr>\n",
       "      <th>50%</th>\n",
       "      <td>30.000000</td>\n",
       "      <td>300.000000</td>\n",
       "      <td>3000.00000</td>\n",
       "    </tr>\n",
       "    <tr>\n",
       "      <th>75%</th>\n",
       "      <td>40.000000</td>\n",
       "      <td>400.000000</td>\n",
       "      <td>4000.00000</td>\n",
       "    </tr>\n",
       "    <tr>\n",
       "      <th>max</th>\n",
       "      <td>50.000000</td>\n",
       "      <td>500.000000</td>\n",
       "      <td>5000.00000</td>\n",
       "    </tr>\n",
       "  </tbody>\n",
       "</table>\n",
       "</div>"
      ],
      "text/plain": [
       "               A           B           C\n",
       "count   5.000000    5.000000     5.00000\n",
       "mean   30.000000  300.000000  3000.00000\n",
       "std    15.811388  158.113883  1581.13883\n",
       "min    10.000000  100.000000  1000.00000\n",
       "25%    20.000000  200.000000  2000.00000\n",
       "50%    30.000000  300.000000  3000.00000\n",
       "75%    40.000000  400.000000  4000.00000\n",
       "max    50.000000  500.000000  5000.00000"
      ]
     },
     "execution_count": 69,
     "metadata": {},
     "output_type": "execute_result"
    }
   ],
   "source": [
    "import pandas as pd\n",
    "data = {'A':[10,20,30,40,50],\n",
    "        'B':[100,200,300,400,500],\n",
    "        'C':[1000,2000,3000,4000,5000]}\n",
    "\n",
    "df = pd.DataFrame(data)\n",
    "\n",
    "df.describe()"
   ]
  },
  {
   "attachments": {},
   "cell_type": "markdown",
   "metadata": {},
   "source": [
    "***\n",
    "Q10. Given a Pandas DataFrame df with a column 'Sales' and a column 'Date', write a Python function to\n",
    "create a new column 'MovingAverage' that contains the moving average of the sales for the past 7 days\n",
    "for each row in the DataFrame. The moving average should be calculated using a window of size 7 and\n",
    "should include the current day."
   ]
  },
  {
   "cell_type": "code",
   "execution_count": 75,
   "metadata": {},
   "outputs": [
    {
     "name": "stdout",
     "output_type": "stream",
     "text": [
      "         Date  Sales  moving_average\n",
      "0  2023-05-01     10       10.000000\n",
      "1  2023-05-02     15       12.500000\n",
      "2  2023-05-03     12       12.333333\n",
      "3  2023-05-04     18       13.750000\n",
      "4  2023-05-05     20       15.000000\n",
      "5  2023-05-06     22       16.166667\n",
      "6  2023-05-07     17       16.285714\n",
      "7  2023-05-08     19       17.571429\n"
     ]
    }
   ],
   "source": [
    "import pandas as pd\n",
    "\n",
    "def moving_average(df):\n",
    "    df['moving_average'] = df['Sales'].rolling(window=7,min_periods=1).mean()\n",
    "    return df\n",
    "\n",
    "data = {'Date': ['2023-05-01', '2023-05-02', '2023-05-03', '2023-05-04', '2023-05-05', '2023-05-06', '2023-05-07', '2023-05-08'],\n",
    "        'Sales': [10, 15, 12, 18, 20, 22, 17, 19]}\n",
    "\n",
    "df= pd.DataFrame(data)\n",
    "\n",
    "df = moving_average(df)\n",
    "\n",
    "print(df)\n"
   ]
  },
  {
   "attachments": {},
   "cell_type": "markdown",
   "metadata": {},
   "source": [
    "***\n",
    "Q11. You have a Pandas DataFrame df with a column 'Date'. Write a Python function that creates a new\n",
    "column 'Weekday' in the DataFrame. The 'Weekday' column should contain the weekday name (e.g.\n",
    "Monday, Tuesday) corresponding to each date in the 'Date' column.\n",
    "For example, if df contains the following values:\n",
    "Date\n",
    "0 2023-01-01\n",
    "1 2023-01-02\n",
    "2 2023-01-03\n",
    "3 2023-01-04\n",
    "4 2023-01-05\n",
    "Your function should create the following DataFrame:\n",
    "\n",
    "Date Weekday\n",
    "0 2023-01-01 Sunday\n",
    "1 2023-01-02 Monday\n",
    "2 2023-01-03 Tuesday\n",
    "3 2023-01-04 Wednesday\n",
    "4 2023-01-05 Thursday\n",
    "The function should return the modified DataFrame."
   ]
  },
  {
   "cell_type": "code",
   "execution_count": 76,
   "metadata": {},
   "outputs": [
    {
     "name": "stdout",
     "output_type": "stream",
     "text": [
      "         Date    weekday\n",
      "0  2023-01-01     Sunday\n",
      "1  2023-01-02     Monday\n",
      "2  2023-01-03    Tuesday\n",
      "3  2023-01-04  Wednesday\n",
      "4  2023-01-05   Thursday\n"
     ]
    }
   ],
   "source": [
    "import pandas as pd\n",
    "\n",
    "def weekday_attacher(df):\n",
    "    df['weekday'] = pd.to_datetime(df['Date']).dt.day_name()\n",
    "    return df\n",
    "\n",
    "data = {'Date' :['2023-01-01','2023-01-02','2023-01-03','2023-01-04','2023-01-05']}\n",
    "\n",
    "df = pd.DataFrame(data)\n",
    "\n",
    "df = weekday_attacher(df)\n",
    "\n",
    "print(df)"
   ]
  },
  {
   "attachments": {},
   "cell_type": "markdown",
   "metadata": {},
   "source": [
    "***\n",
    "Q12. Given a Pandas DataFrame df with a column 'Date' that contains timestamps, write a Python\n",
    "function to select all rows where the date is between '2023-01-01' and '2023-01-31'."
   ]
  },
  {
   "cell_type": "code",
   "execution_count": 77,
   "metadata": {},
   "outputs": [],
   "source": [
    "import pandas as pd\n",
    "\n",
    "\n",
    "def select_rows_between_dates(df):\n",
    "    # Convert 'Date' column to datetime\n",
    "    df['Date'] = pd.to_datetime(df['Date'])\n",
    "\n",
    "    # Define the start and end dates\n",
    "    start_date = '2023-01-01'\n",
    "    end_date = '2023-01-31'\n",
    "\n",
    "    # Select rows where the date is between start_date and end_date\n",
    "    selected_rows = df[(df['Date'] >= start_date) & (df['Date'] <= end_date)]\n",
    "\n",
    "    return selected_rows\n"
   ]
  },
  {
   "attachments": {},
   "cell_type": "markdown",
   "metadata": {},
   "source": [
    "***\n",
    "Q13. To use the basic functions of pandas, what is the first and foremost necessary library that needs to\n",
    "be imported?"
   ]
  },
  {
   "cell_type": "code",
   "execution_count": 78,
   "metadata": {},
   "outputs": [],
   "source": [
    "import pandas"
   ]
  },
  {
   "attachments": {},
   "cell_type": "markdown",
   "metadata": {},
   "source": [
    "***"
   ]
  },
  {
   "cell_type": "code",
   "execution_count": null,
   "metadata": {},
   "outputs": [],
   "source": []
  }
 ],
 "metadata": {
  "kernelspec": {
   "display_name": "Python 3",
   "language": "python",
   "name": "python3"
  },
  "language_info": {
   "codemirror_mode": {
    "name": "ipython",
    "version": 3
   },
   "file_extension": ".py",
   "mimetype": "text/x-python",
   "name": "python",
   "nbconvert_exporter": "python",
   "pygments_lexer": "ipython3",
   "version": "3.10.2"
  },
  "orig_nbformat": 4
 },
 "nbformat": 4,
 "nbformat_minor": 2
}
