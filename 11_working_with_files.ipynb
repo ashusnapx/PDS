{
 "cells": [
  {
   "cell_type": "code",
   "execution_count": 1,
   "id": "1b2e4860-e7e5-40fa-ad37-c8a38377f1b4",
   "metadata": {},
   "outputs": [],
   "source": [
    "f = open(\"test.txt\",'w')"
   ]
  },
  {
   "cell_type": "code",
   "execution_count": 2,
   "id": "115961fe-57da-4b75-9d63-30e75fefa055",
   "metadata": {},
   "outputs": [
    {
     "data": {
      "text/plain": [
       "'/home/jovyan/work'"
      ]
     },
     "execution_count": 2,
     "metadata": {},
     "output_type": "execute_result"
    }
   ],
   "source": [
    "pwd"
   ]
  },
  {
   "cell_type": "code",
   "execution_count": 4,
   "id": "0be12e76-3f1b-4f3a-a482-067893f3e2c6",
   "metadata": {},
   "outputs": [
    {
     "name": "stdout",
     "output_type": "stream",
     "text": [
      " 00_Generator_Iterator_Next.ipynb  '2nd feb.ipynb'\n",
      " 01_map_reduce_filter.ipynb        '30th Jan Assignemnt.ipynb'\n",
      "'01 python basics.ipynb'           '3rd feb.ipynb'\n",
      "'02 OOPS 1.ipynb'                  '3rd feb youtube.ipynb'\n",
      "'03 OOPS Assignment.ipynb'         '4th feb youtube.ipynb'\n",
      "'04 Polymorphism.ipynb'            '5th feb.ipynb'\n",
      "'05 Assignemnt .ipynb'             '8th feb.ipynb'\n",
      "'05 Encapsulation.ipynb'            dict,conditional.ipynb\n",
      "' 06 Inheritance.ipynb'             lambda_functions.ipynb\n",
      " 08_Decorators.ipynb               'OOPs 1 9th Feb.ipynb'\n",
      " 09_classMethods.ipynb              OOPs-1.ipynb\n",
      " 09_Re_ClassMethods.ipynb           README.md\n",
      " 10_static_method.ipynb             test.txt\n",
      " 11_working_with_files.ipynb\n"
     ]
    }
   ],
   "source": [
    "ls"
   ]
  },
  {
   "cell_type": "code",
   "execution_count": 6,
   "id": "9acb452c-fc34-41af-a363-982bbd550df7",
   "metadata": {},
   "outputs": [
    {
     "name": "stdout",
     "output_type": "stream",
     "text": [
      "[Errno 20] Not a directory: 'test.txt'\n",
      "/home/jovyan/work\n"
     ]
    }
   ],
   "source": [
    "cd test.txt"
   ]
  },
  {
   "cell_type": "code",
   "execution_count": 11,
   "id": "5d63cd16-05ff-4e32-8de7-b35cf8ec57b2",
   "metadata": {},
   "outputs": [
    {
     "ename": "ValueError",
     "evalue": "I/O operation on closed file.",
     "output_type": "error",
     "traceback": [
      "\u001b[0;31m---------------------------------------------------------------------------\u001b[0m",
      "\u001b[0;31mValueError\u001b[0m                                Traceback (most recent call last)",
      "Cell \u001b[0;32mIn[11], line 1\u001b[0m\n\u001b[0;32m----> 1\u001b[0m \u001b[43mf\u001b[49m\u001b[38;5;241;43m.\u001b[39;49m\u001b[43mwrite\u001b[49m\u001b[43m(\u001b[49m\u001b[38;5;124;43m\"\u001b[39;49m\u001b[38;5;124;43mok buddy\u001b[39;49m\u001b[38;5;124;43m\"\u001b[39;49m\u001b[43m)\u001b[49m\n",
      "\u001b[0;31mValueError\u001b[0m: I/O operation on closed file."
     ]
    }
   ],
   "source": [
    "f.write(\"ok buddy\")"
   ]
  },
  {
   "cell_type": "code",
   "execution_count": 12,
   "id": "1a916f8c-920a-46b9-9b37-7ead3229c47a",
   "metadata": {},
   "outputs": [],
   "source": [
    "f.close()"
   ]
  },
  {
   "cell_type": "code",
   "execution_count": 9,
   "id": "d3319da9-aa40-44fe-b123-322f65d04442",
   "metadata": {},
   "outputs": [
    {
     "ename": "ValueError",
     "evalue": "I/O operation on closed file.",
     "output_type": "error",
     "traceback": [
      "\u001b[0;31m---------------------------------------------------------------------------\u001b[0m",
      "\u001b[0;31mValueError\u001b[0m                                Traceback (most recent call last)",
      "Cell \u001b[0;32mIn[9], line 1\u001b[0m\n\u001b[0;32m----> 1\u001b[0m \u001b[43mf\u001b[49m\u001b[38;5;241;43m.\u001b[39;49m\u001b[43mwrite\u001b[49m\u001b[43m(\u001b[49m\u001b[38;5;124;43m\"\u001b[39;49m\u001b[38;5;124;43moh vai saaabknklanscka\u001b[39;49m\u001b[38;5;124;43m\"\u001b[39;49m\u001b[43m)\u001b[49m\n",
      "\u001b[0;31mValueError\u001b[0m: I/O operation on closed file."
     ]
    }
   ],
   "source": [
    "f.write(\"oh vai saaabknklanscka\")"
   ]
  },
  {
   "cell_type": "code",
   "execution_count": 10,
   "id": "6e52cfe0-69c9-4c17-940a-bc9de8d74a4b",
   "metadata": {},
   "outputs": [],
   "source": [
    "f.close()"
   ]
  },
  {
   "cell_type": "code",
   "execution_count": 13,
   "id": "a3115616-3640-47d4-904c-7f4c7adfa7e0",
   "metadata": {},
   "outputs": [],
   "source": [
    "f = open(\"test.txt\",\"w\")"
   ]
  },
  {
   "cell_type": "code",
   "execution_count": 14,
   "id": "94d44db0-f1fb-4663-9487-83d9627b13b9",
   "metadata": {},
   "outputs": [
    {
     "data": {
      "text/plain": [
       "19"
      ]
     },
     "execution_count": 14,
     "metadata": {},
     "output_type": "execute_result"
    }
   ],
   "source": [
    "f.write(\"oh vaiiii kaisa hai\")"
   ]
  },
  {
   "cell_type": "code",
   "execution_count": 15,
   "id": "1696960b-2be6-4616-9af7-c732c32b5402",
   "metadata": {},
   "outputs": [],
   "source": [
    "f.close()"
   ]
  },
  {
   "cell_type": "code",
   "execution_count": 16,
   "id": "48909f18-08e3-4e78-b3f6-21b9a0fd00ed",
   "metadata": {},
   "outputs": [],
   "source": [
    "f = open(\"test.txt\",\"a\")"
   ]
  },
  {
   "cell_type": "code",
   "execution_count": 17,
   "id": "5d1ebdf2-3e72-4565-8462-df88cba84896",
   "metadata": {},
   "outputs": [
    {
     "data": {
      "text/plain": [
       "48"
      ]
     },
     "execution_count": 17,
     "metadata": {},
     "output_type": "execute_result"
    }
   ],
   "source": [
    "f.write(\"hn vaii ab yeh waale mode mein truncate nhi hoga\")"
   ]
  },
  {
   "cell_type": "code",
   "execution_count": 18,
   "id": "16837a3e-71cc-474d-9e2f-7af1ff51edbe",
   "metadata": {},
   "outputs": [],
   "source": [
    "f.close()"
   ]
  },
  {
   "cell_type": "code",
   "execution_count": 20,
   "id": "c61fe699-749e-43cc-85d2-909b2358e940",
   "metadata": {},
   "outputs": [],
   "source": [
    "f = open(\"test.txt\",\"r\")"
   ]
  },
  {
   "cell_type": "code",
   "execution_count": 21,
   "id": "96ac1db1-c1b5-4b50-858b-d6d1b283ba45",
   "metadata": {},
   "outputs": [
    {
     "data": {
      "text/plain": [
       "'oh vaiiii kaisa haihn vaii ab yeh waale mode mein truncate nhi hoga'"
      ]
     },
     "execution_count": 21,
     "metadata": {},
     "output_type": "execute_result"
    }
   ],
   "source": [
    "f.read()"
   ]
  },
  {
   "cell_type": "code",
   "execution_count": 22,
   "id": "3b5e2612-de1d-466c-a95a-d3d1a088189f",
   "metadata": {},
   "outputs": [
    {
     "data": {
      "text/plain": [
       "''"
      ]
     },
     "execution_count": 22,
     "metadata": {},
     "output_type": "execute_result"
    }
   ],
   "source": [
    "f.readline()"
   ]
  },
  {
   "cell_type": "code",
   "execution_count": 23,
   "id": "f6675590-55da-4594-9db0-964b2a91693e",
   "metadata": {},
   "outputs": [
    {
     "data": {
      "text/plain": [
       "0"
      ]
     },
     "execution_count": 23,
     "metadata": {},
     "output_type": "execute_result"
    }
   ],
   "source": [
    "f.seek(0)"
   ]
  },
  {
   "cell_type": "code",
   "execution_count": 24,
   "id": "32b5eac5-f27d-4031-a1f0-212abc33ac17",
   "metadata": {},
   "outputs": [
    {
     "data": {
      "text/plain": [
       "['oh vaiiii kaisa haihn vaii ab yeh waale mode mein truncate nhi hoga']"
      ]
     },
     "execution_count": 24,
     "metadata": {},
     "output_type": "execute_result"
    }
   ],
   "source": [
    "f.readlines()"
   ]
  },
  {
   "cell_type": "code",
   "execution_count": 25,
   "id": "6a4a8a40-87d4-4d64-847d-6b3c49e651a6",
   "metadata": {},
   "outputs": [],
   "source": [
    "data1 = open(\"test.txt\",\"r\")"
   ]
  },
  {
   "cell_type": "code",
   "execution_count": 26,
   "id": "f5263e7a-5e20-48e1-8129-a3f51c8d7d57",
   "metadata": {},
   "outputs": [
    {
     "name": "stdout",
     "output_type": "stream",
     "text": [
      "oh vaiiii kaisa haihn vaii ab yeh waale mode mein truncate nhi hoga\n"
     ]
    }
   ],
   "source": [
    "for i in data1:\n",
    "    print(i)"
   ]
  },
  {
   "cell_type": "code",
   "execution_count": 27,
   "id": "6098f5cb-7070-4cd8-b913-9f1d21fce960",
   "metadata": {},
   "outputs": [],
   "source": [
    "import os"
   ]
  },
  {
   "cell_type": "code",
   "execution_count": 28,
   "id": "24a0afdd-31a0-4b0b-ac0b-f53c4d9cb6ef",
   "metadata": {},
   "outputs": [
    {
     "data": {
      "text/plain": [
       "67"
      ]
     },
     "execution_count": 28,
     "metadata": {},
     "output_type": "execute_result"
    }
   ],
   "source": [
    "os.path.getsize(\"test.txt\")"
   ]
  },
  {
   "cell_type": "code",
   "execution_count": 29,
   "id": "7861dcc8-c5b3-45b1-bb41-e452e36ce5a8",
   "metadata": {},
   "outputs": [
    {
     "data": {
      "text/plain": [
       "1676567690.060003"
      ]
     },
     "execution_count": 29,
     "metadata": {},
     "output_type": "execute_result"
    }
   ],
   "source": [
    "os.path.getmtime(\"test.txt\")"
   ]
  },
  {
   "cell_type": "code",
   "execution_count": 30,
   "id": "bcc55355-ff49-495a-bb58-ad45baa0ba54",
   "metadata": {},
   "outputs": [],
   "source": [
    "os.remove(\"test.txt\")"
   ]
  },
  {
   "cell_type": "code",
   "execution_count": 31,
   "id": "ac4f98e2-d776-48a3-a95c-63b6277d22a8",
   "metadata": {},
   "outputs": [],
   "source": [
    "f = open(\"test1.txt\",\"w\")"
   ]
  },
  {
   "cell_type": "code",
   "execution_count": 32,
   "id": "6d8c640d-9f2d-4e15-8828-7af77f683156",
   "metadata": {},
   "outputs": [
    {
     "data": {
      "text/plain": [
       "765"
      ]
     },
     "execution_count": 32,
     "metadata": {},
     "output_type": "execute_result"
    }
   ],
   "source": [
    "f.write(\"Data Science Masters course is highly curated and uniquely designed according to the latest industry standards. This program instills students the skills essential to knowledge discovery efforts to identify standard, novel, and truly differentiated solutions and decision-making, including skills in managing, querying, analyzing, visualizing, and extracting meaning from extremely large data sets. This trending program provides students with the statistical, mathematical and computational skills needed to meet the large-scale data science challenges of today's professional world. You will learn all the stack required to work in data science industry including cloud infrastructure and real-time industry projects. This course will be taught in Hindi language.\")"
   ]
  },
  {
   "cell_type": "code",
   "execution_count": 33,
   "id": "21a3365a-f7ce-44fa-9097-6dbee614611d",
   "metadata": {},
   "outputs": [],
   "source": [
    "f.close()"
   ]
  },
  {
   "cell_type": "code",
   "execution_count": 35,
   "id": "0513b9fd-56c7-423c-b993-f46cd2d7997d",
   "metadata": {},
   "outputs": [],
   "source": [
    "os.rename(\"test1.txt\",\"test2.txt\")"
   ]
  },
  {
   "cell_type": "code",
   "execution_count": 36,
   "id": "163f5203-db8f-43ba-8b17-192370891f0c",
   "metadata": {},
   "outputs": [],
   "source": [
    "import shutil"
   ]
  },
  {
   "cell_type": "code",
   "execution_count": 37,
   "id": "b5ba900a-e02c-441e-8e15-13f78425c974",
   "metadata": {},
   "outputs": [
    {
     "data": {
      "text/plain": [
       "'copy_test2.txt'"
      ]
     },
     "execution_count": 37,
     "metadata": {},
     "output_type": "execute_result"
    }
   ],
   "source": [
    "shutil.copy(\"test2.txt\",\"copy_test2.txt\")"
   ]
  },
  {
   "cell_type": "code",
   "execution_count": 39,
   "id": "d014818e-a8c8-444d-a6ab-26dada3037d3",
   "metadata": {},
   "outputs": [
    {
     "name": "stdout",
     "output_type": "stream",
     "text": [
      "Data Science Masters course is highly curated and uniquely designed according to the latest industry standards. This program instills students the skills essential to knowledge discovery efforts to identify standard, novel, and truly differentiated solutions and decision-making, including skills in managing, querying, analyzing, visualizing, and extracting meaning from extremely large data sets. This trending program provides students with the statistical, mathematical and computational skills needed to meet the large-scale data science challenges of today's professional world. You will learn all the stack required to work in data science industry including cloud infrastructure and real-time industry projects. This course will be taught in Hindi language.\n"
     ]
    }
   ],
   "source": [
    "with open(\"copy_test2.txt\",\"r\") as f:\n",
    "    print(f.read())"
   ]
  },
  {
   "cell_type": "code",
   "execution_count": null,
   "id": "126e9e2b-039d-409f-8ced-588e1f5db9d2",
   "metadata": {},
   "outputs": [],
   "source": []
  }
 ],
 "metadata": {
  "kernelspec": {
   "display_name": "Python 3 (ipykernel)",
   "language": "python",
   "name": "python3"
  },
  "language_info": {
   "codemirror_mode": {
    "name": "ipython",
    "version": 3
   },
   "file_extension": ".py",
   "mimetype": "text/x-python",
   "name": "python",
   "nbconvert_exporter": "python",
   "pygments_lexer": "ipython3",
   "version": "3.10.8"
  }
 },
 "nbformat": 4,
 "nbformat_minor": 5
}
