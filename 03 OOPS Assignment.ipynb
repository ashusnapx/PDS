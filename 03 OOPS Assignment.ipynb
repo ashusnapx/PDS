{
 "cells": [
  {
   "cell_type": "markdown",
   "id": "c4c72dfc-ae4e-4353-bea4-10191c512ad5",
   "metadata": {},
   "source": [
    "Explain Class and Object with respect to Object-Oriented Programming. Give a suitable example."
   ]
  },
  {
   "cell_type": "code",
   "execution_count": 4,
   "id": "e47aa29b-d1f6-4b51-9014-82a81a5ef7f9",
   "metadata": {},
   "outputs": [],
   "source": [
    "class smartphones:\n",
    "    def __init__(ashu,brand,model,price):\n",
    "        ashu.brand = brand\n",
    "        ashu.model = model\n",
    "        ashu.price = price\n",
    "        \n",
    "    def phone(ashu):\n",
    "        return ashu.brand, ashu.model, ashu.price"
   ]
  },
  {
   "cell_type": "code",
   "execution_count": 6,
   "id": "babbe388-3132-4f1e-b6ff-14b9479f67df",
   "metadata": {},
   "outputs": [],
   "source": [
    "brand1 = smartphones(\"Apple\",\"IPhone\",100000)"
   ]
  },
  {
   "cell_type": "code",
   "execution_count": 9,
   "id": "730fd815-c809-4b95-9540-aefd40435600",
   "metadata": {},
   "outputs": [
    {
     "data": {
      "text/plain": [
       "('Apple', 'IPhone', 100000)"
      ]
     },
     "execution_count": 9,
     "metadata": {},
     "output_type": "execute_result"
    }
   ],
   "source": [
    "brand1.phone()"
   ]
  },
  {
   "cell_type": "code",
   "execution_count": 11,
   "id": "5d655b45-b4c3-4aa9-85ca-bdf119404752",
   "metadata": {},
   "outputs": [],
   "source": [
    "brand2 = smartphones(\"Samsung\",\"S\",90000)"
   ]
  },
  {
   "cell_type": "code",
   "execution_count": 12,
   "id": "3f0f68b4-0a11-42f8-ae8b-cc3e522a0380",
   "metadata": {},
   "outputs": [
    {
     "data": {
      "text/plain": [
       "('Samsung', 'S', 90000)"
      ]
     },
     "execution_count": 12,
     "metadata": {},
     "output_type": "execute_result"
    }
   ],
   "source": [
    "brand2.phone()"
   ]
  },
  {
   "cell_type": "markdown",
   "id": "ada92e03-0f50-402e-81ce-f07daeb989a1",
   "metadata": {},
   "source": [
    "Here in the above example smartphones is class and brand1 and brand2 are objects."
   ]
  },
  {
   "cell_type": "code",
   "execution_count": null,
   "id": "3332a768-b207-494b-b5c0-1991270895e1",
   "metadata": {},
   "outputs": [],
   "source": []
  },
  {
   "cell_type": "markdown",
   "id": "a9defcd4-ccce-4412-95a1-fbe83448e618",
   "metadata": {},
   "source": [
    "Name the four pillars of OOPs."
   ]
  },
  {
   "cell_type": "markdown",
   "id": "7695d9f2-2eae-4242-99b2-1c147f93c237",
   "metadata": {},
   "source": [
    "Inheritance , polymorphism, encapsulation, abstraction"
   ]
  },
  {
   "cell_type": "code",
   "execution_count": null,
   "id": "8a0ad377-e263-4b01-a693-4f5649555ed0",
   "metadata": {},
   "outputs": [],
   "source": []
  },
  {
   "cell_type": "markdown",
   "id": "1d78736a-26c3-424b-8ea6-6dbb11f243ef",
   "metadata": {},
   "source": [
    "Explain why the __init__() function is used. Give a suitable example."
   ]
  },
  {
   "cell_type": "markdown",
   "id": "1e771777-7f9f-474a-81ab-1d68384e2f46",
   "metadata": {},
   "source": [
    "The __init__() function is a special method in Python classes, also known as a constructor. \n",
    "It is used to initialize the attributes of an object when it is created. \n",
    "In other words, it sets up the initial state of an object when it is created from a class."
   ]
  },
  {
   "cell_type": "code",
   "execution_count": 13,
   "id": "3daa3ea9-f165-4c66-9f1f-ccf0c7af298d",
   "metadata": {},
   "outputs": [
    {
     "name": "stdout",
     "output_type": "stream",
     "text": [
      "Buddy\n",
      "Labrador\n",
      "3\n"
     ]
    }
   ],
   "source": [
    "class Dog:\n",
    "    def __init__(self, name, breed, age):\n",
    "        self.name = name\n",
    "        self.breed = breed\n",
    "        self.age = age\n",
    "\n",
    "dog = Dog(\"Buddy\", \"Labrador\", 3)\n",
    "print(dog.name)\n",
    "print(dog.breed)\n",
    "print(dog.age)"
   ]
  },
  {
   "cell_type": "code",
   "execution_count": null,
   "id": "3feaf3b3-d6e7-48fb-b970-6259c1727404",
   "metadata": {},
   "outputs": [],
   "source": []
  },
  {
   "cell_type": "markdown",
   "id": "1ef64a72-fdcc-47ae-9e21-ea23ccd7bd0a",
   "metadata": {},
   "source": [
    "******************\n",
    "Why self is used in OOPs?\n",
    "******************"
   ]
  },
  {
   "cell_type": "markdown",
   "id": "2b0297d8-b9ae-4082-ac45-e907aaabd0a2",
   "metadata": {},
   "source": [
    "In object-oriented programming (OOP), the use of \"self\" is a reference to the instance of an object. \n",
    "It is used to access the attributes and methods of the current object.\n",
    "\n",
    "When defining a class, you can use the \"self\" keyword to access the instance's attributes and methods."
   ]
  },
  {
   "cell_type": "code",
   "execution_count": 19,
   "id": "9109644d-4b33-42e5-8a24-d33471df6994",
   "metadata": {},
   "outputs": [],
   "source": [
    "class MyClass:\n",
    "    def __init__(self):\n",
    "        self.attribute = 42\n",
    "\n",
    "    def my_method(self):\n",
    "        print(f\"The value of attribute is {self.attribute}\")\n"
   ]
  },
  {
   "cell_type": "code",
   "execution_count": 20,
   "id": "5680644b-54b0-4250-9875-337df1d36bc7",
   "metadata": {},
   "outputs": [
    {
     "name": "stdout",
     "output_type": "stream",
     "text": [
      "The value of attribute is 42\n"
     ]
    }
   ],
   "source": [
    "my_instance = MyClass()\n",
    "my_instance.my_method()\n",
    "# Output: The value of attribute is 42\n"
   ]
  },
  {
   "cell_type": "code",
   "execution_count": null,
   "id": "be5858d4-79b7-4daf-8dc1-952ba76c8099",
   "metadata": {},
   "outputs": [],
   "source": []
  },
  {
   "cell_type": "markdown",
   "id": "05dec1ba-9804-4a15-8f67-82f6fc6abb6a",
   "metadata": {},
   "source": [
    "******************\n",
    "INHERITANCE \n",
    "******************"
   ]
  },
  {
   "cell_type": "markdown",
   "id": "693a41d0-68ac-42ae-89ba-a4b1e9b6704e",
   "metadata": {},
   "source": [
    "Inheritance is a mechanism in object-oriented programming (OOP) that allows you to create new classes that are derived from existing classes. The derived class inherits the attributes and methods of the base class, and can add new attributes and methods or override the ones inherited from the base class."
   ]
  },
  {
   "cell_type": "markdown",
   "id": "642de89e-8be4-4515-9963-4ada72b9dd74",
   "metadata": {},
   "source": [
    "******************\n",
    "Single Inheritance \n",
    "******************"
   ]
  },
  {
   "cell_type": "code",
   "execution_count": 38,
   "id": "df5ee5dc-79d9-4102-b45a-b008b39c8eb1",
   "metadata": {},
   "outputs": [],
   "source": [
    "class Animal:\n",
    "    def __init__(self,name):\n",
    "        self.name = name\n",
    "        \n",
    "    def make_sound(self):\n",
    "        pass\n",
    "    \n",
    "class Dog(Animal):\n",
    "    def make_sound(self):\n",
    "        print(\"Brrrh\")"
   ]
  },
  {
   "cell_type": "code",
   "execution_count": 41,
   "id": "0dc1119d-cb17-49b3-b929-b1ef827c2420",
   "metadata": {},
   "outputs": [],
   "source": [
    "puppy = Animal(\"labrador\")"
   ]
  },
  {
   "cell_type": "code",
   "execution_count": 43,
   "id": "6b02e48d-8860-49ce-a761-ee448e0f07d6",
   "metadata": {},
   "outputs": [
    {
     "data": {
      "text/plain": [
       "'labrador'"
      ]
     },
     "execution_count": 43,
     "metadata": {},
     "output_type": "execute_result"
    }
   ],
   "source": [
    "puppy.name"
   ]
  },
  {
   "cell_type": "markdown",
   "id": "362e609b-1c21-40f4-a9fc-1b5070d6c558",
   "metadata": {},
   "source": [
    "****\n",
    "Multiple Inheritance \n",
    "*****"
   ]
  },
  {
   "cell_type": "code",
   "execution_count": 48,
   "id": "6a8b7a3b-b9bf-4277-966b-58d715d3729d",
   "metadata": {},
   "outputs": [],
   "source": [
    "class walk:\n",
    "    def walk(self):\n",
    "        print(\"Humans can walk\")\n",
    "        \n",
    "class talk:\n",
    "    def talk(self):\n",
    "        print(\"Humans can talk\")\n",
    "        \n",
    "class human(walk, talk):\n",
    "    pass"
   ]
  },
  {
   "cell_type": "code",
   "execution_count": 50,
   "id": "e7ef2872-10e3-4c5d-81f9-759c6384e10c",
   "metadata": {},
   "outputs": [],
   "source": [
    "ashu = human()"
   ]
  },
  {
   "cell_type": "code",
   "execution_count": 52,
   "id": "233ce641-8147-4c01-bdbc-d6ef3d2c19f5",
   "metadata": {},
   "outputs": [
    {
     "name": "stdout",
     "output_type": "stream",
     "text": [
      "Humans can walk\n"
     ]
    }
   ],
   "source": [
    "ashu.walk()"
   ]
  },
  {
   "cell_type": "code",
   "execution_count": 53,
   "id": "e526e8e5-e42e-4814-9d2c-9e9fb20f632b",
   "metadata": {},
   "outputs": [
    {
     "name": "stdout",
     "output_type": "stream",
     "text": [
      "Humans can talk\n"
     ]
    }
   ],
   "source": [
    "ashu.talk()"
   ]
  },
  {
   "cell_type": "code",
   "execution_count": null,
   "id": "f1ea40d7-3216-4543-9080-5bf01e68230d",
   "metadata": {},
   "outputs": [],
   "source": []
  }
 ],
 "metadata": {
  "kernelspec": {
   "display_name": "Python 3 (ipykernel)",
   "language": "python",
   "name": "python3"
  },
  "language_info": {
   "codemirror_mode": {
    "name": "ipython",
    "version": 3
   },
   "file_extension": ".py",
   "mimetype": "text/x-python",
   "name": "python",
   "nbconvert_exporter": "python",
   "pygments_lexer": "ipython3",
   "version": "3.10.8"
  }
 },
 "nbformat": 4,
 "nbformat_minor": 5
}
