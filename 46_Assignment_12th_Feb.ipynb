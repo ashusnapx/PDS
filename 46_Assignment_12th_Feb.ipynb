{
 "cells": [
  {
   "attachments": {},
   "cell_type": "markdown",
   "metadata": {},
   "source": [
    "<span style=\"color:yellow\">Q1. What is exception in python? Difference between exception and syntax errors in python.<span>\n"
   ]
  },
  {
   "attachments": {},
   "cell_type": "markdown",
   "metadata": {},
   "source": [
    "In Python, an exception is an error that occurs during the execution of a program. When an exception occurs, the normal flow of the program is disrupted and an error message is printed to the console.\n",
    "\n",
    "Exceptions can occur for a variety of reasons, such as attempting to access a file that doesn't exist, dividing by zero, or passing the wrong arguments to a function.\n",
    "\n",
    "On the other hand, syntax errors occur when the Python interpreter can't understand the code that you've written. Syntax errors are detected before the program is executed and are usually caused by things like missing brackets, mismatched quotes, or misspelled keywords.\n",
    "\n",
    "The key difference between exceptions and syntax errors is that syntax errors are detected before the program is executed, whereas exceptions occur during program execution. Syntax errors prevent the program from running at all, while exceptions can occur during the course of the program's execution.\n",
    "\n",
    "In summary, exceptions are runtime errors that occur when the program is running, while syntax errors are compile-time errors that occur when the program is being translated into bytecode.\n"
   ]
  },
  {
   "attachments": {},
   "cell_type": "markdown",
   "metadata": {},
   "source": [
    "<span style = \"color:yellow\">Q2. What happens when an exception is not handled? Give example.<span>\n"
   ]
  },
  {
   "attachments": {},
   "cell_type": "markdown",
   "metadata": {},
   "source": [
    "when an exception is not handled the program gets break in the mid or the code after that faulty line is not executed.\n"
   ]
  },
  {
   "cell_type": "code",
   "execution_count": 2,
   "metadata": {},
   "outputs": [
    {
     "ename": "ZeroDivisionError",
     "evalue": "division by zero",
     "output_type": "error",
     "traceback": [
      "\u001b[0;31m---------------------------------------------------------------------------\u001b[0m",
      "\u001b[0;31mZeroDivisionError\u001b[0m                         Traceback (most recent call last)",
      "Cell \u001b[0;32mIn[2], line 3\u001b[0m\n\u001b[1;32m      1\u001b[0m \u001b[39m# Example of exception not handled\u001b[39;00m\n\u001b[1;32m      2\u001b[0m a \u001b[39m=\u001b[39m \u001b[39m10\u001b[39m\n\u001b[0;32m----> 3\u001b[0m a \u001b[39m=\u001b[39m a \u001b[39m/\u001b[39;49m \u001b[39m0\u001b[39;49m\n\u001b[1;32m      4\u001b[0m \u001b[39mprint\u001b[39m(a)\n\u001b[1;32m      6\u001b[0m \u001b[39mprint\u001b[39m(\u001b[39m'\u001b[39m\u001b[39mHello World\u001b[39m\u001b[39m'\u001b[39m)\n",
      "\u001b[0;31mZeroDivisionError\u001b[0m: division by zero"
     ]
    }
   ],
   "source": [
    "# Example of exception not handled\n",
    "a = 10\n",
    "a = a / 0\n",
    "print(a)\n",
    "\n",
    "print('Hello World')\n"
   ]
  },
  {
   "attachments": {},
   "cell_type": "markdown",
   "metadata": {},
   "source": [
    "As we can see in the above cell, that print hello world didn't got a chance to be executed.\n"
   ]
  },
  {
   "attachments": {},
   "cell_type": "markdown",
   "metadata": {},
   "source": [
    "<span style = \"color:yellow\">Q3. Which python statements are used to catch and handle exceptions? Explain with example.<span>\n"
   ]
  },
  {
   "attachments": {},
   "cell_type": "markdown",
   "metadata": {},
   "source": [
    "In Python, the try-except block is used to catch and handle exceptions. The try block contains the code that might raise an exception, and the except block contains the code that handles the exception if it occurs.Here's an example of how to use a try-except block to catch and handle exceptions:\n"
   ]
  },
  {
   "cell_type": "code",
   "execution_count": 5,
   "metadata": {},
   "outputs": [
    {
     "name": "stdout",
     "output_type": "stream",
     "text": [
      "Cannot divide by zero.\n"
     ]
    }
   ],
   "source": [
    "try:\n",
    "    x = int(input(\"Enter a number: \"))\n",
    "    y = int(input(\"Enter another number: \"))\n",
    "    z = x / y\n",
    "    print(z)\n",
    "except ValueError:\n",
    "    print(\"Invalid input. Please enter a valid number.\")\n",
    "except ZeroDivisionError:\n",
    "    print(\"Cannot divide by zero.\")\n"
   ]
  },
  {
   "attachments": {},
   "cell_type": "markdown",
   "metadata": {},
   "source": [
    "In this example, we're asking the user to enter two numbers, and we're attempting to divide the first number by the second number. However, this code might raise two different types of exceptions: a ValueError if the user enters a non-numeric input, or a ZeroDivisionError if the user enters 0 as the second number.\n",
    "\n",
    "To handle these exceptions, we've enclosed the division operation in a try block, and we've added two except blocks that handle the ValueError and ZeroDivisionError exceptions separately. If a ValueError occurs, the program will print a custom error message indicating that the input was invalid. If a ZeroDivisionError occurs, the program will print a custom error message indicating that division by zero is not allowed.\n"
   ]
  },
  {
   "attachments": {},
   "cell_type": "markdown",
   "metadata": {},
   "source": [
    "<span Style=\"color:yellow\">Q4. Explain with example - i. try and else ii. finally iii. raise</span>\n"
   ]
  },
  {
   "cell_type": "code",
   "execution_count": 8,
   "metadata": {},
   "outputs": [
    {
     "name": "stdout",
     "output_type": "stream",
     "text": [
      "The result is: 0.8035714285714286\n"
     ]
    }
   ],
   "source": [
    "try:\n",
    "    x = int(input(\"Enter a number: \"))\n",
    "    y = int(input(\"Enter another number: \"))\n",
    "    z = x / y\n",
    "except ValueError:\n",
    "    print(\"Invalid input. Please enter a valid number.\")\n",
    "except ZeroDivisionError:\n",
    "    print(\"Cannot divide by zero.\")\n",
    "else:\n",
    "    print(\"The result is:\", z)\n"
   ]
  },
  {
   "cell_type": "code",
   "execution_count": 9,
   "metadata": {},
   "outputs": [
    {
     "name": "stdout",
     "output_type": "stream",
     "text": [
      "The result is: 0.9852941176470589\n",
      "This block will always be executed.\n"
     ]
    }
   ],
   "source": [
    "try:\n",
    "    x = int(input(\"Enter a number: \"))\n",
    "    y = int(input(\"Enter another number: \"))\n",
    "    z = x / y\n",
    "except ValueError:\n",
    "    print(\"Invalid input. Please enter a valid number.\")\n",
    "except ZeroDivisionError:\n",
    "    print(\"Cannot divide by zero.\")\n",
    "else:\n",
    "    print(\"The result is:\", z)\n",
    "finally:\n",
    "    print(\"This block will always be executed.\")\n"
   ]
  },
  {
   "cell_type": "code",
   "execution_count": 10,
   "metadata": {},
   "outputs": [
    {
     "name": "stdout",
     "output_type": "stream",
     "text": [
      "The result is: 0.9852941176470589\n",
      "This block will always be executed.\n"
     ]
    }
   ],
   "source": [
    "try:\n",
    "    x = int(input(\"Enter a number: \"))\n",
    "    y = int(input(\"Enter another number: \"))\n",
    "    z = x / y\n",
    "except ValueError:\n",
    "    print(\"Invalid input. Please enter a valid number.\")\n",
    "except ZeroDivisionError:\n",
    "    print(\"Cannot divide by zero.\")\n",
    "else:\n",
    "    print(\"The result is:\", z)\n",
    "finally:\n",
    "    print(\"This block will always be executed.\")\n"
   ]
  },
  {
   "cell_type": "code",
   "execution_count": 11,
   "metadata": {},
   "outputs": [
    {
     "name": "stdout",
     "output_type": "stream",
     "text": [
      "Cannot divide by zero.\n"
     ]
    }
   ],
   "source": [
    "def divide_by_zero(x, y):\n",
    "    if y == 0:\n",
    "        raise ZeroDivisionError(\"Cannot divide by zero.\")\n",
    "    else:\n",
    "        return x / y\n",
    "\n",
    "\n",
    "try:\n",
    "    z = divide_by_zero(10, 0)\n",
    "except ZeroDivisionError as error:\n",
    "    print(error)\n"
   ]
  },
  {
   "attachments": {},
   "cell_type": "markdown",
   "metadata": {},
   "source": [
    "<span style=\"color:yellow\">Q5. What are custom exceptions and why do we need it in python. Explain with example</span>"
   ]
  },
  {
   "attachments": {},
   "cell_type": "markdown",
   "metadata": {},
   "source": [
    "Custom exceptions are user-defined exceptions that can be raised like any other exception in Python. They are useful when we need to raise a specific type of exception that isn't covered by the built-in exceptions in Python. Custom exceptions can also help make our code more readable and easier to maintain.\n",
    "\n",
    "Here's an example of how to create a custom exception in Python:"
   ]
  },
  {
   "cell_type": "code",
   "execution_count": 12,
   "metadata": {},
   "outputs": [],
   "source": [
    "class CustomException(Exception):\n",
    "    def __init__(self, message):\n",
    "        self.message = message\n"
   ]
  },
  {
   "attachments": {},
   "cell_type": "markdown",
   "metadata": {},
   "source": [
    "In this example, we've defined a new custom exception called CustomException by inheriting from the Exception class. We've also defined an __init__() method to set the error message for the exception.\n",
    "\n",
    "Now we can use this custom exception like any other exception in Python. Here's an example of how to raise this exception:"
   ]
  },
  {
   "cell_type": "code",
   "execution_count": 13,
   "metadata": {},
   "outputs": [
    {
     "name": "stdout",
     "output_type": "stream",
     "text": [
      "Cannot divide by zero.\n"
     ]
    }
   ],
   "source": [
    "def divide_by_zero(x, y):\n",
    "    if y == 0:\n",
    "        raise CustomException(\"Cannot divide by zero.\")\n",
    "    else:\n",
    "        return x / y\n",
    "\n",
    "\n",
    "try:\n",
    "    z = divide_by_zero(10, 0)\n",
    "except CustomException as error:\n",
    "    print(error.message)\n"
   ]
  },
  {
   "attachments": {},
   "cell_type": "markdown",
   "metadata": {},
   "source": [
    "In this example, we've used the CustomException to raise an exception when the second argument to divide_by_zero() is 0. We've then used a try-except block to catch this exception and print the error message.\n",
    "\n",
    "If we call divide_by_zero(10, 0), it will raise a CustomException with the custom error message \"Cannot divide by zero.\" This exception is caught by the except block and the error message is printed to the console.\n",
    "\n",
    "Custom exceptions are useful when we need to raise exceptions that are specific to our application or use case. They can help make our code more readable and maintainable by providing a more descriptive error message and by separating the error handling logic from the rest of the code."
   ]
  },
  {
   "attachments": {},
   "cell_type": "markdown",
   "metadata": {},
   "source": [
    "<span style=\"color:yellow\">Q6. create a custom exception class. use this class to handle an exception.</span>"
   ]
  },
  {
   "cell_type": "code",
   "execution_count": 14,
   "metadata": {},
   "outputs": [
    {
     "name": "stdout",
     "output_type": "stream",
     "text": [
      "Error: Number must be positive\n"
     ]
    }
   ],
   "source": [
    "# Define a custom exception class\n",
    "class CustomException(Exception):\n",
    "    def __init__(self, message):\n",
    "        super().__init__(message)\n",
    "\n",
    "\n",
    "# Use the custom exception to handle an exception\n",
    "try:\n",
    "    # Do something that might raise an exception\n",
    "    num = int(input(\"Enter a positive integer: \"))\n",
    "    if num <= 0:\n",
    "        raise CustomException(\"Number must be positive\")\n",
    "except CustomException as e:\n",
    "    print(\"Error:\", e)\n"
   ]
  },
  {
   "cell_type": "code",
   "execution_count": null,
   "metadata": {},
   "outputs": [],
   "source": []
  }
 ],
 "metadata": {
  "kernelspec": {
   "display_name": "Python 3",
   "language": "python",
   "name": "python3"
  },
  "language_info": {
   "codemirror_mode": {
    "name": "ipython",
    "version": 3
   },
   "file_extension": ".py",
   "mimetype": "text/x-python",
   "name": "python",
   "nbconvert_exporter": "python",
   "pygments_lexer": "ipython3",
   "version": "3.10.2"
  },
  "orig_nbformat": 4,
  "vscode": {
   "interpreter": {
    "hash": "2f590b0345379a3d388fae64db70f94b273a9b90cf99d61611d4169b37ba26e6"
   }
  }
 },
 "nbformat": 4,
 "nbformat_minor": 2
}
