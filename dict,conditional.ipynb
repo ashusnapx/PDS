{
 "cells": [
  {
   "cell_type": "code",
   "execution_count": 1,
   "id": "9d71283d-a35b-447f-89be-b1b2fdd5cdca",
   "metadata": {},
   "outputs": [],
   "source": [
    "d = {}"
   ]
  },
  {
   "cell_type": "code",
   "execution_count": 2,
   "id": "33dc5d09-0e32-4f82-a0ea-aecb2cb12162",
   "metadata": {},
   "outputs": [
    {
     "ename": "SyntaxError",
     "evalue": "invalid syntax (2836143635.py, line 1)",
     "output_type": "error",
     "traceback": [
      "\u001b[0;36m  Cell \u001b[0;32mIn[2], line 1\u001b[0;36m\u001b[0m\n\u001b[0;31m    type d\u001b[0m\n\u001b[0m         ^\u001b[0m\n\u001b[0;31mSyntaxError\u001b[0m\u001b[0;31m:\u001b[0m invalid syntax\n"
     ]
    }
   ],
   "source": [
    "type d"
   ]
  },
  {
   "cell_type": "code",
   "execution_count": 3,
   "id": "d40aaf5a-68f4-42ae-a030-4a6d9d0afbdf",
   "metadata": {},
   "outputs": [
    {
     "data": {
      "text/plain": [
       "dict"
      ]
     },
     "execution_count": 3,
     "metadata": {},
     "output_type": "execute_result"
    }
   ],
   "source": [
    "type(d)"
   ]
  },
  {
   "cell_type": "code",
   "execution_count": 4,
   "id": "80ce1633-4ef1-411f-af3a-4c0c64b30088",
   "metadata": {},
   "outputs": [],
   "source": [
    "d1 = {}"
   ]
  },
  {
   "cell_type": "code",
   "execution_count": 5,
   "id": "7dec2353-0fb1-4a41-8fc7-4f158b92f63c",
   "metadata": {},
   "outputs": [],
   "source": [
    "d1 = {'key' : \"ashu\"}"
   ]
  },
  {
   "cell_type": "code",
   "execution_count": 6,
   "id": "e1f6951b-17cd-45b1-8aa7-6aaef7c62282",
   "metadata": {},
   "outputs": [
    {
     "data": {
      "text/plain": [
       "{'key': 'ashu'}"
      ]
     },
     "execution_count": 6,
     "metadata": {},
     "output_type": "execute_result"
    }
   ],
   "source": [
    "d1"
   ]
  },
  {
   "cell_type": "code",
   "execution_count": 11,
   "id": "17fcd90a-d06c-4112-80c8-173efb7fee2a",
   "metadata": {},
   "outputs": [],
   "source": [
    "d2 = {'name' : \"ashutosh\" , 'email' : \"ashu@gmail.com\" , 'phone' : 935247}"
   ]
  },
  {
   "cell_type": "code",
   "execution_count": 8,
   "id": "e803c21f-2904-4970-821e-70684df9caea",
   "metadata": {},
   "outputs": [
    {
     "data": {
      "text/plain": [
       "{'name': 'ashutosh', 'email': 'ashu@gmail.com', 'phone': '935247'}"
      ]
     },
     "execution_count": 8,
     "metadata": {},
     "output_type": "execute_result"
    }
   ],
   "source": [
    "d2"
   ]
  },
  {
   "cell_type": "code",
   "execution_count": 9,
   "id": "8341b036-fe04-4196-a873-5ccfecf2726e",
   "metadata": {},
   "outputs": [],
   "source": [
    "d3 = {234 : \"ashu\"}"
   ]
  },
  {
   "cell_type": "code",
   "execution_count": 10,
   "id": "06f8d7b9-8314-4345-b5b9-ac2ac3049668",
   "metadata": {},
   "outputs": [
    {
     "data": {
      "text/plain": [
       "{234: 'ashu'}"
      ]
     },
     "execution_count": 10,
     "metadata": {},
     "output_type": "execute_result"
    }
   ],
   "source": [
    "d3"
   ]
  },
  {
   "cell_type": "code",
   "execution_count": 12,
   "id": "83f19871-4f02-438e-a945-ec27ac05c645",
   "metadata": {},
   "outputs": [
    {
     "data": {
      "text/plain": [
       "{'name': 'ashutosh', 'email': 'ashu@gmail.com', 'phone': 935247}"
      ]
     },
     "execution_count": 12,
     "metadata": {},
     "output_type": "execute_result"
    }
   ],
   "source": [
    "d2"
   ]
  },
  {
   "cell_type": "code",
   "execution_count": 13,
   "id": "d2b6da54-9167-4a8c-80f8-613b151d668f",
   "metadata": {},
   "outputs": [
    {
     "ename": "SyntaxError",
     "evalue": "invalid syntax (174376500.py, line 1)",
     "output_type": "error",
     "traceback": [
      "\u001b[0;36m  Cell \u001b[0;32mIn[13], line 1\u001b[0;36m\u001b[0m\n\u001b[0;31m    d4 = {as: \"hkwhe\"}\u001b[0m\n\u001b[0m          ^\u001b[0m\n\u001b[0;31mSyntaxError\u001b[0m\u001b[0;31m:\u001b[0m invalid syntax\n"
     ]
    }
   ],
   "source": [
    "d4 = {as: \"hkwhe\"}"
   ]
  },
  {
   "cell_type": "code",
   "execution_count": 14,
   "id": "706bf2c6-9f8e-443c-a6d9-10d9277c515d",
   "metadata": {},
   "outputs": [],
   "source": [
    "d5 = {True : \"hola\", False : 988888}"
   ]
  },
  {
   "cell_type": "code",
   "execution_count": 15,
   "id": "bf107341-9738-4681-a888-b44171184cb4",
   "metadata": {},
   "outputs": [
    {
     "data": {
      "text/plain": [
       "988888"
      ]
     },
     "execution_count": 15,
     "metadata": {},
     "output_type": "execute_result"
    }
   ],
   "source": [
    "d5[0]"
   ]
  },
  {
   "cell_type": "code",
   "execution_count": 16,
   "id": "4d8a91f0-da9e-4980-8ad4-ca69c728ceaa",
   "metadata": {},
   "outputs": [
    {
     "data": {
      "text/plain": [
       "'hola'"
      ]
     },
     "execution_count": 16,
     "metadata": {},
     "output_type": "execute_result"
    }
   ],
   "source": [
    "d5[1]"
   ]
  },
  {
   "cell_type": "code",
   "execution_count": 19,
   "id": "8c785fac-2a0d-4237-8e11-0ac6728f073a",
   "metadata": {},
   "outputs": [],
   "source": [
    "d6 = {\"company\" : \"pwskills\" , \"courses\" : [\"web dev\",\"data science\",\"java with system design\"]}"
   ]
  },
  {
   "cell_type": "code",
   "execution_count": 20,
   "id": "4c0ed3c7-b96d-4f84-89ea-8397746ab8ce",
   "metadata": {},
   "outputs": [
    {
     "data": {
      "text/plain": [
       "{'company': 'pwskills',\n",
       " 'courses': ['web dev', 'data science', 'java with system design']}"
      ]
     },
     "execution_count": 20,
     "metadata": {},
     "output_type": "execute_result"
    }
   ],
   "source": [
    "d6"
   ]
  },
  {
   "cell_type": "code",
   "execution_count": 23,
   "id": "b9b38278-020e-4e0a-ac43-0dec12bd6f68",
   "metadata": {},
   "outputs": [],
   "source": [
    "d7 = {\"number\" : [2,3,4,5,6,9],\"assignments\":(1,2,3,4,5),\"launch_date\":{28,12,14},\"class_time\":{\"web_dev\":8,\"data_science\":9}}"
   ]
  },
  {
   "cell_type": "code",
   "execution_count": 24,
   "id": "316b4fb1-2034-402a-8fc1-bdec55265719",
   "metadata": {},
   "outputs": [
    {
     "data": {
      "text/plain": [
       "{'number': [2, 3, 4, 5, 6, 9],\n",
       " 'assignments': (1, 2, 3, 4, 5),\n",
       " 'launch_date': {12, 14, 28},\n",
       " 'class_time': {'web_dev': 8, 'data_science': 9}}"
      ]
     },
     "execution_count": 24,
     "metadata": {},
     "output_type": "execute_result"
    }
   ],
   "source": [
    "d7"
   ]
  },
  {
   "cell_type": "code",
   "execution_count": 25,
   "id": "a8d3c2c8-debc-4902-94ba-6adce71a97ae",
   "metadata": {},
   "outputs": [
    {
     "data": {
      "text/plain": [
       "8"
      ]
     },
     "execution_count": 25,
     "metadata": {},
     "output_type": "execute_result"
    }
   ],
   "source": [
    "d7[\"class_time\"][\"web_dev\"]"
   ]
  },
  {
   "cell_type": "code",
   "execution_count": 26,
   "id": "a4b8ae2f-f6d9-4bd2-972e-7903a4628d4f",
   "metadata": {},
   "outputs": [],
   "source": [
    "del d7['number']"
   ]
  },
  {
   "cell_type": "code",
   "execution_count": 27,
   "id": "085ecbb2-eba7-482f-bc42-a4026feceaf7",
   "metadata": {},
   "outputs": [
    {
     "data": {
      "text/plain": [
       "{'assignments': (1, 2, 3, 4, 5),\n",
       " 'launch_date': {12, 14, 28},\n",
       " 'class_time': {'web_dev': 8, 'data_science': 9}}"
      ]
     },
     "execution_count": 27,
     "metadata": {},
     "output_type": "execute_result"
    }
   ],
   "source": [
    "d7"
   ]
  },
  {
   "cell_type": "code",
   "execution_count": 28,
   "id": "08f785e5-5674-490d-a749-843ff98c36fc",
   "metadata": {},
   "outputs": [
    {
     "data": {
      "text/plain": [
       "dict_keys(['assignments', 'launch_date', 'class_time'])"
      ]
     },
     "execution_count": 28,
     "metadata": {},
     "output_type": "execute_result"
    }
   ],
   "source": [
    "d7.keys()"
   ]
  },
  {
   "cell_type": "code",
   "execution_count": 30,
   "id": "48ae8fa7-580b-4493-a1d2-3eab58fa1756",
   "metadata": {},
   "outputs": [
    {
     "data": {
      "text/plain": [
       "['assignments', 'launch_date', 'class_time']"
      ]
     },
     "execution_count": 30,
     "metadata": {},
     "output_type": "execute_result"
    }
   ],
   "source": [
    "list(d7.keys())"
   ]
  },
  {
   "cell_type": "code",
   "execution_count": 31,
   "id": "3eecd8d9-76cb-4ef4-ada2-87a7b56b98bd",
   "metadata": {},
   "outputs": [
    {
     "data": {
      "text/plain": [
       "[(1, 2, 3, 4, 5), {12, 14, 28}, {'web_dev': 8, 'data_science': 9}]"
      ]
     },
     "execution_count": 31,
     "metadata": {},
     "output_type": "execute_result"
    }
   ],
   "source": [
    "list(d7.values())"
   ]
  },
  {
   "cell_type": "code",
   "execution_count": 32,
   "id": "abec6901-d327-4326-ba16-019f1d0be0ef",
   "metadata": {},
   "outputs": [
    {
     "data": {
      "text/plain": [
       "[('assignments', (1, 2, 3, 4, 5)),\n",
       " ('launch_date', {12, 14, 28}),\n",
       " ('class_time', {'web_dev': 8, 'data_science': 9})]"
      ]
     },
     "execution_count": 32,
     "metadata": {},
     "output_type": "execute_result"
    }
   ],
   "source": [
    "list(d7.items())"
   ]
  },
  {
   "cell_type": "code",
   "execution_count": 35,
   "id": "811bc162-edc7-43db-90d8-a37f6de04f9a",
   "metadata": {},
   "outputs": [
    {
     "data": {
      "text/plain": [
       "(1, 2, 3, 4, 5)"
      ]
     },
     "execution_count": 35,
     "metadata": {},
     "output_type": "execute_result"
    }
   ],
   "source": [
    "d7.pop('assignments')"
   ]
  },
  {
   "cell_type": "code",
   "execution_count": 36,
   "id": "9ff48b7c-31ce-4db5-8c75-614715e213e3",
   "metadata": {},
   "outputs": [
    {
     "data": {
      "text/plain": [
       "{'launch_date': {12, 14, 28}, 'class_time': {'web_dev': 8, 'data_science': 9}}"
      ]
     },
     "execution_count": 36,
     "metadata": {},
     "output_type": "execute_result"
    }
   ],
   "source": [
    "d7"
   ]
  },
  {
   "cell_type": "code",
   "execution_count": 40,
   "id": "a762f109-3b21-4b0f-a8f9-9851a79d34d0",
   "metadata": {},
   "outputs": [
    {
     "name": "stdout",
     "output_type": "stream",
     "text": [
      "You'll be a part of A1 Batch\n"
     ]
    }
   ],
   "source": [
    "marks = 61\n",
    "\n",
    "if marks >= 80:\n",
    "    print(\"You'll be a part of A0 Batch\")\n",
    "elif marks >= 60 and marks < 80:\n",
    "    print(\"You'll be a part of A1 Batch\")\n",
    "elif marks >= 40 and marks < 60:\n",
    "    print(\"You'll be a part of A2 Batch\")\n",
    "else:\n",
    "    print(\"You'll be in A3 batch\")"
   ]
  },
  {
   "cell_type": "code",
   "execution_count": 41,
   "id": "d958da87-6113-43d4-961a-915971b38685",
   "metadata": {},
   "outputs": [
    {
     "name": "stdin",
     "output_type": "stream",
     "text": [
      "Enter marks 3\n"
     ]
    }
   ],
   "source": [
    "marks = input(\"Enter marks\")"
   ]
  },
  {
   "cell_type": "code",
   "execution_count": 43,
   "id": "72b708ae-4f5f-4f3f-84db-724602808f42",
   "metadata": {},
   "outputs": [
    {
     "name": "stdin",
     "output_type": "stream",
     "text": [
      "Enter marks 78\n"
     ]
    },
    {
     "name": "stdout",
     "output_type": "stream",
     "text": [
      "You'll be a part of A1 Batch\n"
     ]
    }
   ],
   "source": [
    "marks = int(input(\"Enter marks\"))\n",
    "\n",
    "if marks >= 80:\n",
    "    print(\"You'll be a part of A0 Batch\")\n",
    "elif marks >= 60 and marks < 80:\n",
    "    print(\"You'll be a part of A1 Batch\")\n",
    "elif marks >= 40 and marks < 60:\n",
    "    print(\"You'll be a part of A2 Batch\")\n",
    "else:\n",
    "    print(\"You'll be in A3 batch\")"
   ]
  },
  {
   "cell_type": "code",
   "execution_count": 44,
   "id": "f2d35a7f-cff2-49d5-ac40-6e0124285471",
   "metadata": {},
   "outputs": [
    {
     "name": "stdin",
     "output_type": "stream",
     "text": [
      "Enter price of mobile 5000000\n"
     ]
    },
    {
     "name": "stdout",
     "output_type": "stream",
     "text": [
      "Not buy\n"
     ]
    }
   ],
   "source": [
    "mobile_price = int(input(\"Enter price of mobile\"))\n",
    "if mobile_price >= 20000:\n",
    "    print('Not buy')\n",
    "else:\n",
    "    print('Buy')"
   ]
  },
  {
   "cell_type": "code",
   "execution_count": 45,
   "id": "f2c61ab3-bf1d-4425-bea0-679682ea3905",
   "metadata": {},
   "outputs": [],
   "source": [
    "leest = [1,2,3,4,5,6,7,8,9]\n"
   ]
  },
  {
   "cell_type": "code",
   "execution_count": 46,
   "id": "adef9b55-aa95-4709-89ca-7179b7f653bf",
   "metadata": {},
   "outputs": [
    {
     "data": {
      "text/plain": [
       "[1, 2, 3, 4, 5, 6, 7, 8, 9]"
      ]
     },
     "execution_count": 46,
     "metadata": {},
     "output_type": "execute_result"
    }
   ],
   "source": [
    "leest"
   ]
  },
  {
   "cell_type": "code",
   "execution_count": 47,
   "id": "bc938f62-8b66-4278-a6c7-3cf0a8477c3b",
   "metadata": {},
   "outputs": [
    {
     "name": "stdout",
     "output_type": "stream",
     "text": [
      "2\n",
      "3\n",
      "4\n",
      "5\n",
      "6\n",
      "7\n",
      "8\n",
      "9\n",
      "10\n"
     ]
    }
   ],
   "source": [
    "for i in leest:\n",
    "    print(i+1)"
   ]
  },
  {
   "cell_type": "code",
   "execution_count": 52,
   "id": "b2766f36-378a-4629-ad5d-116ad054cd93",
   "metadata": {},
   "outputs": [],
   "source": [
    "l = [\"ashu\",\"yogi\",\"india\"]\n"
   ]
  },
  {
   "cell_type": "code",
   "execution_count": 53,
   "id": "94c16b8c-1807-48b6-af3c-6eb49d6f5054",
   "metadata": {},
   "outputs": [],
   "source": [
    "l1 = []\n",
    "for i in l:\n",
    "    l1.append(i.upper())"
   ]
  },
  {
   "cell_type": "code",
   "execution_count": 54,
   "id": "16ce93c9-4a26-43d4-95bf-5e8cc3f15774",
   "metadata": {},
   "outputs": [
    {
     "name": "stdout",
     "output_type": "stream",
     "text": [
      "ashu\n",
      "yogi\n",
      "india\n"
     ]
    }
   ],
   "source": [
    "l1 = []\n",
    "for i in l:\n",
    "    print(i)\n",
    "    l1.append(i.upper())"
   ]
  },
  {
   "cell_type": "code",
   "execution_count": 55,
   "id": "12ed74dc-e381-489f-a44a-fdf6683e28f8",
   "metadata": {},
   "outputs": [
    {
     "name": "stdout",
     "output_type": "stream",
     "text": [
      "ASHU\n",
      "YOGI\n",
      "INDIA\n"
     ]
    }
   ],
   "source": [
    "for j in l1:\n",
    "    print(j)"
   ]
  },
  {
   "cell_type": "code",
   "execution_count": 57,
   "id": "f89d2186-2ad6-4d0b-895b-3955df300e48",
   "metadata": {},
   "outputs": [],
   "source": [
    "l = [1,2,3,4,\"subh\",6,7,\"india\"]"
   ]
  },
  {
   "cell_type": "code",
   "execution_count": 63,
   "id": "6c94f1f1-ca61-431a-871d-55f7afbde732",
   "metadata": {},
   "outputs": [],
   "source": [
    "l1 = []\n",
    "l2 = []\n",
    "\n",
    "for i in l:\n",
    "    if type(i) == int or type(i) == float:\n",
    "        l1.append(i)\n",
    "    else:\n",
    "        l2.append(i)"
   ]
  },
  {
   "cell_type": "code",
   "execution_count": 64,
   "id": "3a8846db-6e20-4d2b-9b0f-07156190e2c5",
   "metadata": {},
   "outputs": [
    {
     "name": "stdout",
     "output_type": "stream",
     "text": [
      "1\n",
      "2\n",
      "3\n",
      "4\n",
      "6\n",
      "7\n"
     ]
    }
   ],
   "source": [
    "for i in l1:\n",
    "    print(i)"
   ]
  },
  {
   "cell_type": "code",
   "execution_count": 65,
   "id": "d3a50642-b409-4648-ba57-5800a1ef9ad3",
   "metadata": {},
   "outputs": [
    {
     "name": "stdout",
     "output_type": "stream",
     "text": [
      "subh\n",
      "india\n"
     ]
    }
   ],
   "source": [
    "for i in l2:\n",
    "    print(i)\n",
    "    "
   ]
  },
  {
   "cell_type": "code",
   "execution_count": null,
   "id": "ae7c3cf2-f3c8-45a0-bf54-f70fd894da9e",
   "metadata": {},
   "outputs": [],
   "source": []
  }
 ],
 "metadata": {
  "kernelspec": {
   "display_name": "Python 3 (ipykernel)",
   "language": "python",
   "name": "python3"
  },
  "language_info": {
   "codemirror_mode": {
    "name": "ipython",
    "version": 3
   },
   "file_extension": ".py",
   "mimetype": "text/x-python",
   "name": "python",
   "nbconvert_exporter": "python",
   "pygments_lexer": "ipython3",
   "version": "3.10.8"
  }
 },
 "nbformat": 4,
 "nbformat_minor": 5
}
