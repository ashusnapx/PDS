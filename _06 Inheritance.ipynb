{
 "cells": [
  {
   "cell_type": "code",
   "execution_count": 3,
   "id": "ef609cb0-a6ff-4748-a301-ff3359c2ac60",
   "metadata": {},
   "outputs": [],
   "source": [
    "class test:\n",
    "    def name(self):\n",
    "        print(\"Hello your papa this side\")"
   ]
  },
  {
   "cell_type": "code",
   "execution_count": 4,
   "id": "bf344a33-cb93-464b-ae6d-56a9d9f33423",
   "metadata": {},
   "outputs": [],
   "source": [
    "class test1(test):\n",
    "    pass"
   ]
  },
  {
   "cell_type": "code",
   "execution_count": 5,
   "id": "3c2ce4e2-fcc5-4a15-b189-0fa498d0fe49",
   "metadata": {},
   "outputs": [],
   "source": [
    "c = test()"
   ]
  },
  {
   "cell_type": "code",
   "execution_count": 6,
   "id": "c32e6dde-9916-4e91-a362-f0d0d52e51e2",
   "metadata": {},
   "outputs": [
    {
     "name": "stdout",
     "output_type": "stream",
     "text": [
      "Hello your papa this side\n"
     ]
    }
   ],
   "source": [
    "c.name()"
   ]
  },
  {
   "cell_type": "code",
   "execution_count": null,
   "id": "81cff698-92c0-4b23-b09d-af35178df6cb",
   "metadata": {},
   "outputs": [],
   "source": []
  },
  {
   "cell_type": "markdown",
   "id": "44a03362-e4d9-4e55-a3a1-94cc28bf5b79",
   "metadata": {},
   "source": [
    "***\n",
    "Example - 2\n",
    "***"
   ]
  },
  {
   "cell_type": "code",
   "execution_count": 14,
   "id": "1080ed4b-21ee-4a5f-b9b9-a58363c42283",
   "metadata": {},
   "outputs": [],
   "source": [
    "class car:\n",
    "    def country(self):\n",
    "        return \"This car is made in india\""
   ]
  },
  {
   "cell_type": "code",
   "execution_count": 15,
   "id": "2435a23d-6dc1-4d2a-bf14-54bf9f619650",
   "metadata": {},
   "outputs": [],
   "source": [
    "class indian_brands(car):\n",
    "    def brand(self):\n",
    "        return \"This car is method from class indian_brands\""
   ]
  },
  {
   "cell_type": "code",
   "execution_count": 16,
   "id": "e6fb04d0-ac03-46fd-9f01-6e3adb3a12fd",
   "metadata": {},
   "outputs": [],
   "source": [
    "class indian_consumer(indian_brands):\n",
    "    pass"
   ]
  },
  {
   "cell_type": "code",
   "execution_count": 17,
   "id": "bf27c69f-2256-46b2-9afe-c22769888305",
   "metadata": {},
   "outputs": [],
   "source": [
    "ashu = indian_consumer()"
   ]
  },
  {
   "cell_type": "code",
   "execution_count": 18,
   "id": "e80d7e24-50a2-45e0-878d-680b0c996171",
   "metadata": {},
   "outputs": [
    {
     "data": {
      "text/plain": [
       "'This car is method from class indian_brands'"
      ]
     },
     "execution_count": 18,
     "metadata": {},
     "output_type": "execute_result"
    }
   ],
   "source": [
    "ashu.brand()"
   ]
  },
  {
   "cell_type": "code",
   "execution_count": 19,
   "id": "27a95793-610d-4bd7-a929-c7b8690d7514",
   "metadata": {},
   "outputs": [
    {
     "data": {
      "text/plain": [
       "'This car is made in india'"
      ]
     },
     "execution_count": 19,
     "metadata": {},
     "output_type": "execute_result"
    }
   ],
   "source": [
    "ashu.country()"
   ]
  },
  {
   "cell_type": "code",
   "execution_count": 29,
   "id": "e8f48435-bbc5-4334-be4f-c0b765711379",
   "metadata": {},
   "outputs": [],
   "source": [
    "class tyres:\n",
    "    def brand(self):\n",
    "        return \"this tyre made in india\""
   ]
  },
  {
   "cell_type": "code",
   "execution_count": 30,
   "id": "3719437a-ffe6-47fb-8611-f7e77cb07762",
   "metadata": {},
   "outputs": [],
   "source": [
    "class lights(tyres):\n",
    "    def type(self):\n",
    "        return \"these are fog lamps\""
   ]
  },
  {
   "cell_type": "code",
   "execution_count": 32,
   "id": "60af422f-3739-450f-b240-32e8e5c0761b",
   "metadata": {},
   "outputs": [],
   "source": [
    "class carr(lights,tyres):\n",
    "    def company(self):\n",
    "        pass"
   ]
  },
  {
   "cell_type": "code",
   "execution_count": 23,
   "id": "ca659ea4-3942-4dd1-b20e-ceb5867f4d57",
   "metadata": {},
   "outputs": [
    {
     "name": "stdout",
     "output_type": "stream",
     "text": [
      "k\n"
     ]
    }
   ],
   "source": [
    "print(\"k\")"
   ]
  },
  {
   "cell_type": "code",
   "execution_count": 33,
   "id": "0da3cc5f-8bc2-473e-b478-7b3fb5a4cbb3",
   "metadata": {},
   "outputs": [],
   "source": [
    "c = carr()"
   ]
  },
  {
   "cell_type": "code",
   "execution_count": 34,
   "id": "872f4e9f-9a0f-49d7-a725-282efbd7bff2",
   "metadata": {},
   "outputs": [
    {
     "data": {
      "text/plain": [
       "'this tyre made in india'"
      ]
     },
     "execution_count": 34,
     "metadata": {},
     "output_type": "execute_result"
    }
   ],
   "source": [
    "c.brand()"
   ]
  },
  {
   "cell_type": "code",
   "execution_count": 35,
   "id": "1304bb80-4507-4210-960c-b92e12df8c0d",
   "metadata": {},
   "outputs": [
    {
     "data": {
      "text/plain": [
       "'these are fog lamps'"
      ]
     },
     "execution_count": 35,
     "metadata": {},
     "output_type": "execute_result"
    }
   ],
   "source": [
    "c.type()"
   ]
  },
  {
   "cell_type": "code",
   "execution_count": null,
   "id": "17bd089f-640c-48f7-886f-4fcf85a27cae",
   "metadata": {},
   "outputs": [],
   "source": []
  }
 ],
 "metadata": {
  "kernelspec": {
   "display_name": "Python 3 (ipykernel)",
   "language": "python",
   "name": "python3"
  },
  "language_info": {
   "codemirror_mode": {
    "name": "ipython",
    "version": 3
   },
   "file_extension": ".py",
   "mimetype": "text/x-python",
   "name": "python",
   "nbconvert_exporter": "python",
   "pygments_lexer": "ipython3",
   "version": "3.10.8"
  }
 },
 "nbformat": 4,
 "nbformat_minor": 5
}
