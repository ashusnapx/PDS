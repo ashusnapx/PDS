{
 "cells": [
  {
   "cell_type": "code",
   "execution_count": 1,
   "id": "2001fcf4-abf7-4470-9f08-b909c15a3a03",
   "metadata": {},
   "outputs": [
    {
     "name": "stdout",
     "output_type": "stream",
     "text": [
      "[1, 4, 9, 16, 25]\n"
     ]
    }
   ],
   "source": [
    "l = [1,2,3,4,5]\n",
    "l1 = []\n",
    "\n",
    "for i in l:\n",
    "    l1.append(i**2)\n",
    "    \n",
    "print(l1)"
   ]
  },
  {
   "cell_type": "code",
   "execution_count": 2,
   "id": "ebedc597-6225-4eab-8bba-05c4ebf7cdb5",
   "metadata": {},
   "outputs": [],
   "source": [
    "# Convert above code in just 1 line"
   ]
  },
  {
   "cell_type": "code",
   "execution_count": 3,
   "id": "442b6feb-4d8d-489b-bf34-f5fd71ddd1ba",
   "metadata": {},
   "outputs": [
    {
     "data": {
      "text/plain": [
       "[1, 4, 9, 16, 25]"
      ]
     },
     "execution_count": 3,
     "metadata": {},
     "output_type": "execute_result"
    }
   ],
   "source": [
    "[i**2 for i in l]"
   ]
  },
  {
   "cell_type": "code",
   "execution_count": 4,
   "id": "67a20c7a-6ad2-4d45-b2a4-5156f83b66dc",
   "metadata": {},
   "outputs": [
    {
     "data": {
      "text/plain": [
       "[100, 400, 2025, 4489, 8100]"
      ]
     },
     "execution_count": 4,
     "metadata": {},
     "output_type": "execute_result"
    }
   ],
   "source": [
    "l2 = [10,20,45,67,90]\n",
    "[i**2 for i in l2]"
   ]
  },
  {
   "cell_type": "code",
   "execution_count": 9,
   "id": "70f01eab-ca41-41a9-88c0-6a676fa7ccf2",
   "metadata": {},
   "outputs": [
    {
     "data": {
      "text/plain": [
       "[2, 4, 6, 8]"
      ]
     },
     "execution_count": 9,
     "metadata": {},
     "output_type": "execute_result"
    }
   ],
   "source": [
    "l3 = [1,2,3,4,5,6,7,8,9]\n",
    "[i for i in l3 if i%2==0]"
   ]
  },
  {
   "cell_type": "code",
   "execution_count": 15,
   "id": "4504934e-0f10-4272-8b88-8358b883cf2c",
   "metadata": {},
   "outputs": [
    {
     "data": {
      "text/plain": [
       "['ASHU', 'KUMAR', 'YOUTUBE', 'ZINDABAD']"
      ]
     },
     "execution_count": 15,
     "metadata": {},
     "output_type": "execute_result"
    }
   ],
   "source": [
    "l4 = [\"ashu\",\"kumar\",\"youtube\",\"zindabad\"]\n",
    "[i.upper() for i in l4]"
   ]
  },
  {
   "cell_type": "code",
   "execution_count": 17,
   "id": "1d2c990e-30da-44b3-a8d1-319325aab1b0",
   "metadata": {},
   "outputs": [
    {
     "data": {
      "text/plain": [
       "[1, 4, 9, 16, 25, 36, 49, 64, 81]"
      ]
     },
     "execution_count": 17,
     "metadata": {},
     "output_type": "execute_result"
    }
   ],
   "source": [
    "l = [1,2,3,4,5,6,7,8,9]\n",
    "list((i**2 for i in l))"
   ]
  },
  {
   "cell_type": "code",
   "execution_count": 21,
   "id": "fa63a599-8ec9-409a-8017-14e91f79b2e6",
   "metadata": {},
   "outputs": [
    {
     "data": {
      "text/plain": [
       "{'key1': 1, 'key2': 4, 'key3': 9}"
      ]
     },
     "execution_count": 21,
     "metadata": {},
     "output_type": "execute_result"
    }
   ],
   "source": [
    "dict = {\"key1\":1, \"key2\":2, \"key3\":3}\n",
    "{k:v**2 for k,v in dict.items()}"
   ]
  },
  {
   "cell_type": "code",
   "execution_count": 22,
   "id": "99d74fcc-fb21-4eed-a9bc-f3c6c38336df",
   "metadata": {},
   "outputs": [],
   "source": [
    "dict = {\"key1\":1, \"key2\":2, \"key3\":3}"
   ]
  },
  {
   "cell_type": "code",
   "execution_count": 23,
   "id": "a3c9b4b3-1f2a-4163-9c95-865f3f066252",
   "metadata": {},
   "outputs": [
    {
     "data": {
      "text/plain": [
       "{'key1': 1, 'key2': 2, 'key3': 3}"
      ]
     },
     "execution_count": 23,
     "metadata": {},
     "output_type": "execute_result"
    }
   ],
   "source": [
    "dict"
   ]
  },
  {
   "cell_type": "code",
   "execution_count": 24,
   "id": "f0ccabb3-54c7-4aa0-b54e-27f7519221af",
   "metadata": {},
   "outputs": [
    {
     "data": {
      "text/plain": [
       "{'key2': 2, 'key3': 3}"
      ]
     },
     "execution_count": 24,
     "metadata": {},
     "output_type": "execute_result"
    }
   ],
   "source": [
    "{k:v for k,v in dict.items() if v > 1}"
   ]
  },
  {
   "cell_type": "code",
   "execution_count": 29,
   "id": "e539db20-bcbe-4795-9426-a5d0c3185398",
   "metadata": {},
   "outputs": [
    {
     "data": {
      "text/plain": [
       "6"
      ]
     },
     "execution_count": 29,
     "metadata": {},
     "output_type": "execute_result"
    }
   ],
   "source": [
    "l = [1,2,3,4,5,6]\n",
    "len(l) "
   ]
  },
  {
   "cell_type": "code",
   "execution_count": 28,
   "id": "5903e813-2686-4e25-a3c9-1d9985b4aa5b",
   "metadata": {},
   "outputs": [
    {
     "data": {
      "text/plain": [
       "list"
      ]
     },
     "execution_count": 28,
     "metadata": {},
     "output_type": "execute_result"
    }
   ],
   "source": [
    "type(l)"
   ]
  },
  {
   "cell_type": "code",
   "execution_count": 30,
   "id": "1bb886a6-b3c7-4ed7-a452-7e1b7d7e887a",
   "metadata": {},
   "outputs": [],
   "source": [
    "def nameFunction():\n",
    "    print(\"kya soche thay, name print hoga?\")"
   ]
  },
  {
   "cell_type": "code",
   "execution_count": 31,
   "id": "4d4a9750-a0b7-45c8-85cd-f54193f6a98c",
   "metadata": {},
   "outputs": [
    {
     "name": "stdout",
     "output_type": "stream",
     "text": [
      "kya soche thay, name print hoga?\n"
     ]
    }
   ],
   "source": [
    "nameFunction()"
   ]
  },
  {
   "cell_type": "code",
   "execution_count": 32,
   "id": "74ed38c5-d0e9-44ca-80f2-c273bf9099de",
   "metadata": {},
   "outputs": [
    {
     "name": "stdout",
     "output_type": "stream",
     "text": [
      "kya soche thay, name print hoga?\n"
     ]
    },
    {
     "data": {
      "text/plain": [
       "NoneType"
      ]
     },
     "execution_count": 32,
     "metadata": {},
     "output_type": "execute_result"
    }
   ],
   "source": [
    "type(nameFunction())"
   ]
  },
  {
   "cell_type": "code",
   "execution_count": 33,
   "id": "7b288582-49e9-41b1-8f9f-ee0ca69b2fa5",
   "metadata": {},
   "outputs": [],
   "source": [
    "def nameFunction2():\n",
    "    return \"ab return type sahi hoga\""
   ]
  },
  {
   "cell_type": "code",
   "execution_count": 34,
   "id": "93ac978f-a839-49a8-b43b-63d5fe9c9b5f",
   "metadata": {},
   "outputs": [
    {
     "data": {
      "text/plain": [
       "'ab return type sahi hoga'"
      ]
     },
     "execution_count": 34,
     "metadata": {},
     "output_type": "execute_result"
    }
   ],
   "source": [
    "nameFunction2()"
   ]
  },
  {
   "cell_type": "code",
   "execution_count": 35,
   "id": "18415eb8-b584-44f5-aa21-97fed4e46117",
   "metadata": {},
   "outputs": [
    {
     "data": {
      "text/plain": [
       "str"
      ]
     },
     "execution_count": 35,
     "metadata": {},
     "output_type": "execute_result"
    }
   ],
   "source": [
    "type(nameFunction2())"
   ]
  },
  {
   "cell_type": "code",
   "execution_count": 36,
   "id": "9e60ca85-9f0b-4384-b3a8-22c38a1e082d",
   "metadata": {},
   "outputs": [
    {
     "data": {
      "text/plain": [
       "'ab return type sahi hoga hua n yeh😂'"
      ]
     },
     "execution_count": 36,
     "metadata": {},
     "output_type": "execute_result"
    }
   ],
   "source": [
    "nameFunction2() + \" hua n yeh😂\""
   ]
  },
  {
   "cell_type": "code",
   "execution_count": 37,
   "id": "0c685427-76bd-4581-adc6-bb7abc4365d7",
   "metadata": {},
   "outputs": [],
   "source": [
    "def test3():\n",
    "    return \"ashu\",[23,56,89],56"
   ]
  },
  {
   "cell_type": "code",
   "execution_count": 38,
   "id": "0e4288dc-2c46-437c-9e68-a57a2caf16f1",
   "metadata": {},
   "outputs": [
    {
     "data": {
      "text/plain": [
       "('ashu', [23, 56, 89], 56)"
      ]
     },
     "execution_count": 38,
     "metadata": {},
     "output_type": "execute_result"
    }
   ],
   "source": [
    "test3()"
   ]
  },
  {
   "cell_type": "code",
   "execution_count": 39,
   "id": "d6800649-95f3-4530-884b-f6bb5ea030e5",
   "metadata": {},
   "outputs": [
    {
     "data": {
      "text/plain": [
       "tuple"
      ]
     },
     "execution_count": 39,
     "metadata": {},
     "output_type": "execute_result"
    }
   ],
   "source": [
    "type(test3())"
   ]
  },
  {
   "cell_type": "code",
   "execution_count": 40,
   "id": "86785d9e-bd05-4694-8474-67d68151e838",
   "metadata": {},
   "outputs": [],
   "source": [
    "def test4():\n",
    "    return [1,2,3,4,5]"
   ]
  },
  {
   "cell_type": "code",
   "execution_count": 41,
   "id": "3c753cb0-2698-4482-94a8-699b664089cd",
   "metadata": {},
   "outputs": [
    {
     "data": {
      "text/plain": [
       "[1, 2, 3, 4, 5]"
      ]
     },
     "execution_count": 41,
     "metadata": {},
     "output_type": "execute_result"
    }
   ],
   "source": [
    "test4()"
   ]
  },
  {
   "cell_type": "code",
   "execution_count": 42,
   "id": "eec83012-4c10-43c3-8470-bec220b1b242",
   "metadata": {},
   "outputs": [
    {
     "data": {
      "text/plain": [
       "list"
      ]
     },
     "execution_count": 42,
     "metadata": {},
     "output_type": "execute_result"
    }
   ],
   "source": [
    "type(test4())"
   ]
  },
  {
   "cell_type": "code",
   "execution_count": 43,
   "id": "563de74f-1a5b-4351-9c63-f703a47a6ad4",
   "metadata": {},
   "outputs": [],
   "source": [
    "def test4():\n",
    "    a = 5 + 6 / 7\n",
    "    return a"
   ]
  },
  {
   "cell_type": "code",
   "execution_count": 44,
   "id": "1bfd2724-fe43-4e74-b61c-bd9d8c13119b",
   "metadata": {},
   "outputs": [
    {
     "data": {
      "text/plain": [
       "5.857142857142857"
      ]
     },
     "execution_count": 44,
     "metadata": {},
     "output_type": "execute_result"
    }
   ],
   "source": [
    "test4()"
   ]
  },
  {
   "cell_type": "code",
   "execution_count": 46,
   "id": "8da7faee-e963-4f55-bb4a-ac30b6ba59b9",
   "metadata": {},
   "outputs": [
    {
     "data": {
      "text/plain": [
       "float"
      ]
     },
     "execution_count": 46,
     "metadata": {},
     "output_type": "execute_result"
    }
   ],
   "source": [
    "type(test4())"
   ]
  },
  {
   "cell_type": "code",
   "execution_count": 47,
   "id": "f640043d-54a0-4ec3-98cd-75d98c2b5e74",
   "metadata": {},
   "outputs": [
    {
     "name": "stdout",
     "output_type": "stream",
     "text": [
      "a\n"
     ]
    }
   ],
   "source": [
    "print(\"a\")"
   ]
  },
  {
   "cell_type": "code",
   "execution_count": 48,
   "id": "5483a5d7-8548-4fa9-8453-a4fca0339589",
   "metadata": {},
   "outputs": [],
   "source": [
    "def test5(a,b,c):\n",
    "    d = a + b / c\n",
    "    return d"
   ]
  },
  {
   "cell_type": "code",
   "execution_count": 49,
   "id": "435fae4f-3997-4c62-b9ee-7b99f7fcd07a",
   "metadata": {},
   "outputs": [
    {
     "data": {
      "text/plain": [
       "9.007445271696856"
      ]
     },
     "execution_count": 49,
     "metadata": {},
     "output_type": "execute_result"
    }
   ],
   "source": [
    "test5(9,67,8999)"
   ]
  },
  {
   "cell_type": "code",
   "execution_count": 50,
   "id": "813fc7a8-20bb-4d8b-adad-f7ecd1b66921",
   "metadata": {},
   "outputs": [],
   "source": [
    "l = [1,2,3,4,\"ashu\",\"kumar\",[10,20,30,40]]\n",
    "    "
   ]
  },
  {
   "cell_type": "code",
   "execution_count": 59,
   "id": "c286c682-8d18-442b-90ca-71e65f7a0699",
   "metadata": {},
   "outputs": [
    {
     "ename": "NameError",
     "evalue": "name 'l9' is not defined",
     "output_type": "error",
     "traceback": [
      "\u001b[0;31m---------------------------------------------------------------------------\u001b[0m",
      "\u001b[0;31mNameError\u001b[0m                                 Traceback (most recent call last)",
      "Cell \u001b[0;32mIn[59], line 7\u001b[0m\n\u001b[1;32m      4\u001b[0m         \u001b[38;5;28;01mif\u001b[39;00m \u001b[38;5;28mtype\u001b[39m(i) \u001b[38;5;241m==\u001b[39m \u001b[38;5;28mint\u001b[39m:\n\u001b[1;32m      5\u001b[0m             l9\u001b[38;5;241m.\u001b[39mappend(l[i])\n\u001b[0;32m----> 7\u001b[0m \u001b[43ml9\u001b[49m\n",
      "\u001b[0;31mNameError\u001b[0m: name 'l9' is not defined"
     ]
    }
   ],
   "source": [
    "def test6(l):\n",
    "    l9 = []\n",
    "    for i in l:\n",
    "        if type(i) == int:\n",
    "            l9.append(l[i])\n",
    "            \n",
    "l9"
   ]
  },
  {
   "cell_type": "code",
   "execution_count": 52,
   "id": "3a2c10cc-f9f3-4265-bba9-c23bb7ba9046",
   "metadata": {},
   "outputs": [
    {
     "data": {
      "text/plain": [
       "int"
      ]
     },
     "execution_count": 52,
     "metadata": {},
     "output_type": "execute_result"
    }
   ],
   "source": [
    "type(6)"
   ]
  },
  {
   "cell_type": "code",
   "execution_count": 62,
   "id": "b8590431-8082-4ad0-9e8f-249d33e908a3",
   "metadata": {},
   "outputs": [],
   "source": [
    "oho = []\n",
    "for i in l:\n",
    "    if type(i) == int:\n",
    "        oho.append(i)"
   ]
  },
  {
   "cell_type": "code",
   "execution_count": 63,
   "id": "7125a6a2-1f84-4d48-b0d4-ca4ed57f04d1",
   "metadata": {},
   "outputs": [
    {
     "data": {
      "text/plain": [
       "[1, 2, 3, 4]"
      ]
     },
     "execution_count": 63,
     "metadata": {},
     "output_type": "execute_result"
    }
   ],
   "source": [
    "oho"
   ]
  },
  {
   "cell_type": "code",
   "execution_count": 78,
   "id": "d2ec22fe-9af2-4b12-be60-281719f8fee2",
   "metadata": {},
   "outputs": [],
   "source": [
    "def test7(a):\n",
    "    l = []\n",
    "    for i in a:\n",
    "        if type(i) == list:\n",
    "            for j in i:\n",
    "                l.append(j)\n",
    "        else:\n",
    "            if type(i) == int or type(i) == float:\n",
    "                l.append(i)\n",
    "    return l"
   ]
  },
  {
   "cell_type": "code",
   "execution_count": 79,
   "id": "b967331e-ed09-49ed-a622-11efe05ea849",
   "metadata": {},
   "outputs": [
    {
     "data": {
      "text/plain": [
       "[1, 2, 3, 4, 'ashu', 'kumar', [10, 20, 30, 40]]"
      ]
     },
     "execution_count": 79,
     "metadata": {},
     "output_type": "execute_result"
    }
   ],
   "source": [
    "l"
   ]
  },
  {
   "cell_type": "code",
   "execution_count": 80,
   "id": "90c04f06-0368-42cd-a4e6-64764e7cd0cd",
   "metadata": {},
   "outputs": [
    {
     "data": {
      "text/plain": [
       "[1, 2, 3, 4, 10, 20, 30, 40]"
      ]
     },
     "execution_count": 80,
     "metadata": {},
     "output_type": "execute_result"
    }
   ],
   "source": [
    "test7([1, 2, 3, 4, 'ashu', 'kumar', [10, 20, 30, 40]])"
   ]
  },
  {
   "cell_type": "code",
   "execution_count": 81,
   "id": "53a7c6db-bbc2-458a-ab21-d69d49a6935b",
   "metadata": {},
   "outputs": [],
   "source": [
    "def test8(*args):\n",
    "    sum = 0;\n",
    "    for i in args:\n",
    "        sum += i\n",
    "    return sum"
   ]
  },
  {
   "cell_type": "code",
   "execution_count": 82,
   "id": "d6d808d5-7407-4205-b2d9-180285abe438",
   "metadata": {},
   "outputs": [
    {
     "data": {
      "text/plain": [
       "10"
      ]
     },
     "execution_count": 82,
     "metadata": {},
     "output_type": "execute_result"
    }
   ],
   "source": [
    "test8(1,2,3,4)"
   ]
  },
  {
   "cell_type": "code",
   "execution_count": null,
   "id": "1df8b8f4-affb-4816-853f-e4ad42e6a45d",
   "metadata": {},
   "outputs": [],
   "source": []
  }
 ],
 "metadata": {
  "kernelspec": {
   "display_name": "Python 3 (ipykernel)",
   "language": "python",
   "name": "python3"
  },
  "language_info": {
   "codemirror_mode": {
    "name": "ipython",
    "version": 3
   },
   "file_extension": ".py",
   "mimetype": "text/x-python",
   "name": "python",
   "nbconvert_exporter": "python",
   "pygments_lexer": "ipython3",
   "version": "3.10.8"
  }
 },
 "nbformat": 4,
 "nbformat_minor": 5
}
