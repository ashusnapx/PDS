{
 "cells": [
  {
   "cell_type": "code",
   "execution_count": 1,
   "id": "58accf55-2d3e-47dd-a73e-fe73ac7307a5",
   "metadata": {},
   "outputs": [],
   "source": [
    "a = 1"
   ]
  },
  {
   "cell_type": "code",
   "execution_count": 2,
   "id": "8dab67ef-992d-4b1c-9c5b-93c84d338bd0",
   "metadata": {},
   "outputs": [
    {
     "name": "stdout",
     "output_type": "stream",
     "text": [
      "1\n"
     ]
    }
   ],
   "source": [
    "print(a)"
   ]
  },
  {
   "cell_type": "code",
   "execution_count": 3,
   "id": "fff3cc69-13be-4692-8b0f-cb7de3cf1d32",
   "metadata": {},
   "outputs": [
    {
     "name": "stdout",
     "output_type": "stream",
     "text": [
      "<class 'int'>\n"
     ]
    }
   ],
   "source": [
    "print(type(a))"
   ]
  },
  {
   "cell_type": "code",
   "execution_count": 4,
   "id": "da34aad2-1167-4251-b4eb-37f9e7985e81",
   "metadata": {},
   "outputs": [
    {
     "name": "stdout",
     "output_type": "stream",
     "text": [
      "<class 'str'>\n"
     ]
    }
   ],
   "source": [
    "print(type(\"Ashutosh\"))"
   ]
  },
  {
   "cell_type": "code",
   "execution_count": 5,
   "id": "b5a274d4-b6e0-465d-8c31-a435f73fed3c",
   "metadata": {},
   "outputs": [],
   "source": [
    "class jec:\n",
    "    pass"
   ]
  },
  {
   "cell_type": "code",
   "execution_count": 6,
   "id": "1ce6aa54-beb0-401e-9a20-a4958480a75f",
   "metadata": {},
   "outputs": [],
   "source": [
    "a = jec()"
   ]
  },
  {
   "cell_type": "code",
   "execution_count": 7,
   "id": "e843f838-adac-417a-82f1-21992a79e049",
   "metadata": {},
   "outputs": [
    {
     "name": "stdout",
     "output_type": "stream",
     "text": [
      "<class '__main__.jec'>\n"
     ]
    }
   ],
   "source": [
    "print(type(a))"
   ]
  },
  {
   "cell_type": "code",
   "execution_count": 11,
   "id": "0f0d2ac4-bc0b-4efa-88eb-86abf5093aa6",
   "metadata": {},
   "outputs": [],
   "source": [
    "class jec:\n",
    "    def information_technology(self):\n",
    "        print('Welcome to Information Technology Branch')"
   ]
  },
  {
   "cell_type": "code",
   "execution_count": 12,
   "id": "f42db804-a8e7-4e67-bb3a-bd1686517fe2",
   "metadata": {},
   "outputs": [],
   "source": [
    "ashu = jec()"
   ]
  },
  {
   "cell_type": "code",
   "execution_count": 13,
   "id": "62a0997e-ed78-4eee-bbce-42d41d66abab",
   "metadata": {},
   "outputs": [
    {
     "name": "stdout",
     "output_type": "stream",
     "text": [
      "Welcome to Information Technology Branch\n"
     ]
    }
   ],
   "source": [
    "ashu.information_technology()"
   ]
  },
  {
   "cell_type": "code",
   "execution_count": 14,
   "id": "473c6833-d399-402c-83ab-1dc2a13d7e29",
   "metadata": {},
   "outputs": [
    {
     "name": "stdout",
     "output_type": "stream",
     "text": [
      "<class '__main__.jec'>\n"
     ]
    }
   ],
   "source": [
    "print(type(ashu))"
   ]
  },
  {
   "cell_type": "markdown",
   "id": "43755833-6f52-4b62-bb2c-b8d259ca053b",
   "metadata": {},
   "source": [
    "***\n",
    "Example - 2\n",
    "***"
   ]
  },
  {
   "cell_type": "code",
   "execution_count": 15,
   "id": "221a58ec-a485-47a5-b0ff-3c34df8e1a14",
   "metadata": {},
   "outputs": [],
   "source": [
    "class jec1:\n",
    "    def __init__(self,name,rollNumber): #init means initialisation \n",
    "        self.name = name\n",
    "        self.rollNumber = rollNumber\n",
    "        \n",
    "    def student(self):\n",
    "        return self.name,\" \", self.rollNumber"
   ]
  },
  {
   "cell_type": "code",
   "execution_count": 16,
   "id": "bfee87cc-e557-454d-bf2c-c8b50dcfece1",
   "metadata": {},
   "outputs": [],
   "source": [
    "ashu = jec1(\"Ashutosh\",9327092)"
   ]
  },
  {
   "cell_type": "code",
   "execution_count": 17,
   "id": "25e7daf4-d466-4704-83e0-24a8f907e7ab",
   "metadata": {},
   "outputs": [
    {
     "data": {
      "text/plain": [
       "('Ashutosh', ' ', 9327092)"
      ]
     },
     "execution_count": 17,
     "metadata": {},
     "output_type": "execute_result"
    }
   ],
   "source": [
    "ashu.student()"
   ]
  },
  {
   "cell_type": "code",
   "execution_count": null,
   "id": "dcf4426c-2b76-4862-90b0-90ba30bc26f1",
   "metadata": {},
   "outputs": [],
   "source": []
  }
 ],
 "metadata": {
  "kernelspec": {
   "display_name": "Python 3 (ipykernel)",
   "language": "python",
   "name": "python3"
  },
  "language_info": {
   "codemirror_mode": {
    "name": "ipython",
    "version": 3
   },
   "file_extension": ".py",
   "mimetype": "text/x-python",
   "name": "python",
   "nbconvert_exporter": "python",
   "pygments_lexer": "ipython3",
   "version": "3.10.8"
  }
 },
 "nbformat": 4,
 "nbformat_minor": 5
}
